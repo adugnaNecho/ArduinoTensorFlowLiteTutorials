{
  "nbformat": 4,
  "nbformat_minor": 0,
  "metadata": {
    "kernelspec": {
      "display_name": "Python 3",
      "language": "python",
      "name": "python3"
    },
    "language_info": {
      "codemirror_mode": {
        "name": "ipython",
        "version": 3
      },
      "file_extension": ".py",
      "mimetype": "text/x-python",
      "name": "python",
      "nbconvert_exporter": "python",
      "pygments_lexer": "ipython3",
      "version": "3.7.3"
    },
    "colab": {
      "name": "Pandas.ipynb",
      "provenance": [],
      "include_colab_link": true
    }
  },
  "cells": [
    {
      "cell_type": "markdown",
      "metadata": {
        "id": "view-in-github",
        "colab_type": "text"
      },
      "source": [
        "<a href=\"https://colab.research.google.com/github/adugnaNecho/ArduinoTensorFlowLiteTutorials/blob/master/Pandas.ipynb\" target=\"_parent\"><img src=\"https://colab.research.google.com/assets/colab-badge.svg\" alt=\"Open In Colab\"/></a>"
      ]
    },
    {
      "cell_type": "markdown",
      "metadata": {
        "id": "PZkv8BIYao4z"
      },
      "source": [
        "# Data Analysis with Pandas"
      ]
    },
    {
      "cell_type": "markdown",
      "metadata": {
        "id": "xqdm0D5dao40"
      },
      "source": [
        "\n",
        "The \"pandas\" module is specifically useful for computing and finding patterns in data and hence it is one of the most useful tools for any data scientist/engineer. However, most of the time you would not be using pandas alone, but you would possibly be using modules like __scipy__ and __matplotlib__ along with pandas to achieve your ends. Here, we will be focusing on pandas only, but in our examples we will make use of scipy and __matplotlib__ to display data distribution and such things.\n",
        "\n",
        "Pandas provides the data scientist/analyst with three different (and very useful data structures) named \"series\", \"dataframe\" and \"panel\". \n",
        "\n",
        "\n",
        "## Series\n",
        "\n",
        "A “series” is nothing but a labelled column of data that can hold any datatype (int, float, string, objects, etc). A pandas “series” can be created using the following constructor call:\n",
        "\n",
        "```python\n",
        "pandas.Series(data, index, dtype, copy)\n",
        "```\n",
        "The argument \"data\" is a list of data elements (mostly passed as a numpy ndarray), \"index\" is a unique hashable list with the same length as the \"data\" argument. \"dtype\" defines the data type (Series is a homogeneous collection of elements), and \"copy\" specifies if copy flag is set. By default, this is false."
      ]
    },
    {
      "cell_type": "markdown",
      "metadata": {
        "id": "Yoe6B5KKao40"
      },
      "source": [
        "## DataFrame\n",
        "\n",
        "Pandas is a popular Python package for data science, and with good reason: it offers powerful, expressive and flexible data structures that make data manipulation and analysis easy, among many other things. The DataFrame is one of these structures.\n",
        "\n",
        "DataFrames in Python are very similar: they come with the Pandas library, and they are defined as two-dimensional labeled data structures with columns of potentially different types.\n",
        "\n",
        "In general, you could say that the Pandas DataFrame consists of three main components: the data, the index, and the columns.\n",
        "\n",
        "\n",
        "1. The DataFrame can contain data that is:\n",
        "<ul>\n",
        "    <li>a Pandas DataFrame</li>\n",
        "    <li>a Pandas Series: a one-dimensional labeled array capable of holding any data type with axis labels or index. An example of a Series object is one column from a DataFrame.</li>\n",
        "    <li>a NumPy ndarray, which can be a record or structured<li>\n",
        "    <li>a two-dimensional ndarray</li>\n",
        "    <li>dictionaries of one-dimensional ndarray's, lists, dictionaries or Series.</li>\n",
        "<ul>"
      ]
    },
    {
      "cell_type": "markdown",
      "metadata": {
        "id": "UNPlH4qsao41"
      },
      "source": [
        "Besides data, you can also specify the index and column names for your DataFrame. The index, on the one hand, indicates the difference in rows, while the column names indicate the difference in columns. You will see later that these two components of the DataFrame will come in handy when you’re manipulating your data.\n",
        "\n",
        " ### Creating, Reading and Writing\n",
        " \n",
        " ### Getting started\n",
        "\n",
        "To use pandas, you'll typically start with the following line of code."
      ]
    },
    {
      "cell_type": "code",
      "metadata": {
        "id": "-ZIxXMU1ao41"
      },
      "source": [
        "import pandas as pd"
      ],
      "execution_count": 1,
      "outputs": []
    },
    {
      "cell_type": "markdown",
      "metadata": {
        "id": "ZRrFcnJwao41"
      },
      "source": [
        "### Creating Data\n",
        "\n",
        "There are two core objects in pandas: the DataFrame and the Series.\n",
        "\n",
        "\n",
        "### Series\n",
        "\n",
        "A Series, by contrast, is a sequence of data values. If a DataFrame is a table, a Series is a list. And in fact you can create one with nothing more than a list:"
      ]
    },
    {
      "cell_type": "code",
      "metadata": {
        "id": "qHR-fQ6Nao42",
        "outputId": "2f4a5bda-fa6e-4f55-b31c-b635e9037d48",
        "colab": {
          "base_uri": "https://localhost:8080/"
        }
      },
      "source": [
        "pd.Series([1, 2, 3, 4, 5], index=['A','B', 'C','D','E'])"
      ],
      "execution_count": 2,
      "outputs": [
        {
          "output_type": "execute_result",
          "data": {
            "text/plain": [
              "A    1\n",
              "B    2\n",
              "C    3\n",
              "D    4\n",
              "E    5\n",
              "dtype: int64"
            ]
          },
          "metadata": {
            "tags": []
          },
          "execution_count": 2
        }
      ]
    },
    {
      "cell_type": "markdown",
      "metadata": {
        "id": "eLab_Qkjao42"
      },
      "source": [
        "A Series is, in essence, a single column of a DataFrame. So you can assign column values to the Series the same way as before, using an index parameter. However, a Series does not have a column name, it only has one overall name:"
      ]
    },
    {
      "cell_type": "code",
      "metadata": {
        "id": "UeKrts_oao42"
      },
      "source": [
        "pd.Series?"
      ],
      "execution_count": 3,
      "outputs": []
    },
    {
      "cell_type": "markdown",
      "metadata": {
        "id": "c5rArzJ_ao43"
      },
      "source": [
        "__Assign names to our values__\n",
        "\n",
        "Pandas will automatically generate our indexes, so we need to define them. Each index corresponds to its value in the Series object. Let’s look at an example where we assign a country name to population growth rates."
      ]
    },
    {
      "cell_type": "code",
      "metadata": {
        "id": "C8TFN9XPao43",
        "outputId": "6fd9141f-4410-4b9e-be1b-bfc2e05d37f5",
        "colab": {
          "base_uri": "https://localhost:8080/"
        }
      },
      "source": [
        "Data = pd.Series([30, 35.5, 40], index=['2015 Sales', '2016 Sales', '2017 Sales'], name='Product A')\n",
        "Data"
      ],
      "execution_count": 4,
      "outputs": [
        {
          "output_type": "execute_result",
          "data": {
            "text/plain": [
              "2015 Sales    30.0\n",
              "2016 Sales    35.5\n",
              "2017 Sales    40.0\n",
              "Name: Product A, dtype: float64"
            ]
          },
          "metadata": {
            "tags": []
          },
          "execution_count": 4
        }
      ]
    },
    {
      "cell_type": "code",
      "metadata": {
        "id": "Uys46TPPao43"
      },
      "source": [
        "Data.index.name = \"Year\" # Set index name "
      ],
      "execution_count": null,
      "outputs": []
    },
    {
      "cell_type": "code",
      "metadata": {
        "id": "PsVWPBh9ao43"
      },
      "source": [
        "Data.name=\"New Products\""
      ],
      "execution_count": null,
      "outputs": []
    },
    {
      "cell_type": "code",
      "metadata": {
        "id": "vg-MLKPIao44",
        "outputId": "8a61451b-b5d8-41ed-f848-b06971167142"
      },
      "source": [
        "Data"
      ],
      "execution_count": null,
      "outputs": [
        {
          "output_type": "execute_result",
          "data": {
            "text/plain": [
              "Year\n",
              "2015 Sales    30.0\n",
              "2016 Sales    35.5\n",
              "2017 Sales    40.0\n",
              "Name: New Products, dtype: float64"
            ]
          },
          "metadata": {
            "tags": []
          },
          "execution_count": 20
        }
      ]
    },
    {
      "cell_type": "markdown",
      "metadata": {
        "id": "jiFEweVpao44"
      },
      "source": [
        "__Select entries from a Series__\n",
        "\n",
        "To select entries from a Series, we select elements based on the index name or index number."
      ]
    },
    {
      "cell_type": "code",
      "metadata": {
        "id": "W8GVd9YYao44",
        "outputId": "43aa0112-9ddf-4673-d1a6-1761009a0187"
      },
      "source": [
        "Data[\"2016 Sales\"] #Fetch element at index named 2016 Sales"
      ],
      "execution_count": null,
      "outputs": [
        {
          "output_type": "execute_result",
          "data": {
            "text/plain": [
              "35.5"
            ]
          },
          "metadata": {
            "tags": []
          },
          "execution_count": 21
        }
      ]
    },
    {
      "cell_type": "code",
      "metadata": {
        "id": "7yLIonqxao44",
        "outputId": "5b00915c-0909-4b72-d894-a58d722d7d79"
      },
      "source": [
        "Data[-1]"
      ],
      "execution_count": null,
      "outputs": [
        {
          "output_type": "execute_result",
          "data": {
            "text/plain": [
              "40.0"
            ]
          },
          "metadata": {
            "tags": []
          },
          "execution_count": 22
        }
      ]
    },
    {
      "cell_type": "code",
      "metadata": {
        "id": "N9ds8H7lao44",
        "outputId": "7fb5d024-2517-44d2-c6dd-363bab78016f"
      },
      "source": [
        "Data[[0,2]]   #Fetch elements at multiple indexes "
      ],
      "execution_count": null,
      "outputs": [
        {
          "output_type": "execute_result",
          "data": {
            "text/plain": [
              "Year\n",
              "2015 Sales    30.0\n",
              "2017 Sales    40.0\n",
              "Name: New Products, dtype: float64"
            ]
          },
          "metadata": {
            "tags": []
          },
          "execution_count": 23
        }
      ]
    },
    {
      "cell_type": "markdown",
      "metadata": {
        "id": "nr6LWkyVao45"
      },
      "source": [
        "__Drop entries from a Series__\n",
        "\n",
        "Dropping and unwanted index is a common function in Pandas. If the drop(index_name) function is called with a given index on a Series object, the desired index name is deleted."
      ]
    },
    {
      "cell_type": "code",
      "metadata": {
        "id": "rTM2f4NPao45",
        "outputId": "4278b7e8-46ae-41a2-fd62-f0aa74917fdb"
      },
      "source": [
        "print(\" Original Data\", Data)"
      ],
      "execution_count": null,
      "outputs": [
        {
          "output_type": "stream",
          "text": [
            " Original Data Year\n",
            "2015 Sales    30.0\n",
            "2016 Sales    35.5\n",
            "2017 Sales    40.0\n",
            "Name: New Products, dtype: float64\n"
          ],
          "name": "stdout"
        }
      ]
    },
    {
      "cell_type": "code",
      "metadata": {
        "id": "Lyg_bDO4ao45"
      },
      "source": [
        "Data = Data.drop(\"2016 Sales\") # Drop index named 2016 Sales"
      ],
      "execution_count": null,
      "outputs": []
    },
    {
      "cell_type": "code",
      "metadata": {
        "id": "9vATgWulao45",
        "outputId": "fba1dc03-69bb-4d49-b465-c95757289794"
      },
      "source": [
        "print(\"New Data \",Data)"
      ],
      "execution_count": null,
      "outputs": [
        {
          "output_type": "stream",
          "text": [
            "New Data  Year\n",
            "2015 Sales    30.0\n",
            "2017 Sales    40.0\n",
            "Name: New Products, dtype: float64\n"
          ],
          "name": "stdout"
        }
      ]
    },
    {
      "cell_type": "markdown",
      "metadata": {
        "id": "atL9VmQ3ao45"
      },
      "source": [
        "__DataFrame__\n",
        "\n",
        "A DataFrame is a table. It contains an array of individual entries, each of which has a certain value. Each entry corresponds to a row (or record) and a column.\n",
        "\n",
        "For example, consider the following simple DataFrame:"
      ]
    },
    {
      "cell_type": "code",
      "metadata": {
        "id": "R4aKOr_3ao46",
        "outputId": "31c001ee-eb4c-47e3-a980-af5907c2e97f"
      },
      "source": [
        "pd.DataFrame({'Yes': [50, 21], 'No': [131, 2]}, )"
      ],
      "execution_count": null,
      "outputs": [
        {
          "output_type": "execute_result",
          "data": {
            "text/html": [
              "<div>\n",
              "<style scoped>\n",
              "    .dataframe tbody tr th:only-of-type {\n",
              "        vertical-align: middle;\n",
              "    }\n",
              "\n",
              "    .dataframe tbody tr th {\n",
              "        vertical-align: top;\n",
              "    }\n",
              "\n",
              "    .dataframe thead th {\n",
              "        text-align: right;\n",
              "    }\n",
              "</style>\n",
              "<table border=\"1\" class=\"dataframe\">\n",
              "  <thead>\n",
              "    <tr style=\"text-align: right;\">\n",
              "      <th></th>\n",
              "      <th>Yes</th>\n",
              "      <th>No</th>\n",
              "    </tr>\n",
              "  </thead>\n",
              "  <tbody>\n",
              "    <tr>\n",
              "      <th>0</th>\n",
              "      <td>50</td>\n",
              "      <td>131</td>\n",
              "    </tr>\n",
              "    <tr>\n",
              "      <th>1</th>\n",
              "      <td>21</td>\n",
              "      <td>2</td>\n",
              "    </tr>\n",
              "  </tbody>\n",
              "</table>\n",
              "</div>"
            ],
            "text/plain": [
              "   Yes   No\n",
              "0   50  131\n",
              "1   21    2"
            ]
          },
          "metadata": {
            "tags": []
          },
          "execution_count": 28
        }
      ]
    },
    {
      "cell_type": "markdown",
      "metadata": {
        "id": "zY8Doc9Iao46"
      },
      "source": [
        "In this example, the \"0, No\" entry has the value of 131. The \"0, Yes\" entry has a value of 50, and so on.\n",
        "\n",
        "DataFrame entries are not limited to integers. For instance, here's a DataFrame whose values are strings:"
      ]
    },
    {
      "cell_type": "code",
      "metadata": {
        "id": "z9n0ZwWfao46",
        "outputId": "b733fafc-14e0-4fb0-c4db-00e5c224351c"
      },
      "source": [
        "pd.DataFrame({'Abebe': ['ወድጀዋለሁ.', 'It was awful.'], 'Kebede': ['Pretty good.', 'Bland.']})"
      ],
      "execution_count": null,
      "outputs": [
        {
          "output_type": "execute_result",
          "data": {
            "text/html": [
              "<div>\n",
              "<style scoped>\n",
              "    .dataframe tbody tr th:only-of-type {\n",
              "        vertical-align: middle;\n",
              "    }\n",
              "\n",
              "    .dataframe tbody tr th {\n",
              "        vertical-align: top;\n",
              "    }\n",
              "\n",
              "    .dataframe thead th {\n",
              "        text-align: right;\n",
              "    }\n",
              "</style>\n",
              "<table border=\"1\" class=\"dataframe\">\n",
              "  <thead>\n",
              "    <tr style=\"text-align: right;\">\n",
              "      <th></th>\n",
              "      <th>Abebe</th>\n",
              "      <th>Kebede</th>\n",
              "    </tr>\n",
              "  </thead>\n",
              "  <tbody>\n",
              "    <tr>\n",
              "      <th>0</th>\n",
              "      <td>ወድጀዋለሁ.</td>\n",
              "      <td>Pretty good.</td>\n",
              "    </tr>\n",
              "    <tr>\n",
              "      <th>1</th>\n",
              "      <td>It was awful.</td>\n",
              "      <td>Bland.</td>\n",
              "    </tr>\n",
              "  </tbody>\n",
              "</table>\n",
              "</div>"
            ],
            "text/plain": [
              "           Abebe        Kebede\n",
              "0        ወድጀዋለሁ.  Pretty good.\n",
              "1  It was awful.        Bland."
            ]
          },
          "metadata": {
            "tags": []
          },
          "execution_count": 29
        }
      ]
    },
    {
      "cell_type": "markdown",
      "metadata": {
        "id": "UatXSOKSao46"
      },
      "source": [
        "We are using the pd.DataFrame() constructor to generate these DataFrame objects. The syntax for declaring a new one is a dictionary whose keys are the column names (Bob and Sue in this example), and whose values are a list of entries. This is the standard way of constructing a new DataFrame, and the one you are most likely to encounter.\n",
        "\n",
        "The dictionary-list constructor assigns values to the column labels, but just uses an ascending count from 0 $(0, 1, 2, 3,\\cdots)$ for the row labels. Sometimes this is OK, but oftentimes we will want to assign these labels ourselves.\n",
        "\n",
        "The list of row labels used in a DataFrame is known as an Index. We can assign values to it by using an index parameter in our constructor:"
      ]
    },
    {
      "cell_type": "code",
      "metadata": {
        "id": "GFHUPxz3ao47",
        "outputId": "f7372435-f3dc-4ebb-8310-be5ee3451746"
      },
      "source": [
        "pd.DataFrame({'አበበ': ['ወድጀዋለሁ.', 'It was awful.'], \n",
        "              'ከበደ': ['Pretty good.', 'Bland.']},\n",
        "             index=['Product A', 'Product B'])"
      ],
      "execution_count": null,
      "outputs": [
        {
          "output_type": "execute_result",
          "data": {
            "text/html": [
              "<div>\n",
              "<style scoped>\n",
              "    .dataframe tbody tr th:only-of-type {\n",
              "        vertical-align: middle;\n",
              "    }\n",
              "\n",
              "    .dataframe tbody tr th {\n",
              "        vertical-align: top;\n",
              "    }\n",
              "\n",
              "    .dataframe thead th {\n",
              "        text-align: right;\n",
              "    }\n",
              "</style>\n",
              "<table border=\"1\" class=\"dataframe\">\n",
              "  <thead>\n",
              "    <tr style=\"text-align: right;\">\n",
              "      <th></th>\n",
              "      <th>አበበ</th>\n",
              "      <th>ከበደ</th>\n",
              "    </tr>\n",
              "  </thead>\n",
              "  <tbody>\n",
              "    <tr>\n",
              "      <th>Product A</th>\n",
              "      <td>ወድጀዋለሁ.</td>\n",
              "      <td>Pretty good.</td>\n",
              "    </tr>\n",
              "    <tr>\n",
              "      <th>Product B</th>\n",
              "      <td>It was awful.</td>\n",
              "      <td>Bland.</td>\n",
              "    </tr>\n",
              "  </tbody>\n",
              "</table>\n",
              "</div>"
            ],
            "text/plain": [
              "                     አበበ           ከበደ\n",
              "Product A        ወድጀዋለሁ.  Pretty good.\n",
              "Product B  It was awful.        Bland."
            ]
          },
          "metadata": {
            "tags": []
          },
          "execution_count": 30
        }
      ]
    },
    {
      "cell_type": "markdown",
      "metadata": {
        "id": "XigXj66wao47"
      },
      "source": [
        "__Reading data files__\n",
        "\n",
        "Being able to create a DataFrame or Series by hand is handy. But, most of the time, we won't actually be creating our own data by hand. Instead, we'll be working with data that already exists.\n",
        "\n",
        "Data can be stored in any of a number of different forms and formats. By far the most basic of these is the humble CSV file.\n",
        "\n",
        "Let's now set aside our toy datasets and see what a real dataset looks like when we read it into a DataFrame. We'll use the __pd.read_csv()__ function to read the data into a DataFrame. This goes thusly:"
      ]
    },
    {
      "cell_type": "code",
      "metadata": {
        "id": "yX3n6TSaao47"
      },
      "source": [
        "wine_reviews = pd.read_csv(\"wd.csv\", index_col=0)"
      ],
      "execution_count": null,
      "outputs": []
    },
    {
      "cell_type": "code",
      "metadata": {
        "id": "bb-PL8Puao47",
        "outputId": "414eafe3-594a-4430-e828-dfde7a17a4b8"
      },
      "source": [
        "wine_reviews.head()"
      ],
      "execution_count": null,
      "outputs": [
        {
          "output_type": "execute_result",
          "data": {
            "text/html": [
              "<div>\n",
              "<style scoped>\n",
              "    .dataframe tbody tr th:only-of-type {\n",
              "        vertical-align: middle;\n",
              "    }\n",
              "\n",
              "    .dataframe tbody tr th {\n",
              "        vertical-align: top;\n",
              "    }\n",
              "\n",
              "    .dataframe thead th {\n",
              "        text-align: right;\n",
              "    }\n",
              "</style>\n",
              "<table border=\"1\" class=\"dataframe\">\n",
              "  <thead>\n",
              "    <tr style=\"text-align: right;\">\n",
              "      <th></th>\n",
              "      <th>country</th>\n",
              "      <th>description</th>\n",
              "      <th>designation</th>\n",
              "      <th>points</th>\n",
              "      <th>price</th>\n",
              "      <th>province</th>\n",
              "      <th>region_1</th>\n",
              "      <th>region_2</th>\n",
              "      <th>variety</th>\n",
              "      <th>winery</th>\n",
              "    </tr>\n",
              "  </thead>\n",
              "  <tbody>\n",
              "    <tr>\n",
              "      <th>0</th>\n",
              "      <td>US</td>\n",
              "      <td>This tremendous 100% varietal wine hails from ...</td>\n",
              "      <td>Martha's Vineyard</td>\n",
              "      <td>96</td>\n",
              "      <td>235.0</td>\n",
              "      <td>California</td>\n",
              "      <td>Napa Valley</td>\n",
              "      <td>Napa</td>\n",
              "      <td>Cabernet Sauvignon</td>\n",
              "      <td>Heitz</td>\n",
              "    </tr>\n",
              "    <tr>\n",
              "      <th>1</th>\n",
              "      <td>Spain</td>\n",
              "      <td>Ripe aromas of fig, blackberry and cassis are ...</td>\n",
              "      <td>Carodorum Selección Especial Reserva</td>\n",
              "      <td>96</td>\n",
              "      <td>110.0</td>\n",
              "      <td>Northern Spain</td>\n",
              "      <td>Toro</td>\n",
              "      <td>NaN</td>\n",
              "      <td>Tinta de Toro</td>\n",
              "      <td>Bodega Carmen Rodríguez</td>\n",
              "    </tr>\n",
              "    <tr>\n",
              "      <th>2</th>\n",
              "      <td>US</td>\n",
              "      <td>Mac Watson honors the memory of a wine once ma...</td>\n",
              "      <td>Special Selected Late Harvest</td>\n",
              "      <td>96</td>\n",
              "      <td>90.0</td>\n",
              "      <td>California</td>\n",
              "      <td>Knights Valley</td>\n",
              "      <td>Sonoma</td>\n",
              "      <td>Sauvignon Blanc</td>\n",
              "      <td>Macauley</td>\n",
              "    </tr>\n",
              "    <tr>\n",
              "      <th>3</th>\n",
              "      <td>US</td>\n",
              "      <td>This spent 20 months in 30% new French oak, an...</td>\n",
              "      <td>Reserve</td>\n",
              "      <td>96</td>\n",
              "      <td>65.0</td>\n",
              "      <td>Oregon</td>\n",
              "      <td>Willamette Valley</td>\n",
              "      <td>Willamette Valley</td>\n",
              "      <td>Pinot Noir</td>\n",
              "      <td>Ponzi</td>\n",
              "    </tr>\n",
              "    <tr>\n",
              "      <th>4</th>\n",
              "      <td>France</td>\n",
              "      <td>This is the top wine from La Bégude, named aft...</td>\n",
              "      <td>La Brûlade</td>\n",
              "      <td>95</td>\n",
              "      <td>66.0</td>\n",
              "      <td>Provence</td>\n",
              "      <td>Bandol</td>\n",
              "      <td>NaN</td>\n",
              "      <td>Provence red blend</td>\n",
              "      <td>Domaine de la Bégude</td>\n",
              "    </tr>\n",
              "  </tbody>\n",
              "</table>\n",
              "</div>"
            ],
            "text/plain": [
              "  country                                        description  \\\n",
              "0      US  This tremendous 100% varietal wine hails from ...   \n",
              "1   Spain  Ripe aromas of fig, blackberry and cassis are ...   \n",
              "2      US  Mac Watson honors the memory of a wine once ma...   \n",
              "3      US  This spent 20 months in 30% new French oak, an...   \n",
              "4  France  This is the top wine from La Bégude, named aft...   \n",
              "\n",
              "                            designation  points  price        province  \\\n",
              "0                     Martha's Vineyard      96  235.0      California   \n",
              "1  Carodorum Selección Especial Reserva      96  110.0  Northern Spain   \n",
              "2         Special Selected Late Harvest      96   90.0      California   \n",
              "3                               Reserve      96   65.0          Oregon   \n",
              "4                            La Brûlade      95   66.0        Provence   \n",
              "\n",
              "            region_1           region_2             variety  \\\n",
              "0        Napa Valley               Napa  Cabernet Sauvignon   \n",
              "1               Toro                NaN       Tinta de Toro   \n",
              "2     Knights Valley             Sonoma     Sauvignon Blanc   \n",
              "3  Willamette Valley  Willamette Valley          Pinot Noir   \n",
              "4             Bandol                NaN  Provence red blend   \n",
              "\n",
              "                    winery  \n",
              "0                    Heitz  \n",
              "1  Bodega Carmen Rodríguez  \n",
              "2                 Macauley  \n",
              "3                    Ponzi  \n",
              "4     Domaine de la Bégude  "
            ]
          },
          "metadata": {
            "tags": []
          },
          "execution_count": 3
        }
      ]
    },
    {
      "cell_type": "markdown",
      "metadata": {
        "id": "ETrCrbovao47"
      },
      "source": [
        "We can use the shape attribute to check how large the resulting DataFrame is:"
      ]
    },
    {
      "cell_type": "code",
      "metadata": {
        "id": "UwnxzWpoao47",
        "outputId": "0c9ebf2c-baca-4f42-cbc5-01599140ad1d"
      },
      "source": [
        "wine_reviews.shape"
      ],
      "execution_count": null,
      "outputs": [
        {
          "output_type": "execute_result",
          "data": {
            "text/plain": [
              "(150930, 10)"
            ]
          },
          "metadata": {
            "tags": []
          },
          "execution_count": 4
        }
      ]
    },
    {
      "cell_type": "code",
      "metadata": {
        "id": "G6q9HZLiao48",
        "outputId": "96f13140-5076-47d8-8a96-964da5f6e09e"
      },
      "source": [
        "wine_reviews.tail()"
      ],
      "execution_count": null,
      "outputs": [
        {
          "output_type": "execute_result",
          "data": {
            "text/html": [
              "<div>\n",
              "<style scoped>\n",
              "    .dataframe tbody tr th:only-of-type {\n",
              "        vertical-align: middle;\n",
              "    }\n",
              "\n",
              "    .dataframe tbody tr th {\n",
              "        vertical-align: top;\n",
              "    }\n",
              "\n",
              "    .dataframe thead th {\n",
              "        text-align: right;\n",
              "    }\n",
              "</style>\n",
              "<table border=\"1\" class=\"dataframe\">\n",
              "  <thead>\n",
              "    <tr style=\"text-align: right;\">\n",
              "      <th></th>\n",
              "      <th>country</th>\n",
              "      <th>description</th>\n",
              "      <th>designation</th>\n",
              "      <th>points</th>\n",
              "      <th>price</th>\n",
              "      <th>province</th>\n",
              "      <th>region_1</th>\n",
              "      <th>region_2</th>\n",
              "      <th>variety</th>\n",
              "      <th>winery</th>\n",
              "    </tr>\n",
              "  </thead>\n",
              "  <tbody>\n",
              "    <tr>\n",
              "      <th>150925</th>\n",
              "      <td>Italy</td>\n",
              "      <td>Many people feel Fiano represents southern Ita...</td>\n",
              "      <td>NaN</td>\n",
              "      <td>91</td>\n",
              "      <td>20.0</td>\n",
              "      <td>Southern Italy</td>\n",
              "      <td>Fiano di Avellino</td>\n",
              "      <td>NaN</td>\n",
              "      <td>White Blend</td>\n",
              "      <td>Feudi di San Gregorio</td>\n",
              "    </tr>\n",
              "    <tr>\n",
              "      <th>150926</th>\n",
              "      <td>France</td>\n",
              "      <td>Offers an intriguing nose with ginger, lime an...</td>\n",
              "      <td>Cuvée Prestige</td>\n",
              "      <td>91</td>\n",
              "      <td>27.0</td>\n",
              "      <td>Champagne</td>\n",
              "      <td>Champagne</td>\n",
              "      <td>NaN</td>\n",
              "      <td>Champagne Blend</td>\n",
              "      <td>H.Germain</td>\n",
              "    </tr>\n",
              "    <tr>\n",
              "      <th>150927</th>\n",
              "      <td>Italy</td>\n",
              "      <td>This classic example comes from a cru vineyard...</td>\n",
              "      <td>Terre di Dora</td>\n",
              "      <td>91</td>\n",
              "      <td>20.0</td>\n",
              "      <td>Southern Italy</td>\n",
              "      <td>Fiano di Avellino</td>\n",
              "      <td>NaN</td>\n",
              "      <td>White Blend</td>\n",
              "      <td>Terredora</td>\n",
              "    </tr>\n",
              "    <tr>\n",
              "      <th>150928</th>\n",
              "      <td>France</td>\n",
              "      <td>A perfect salmon shade, with scents of peaches...</td>\n",
              "      <td>Grand Brut Rosé</td>\n",
              "      <td>90</td>\n",
              "      <td>52.0</td>\n",
              "      <td>Champagne</td>\n",
              "      <td>Champagne</td>\n",
              "      <td>NaN</td>\n",
              "      <td>Champagne Blend</td>\n",
              "      <td>Gosset</td>\n",
              "    </tr>\n",
              "    <tr>\n",
              "      <th>150929</th>\n",
              "      <td>Italy</td>\n",
              "      <td>More Pinot Grigios should taste like this. A r...</td>\n",
              "      <td>NaN</td>\n",
              "      <td>90</td>\n",
              "      <td>15.0</td>\n",
              "      <td>Northeastern Italy</td>\n",
              "      <td>Alto Adige</td>\n",
              "      <td>NaN</td>\n",
              "      <td>Pinot Grigio</td>\n",
              "      <td>Alois Lageder</td>\n",
              "    </tr>\n",
              "  </tbody>\n",
              "</table>\n",
              "</div>"
            ],
            "text/plain": [
              "       country                                        description  \\\n",
              "150925   Italy  Many people feel Fiano represents southern Ita...   \n",
              "150926  France  Offers an intriguing nose with ginger, lime an...   \n",
              "150927   Italy  This classic example comes from a cru vineyard...   \n",
              "150928  France  A perfect salmon shade, with scents of peaches...   \n",
              "150929   Italy  More Pinot Grigios should taste like this. A r...   \n",
              "\n",
              "            designation  points  price            province           region_1  \\\n",
              "150925              NaN      91   20.0      Southern Italy  Fiano di Avellino   \n",
              "150926   Cuvée Prestige      91   27.0           Champagne          Champagne   \n",
              "150927    Terre di Dora      91   20.0      Southern Italy  Fiano di Avellino   \n",
              "150928  Grand Brut Rosé      90   52.0           Champagne          Champagne   \n",
              "150929              NaN      90   15.0  Northeastern Italy         Alto Adige   \n",
              "\n",
              "       region_2          variety                 winery  \n",
              "150925      NaN      White Blend  Feudi di San Gregorio  \n",
              "150926      NaN  Champagne Blend              H.Germain  \n",
              "150927      NaN      White Blend              Terredora  \n",
              "150928      NaN  Champagne Blend                 Gosset  \n",
              "150929      NaN     Pinot Grigio          Alois Lageder  "
            ]
          },
          "metadata": {
            "tags": []
          },
          "execution_count": 5
        }
      ]
    },
    {
      "cell_type": "markdown",
      "metadata": {
        "id": "uHQ5r0x3ao48"
      },
      "source": [
        "So our new DataFrame has 150,000 records split across 14 different columns. That's almost 2 million entries!\n",
        "\n",
        "We can examine the contents of the resultant DataFrame using the __head()__ command, which grabs the first five rows:"
      ]
    },
    {
      "cell_type": "code",
      "metadata": {
        "id": "x1OwXthpao48",
        "outputId": "5be23f9a-24da-45a4-dc36-4ce9c82227f0"
      },
      "source": [
        "wine_reviews.head(2)"
      ],
      "execution_count": null,
      "outputs": [
        {
          "output_type": "execute_result",
          "data": {
            "text/html": [
              "<div>\n",
              "<style scoped>\n",
              "    .dataframe tbody tr th:only-of-type {\n",
              "        vertical-align: middle;\n",
              "    }\n",
              "\n",
              "    .dataframe tbody tr th {\n",
              "        vertical-align: top;\n",
              "    }\n",
              "\n",
              "    .dataframe thead th {\n",
              "        text-align: right;\n",
              "    }\n",
              "</style>\n",
              "<table border=\"1\" class=\"dataframe\">\n",
              "  <thead>\n",
              "    <tr style=\"text-align: right;\">\n",
              "      <th></th>\n",
              "      <th>country</th>\n",
              "      <th>description</th>\n",
              "      <th>designation</th>\n",
              "      <th>points</th>\n",
              "      <th>price</th>\n",
              "      <th>province</th>\n",
              "      <th>region_1</th>\n",
              "      <th>region_2</th>\n",
              "      <th>variety</th>\n",
              "      <th>winery</th>\n",
              "    </tr>\n",
              "  </thead>\n",
              "  <tbody>\n",
              "    <tr>\n",
              "      <th>0</th>\n",
              "      <td>US</td>\n",
              "      <td>This tremendous 100% varietal wine hails from ...</td>\n",
              "      <td>Martha's Vineyard</td>\n",
              "      <td>96</td>\n",
              "      <td>235.0</td>\n",
              "      <td>California</td>\n",
              "      <td>Napa Valley</td>\n",
              "      <td>Napa</td>\n",
              "      <td>Cabernet Sauvignon</td>\n",
              "      <td>Heitz</td>\n",
              "    </tr>\n",
              "    <tr>\n",
              "      <th>1</th>\n",
              "      <td>Spain</td>\n",
              "      <td>Ripe aromas of fig, blackberry and cassis are ...</td>\n",
              "      <td>Carodorum Selección Especial Reserva</td>\n",
              "      <td>96</td>\n",
              "      <td>110.0</td>\n",
              "      <td>Northern Spain</td>\n",
              "      <td>Toro</td>\n",
              "      <td>NaN</td>\n",
              "      <td>Tinta de Toro</td>\n",
              "      <td>Bodega Carmen Rodríguez</td>\n",
              "    </tr>\n",
              "  </tbody>\n",
              "</table>\n",
              "</div>"
            ],
            "text/plain": [
              "  country                                        description  \\\n",
              "0      US  This tremendous 100% varietal wine hails from ...   \n",
              "1   Spain  Ripe aromas of fig, blackberry and cassis are ...   \n",
              "\n",
              "                            designation  points  price        province  \\\n",
              "0                     Martha's Vineyard      96  235.0      California   \n",
              "1  Carodorum Selección Especial Reserva      96  110.0  Northern Spain   \n",
              "\n",
              "      region_1 region_2             variety                   winery  \n",
              "0  Napa Valley     Napa  Cabernet Sauvignon                    Heitz  \n",
              "1         Toro      NaN       Tinta de Toro  Bodega Carmen Rodríguez  "
            ]
          },
          "metadata": {
            "tags": []
          },
          "execution_count": 45
        }
      ]
    },
    {
      "cell_type": "markdown",
      "metadata": {
        "id": "mrfwabYkao48"
      },
      "source": [
        "The pd.read_csv() function is well-endowed, with over 30 optional parameters you can specify. For example, you can see in this dataset that the CSV file has a built-in index, which pandas did not pick up on automatically. To make pandas use that column for the index (instead of creating a new one from scratch), we can specify an index_col."
      ]
    },
    {
      "cell_type": "code",
      "metadata": {
        "id": "iMwMw2kyao48",
        "outputId": "aaab1a8f-05d2-4592-f87c-014ae078f7bf"
      },
      "source": [
        "wine_reviews = pd.read_csv(\"wd.csv\", index_col=0)\n",
        "wine_reviews.head()"
      ],
      "execution_count": null,
      "outputs": [
        {
          "output_type": "execute_result",
          "data": {
            "text/html": [
              "<div>\n",
              "<style scoped>\n",
              "    .dataframe tbody tr th:only-of-type {\n",
              "        vertical-align: middle;\n",
              "    }\n",
              "\n",
              "    .dataframe tbody tr th {\n",
              "        vertical-align: top;\n",
              "    }\n",
              "\n",
              "    .dataframe thead th {\n",
              "        text-align: right;\n",
              "    }\n",
              "</style>\n",
              "<table border=\"1\" class=\"dataframe\">\n",
              "  <thead>\n",
              "    <tr style=\"text-align: right;\">\n",
              "      <th></th>\n",
              "      <th>country</th>\n",
              "      <th>description</th>\n",
              "      <th>designation</th>\n",
              "      <th>points</th>\n",
              "      <th>price</th>\n",
              "      <th>province</th>\n",
              "      <th>region_1</th>\n",
              "      <th>region_2</th>\n",
              "      <th>variety</th>\n",
              "      <th>winery</th>\n",
              "    </tr>\n",
              "  </thead>\n",
              "  <tbody>\n",
              "    <tr>\n",
              "      <th>0</th>\n",
              "      <td>US</td>\n",
              "      <td>This tremendous 100% varietal wine hails from ...</td>\n",
              "      <td>Martha's Vineyard</td>\n",
              "      <td>96</td>\n",
              "      <td>235.0</td>\n",
              "      <td>California</td>\n",
              "      <td>Napa Valley</td>\n",
              "      <td>Napa</td>\n",
              "      <td>Cabernet Sauvignon</td>\n",
              "      <td>Heitz</td>\n",
              "    </tr>\n",
              "    <tr>\n",
              "      <th>1</th>\n",
              "      <td>Spain</td>\n",
              "      <td>Ripe aromas of fig, blackberry and cassis are ...</td>\n",
              "      <td>Carodorum Selección Especial Reserva</td>\n",
              "      <td>96</td>\n",
              "      <td>110.0</td>\n",
              "      <td>Northern Spain</td>\n",
              "      <td>Toro</td>\n",
              "      <td>NaN</td>\n",
              "      <td>Tinta de Toro</td>\n",
              "      <td>Bodega Carmen Rodríguez</td>\n",
              "    </tr>\n",
              "    <tr>\n",
              "      <th>2</th>\n",
              "      <td>US</td>\n",
              "      <td>Mac Watson honors the memory of a wine once ma...</td>\n",
              "      <td>Special Selected Late Harvest</td>\n",
              "      <td>96</td>\n",
              "      <td>90.0</td>\n",
              "      <td>California</td>\n",
              "      <td>Knights Valley</td>\n",
              "      <td>Sonoma</td>\n",
              "      <td>Sauvignon Blanc</td>\n",
              "      <td>Macauley</td>\n",
              "    </tr>\n",
              "    <tr>\n",
              "      <th>3</th>\n",
              "      <td>US</td>\n",
              "      <td>This spent 20 months in 30% new French oak, an...</td>\n",
              "      <td>Reserve</td>\n",
              "      <td>96</td>\n",
              "      <td>65.0</td>\n",
              "      <td>Oregon</td>\n",
              "      <td>Willamette Valley</td>\n",
              "      <td>Willamette Valley</td>\n",
              "      <td>Pinot Noir</td>\n",
              "      <td>Ponzi</td>\n",
              "    </tr>\n",
              "    <tr>\n",
              "      <th>4</th>\n",
              "      <td>France</td>\n",
              "      <td>This is the top wine from La Bégude, named aft...</td>\n",
              "      <td>La Brûlade</td>\n",
              "      <td>95</td>\n",
              "      <td>66.0</td>\n",
              "      <td>Provence</td>\n",
              "      <td>Bandol</td>\n",
              "      <td>NaN</td>\n",
              "      <td>Provence red blend</td>\n",
              "      <td>Domaine de la Bégude</td>\n",
              "    </tr>\n",
              "  </tbody>\n",
              "</table>\n",
              "</div>"
            ],
            "text/plain": [
              "  country                                        description  \\\n",
              "0      US  This tremendous 100% varietal wine hails from ...   \n",
              "1   Spain  Ripe aromas of fig, blackberry and cassis are ...   \n",
              "2      US  Mac Watson honors the memory of a wine once ma...   \n",
              "3      US  This spent 20 months in 30% new French oak, an...   \n",
              "4  France  This is the top wine from La Bégude, named aft...   \n",
              "\n",
              "                            designation  points  price        province  \\\n",
              "0                     Martha's Vineyard      96  235.0      California   \n",
              "1  Carodorum Selección Especial Reserva      96  110.0  Northern Spain   \n",
              "2         Special Selected Late Harvest      96   90.0      California   \n",
              "3                               Reserve      96   65.0          Oregon   \n",
              "4                            La Brûlade      95   66.0        Provence   \n",
              "\n",
              "            region_1           region_2             variety  \\\n",
              "0        Napa Valley               Napa  Cabernet Sauvignon   \n",
              "1               Toro                NaN       Tinta de Toro   \n",
              "2     Knights Valley             Sonoma     Sauvignon Blanc   \n",
              "3  Willamette Valley  Willamette Valley          Pinot Noir   \n",
              "4             Bandol                NaN  Provence red blend   \n",
              "\n",
              "                    winery  \n",
              "0                    Heitz  \n",
              "1  Bodega Carmen Rodríguez  \n",
              "2                 Macauley  \n",
              "3                    Ponzi  \n",
              "4     Domaine de la Bégude  "
            ]
          },
          "metadata": {
            "tags": []
          },
          "execution_count": 47
        }
      ]
    },
    {
      "cell_type": "markdown",
      "metadata": {
        "id": "kD6b8qXWao49"
      },
      "source": [
        "## Select an index or Column from a Pandas DataFrame"
      ]
    },
    {
      "cell_type": "markdown",
      "metadata": {
        "id": "B5u6Nlcgao49"
      },
      "source": [
        "In Python, we can access the property of an object by accessing it as an attribute. A book object, for example, might have a title property, which we can access by calling book.title. Columns in a pandas DataFrame work in much the same way.\n",
        "\n",
        "Hence to access the country property of reviews we can use:\n"
      ]
    },
    {
      "cell_type": "code",
      "metadata": {
        "id": "GbqNBmloao49",
        "outputId": "f5b94fee-c0c3-49f8-8ca4-e90e4cc3d11f"
      },
      "source": [
        "wine_reviews.points"
      ],
      "execution_count": null,
      "outputs": [
        {
          "output_type": "execute_result",
          "data": {
            "text/plain": [
              "0         96\n",
              "1         96\n",
              "2         96\n",
              "3         96\n",
              "4         95\n",
              "          ..\n",
              "150925    91\n",
              "150926    91\n",
              "150927    91\n",
              "150928    90\n",
              "150929    90\n",
              "Name: points, Length: 150930, dtype: int64"
            ]
          },
          "metadata": {
            "tags": []
          },
          "execution_count": 51
        }
      ]
    },
    {
      "cell_type": "markdown",
      "metadata": {
        "id": "CvntgrdXao49"
      },
      "source": [
        "If we have a Python dictionary, we can access its values using the indexing ([]) operator. We can do the same with columns in a DataFrame:"
      ]
    },
    {
      "cell_type": "code",
      "metadata": {
        "id": "rRgM2m0Yao49",
        "outputId": "02d849b5-f9db-4574-f716-764bd18a5ccf"
      },
      "source": [
        "wine_reviews['country']"
      ],
      "execution_count": null,
      "outputs": [
        {
          "output_type": "execute_result",
          "data": {
            "text/plain": [
              "0             US\n",
              "1          Spain\n",
              "2             US\n",
              "3             US\n",
              "4         France\n",
              "           ...  \n",
              "150925     Italy\n",
              "150926    France\n",
              "150927     Italy\n",
              "150928    France\n",
              "150929     Italy\n",
              "Name: country, Length: 150930, dtype: object"
            ]
          },
          "metadata": {
            "tags": []
          },
          "execution_count": 34
        }
      ]
    },
    {
      "cell_type": "markdown",
      "metadata": {
        "id": "mig1C5VFao4-"
      },
      "source": [
        "These are the two ways of selecting a specific Series out of a DataFrame. Neither of them is more or less syntactically valid than the other, but the indexing operator [] does have the advantage that it can handle column names with reserved characters in them (e.g. if we had a country providence column, reviews.country providence wouldn't work).\n",
        "\n",
        "Doesn't a pandas Series look kind of like a fancy dictionary? It pretty much is, so it's no surprise that, to drill down to a single specific value, we need only use the indexing operator [] once more:\n"
      ]
    },
    {
      "cell_type": "code",
      "metadata": {
        "id": "5ffZzM4Tao4-",
        "outputId": "d81f493f-edee-4da0-aca3-ec40e4da8cfc"
      },
      "source": [
        "wine_reviews['country'][4]"
      ],
      "execution_count": null,
      "outputs": [
        {
          "output_type": "execute_result",
          "data": {
            "text/plain": [
              "'France'"
            ]
          },
          "metadata": {
            "tags": []
          },
          "execution_count": 52
        }
      ]
    },
    {
      "cell_type": "markdown",
      "metadata": {
        "id": "yBzQgkj_ao4-"
      },
      "source": [
        "## Indexing in Pandas\n",
        "The indexing operator and attribute selection are nice because they work just like they do in the rest of the Python ecosystem. As a novice, this makes them easy to pick up and use. However, pandas has its own accessor operators, loc and iloc. For more advanced operations, these are the ones you're supposed to be using.\n",
        "#### Index-based selection\n",
        "\n",
        "Pandas indexing works in one of two paradigms. The first is index-based selection: selecting data based on its numerical position in the data. iloc follows this paradigm.\n",
        "\n",
        "To select the first row of data in a DataFrame, we may use the following:\n"
      ]
    },
    {
      "cell_type": "code",
      "metadata": {
        "id": "A1UY1Y_Kao4-",
        "outputId": "3ed1d0d7-40f6-4026-b2bd-cf52d01fd1a6"
      },
      "source": [
        "wine_reviews.iloc[1:3,4]"
      ],
      "execution_count": null,
      "outputs": [
        {
          "output_type": "execute_result",
          "data": {
            "text/plain": [
              "1    110.0\n",
              "2     90.0\n",
              "Name: price, dtype: float64"
            ]
          },
          "metadata": {
            "tags": []
          },
          "execution_count": 55
        }
      ]
    },
    {
      "cell_type": "code",
      "metadata": {
        "id": "1QBDQC_6ao4-",
        "outputId": "6945e2fb-324c-4487-ad17-d2f7e1e0e7ea"
      },
      "source": [
        "wine_reviews.loc[0]"
      ],
      "execution_count": null,
      "outputs": [
        {
          "output_type": "execute_result",
          "data": {
            "text/plain": [
              "country                                                       US\n",
              "description    This tremendous 100% varietal wine hails from ...\n",
              "designation                                    Martha's Vineyard\n",
              "points                                                        96\n",
              "price                                                        235\n",
              "province                                              California\n",
              "region_1                                             Napa Valley\n",
              "region_2                                                    Napa\n",
              "variety                                       Cabernet Sauvignon\n",
              "winery                                                     Heitz\n",
              "Name: 0, dtype: object"
            ]
          },
          "metadata": {
            "tags": []
          },
          "execution_count": 16
        }
      ]
    },
    {
      "cell_type": "markdown",
      "metadata": {
        "id": "f6tooGy9ao4_"
      },
      "source": [
        "Both _loc_ and _iloc_ are row-first, column-second. This is the opposite of what we do in native Python, which is column-first, row-second."
      ]
    },
    {
      "cell_type": "markdown",
      "metadata": {
        "id": "TZKlU67Nao4_"
      },
      "source": [
        "This means that it's marginally easier to retrieve rows, and marginally harder to get retrieve columns. To get a column with iloc, we can do the following:"
      ]
    },
    {
      "cell_type": "code",
      "metadata": {
        "id": "fcjbMd22ao4_",
        "outputId": "b6e9510b-0306-444a-ab92-3b9e5d93e59f"
      },
      "source": [
        "wine_reviews.iloc[:,3]"
      ],
      "execution_count": null,
      "outputs": [
        {
          "output_type": "execute_result",
          "data": {
            "text/plain": [
              "0         96\n",
              "1         96\n",
              "2         96\n",
              "3         96\n",
              "4         95\n",
              "          ..\n",
              "150925    91\n",
              "150926    91\n",
              "150927    91\n",
              "150928    90\n",
              "150929    90\n",
              "Name: points, Length: 150930, dtype: int64"
            ]
          },
          "metadata": {
            "tags": []
          },
          "execution_count": 58
        }
      ]
    },
    {
      "cell_type": "markdown",
      "metadata": {
        "id": "qJYgonNEao4_"
      },
      "source": [
        "On its own, the : operator, which also comes from native Python, means \"everything\". When combined with other selectors, however, it can be used to indicate a range of values. For example, to select the country column from just the first, second, and third row, we would do:"
      ]
    },
    {
      "cell_type": "code",
      "metadata": {
        "id": "u0uEMEGSao4_",
        "outputId": "cc9fbe9f-404f-4f0a-8f21-5cd886e7683d"
      },
      "source": [
        "wine_reviews.iloc[:3, 0]"
      ],
      "execution_count": null,
      "outputs": [
        {
          "output_type": "execute_result",
          "data": {
            "text/plain": [
              "0       US\n",
              "1    Spain\n",
              "2       US\n",
              "Name: country, dtype: object"
            ]
          },
          "metadata": {
            "tags": []
          },
          "execution_count": 59
        }
      ]
    },
    {
      "cell_type": "markdown",
      "metadata": {
        "id": "4RE864C2ao4_"
      },
      "source": [
        "Or, to select just the second and third entries, we would do:"
      ]
    },
    {
      "cell_type": "code",
      "metadata": {
        "id": "Siltxw1Vao4_",
        "outputId": "91c082f2-9efe-4dc3-d260-af572ecebca4"
      },
      "source": [
        "wine_reviews.iloc[1:3, 0]"
      ],
      "execution_count": null,
      "outputs": [
        {
          "output_type": "execute_result",
          "data": {
            "text/plain": [
              "1    Spain\n",
              "2       US\n",
              "Name: country, dtype: object"
            ]
          },
          "metadata": {
            "tags": []
          },
          "execution_count": 60
        }
      ]
    },
    {
      "cell_type": "markdown",
      "metadata": {
        "id": "x2TOsNisao5A"
      },
      "source": [
        "It's also possible to pass a list:"
      ]
    },
    {
      "cell_type": "code",
      "metadata": {
        "id": "j3e5_pWhao5A"
      },
      "source": [
        "import numpy as np"
      ],
      "execution_count": null,
      "outputs": []
    },
    {
      "cell_type": "code",
      "metadata": {
        "id": "nVZUI15rao5A",
        "outputId": "6d9b112b-4fe2-4935-9790-f562de005c5d"
      },
      "source": [
        "wine_reviews.iloc[np.arange(0,10,2), 0]"
      ],
      "execution_count": null,
      "outputs": [
        {
          "output_type": "execute_result",
          "data": {
            "text/plain": [
              "0        US\n",
              "2        US\n",
              "4    France\n",
              "6     Spain\n",
              "8        US\n",
              "Name: country, dtype: object"
            ]
          },
          "metadata": {
            "tags": []
          },
          "execution_count": 62
        }
      ]
    },
    {
      "cell_type": "markdown",
      "metadata": {
        "id": "Zk5OLEU6ao5A"
      },
      "source": [
        "Finally, it's worth knowing that negative numbers can be used in selection. This will start counting forwards from the end of the values. So for example here are the last five elements of the dataset."
      ]
    },
    {
      "cell_type": "code",
      "metadata": {
        "id": "OJdhtQqsao5A",
        "outputId": "163e2f78-ee4d-47a7-8d84-19a3560663ab"
      },
      "source": [
        "wine_reviews['province']"
      ],
      "execution_count": null,
      "outputs": [
        {
          "output_type": "execute_result",
          "data": {
            "text/plain": [
              "0                 California\n",
              "1             Northern Spain\n",
              "2                 California\n",
              "3                     Oregon\n",
              "4                   Provence\n",
              "                 ...        \n",
              "150925        Southern Italy\n",
              "150926             Champagne\n",
              "150927        Southern Italy\n",
              "150928             Champagne\n",
              "150929    Northeastern Italy\n",
              "Name: province, Length: 150930, dtype: object"
            ]
          },
          "metadata": {
            "tags": []
          },
          "execution_count": 64
        }
      ]
    },
    {
      "cell_type": "code",
      "metadata": {
        "id": "k-Wuq1EYao5A",
        "outputId": "119a8d1e-1d50-48d1-cc87-9845d20e3940"
      },
      "source": [
        "wine_reviews.iloc[-5:]"
      ],
      "execution_count": null,
      "outputs": [
        {
          "output_type": "execute_result",
          "data": {
            "text/html": [
              "<div>\n",
              "<style scoped>\n",
              "    .dataframe tbody tr th:only-of-type {\n",
              "        vertical-align: middle;\n",
              "    }\n",
              "\n",
              "    .dataframe tbody tr th {\n",
              "        vertical-align: top;\n",
              "    }\n",
              "\n",
              "    .dataframe thead th {\n",
              "        text-align: right;\n",
              "    }\n",
              "</style>\n",
              "<table border=\"1\" class=\"dataframe\">\n",
              "  <thead>\n",
              "    <tr style=\"text-align: right;\">\n",
              "      <th></th>\n",
              "      <th>country</th>\n",
              "      <th>description</th>\n",
              "      <th>designation</th>\n",
              "      <th>points</th>\n",
              "      <th>price</th>\n",
              "      <th>province</th>\n",
              "      <th>region_1</th>\n",
              "      <th>region_2</th>\n",
              "      <th>variety</th>\n",
              "      <th>winery</th>\n",
              "    </tr>\n",
              "  </thead>\n",
              "  <tbody>\n",
              "    <tr>\n",
              "      <th>150925</th>\n",
              "      <td>Italy</td>\n",
              "      <td>Many people feel Fiano represents southern Ita...</td>\n",
              "      <td>NaN</td>\n",
              "      <td>91</td>\n",
              "      <td>20.0</td>\n",
              "      <td>Southern Italy</td>\n",
              "      <td>Fiano di Avellino</td>\n",
              "      <td>NaN</td>\n",
              "      <td>White Blend</td>\n",
              "      <td>Feudi di San Gregorio</td>\n",
              "    </tr>\n",
              "    <tr>\n",
              "      <th>150926</th>\n",
              "      <td>France</td>\n",
              "      <td>Offers an intriguing nose with ginger, lime an...</td>\n",
              "      <td>Cuvée Prestige</td>\n",
              "      <td>91</td>\n",
              "      <td>27.0</td>\n",
              "      <td>Champagne</td>\n",
              "      <td>Champagne</td>\n",
              "      <td>NaN</td>\n",
              "      <td>Champagne Blend</td>\n",
              "      <td>H.Germain</td>\n",
              "    </tr>\n",
              "    <tr>\n",
              "      <th>150927</th>\n",
              "      <td>Italy</td>\n",
              "      <td>This classic example comes from a cru vineyard...</td>\n",
              "      <td>Terre di Dora</td>\n",
              "      <td>91</td>\n",
              "      <td>20.0</td>\n",
              "      <td>Southern Italy</td>\n",
              "      <td>Fiano di Avellino</td>\n",
              "      <td>NaN</td>\n",
              "      <td>White Blend</td>\n",
              "      <td>Terredora</td>\n",
              "    </tr>\n",
              "    <tr>\n",
              "      <th>150928</th>\n",
              "      <td>France</td>\n",
              "      <td>A perfect salmon shade, with scents of peaches...</td>\n",
              "      <td>Grand Brut Rosé</td>\n",
              "      <td>90</td>\n",
              "      <td>52.0</td>\n",
              "      <td>Champagne</td>\n",
              "      <td>Champagne</td>\n",
              "      <td>NaN</td>\n",
              "      <td>Champagne Blend</td>\n",
              "      <td>Gosset</td>\n",
              "    </tr>\n",
              "    <tr>\n",
              "      <th>150929</th>\n",
              "      <td>Italy</td>\n",
              "      <td>More Pinot Grigios should taste like this. A r...</td>\n",
              "      <td>NaN</td>\n",
              "      <td>90</td>\n",
              "      <td>15.0</td>\n",
              "      <td>Northeastern Italy</td>\n",
              "      <td>Alto Adige</td>\n",
              "      <td>NaN</td>\n",
              "      <td>Pinot Grigio</td>\n",
              "      <td>Alois Lageder</td>\n",
              "    </tr>\n",
              "  </tbody>\n",
              "</table>\n",
              "</div>"
            ],
            "text/plain": [
              "       country                                        description  \\\n",
              "150925   Italy  Many people feel Fiano represents southern Ita...   \n",
              "150926  France  Offers an intriguing nose with ginger, lime an...   \n",
              "150927   Italy  This classic example comes from a cru vineyard...   \n",
              "150928  France  A perfect salmon shade, with scents of peaches...   \n",
              "150929   Italy  More Pinot Grigios should taste like this. A r...   \n",
              "\n",
              "            designation  points  price            province           region_1  \\\n",
              "150925              NaN      91   20.0      Southern Italy  Fiano di Avellino   \n",
              "150926   Cuvée Prestige      91   27.0           Champagne          Champagne   \n",
              "150927    Terre di Dora      91   20.0      Southern Italy  Fiano di Avellino   \n",
              "150928  Grand Brut Rosé      90   52.0           Champagne          Champagne   \n",
              "150929              NaN      90   15.0  Northeastern Italy         Alto Adige   \n",
              "\n",
              "       region_2          variety                 winery  \n",
              "150925      NaN      White Blend  Feudi di San Gregorio  \n",
              "150926      NaN  Champagne Blend              H.Germain  \n",
              "150927      NaN      White Blend              Terredora  \n",
              "150928      NaN  Champagne Blend                 Gosset  \n",
              "150929      NaN     Pinot Grigio          Alois Lageder  "
            ]
          },
          "metadata": {
            "tags": []
          },
          "execution_count": 45
        }
      ]
    },
    {
      "cell_type": "markdown",
      "metadata": {
        "id": "CoRPulLMao5B"
      },
      "source": [
        "__Label-based selection__\n",
        "\n",
        "The second paradigm for attribute selection is the one followed by the loc operator: label-based selection. In this paradigm, it's the data index value, not its position, which matters.\n",
        "\n",
        "For example, to get the first entry in reviews, we would now do the following:\n"
      ]
    },
    {
      "cell_type": "code",
      "metadata": {
        "id": "SCYGQNzcao5B",
        "outputId": "ad15471a-df9e-406a-8934-44fd9d58489b"
      },
      "source": [
        "wine_reviews.loc[1, 'region_1']"
      ],
      "execution_count": null,
      "outputs": [
        {
          "output_type": "execute_result",
          "data": {
            "text/plain": [
              "'Toro'"
            ]
          },
          "metadata": {
            "tags": []
          },
          "execution_count": 65
        }
      ]
    },
    {
      "cell_type": "markdown",
      "metadata": {
        "id": "Kp0oTttjao5B"
      },
      "source": [
        "__iloc__ is conceptually simpler than __loc__ because it ignores the dataset's indices. When we use iloc we treat the dataset like a big matrix (a list of lists), one that we have to index into by position. loc, by contrast, uses the information in the indices to do its work. Since your dataset usually has meaningful indices, it's usually easier to do things using loc instead. For example, here's one operation that's much easier using loc:"
      ]
    },
    {
      "cell_type": "code",
      "metadata": {
        "id": "WLB9_4Irao5B",
        "outputId": "815ef2d8-959e-487b-9c78-46bd06f3ca11"
      },
      "source": [
        "wine_reviews.loc[:5, ['points','variety','winery']]"
      ],
      "execution_count": null,
      "outputs": [
        {
          "output_type": "execute_result",
          "data": {
            "text/html": [
              "<div>\n",
              "<style scoped>\n",
              "    .dataframe tbody tr th:only-of-type {\n",
              "        vertical-align: middle;\n",
              "    }\n",
              "\n",
              "    .dataframe tbody tr th {\n",
              "        vertical-align: top;\n",
              "    }\n",
              "\n",
              "    .dataframe thead th {\n",
              "        text-align: right;\n",
              "    }\n",
              "</style>\n",
              "<table border=\"1\" class=\"dataframe\">\n",
              "  <thead>\n",
              "    <tr style=\"text-align: right;\">\n",
              "      <th></th>\n",
              "      <th>points</th>\n",
              "      <th>variety</th>\n",
              "      <th>winery</th>\n",
              "    </tr>\n",
              "  </thead>\n",
              "  <tbody>\n",
              "    <tr>\n",
              "      <th>0</th>\n",
              "      <td>96</td>\n",
              "      <td>Cabernet Sauvignon</td>\n",
              "      <td>Heitz</td>\n",
              "    </tr>\n",
              "    <tr>\n",
              "      <th>1</th>\n",
              "      <td>96</td>\n",
              "      <td>Tinta de Toro</td>\n",
              "      <td>Bodega Carmen Rodríguez</td>\n",
              "    </tr>\n",
              "    <tr>\n",
              "      <th>2</th>\n",
              "      <td>96</td>\n",
              "      <td>Sauvignon Blanc</td>\n",
              "      <td>Macauley</td>\n",
              "    </tr>\n",
              "    <tr>\n",
              "      <th>3</th>\n",
              "      <td>96</td>\n",
              "      <td>Pinot Noir</td>\n",
              "      <td>Ponzi</td>\n",
              "    </tr>\n",
              "    <tr>\n",
              "      <th>4</th>\n",
              "      <td>95</td>\n",
              "      <td>Provence red blend</td>\n",
              "      <td>Domaine de la Bégude</td>\n",
              "    </tr>\n",
              "    <tr>\n",
              "      <th>5</th>\n",
              "      <td>95</td>\n",
              "      <td>Tinta de Toro</td>\n",
              "      <td>Numanthia</td>\n",
              "    </tr>\n",
              "  </tbody>\n",
              "</table>\n",
              "</div>"
            ],
            "text/plain": [
              "   points             variety                   winery\n",
              "0      96  Cabernet Sauvignon                    Heitz\n",
              "1      96       Tinta de Toro  Bodega Carmen Rodríguez\n",
              "2      96     Sauvignon Blanc                 Macauley\n",
              "3      96          Pinot Noir                    Ponzi\n",
              "4      95  Provence red blend     Domaine de la Bégude\n",
              "5      95       Tinta de Toro                Numanthia"
            ]
          },
          "metadata": {
            "tags": []
          },
          "execution_count": 68
        }
      ]
    },
    {
      "cell_type": "markdown",
      "metadata": {
        "id": "F8Eyn3L3ao5B"
      },
      "source": [
        "## Manipulating the index\n",
        "\n",
        "Label-based selection derives its power from the labels in the index. Critically, the index we use is not immutable. We can manipulate the index in any way we see fit.\n",
        "\n",
        "The set_index() method can be used to do the job. Here is what happens when we set_index to the title field:"
      ]
    },
    {
      "cell_type": "code",
      "metadata": {
        "id": "qoxYDdo3ao5B",
        "outputId": "b15524a4-e63f-48e0-a83b-a5cc0973af93"
      },
      "source": [
        "wine_reviews.head(1)"
      ],
      "execution_count": null,
      "outputs": [
        {
          "output_type": "execute_result",
          "data": {
            "text/html": [
              "<div>\n",
              "<style scoped>\n",
              "    .dataframe tbody tr th:only-of-type {\n",
              "        vertical-align: middle;\n",
              "    }\n",
              "\n",
              "    .dataframe tbody tr th {\n",
              "        vertical-align: top;\n",
              "    }\n",
              "\n",
              "    .dataframe thead th {\n",
              "        text-align: right;\n",
              "    }\n",
              "</style>\n",
              "<table border=\"1\" class=\"dataframe\">\n",
              "  <thead>\n",
              "    <tr style=\"text-align: right;\">\n",
              "      <th></th>\n",
              "      <th>country</th>\n",
              "      <th>description</th>\n",
              "      <th>designation</th>\n",
              "      <th>points</th>\n",
              "      <th>price</th>\n",
              "      <th>province</th>\n",
              "      <th>region_1</th>\n",
              "      <th>region_2</th>\n",
              "      <th>variety</th>\n",
              "      <th>winery</th>\n",
              "    </tr>\n",
              "  </thead>\n",
              "  <tbody>\n",
              "    <tr>\n",
              "      <th>0</th>\n",
              "      <td>US</td>\n",
              "      <td>This tremendous 100% varietal wine hails from ...</td>\n",
              "      <td>Martha's Vineyard</td>\n",
              "      <td>96</td>\n",
              "      <td>235.0</td>\n",
              "      <td>California</td>\n",
              "      <td>Napa Valley</td>\n",
              "      <td>Napa</td>\n",
              "      <td>Cabernet Sauvignon</td>\n",
              "      <td>Heitz</td>\n",
              "    </tr>\n",
              "  </tbody>\n",
              "</table>\n",
              "</div>"
            ],
            "text/plain": [
              "  country                                        description  \\\n",
              "0      US  This tremendous 100% varietal wine hails from ...   \n",
              "\n",
              "         designation  points  price    province     region_1 region_2  \\\n",
              "0  Martha's Vineyard      96  235.0  California  Napa Valley     Napa   \n",
              "\n",
              "              variety winery  \n",
              "0  Cabernet Sauvignon  Heitz  "
            ]
          },
          "metadata": {
            "tags": []
          },
          "execution_count": 55
        }
      ]
    },
    {
      "cell_type": "code",
      "metadata": {
        "id": "FcX6T1D5ao5C",
        "outputId": "9edcf1f4-a792-436f-ec83-c5857cc48a30"
      },
      "source": [
        "wine_reviews.set_index(\"province\")\n"
      ],
      "execution_count": null,
      "outputs": [
        {
          "output_type": "execute_result",
          "data": {
            "text/html": [
              "<div>\n",
              "<style scoped>\n",
              "    .dataframe tbody tr th:only-of-type {\n",
              "        vertical-align: middle;\n",
              "    }\n",
              "\n",
              "    .dataframe tbody tr th {\n",
              "        vertical-align: top;\n",
              "    }\n",
              "\n",
              "    .dataframe thead th {\n",
              "        text-align: right;\n",
              "    }\n",
              "</style>\n",
              "<table border=\"1\" class=\"dataframe\">\n",
              "  <thead>\n",
              "    <tr style=\"text-align: right;\">\n",
              "      <th></th>\n",
              "      <th>country</th>\n",
              "      <th>description</th>\n",
              "      <th>designation</th>\n",
              "      <th>points</th>\n",
              "      <th>price</th>\n",
              "      <th>region_1</th>\n",
              "      <th>region_2</th>\n",
              "      <th>variety</th>\n",
              "      <th>winery</th>\n",
              "    </tr>\n",
              "    <tr>\n",
              "      <th>province</th>\n",
              "      <th></th>\n",
              "      <th></th>\n",
              "      <th></th>\n",
              "      <th></th>\n",
              "      <th></th>\n",
              "      <th></th>\n",
              "      <th></th>\n",
              "      <th></th>\n",
              "      <th></th>\n",
              "    </tr>\n",
              "  </thead>\n",
              "  <tbody>\n",
              "    <tr>\n",
              "      <th>California</th>\n",
              "      <td>US</td>\n",
              "      <td>This tremendous 100% varietal wine hails from ...</td>\n",
              "      <td>Martha's Vineyard</td>\n",
              "      <td>96</td>\n",
              "      <td>235.0</td>\n",
              "      <td>Napa Valley</td>\n",
              "      <td>Napa</td>\n",
              "      <td>Cabernet Sauvignon</td>\n",
              "      <td>Heitz</td>\n",
              "    </tr>\n",
              "    <tr>\n",
              "      <th>Northern Spain</th>\n",
              "      <td>Spain</td>\n",
              "      <td>Ripe aromas of fig, blackberry and cassis are ...</td>\n",
              "      <td>Carodorum Selección Especial Reserva</td>\n",
              "      <td>96</td>\n",
              "      <td>110.0</td>\n",
              "      <td>Toro</td>\n",
              "      <td>NaN</td>\n",
              "      <td>Tinta de Toro</td>\n",
              "      <td>Bodega Carmen Rodríguez</td>\n",
              "    </tr>\n",
              "    <tr>\n",
              "      <th>California</th>\n",
              "      <td>US</td>\n",
              "      <td>Mac Watson honors the memory of a wine once ma...</td>\n",
              "      <td>Special Selected Late Harvest</td>\n",
              "      <td>96</td>\n",
              "      <td>90.0</td>\n",
              "      <td>Knights Valley</td>\n",
              "      <td>Sonoma</td>\n",
              "      <td>Sauvignon Blanc</td>\n",
              "      <td>Macauley</td>\n",
              "    </tr>\n",
              "    <tr>\n",
              "      <th>Oregon</th>\n",
              "      <td>US</td>\n",
              "      <td>This spent 20 months in 30% new French oak, an...</td>\n",
              "      <td>Reserve</td>\n",
              "      <td>96</td>\n",
              "      <td>65.0</td>\n",
              "      <td>Willamette Valley</td>\n",
              "      <td>Willamette Valley</td>\n",
              "      <td>Pinot Noir</td>\n",
              "      <td>Ponzi</td>\n",
              "    </tr>\n",
              "    <tr>\n",
              "      <th>Provence</th>\n",
              "      <td>France</td>\n",
              "      <td>This is the top wine from La Bégude, named aft...</td>\n",
              "      <td>La Brûlade</td>\n",
              "      <td>95</td>\n",
              "      <td>66.0</td>\n",
              "      <td>Bandol</td>\n",
              "      <td>NaN</td>\n",
              "      <td>Provence red blend</td>\n",
              "      <td>Domaine de la Bégude</td>\n",
              "    </tr>\n",
              "    <tr>\n",
              "      <th>...</th>\n",
              "      <td>...</td>\n",
              "      <td>...</td>\n",
              "      <td>...</td>\n",
              "      <td>...</td>\n",
              "      <td>...</td>\n",
              "      <td>...</td>\n",
              "      <td>...</td>\n",
              "      <td>...</td>\n",
              "      <td>...</td>\n",
              "    </tr>\n",
              "    <tr>\n",
              "      <th>Southern Italy</th>\n",
              "      <td>Italy</td>\n",
              "      <td>Many people feel Fiano represents southern Ita...</td>\n",
              "      <td>NaN</td>\n",
              "      <td>91</td>\n",
              "      <td>20.0</td>\n",
              "      <td>Fiano di Avellino</td>\n",
              "      <td>NaN</td>\n",
              "      <td>White Blend</td>\n",
              "      <td>Feudi di San Gregorio</td>\n",
              "    </tr>\n",
              "    <tr>\n",
              "      <th>Champagne</th>\n",
              "      <td>France</td>\n",
              "      <td>Offers an intriguing nose with ginger, lime an...</td>\n",
              "      <td>Cuvée Prestige</td>\n",
              "      <td>91</td>\n",
              "      <td>27.0</td>\n",
              "      <td>Champagne</td>\n",
              "      <td>NaN</td>\n",
              "      <td>Champagne Blend</td>\n",
              "      <td>H.Germain</td>\n",
              "    </tr>\n",
              "    <tr>\n",
              "      <th>Southern Italy</th>\n",
              "      <td>Italy</td>\n",
              "      <td>This classic example comes from a cru vineyard...</td>\n",
              "      <td>Terre di Dora</td>\n",
              "      <td>91</td>\n",
              "      <td>20.0</td>\n",
              "      <td>Fiano di Avellino</td>\n",
              "      <td>NaN</td>\n",
              "      <td>White Blend</td>\n",
              "      <td>Terredora</td>\n",
              "    </tr>\n",
              "    <tr>\n",
              "      <th>Champagne</th>\n",
              "      <td>France</td>\n",
              "      <td>A perfect salmon shade, with scents of peaches...</td>\n",
              "      <td>Grand Brut Rosé</td>\n",
              "      <td>90</td>\n",
              "      <td>52.0</td>\n",
              "      <td>Champagne</td>\n",
              "      <td>NaN</td>\n",
              "      <td>Champagne Blend</td>\n",
              "      <td>Gosset</td>\n",
              "    </tr>\n",
              "    <tr>\n",
              "      <th>Northeastern Italy</th>\n",
              "      <td>Italy</td>\n",
              "      <td>More Pinot Grigios should taste like this. A r...</td>\n",
              "      <td>NaN</td>\n",
              "      <td>90</td>\n",
              "      <td>15.0</td>\n",
              "      <td>Alto Adige</td>\n",
              "      <td>NaN</td>\n",
              "      <td>Pinot Grigio</td>\n",
              "      <td>Alois Lageder</td>\n",
              "    </tr>\n",
              "  </tbody>\n",
              "</table>\n",
              "<p>150930 rows × 9 columns</p>\n",
              "</div>"
            ],
            "text/plain": [
              "                   country                                        description  \\\n",
              "province                                                                        \n",
              "California              US  This tremendous 100% varietal wine hails from ...   \n",
              "Northern Spain       Spain  Ripe aromas of fig, blackberry and cassis are ...   \n",
              "California              US  Mac Watson honors the memory of a wine once ma...   \n",
              "Oregon                  US  This spent 20 months in 30% new French oak, an...   \n",
              "Provence            France  This is the top wine from La Bégude, named aft...   \n",
              "...                    ...                                                ...   \n",
              "Southern Italy       Italy  Many people feel Fiano represents southern Ita...   \n",
              "Champagne           France  Offers an intriguing nose with ginger, lime an...   \n",
              "Southern Italy       Italy  This classic example comes from a cru vineyard...   \n",
              "Champagne           France  A perfect salmon shade, with scents of peaches...   \n",
              "Northeastern Italy   Italy  More Pinot Grigios should taste like this. A r...   \n",
              "\n",
              "                                             designation  points  price  \\\n",
              "province                                                                  \n",
              "California                             Martha's Vineyard      96  235.0   \n",
              "Northern Spain      Carodorum Selección Especial Reserva      96  110.0   \n",
              "California                 Special Selected Late Harvest      96   90.0   \n",
              "Oregon                                           Reserve      96   65.0   \n",
              "Provence                                      La Brûlade      95   66.0   \n",
              "...                                                  ...     ...    ...   \n",
              "Southern Italy                                       NaN      91   20.0   \n",
              "Champagne                                 Cuvée Prestige      91   27.0   \n",
              "Southern Italy                             Terre di Dora      91   20.0   \n",
              "Champagne                                Grand Brut Rosé      90   52.0   \n",
              "Northeastern Italy                                   NaN      90   15.0   \n",
              "\n",
              "                             region_1           region_2             variety  \\\n",
              "province                                                                       \n",
              "California                Napa Valley               Napa  Cabernet Sauvignon   \n",
              "Northern Spain                   Toro                NaN       Tinta de Toro   \n",
              "California             Knights Valley             Sonoma     Sauvignon Blanc   \n",
              "Oregon              Willamette Valley  Willamette Valley          Pinot Noir   \n",
              "Provence                       Bandol                NaN  Provence red blend   \n",
              "...                               ...                ...                 ...   \n",
              "Southern Italy      Fiano di Avellino                NaN         White Blend   \n",
              "Champagne                   Champagne                NaN     Champagne Blend   \n",
              "Southern Italy      Fiano di Avellino                NaN         White Blend   \n",
              "Champagne                   Champagne                NaN     Champagne Blend   \n",
              "Northeastern Italy         Alto Adige                NaN        Pinot Grigio   \n",
              "\n",
              "                                     winery  \n",
              "province                                     \n",
              "California                            Heitz  \n",
              "Northern Spain      Bodega Carmen Rodríguez  \n",
              "California                         Macauley  \n",
              "Oregon                                Ponzi  \n",
              "Provence               Domaine de la Bégude  \n",
              "...                                     ...  \n",
              "Southern Italy        Feudi di San Gregorio  \n",
              "Champagne                         H.Germain  \n",
              "Southern Italy                    Terredora  \n",
              "Champagne                            Gosset  \n",
              "Northeastern Italy            Alois Lageder  \n",
              "\n",
              "[150930 rows x 9 columns]"
            ]
          },
          "metadata": {
            "tags": []
          },
          "execution_count": 69
        }
      ]
    },
    {
      "cell_type": "code",
      "metadata": {
        "scrolled": true,
        "id": "Q1oUMmXhao5C",
        "outputId": "e8ff052c-1de7-445d-ea35-36254bf9d8d9"
      },
      "source": [
        "wine_reviews"
      ],
      "execution_count": null,
      "outputs": [
        {
          "output_type": "execute_result",
          "data": {
            "text/html": [
              "<div>\n",
              "<style scoped>\n",
              "    .dataframe tbody tr th:only-of-type {\n",
              "        vertical-align: middle;\n",
              "    }\n",
              "\n",
              "    .dataframe tbody tr th {\n",
              "        vertical-align: top;\n",
              "    }\n",
              "\n",
              "    .dataframe thead th {\n",
              "        text-align: right;\n",
              "    }\n",
              "</style>\n",
              "<table border=\"1\" class=\"dataframe\">\n",
              "  <thead>\n",
              "    <tr style=\"text-align: right;\">\n",
              "      <th></th>\n",
              "      <th>country</th>\n",
              "      <th>description</th>\n",
              "      <th>designation</th>\n",
              "      <th>points</th>\n",
              "      <th>price</th>\n",
              "      <th>province</th>\n",
              "      <th>region_1</th>\n",
              "      <th>region_2</th>\n",
              "      <th>variety</th>\n",
              "      <th>winery</th>\n",
              "    </tr>\n",
              "  </thead>\n",
              "  <tbody>\n",
              "    <tr>\n",
              "      <th>0</th>\n",
              "      <td>US</td>\n",
              "      <td>This tremendous 100% varietal wine hails from ...</td>\n",
              "      <td>Martha's Vineyard</td>\n",
              "      <td>96</td>\n",
              "      <td>235.0</td>\n",
              "      <td>California</td>\n",
              "      <td>Napa Valley</td>\n",
              "      <td>Napa</td>\n",
              "      <td>Cabernet Sauvignon</td>\n",
              "      <td>Heitz</td>\n",
              "    </tr>\n",
              "    <tr>\n",
              "      <th>1</th>\n",
              "      <td>Spain</td>\n",
              "      <td>Ripe aromas of fig, blackberry and cassis are ...</td>\n",
              "      <td>Carodorum Selección Especial Reserva</td>\n",
              "      <td>96</td>\n",
              "      <td>110.0</td>\n",
              "      <td>Northern Spain</td>\n",
              "      <td>Toro</td>\n",
              "      <td>NaN</td>\n",
              "      <td>Tinta de Toro</td>\n",
              "      <td>Bodega Carmen Rodríguez</td>\n",
              "    </tr>\n",
              "    <tr>\n",
              "      <th>2</th>\n",
              "      <td>US</td>\n",
              "      <td>Mac Watson honors the memory of a wine once ma...</td>\n",
              "      <td>Special Selected Late Harvest</td>\n",
              "      <td>96</td>\n",
              "      <td>90.0</td>\n",
              "      <td>California</td>\n",
              "      <td>Knights Valley</td>\n",
              "      <td>Sonoma</td>\n",
              "      <td>Sauvignon Blanc</td>\n",
              "      <td>Macauley</td>\n",
              "    </tr>\n",
              "    <tr>\n",
              "      <th>3</th>\n",
              "      <td>US</td>\n",
              "      <td>This spent 20 months in 30% new French oak, an...</td>\n",
              "      <td>Reserve</td>\n",
              "      <td>96</td>\n",
              "      <td>65.0</td>\n",
              "      <td>Oregon</td>\n",
              "      <td>Willamette Valley</td>\n",
              "      <td>Willamette Valley</td>\n",
              "      <td>Pinot Noir</td>\n",
              "      <td>Ponzi</td>\n",
              "    </tr>\n",
              "    <tr>\n",
              "      <th>4</th>\n",
              "      <td>France</td>\n",
              "      <td>This is the top wine from La Bégude, named aft...</td>\n",
              "      <td>La Brûlade</td>\n",
              "      <td>95</td>\n",
              "      <td>66.0</td>\n",
              "      <td>Provence</td>\n",
              "      <td>Bandol</td>\n",
              "      <td>NaN</td>\n",
              "      <td>Provence red blend</td>\n",
              "      <td>Domaine de la Bégude</td>\n",
              "    </tr>\n",
              "    <tr>\n",
              "      <th>...</th>\n",
              "      <td>...</td>\n",
              "      <td>...</td>\n",
              "      <td>...</td>\n",
              "      <td>...</td>\n",
              "      <td>...</td>\n",
              "      <td>...</td>\n",
              "      <td>...</td>\n",
              "      <td>...</td>\n",
              "      <td>...</td>\n",
              "      <td>...</td>\n",
              "    </tr>\n",
              "    <tr>\n",
              "      <th>150925</th>\n",
              "      <td>Italy</td>\n",
              "      <td>Many people feel Fiano represents southern Ita...</td>\n",
              "      <td>NaN</td>\n",
              "      <td>91</td>\n",
              "      <td>20.0</td>\n",
              "      <td>Southern Italy</td>\n",
              "      <td>Fiano di Avellino</td>\n",
              "      <td>NaN</td>\n",
              "      <td>White Blend</td>\n",
              "      <td>Feudi di San Gregorio</td>\n",
              "    </tr>\n",
              "    <tr>\n",
              "      <th>150926</th>\n",
              "      <td>France</td>\n",
              "      <td>Offers an intriguing nose with ginger, lime an...</td>\n",
              "      <td>Cuvée Prestige</td>\n",
              "      <td>91</td>\n",
              "      <td>27.0</td>\n",
              "      <td>Champagne</td>\n",
              "      <td>Champagne</td>\n",
              "      <td>NaN</td>\n",
              "      <td>Champagne Blend</td>\n",
              "      <td>H.Germain</td>\n",
              "    </tr>\n",
              "    <tr>\n",
              "      <th>150927</th>\n",
              "      <td>Italy</td>\n",
              "      <td>This classic example comes from a cru vineyard...</td>\n",
              "      <td>Terre di Dora</td>\n",
              "      <td>91</td>\n",
              "      <td>20.0</td>\n",
              "      <td>Southern Italy</td>\n",
              "      <td>Fiano di Avellino</td>\n",
              "      <td>NaN</td>\n",
              "      <td>White Blend</td>\n",
              "      <td>Terredora</td>\n",
              "    </tr>\n",
              "    <tr>\n",
              "      <th>150928</th>\n",
              "      <td>France</td>\n",
              "      <td>A perfect salmon shade, with scents of peaches...</td>\n",
              "      <td>Grand Brut Rosé</td>\n",
              "      <td>90</td>\n",
              "      <td>52.0</td>\n",
              "      <td>Champagne</td>\n",
              "      <td>Champagne</td>\n",
              "      <td>NaN</td>\n",
              "      <td>Champagne Blend</td>\n",
              "      <td>Gosset</td>\n",
              "    </tr>\n",
              "    <tr>\n",
              "      <th>150929</th>\n",
              "      <td>Italy</td>\n",
              "      <td>More Pinot Grigios should taste like this. A r...</td>\n",
              "      <td>NaN</td>\n",
              "      <td>90</td>\n",
              "      <td>15.0</td>\n",
              "      <td>Northeastern Italy</td>\n",
              "      <td>Alto Adige</td>\n",
              "      <td>NaN</td>\n",
              "      <td>Pinot Grigio</td>\n",
              "      <td>Alois Lageder</td>\n",
              "    </tr>\n",
              "  </tbody>\n",
              "</table>\n",
              "<p>150930 rows × 10 columns</p>\n",
              "</div>"
            ],
            "text/plain": [
              "       country                                        description  \\\n",
              "0           US  This tremendous 100% varietal wine hails from ...   \n",
              "1        Spain  Ripe aromas of fig, blackberry and cassis are ...   \n",
              "2           US  Mac Watson honors the memory of a wine once ma...   \n",
              "3           US  This spent 20 months in 30% new French oak, an...   \n",
              "4       France  This is the top wine from La Bégude, named aft...   \n",
              "...        ...                                                ...   \n",
              "150925   Italy  Many people feel Fiano represents southern Ita...   \n",
              "150926  France  Offers an intriguing nose with ginger, lime an...   \n",
              "150927   Italy  This classic example comes from a cru vineyard...   \n",
              "150928  France  A perfect salmon shade, with scents of peaches...   \n",
              "150929   Italy  More Pinot Grigios should taste like this. A r...   \n",
              "\n",
              "                                 designation  points  price  \\\n",
              "0                          Martha's Vineyard      96  235.0   \n",
              "1       Carodorum Selección Especial Reserva      96  110.0   \n",
              "2              Special Selected Late Harvest      96   90.0   \n",
              "3                                    Reserve      96   65.0   \n",
              "4                                 La Brûlade      95   66.0   \n",
              "...                                      ...     ...    ...   \n",
              "150925                                   NaN      91   20.0   \n",
              "150926                        Cuvée Prestige      91   27.0   \n",
              "150927                         Terre di Dora      91   20.0   \n",
              "150928                       Grand Brut Rosé      90   52.0   \n",
              "150929                                   NaN      90   15.0   \n",
              "\n",
              "                  province           region_1           region_2  \\\n",
              "0               California        Napa Valley               Napa   \n",
              "1           Northern Spain               Toro                NaN   \n",
              "2               California     Knights Valley             Sonoma   \n",
              "3                   Oregon  Willamette Valley  Willamette Valley   \n",
              "4                 Provence             Bandol                NaN   \n",
              "...                    ...                ...                ...   \n",
              "150925      Southern Italy  Fiano di Avellino                NaN   \n",
              "150926           Champagne          Champagne                NaN   \n",
              "150927      Southern Italy  Fiano di Avellino                NaN   \n",
              "150928           Champagne          Champagne                NaN   \n",
              "150929  Northeastern Italy         Alto Adige                NaN   \n",
              "\n",
              "                   variety                   winery  \n",
              "0       Cabernet Sauvignon                    Heitz  \n",
              "1            Tinta de Toro  Bodega Carmen Rodríguez  \n",
              "2          Sauvignon Blanc                 Macauley  \n",
              "3               Pinot Noir                    Ponzi  \n",
              "4       Provence red blend     Domaine de la Bégude  \n",
              "...                    ...                      ...  \n",
              "150925         White Blend    Feudi di San Gregorio  \n",
              "150926     Champagne Blend                H.Germain  \n",
              "150927         White Blend                Terredora  \n",
              "150928     Champagne Blend                   Gosset  \n",
              "150929        Pinot Grigio            Alois Lageder  \n",
              "\n",
              "[150930 rows x 10 columns]"
            ]
          },
          "metadata": {
            "tags": []
          },
          "execution_count": 73
        }
      ]
    },
    {
      "cell_type": "markdown",
      "metadata": {
        "id": "lAsyt0Yfao5C"
      },
      "source": [
        "## Conditional selection\n",
        "\n",
        "So far we've been indexing various strides of data, using structural properties of the DataFrame itself. To do interesting things with the data, however, we often need to ask questions based on conditions.\n",
        "\n",
        "For example, suppose that we're interested specifically in better-than-average wines produced in Italy.\n",
        "\n",
        "We can start by checking if each wine is Italian or not:"
      ]
    },
    {
      "cell_type": "code",
      "metadata": {
        "id": "hXyRuFBfao5C",
        "outputId": "2aaca5a6-7534-43b0-95b6-29a48875d052"
      },
      "source": [
        "wine_reviews.head()"
      ],
      "execution_count": null,
      "outputs": [
        {
          "output_type": "execute_result",
          "data": {
            "text/html": [
              "<div>\n",
              "<style scoped>\n",
              "    .dataframe tbody tr th:only-of-type {\n",
              "        vertical-align: middle;\n",
              "    }\n",
              "\n",
              "    .dataframe tbody tr th {\n",
              "        vertical-align: top;\n",
              "    }\n",
              "\n",
              "    .dataframe thead th {\n",
              "        text-align: right;\n",
              "    }\n",
              "</style>\n",
              "<table border=\"1\" class=\"dataframe\">\n",
              "  <thead>\n",
              "    <tr style=\"text-align: right;\">\n",
              "      <th></th>\n",
              "      <th>country</th>\n",
              "      <th>description</th>\n",
              "      <th>designation</th>\n",
              "      <th>points</th>\n",
              "      <th>price</th>\n",
              "      <th>province</th>\n",
              "      <th>region_1</th>\n",
              "      <th>region_2</th>\n",
              "      <th>variety</th>\n",
              "      <th>winery</th>\n",
              "    </tr>\n",
              "  </thead>\n",
              "  <tbody>\n",
              "    <tr>\n",
              "      <th>0</th>\n",
              "      <td>US</td>\n",
              "      <td>This tremendous 100% varietal wine hails from ...</td>\n",
              "      <td>Martha's Vineyard</td>\n",
              "      <td>96</td>\n",
              "      <td>235.0</td>\n",
              "      <td>California</td>\n",
              "      <td>Napa Valley</td>\n",
              "      <td>Napa</td>\n",
              "      <td>Cabernet Sauvignon</td>\n",
              "      <td>Heitz</td>\n",
              "    </tr>\n",
              "    <tr>\n",
              "      <th>1</th>\n",
              "      <td>Spain</td>\n",
              "      <td>Ripe aromas of fig, blackberry and cassis are ...</td>\n",
              "      <td>Carodorum Selección Especial Reserva</td>\n",
              "      <td>96</td>\n",
              "      <td>110.0</td>\n",
              "      <td>Northern Spain</td>\n",
              "      <td>Toro</td>\n",
              "      <td>NaN</td>\n",
              "      <td>Tinta de Toro</td>\n",
              "      <td>Bodega Carmen Rodríguez</td>\n",
              "    </tr>\n",
              "    <tr>\n",
              "      <th>2</th>\n",
              "      <td>US</td>\n",
              "      <td>Mac Watson honors the memory of a wine once ma...</td>\n",
              "      <td>Special Selected Late Harvest</td>\n",
              "      <td>96</td>\n",
              "      <td>90.0</td>\n",
              "      <td>California</td>\n",
              "      <td>Knights Valley</td>\n",
              "      <td>Sonoma</td>\n",
              "      <td>Sauvignon Blanc</td>\n",
              "      <td>Macauley</td>\n",
              "    </tr>\n",
              "    <tr>\n",
              "      <th>3</th>\n",
              "      <td>US</td>\n",
              "      <td>This spent 20 months in 30% new French oak, an...</td>\n",
              "      <td>Reserve</td>\n",
              "      <td>96</td>\n",
              "      <td>65.0</td>\n",
              "      <td>Oregon</td>\n",
              "      <td>Willamette Valley</td>\n",
              "      <td>Willamette Valley</td>\n",
              "      <td>Pinot Noir</td>\n",
              "      <td>Ponzi</td>\n",
              "    </tr>\n",
              "    <tr>\n",
              "      <th>4</th>\n",
              "      <td>France</td>\n",
              "      <td>This is the top wine from La Bégude, named aft...</td>\n",
              "      <td>La Brûlade</td>\n",
              "      <td>95</td>\n",
              "      <td>66.0</td>\n",
              "      <td>Provence</td>\n",
              "      <td>Bandol</td>\n",
              "      <td>NaN</td>\n",
              "      <td>Provence red blend</td>\n",
              "      <td>Domaine de la Bégude</td>\n",
              "    </tr>\n",
              "  </tbody>\n",
              "</table>\n",
              "</div>"
            ],
            "text/plain": [
              "  country                                        description  \\\n",
              "0      US  This tremendous 100% varietal wine hails from ...   \n",
              "1   Spain  Ripe aromas of fig, blackberry and cassis are ...   \n",
              "2      US  Mac Watson honors the memory of a wine once ma...   \n",
              "3      US  This spent 20 months in 30% new French oak, an...   \n",
              "4  France  This is the top wine from La Bégude, named aft...   \n",
              "\n",
              "                            designation  points  price        province  \\\n",
              "0                     Martha's Vineyard      96  235.0      California   \n",
              "1  Carodorum Selección Especial Reserva      96  110.0  Northern Spain   \n",
              "2         Special Selected Late Harvest      96   90.0      California   \n",
              "3                               Reserve      96   65.0          Oregon   \n",
              "4                            La Brûlade      95   66.0        Provence   \n",
              "\n",
              "            region_1           region_2             variety  \\\n",
              "0        Napa Valley               Napa  Cabernet Sauvignon   \n",
              "1               Toro                NaN       Tinta de Toro   \n",
              "2     Knights Valley             Sonoma     Sauvignon Blanc   \n",
              "3  Willamette Valley  Willamette Valley          Pinot Noir   \n",
              "4             Bandol                NaN  Provence red blend   \n",
              "\n",
              "                    winery  \n",
              "0                    Heitz  \n",
              "1  Bodega Carmen Rodríguez  \n",
              "2                 Macauley  \n",
              "3                    Ponzi  \n",
              "4     Domaine de la Bégude  "
            ]
          },
          "metadata": {
            "tags": []
          },
          "execution_count": 76
        }
      ]
    },
    {
      "cell_type": "code",
      "metadata": {
        "id": "Wz7fpGH9ao5C",
        "outputId": "bbf39dac-e6eb-4f36-ccaf-050acaf4812c"
      },
      "source": [
        "wine_reviews.country =='Spain'"
      ],
      "execution_count": null,
      "outputs": [
        {
          "output_type": "execute_result",
          "data": {
            "text/plain": [
              "0         False\n",
              "1          True\n",
              "2         False\n",
              "3         False\n",
              "4         False\n",
              "          ...  \n",
              "150925    False\n",
              "150926    False\n",
              "150927    False\n",
              "150928    False\n",
              "150929    False\n",
              "Name: country, Length: 150930, dtype: bool"
            ]
          },
          "metadata": {
            "tags": []
          },
          "execution_count": 74
        }
      ]
    },
    {
      "cell_type": "markdown",
      "metadata": {
        "id": "SDQ7uhB9ao5C"
      },
      "source": [
        "This operation produced a Series of True/False booleans based on the country of each record. This result can then be used inside of loc to select the relevant data:"
      ]
    },
    {
      "cell_type": "code",
      "metadata": {
        "id": "cVH3L-xgao5D",
        "outputId": "93c7541b-4f33-43d7-b3d4-408b4381cfeb"
      },
      "source": [
        "wine_reviews.loc[wine_reviews.country == 'Italy']"
      ],
      "execution_count": null,
      "outputs": [
        {
          "output_type": "execute_result",
          "data": {
            "text/html": [
              "<div>\n",
              "<style scoped>\n",
              "    .dataframe tbody tr th:only-of-type {\n",
              "        vertical-align: middle;\n",
              "    }\n",
              "\n",
              "    .dataframe tbody tr th {\n",
              "        vertical-align: top;\n",
              "    }\n",
              "\n",
              "    .dataframe thead th {\n",
              "        text-align: right;\n",
              "    }\n",
              "</style>\n",
              "<table border=\"1\" class=\"dataframe\">\n",
              "  <thead>\n",
              "    <tr style=\"text-align: right;\">\n",
              "      <th></th>\n",
              "      <th>country</th>\n",
              "      <th>description</th>\n",
              "      <th>designation</th>\n",
              "      <th>points</th>\n",
              "      <th>price</th>\n",
              "      <th>province</th>\n",
              "      <th>region_1</th>\n",
              "      <th>region_2</th>\n",
              "      <th>variety</th>\n",
              "      <th>winery</th>\n",
              "    </tr>\n",
              "  </thead>\n",
              "  <tbody>\n",
              "    <tr>\n",
              "      <th>10</th>\n",
              "      <td>Italy</td>\n",
              "      <td>Elegance, complexity and structure come togeth...</td>\n",
              "      <td>Ronco della Chiesa</td>\n",
              "      <td>95</td>\n",
              "      <td>80.0</td>\n",
              "      <td>Northeastern Italy</td>\n",
              "      <td>Collio</td>\n",
              "      <td>NaN</td>\n",
              "      <td>Friulano</td>\n",
              "      <td>Borgo del Tiglio</td>\n",
              "    </tr>\n",
              "    <tr>\n",
              "      <th>32</th>\n",
              "      <td>Italy</td>\n",
              "      <td>Underbrush, scorched earth, menthol and plum s...</td>\n",
              "      <td>Vigna Piaggia</td>\n",
              "      <td>90</td>\n",
              "      <td>NaN</td>\n",
              "      <td>Tuscany</td>\n",
              "      <td>Brunello di Montalcino</td>\n",
              "      <td>NaN</td>\n",
              "      <td>Sangiovese</td>\n",
              "      <td>Abbadia Ardenga</td>\n",
              "    </tr>\n",
              "    <tr>\n",
              "      <th>35</th>\n",
              "      <td>Italy</td>\n",
              "      <td>Forest floor, tilled soil, mature berry and a ...</td>\n",
              "      <td>Riserva</td>\n",
              "      <td>90</td>\n",
              "      <td>135.0</td>\n",
              "      <td>Tuscany</td>\n",
              "      <td>Brunello di Montalcino</td>\n",
              "      <td>NaN</td>\n",
              "      <td>Sangiovese</td>\n",
              "      <td>Carillon</td>\n",
              "    </tr>\n",
              "    <tr>\n",
              "      <th>37</th>\n",
              "      <td>Italy</td>\n",
              "      <td>Aromas of forest floor, violet, red berry and ...</td>\n",
              "      <td>NaN</td>\n",
              "      <td>90</td>\n",
              "      <td>29.0</td>\n",
              "      <td>Tuscany</td>\n",
              "      <td>Vino Nobile di Montepulciano</td>\n",
              "      <td>NaN</td>\n",
              "      <td>Sangiovese</td>\n",
              "      <td>Avignonesi</td>\n",
              "    </tr>\n",
              "    <tr>\n",
              "      <th>38</th>\n",
              "      <td>Italy</td>\n",
              "      <td>This has a charming nose that boasts rose, vio...</td>\n",
              "      <td>NaN</td>\n",
              "      <td>90</td>\n",
              "      <td>23.0</td>\n",
              "      <td>Tuscany</td>\n",
              "      <td>Chianti Classico</td>\n",
              "      <td>NaN</td>\n",
              "      <td>Sangiovese</td>\n",
              "      <td>Casina di Cornia</td>\n",
              "    </tr>\n",
              "    <tr>\n",
              "      <th>...</th>\n",
              "      <td>...</td>\n",
              "      <td>...</td>\n",
              "      <td>...</td>\n",
              "      <td>...</td>\n",
              "      <td>...</td>\n",
              "      <td>...</td>\n",
              "      <td>...</td>\n",
              "      <td>...</td>\n",
              "      <td>...</td>\n",
              "      <td>...</td>\n",
              "    </tr>\n",
              "    <tr>\n",
              "      <th>150920</th>\n",
              "      <td>Italy</td>\n",
              "      <td>Rich and mature aromas of smoke, earth and her...</td>\n",
              "      <td>Brut Riserva</td>\n",
              "      <td>91</td>\n",
              "      <td>19.0</td>\n",
              "      <td>Northeastern Italy</td>\n",
              "      <td>Trento</td>\n",
              "      <td>NaN</td>\n",
              "      <td>Champagne Blend</td>\n",
              "      <td>Letrari</td>\n",
              "    </tr>\n",
              "    <tr>\n",
              "      <th>150922</th>\n",
              "      <td>Italy</td>\n",
              "      <td>Made by 30-ish Roberta Borghese high above Man...</td>\n",
              "      <td>Superiore</td>\n",
              "      <td>91</td>\n",
              "      <td>NaN</td>\n",
              "      <td>Northeastern Italy</td>\n",
              "      <td>Colli Orientali del Friuli</td>\n",
              "      <td>NaN</td>\n",
              "      <td>Tocai</td>\n",
              "      <td>Ronchi di Manzano</td>\n",
              "    </tr>\n",
              "    <tr>\n",
              "      <th>150925</th>\n",
              "      <td>Italy</td>\n",
              "      <td>Many people feel Fiano represents southern Ita...</td>\n",
              "      <td>NaN</td>\n",
              "      <td>91</td>\n",
              "      <td>20.0</td>\n",
              "      <td>Southern Italy</td>\n",
              "      <td>Fiano di Avellino</td>\n",
              "      <td>NaN</td>\n",
              "      <td>White Blend</td>\n",
              "      <td>Feudi di San Gregorio</td>\n",
              "    </tr>\n",
              "    <tr>\n",
              "      <th>150927</th>\n",
              "      <td>Italy</td>\n",
              "      <td>This classic example comes from a cru vineyard...</td>\n",
              "      <td>Terre di Dora</td>\n",
              "      <td>91</td>\n",
              "      <td>20.0</td>\n",
              "      <td>Southern Italy</td>\n",
              "      <td>Fiano di Avellino</td>\n",
              "      <td>NaN</td>\n",
              "      <td>White Blend</td>\n",
              "      <td>Terredora</td>\n",
              "    </tr>\n",
              "    <tr>\n",
              "      <th>150929</th>\n",
              "      <td>Italy</td>\n",
              "      <td>More Pinot Grigios should taste like this. A r...</td>\n",
              "      <td>NaN</td>\n",
              "      <td>90</td>\n",
              "      <td>15.0</td>\n",
              "      <td>Northeastern Italy</td>\n",
              "      <td>Alto Adige</td>\n",
              "      <td>NaN</td>\n",
              "      <td>Pinot Grigio</td>\n",
              "      <td>Alois Lageder</td>\n",
              "    </tr>\n",
              "  </tbody>\n",
              "</table>\n",
              "<p>23478 rows × 10 columns</p>\n",
              "</div>"
            ],
            "text/plain": [
              "       country                                        description  \\\n",
              "10       Italy  Elegance, complexity and structure come togeth...   \n",
              "32       Italy  Underbrush, scorched earth, menthol and plum s...   \n",
              "35       Italy  Forest floor, tilled soil, mature berry and a ...   \n",
              "37       Italy  Aromas of forest floor, violet, red berry and ...   \n",
              "38       Italy  This has a charming nose that boasts rose, vio...   \n",
              "...        ...                                                ...   \n",
              "150920   Italy  Rich and mature aromas of smoke, earth and her...   \n",
              "150922   Italy  Made by 30-ish Roberta Borghese high above Man...   \n",
              "150925   Italy  Many people feel Fiano represents southern Ita...   \n",
              "150927   Italy  This classic example comes from a cru vineyard...   \n",
              "150929   Italy  More Pinot Grigios should taste like this. A r...   \n",
              "\n",
              "               designation  points  price            province  \\\n",
              "10      Ronco della Chiesa      95   80.0  Northeastern Italy   \n",
              "32           Vigna Piaggia      90    NaN             Tuscany   \n",
              "35                 Riserva      90  135.0             Tuscany   \n",
              "37                     NaN      90   29.0             Tuscany   \n",
              "38                     NaN      90   23.0             Tuscany   \n",
              "...                    ...     ...    ...                 ...   \n",
              "150920        Brut Riserva      91   19.0  Northeastern Italy   \n",
              "150922           Superiore      91    NaN  Northeastern Italy   \n",
              "150925                 NaN      91   20.0      Southern Italy   \n",
              "150927       Terre di Dora      91   20.0      Southern Italy   \n",
              "150929                 NaN      90   15.0  Northeastern Italy   \n",
              "\n",
              "                            region_1 region_2          variety  \\\n",
              "10                            Collio      NaN         Friulano   \n",
              "32            Brunello di Montalcino      NaN       Sangiovese   \n",
              "35            Brunello di Montalcino      NaN       Sangiovese   \n",
              "37      Vino Nobile di Montepulciano      NaN       Sangiovese   \n",
              "38                  Chianti Classico      NaN       Sangiovese   \n",
              "...                              ...      ...              ...   \n",
              "150920                        Trento      NaN  Champagne Blend   \n",
              "150922    Colli Orientali del Friuli      NaN            Tocai   \n",
              "150925             Fiano di Avellino      NaN      White Blend   \n",
              "150927             Fiano di Avellino      NaN      White Blend   \n",
              "150929                    Alto Adige      NaN     Pinot Grigio   \n",
              "\n",
              "                       winery  \n",
              "10           Borgo del Tiglio  \n",
              "32            Abbadia Ardenga  \n",
              "35                   Carillon  \n",
              "37                 Avignonesi  \n",
              "38           Casina di Cornia  \n",
              "...                       ...  \n",
              "150920                Letrari  \n",
              "150922      Ronchi di Manzano  \n",
              "150925  Feudi di San Gregorio  \n",
              "150927              Terredora  \n",
              "150929          Alois Lageder  \n",
              "\n",
              "[23478 rows x 10 columns]"
            ]
          },
          "metadata": {
            "tags": []
          },
          "execution_count": 64
        }
      ]
    },
    {
      "cell_type": "markdown",
      "metadata": {
        "id": "BMMdg_FKao5D"
      },
      "source": [
        "This DataFrame has ~20,000 rows. The original had ~150,000. That means that around 13% of wines originate from Italy.\n",
        "\n",
        "We also wanted to know which ones are better than average. Wines are reviewed on a 80-to-100 point scale, so this could mean wines that accrued at least 90 points.\n",
        "\n",
        "We can use the ampersand (&) to bring the two questions together:\n"
      ]
    },
    {
      "cell_type": "code",
      "metadata": {
        "id": "L2aX565Uao5D",
        "outputId": "7e3c97a7-1238-4f55-af62-d6854c71a098"
      },
      "source": [
        "wine_reviews.loc[(wine_reviews.country == 'Italy') & (wine_reviews.points >= 90)]"
      ],
      "execution_count": null,
      "outputs": [
        {
          "output_type": "execute_result",
          "data": {
            "text/html": [
              "<div>\n",
              "<style scoped>\n",
              "    .dataframe tbody tr th:only-of-type {\n",
              "        vertical-align: middle;\n",
              "    }\n",
              "\n",
              "    .dataframe tbody tr th {\n",
              "        vertical-align: top;\n",
              "    }\n",
              "\n",
              "    .dataframe thead th {\n",
              "        text-align: right;\n",
              "    }\n",
              "</style>\n",
              "<table border=\"1\" class=\"dataframe\">\n",
              "  <thead>\n",
              "    <tr style=\"text-align: right;\">\n",
              "      <th></th>\n",
              "      <th>country</th>\n",
              "      <th>description</th>\n",
              "      <th>designation</th>\n",
              "      <th>points</th>\n",
              "      <th>price</th>\n",
              "      <th>province</th>\n",
              "      <th>region_1</th>\n",
              "      <th>region_2</th>\n",
              "      <th>variety</th>\n",
              "      <th>winery</th>\n",
              "    </tr>\n",
              "  </thead>\n",
              "  <tbody>\n",
              "    <tr>\n",
              "      <th>10</th>\n",
              "      <td>Italy</td>\n",
              "      <td>Elegance, complexity and structure come togeth...</td>\n",
              "      <td>Ronco della Chiesa</td>\n",
              "      <td>95</td>\n",
              "      <td>80.0</td>\n",
              "      <td>Northeastern Italy</td>\n",
              "      <td>Collio</td>\n",
              "      <td>NaN</td>\n",
              "      <td>Friulano</td>\n",
              "      <td>Borgo del Tiglio</td>\n",
              "    </tr>\n",
              "    <tr>\n",
              "      <th>32</th>\n",
              "      <td>Italy</td>\n",
              "      <td>Underbrush, scorched earth, menthol and plum s...</td>\n",
              "      <td>Vigna Piaggia</td>\n",
              "      <td>90</td>\n",
              "      <td>NaN</td>\n",
              "      <td>Tuscany</td>\n",
              "      <td>Brunello di Montalcino</td>\n",
              "      <td>NaN</td>\n",
              "      <td>Sangiovese</td>\n",
              "      <td>Abbadia Ardenga</td>\n",
              "    </tr>\n",
              "    <tr>\n",
              "      <th>35</th>\n",
              "      <td>Italy</td>\n",
              "      <td>Forest floor, tilled soil, mature berry and a ...</td>\n",
              "      <td>Riserva</td>\n",
              "      <td>90</td>\n",
              "      <td>135.0</td>\n",
              "      <td>Tuscany</td>\n",
              "      <td>Brunello di Montalcino</td>\n",
              "      <td>NaN</td>\n",
              "      <td>Sangiovese</td>\n",
              "      <td>Carillon</td>\n",
              "    </tr>\n",
              "    <tr>\n",
              "      <th>37</th>\n",
              "      <td>Italy</td>\n",
              "      <td>Aromas of forest floor, violet, red berry and ...</td>\n",
              "      <td>NaN</td>\n",
              "      <td>90</td>\n",
              "      <td>29.0</td>\n",
              "      <td>Tuscany</td>\n",
              "      <td>Vino Nobile di Montepulciano</td>\n",
              "      <td>NaN</td>\n",
              "      <td>Sangiovese</td>\n",
              "      <td>Avignonesi</td>\n",
              "    </tr>\n",
              "    <tr>\n",
              "      <th>38</th>\n",
              "      <td>Italy</td>\n",
              "      <td>This has a charming nose that boasts rose, vio...</td>\n",
              "      <td>NaN</td>\n",
              "      <td>90</td>\n",
              "      <td>23.0</td>\n",
              "      <td>Tuscany</td>\n",
              "      <td>Chianti Classico</td>\n",
              "      <td>NaN</td>\n",
              "      <td>Sangiovese</td>\n",
              "      <td>Casina di Cornia</td>\n",
              "    </tr>\n",
              "    <tr>\n",
              "      <th>...</th>\n",
              "      <td>...</td>\n",
              "      <td>...</td>\n",
              "      <td>...</td>\n",
              "      <td>...</td>\n",
              "      <td>...</td>\n",
              "      <td>...</td>\n",
              "      <td>...</td>\n",
              "      <td>...</td>\n",
              "      <td>...</td>\n",
              "      <td>...</td>\n",
              "    </tr>\n",
              "    <tr>\n",
              "      <th>150920</th>\n",
              "      <td>Italy</td>\n",
              "      <td>Rich and mature aromas of smoke, earth and her...</td>\n",
              "      <td>Brut Riserva</td>\n",
              "      <td>91</td>\n",
              "      <td>19.0</td>\n",
              "      <td>Northeastern Italy</td>\n",
              "      <td>Trento</td>\n",
              "      <td>NaN</td>\n",
              "      <td>Champagne Blend</td>\n",
              "      <td>Letrari</td>\n",
              "    </tr>\n",
              "    <tr>\n",
              "      <th>150922</th>\n",
              "      <td>Italy</td>\n",
              "      <td>Made by 30-ish Roberta Borghese high above Man...</td>\n",
              "      <td>Superiore</td>\n",
              "      <td>91</td>\n",
              "      <td>NaN</td>\n",
              "      <td>Northeastern Italy</td>\n",
              "      <td>Colli Orientali del Friuli</td>\n",
              "      <td>NaN</td>\n",
              "      <td>Tocai</td>\n",
              "      <td>Ronchi di Manzano</td>\n",
              "    </tr>\n",
              "    <tr>\n",
              "      <th>150925</th>\n",
              "      <td>Italy</td>\n",
              "      <td>Many people feel Fiano represents southern Ita...</td>\n",
              "      <td>NaN</td>\n",
              "      <td>91</td>\n",
              "      <td>20.0</td>\n",
              "      <td>Southern Italy</td>\n",
              "      <td>Fiano di Avellino</td>\n",
              "      <td>NaN</td>\n",
              "      <td>White Blend</td>\n",
              "      <td>Feudi di San Gregorio</td>\n",
              "    </tr>\n",
              "    <tr>\n",
              "      <th>150927</th>\n",
              "      <td>Italy</td>\n",
              "      <td>This classic example comes from a cru vineyard...</td>\n",
              "      <td>Terre di Dora</td>\n",
              "      <td>91</td>\n",
              "      <td>20.0</td>\n",
              "      <td>Southern Italy</td>\n",
              "      <td>Fiano di Avellino</td>\n",
              "      <td>NaN</td>\n",
              "      <td>White Blend</td>\n",
              "      <td>Terredora</td>\n",
              "    </tr>\n",
              "    <tr>\n",
              "      <th>150929</th>\n",
              "      <td>Italy</td>\n",
              "      <td>More Pinot Grigios should taste like this. A r...</td>\n",
              "      <td>NaN</td>\n",
              "      <td>90</td>\n",
              "      <td>15.0</td>\n",
              "      <td>Northeastern Italy</td>\n",
              "      <td>Alto Adige</td>\n",
              "      <td>NaN</td>\n",
              "      <td>Pinot Grigio</td>\n",
              "      <td>Alois Lageder</td>\n",
              "    </tr>\n",
              "  </tbody>\n",
              "</table>\n",
              "<p>7945 rows × 10 columns</p>\n",
              "</div>"
            ],
            "text/plain": [
              "       country                                        description  \\\n",
              "10       Italy  Elegance, complexity and structure come togeth...   \n",
              "32       Italy  Underbrush, scorched earth, menthol and plum s...   \n",
              "35       Italy  Forest floor, tilled soil, mature berry and a ...   \n",
              "37       Italy  Aromas of forest floor, violet, red berry and ...   \n",
              "38       Italy  This has a charming nose that boasts rose, vio...   \n",
              "...        ...                                                ...   \n",
              "150920   Italy  Rich and mature aromas of smoke, earth and her...   \n",
              "150922   Italy  Made by 30-ish Roberta Borghese high above Man...   \n",
              "150925   Italy  Many people feel Fiano represents southern Ita...   \n",
              "150927   Italy  This classic example comes from a cru vineyard...   \n",
              "150929   Italy  More Pinot Grigios should taste like this. A r...   \n",
              "\n",
              "               designation  points  price            province  \\\n",
              "10      Ronco della Chiesa      95   80.0  Northeastern Italy   \n",
              "32           Vigna Piaggia      90    NaN             Tuscany   \n",
              "35                 Riserva      90  135.0             Tuscany   \n",
              "37                     NaN      90   29.0             Tuscany   \n",
              "38                     NaN      90   23.0             Tuscany   \n",
              "...                    ...     ...    ...                 ...   \n",
              "150920        Brut Riserva      91   19.0  Northeastern Italy   \n",
              "150922           Superiore      91    NaN  Northeastern Italy   \n",
              "150925                 NaN      91   20.0      Southern Italy   \n",
              "150927       Terre di Dora      91   20.0      Southern Italy   \n",
              "150929                 NaN      90   15.0  Northeastern Italy   \n",
              "\n",
              "                            region_1 region_2          variety  \\\n",
              "10                            Collio      NaN         Friulano   \n",
              "32            Brunello di Montalcino      NaN       Sangiovese   \n",
              "35            Brunello di Montalcino      NaN       Sangiovese   \n",
              "37      Vino Nobile di Montepulciano      NaN       Sangiovese   \n",
              "38                  Chianti Classico      NaN       Sangiovese   \n",
              "...                              ...      ...              ...   \n",
              "150920                        Trento      NaN  Champagne Blend   \n",
              "150922    Colli Orientali del Friuli      NaN            Tocai   \n",
              "150925             Fiano di Avellino      NaN      White Blend   \n",
              "150927             Fiano di Avellino      NaN      White Blend   \n",
              "150929                    Alto Adige      NaN     Pinot Grigio   \n",
              "\n",
              "                       winery  \n",
              "10           Borgo del Tiglio  \n",
              "32            Abbadia Ardenga  \n",
              "35                   Carillon  \n",
              "37                 Avignonesi  \n",
              "38           Casina di Cornia  \n",
              "...                       ...  \n",
              "150920                Letrari  \n",
              "150922      Ronchi di Manzano  \n",
              "150925  Feudi di San Gregorio  \n",
              "150927              Terredora  \n",
              "150929          Alois Lageder  \n",
              "\n",
              "[7945 rows x 10 columns]"
            ]
          },
          "metadata": {
            "tags": []
          },
          "execution_count": 77
        }
      ]
    },
    {
      "cell_type": "markdown",
      "metadata": {
        "id": "yRW21_aIao5D"
      },
      "source": [
        "Suppose we'll buy any wine that's made in Italy or which is rated above average. For this we use a pipe (|):"
      ]
    },
    {
      "cell_type": "code",
      "metadata": {
        "id": "eNHGvE9Rao5D",
        "outputId": "4b3e8f22-a1f3-4659-c3d7-26e7d5a80ee2"
      },
      "source": [
        "wine_reviews.loc[(wine_reviews.country == 'Italy') | (wine_reviews.points >= 90)]"
      ],
      "execution_count": null,
      "outputs": [
        {
          "output_type": "execute_result",
          "data": {
            "text/html": [
              "<div>\n",
              "<style scoped>\n",
              "    .dataframe tbody tr th:only-of-type {\n",
              "        vertical-align: middle;\n",
              "    }\n",
              "\n",
              "    .dataframe tbody tr th {\n",
              "        vertical-align: top;\n",
              "    }\n",
              "\n",
              "    .dataframe thead th {\n",
              "        text-align: right;\n",
              "    }\n",
              "</style>\n",
              "<table border=\"1\" class=\"dataframe\">\n",
              "  <thead>\n",
              "    <tr style=\"text-align: right;\">\n",
              "      <th></th>\n",
              "      <th>country</th>\n",
              "      <th>description</th>\n",
              "      <th>designation</th>\n",
              "      <th>points</th>\n",
              "      <th>price</th>\n",
              "      <th>province</th>\n",
              "      <th>region_1</th>\n",
              "      <th>region_2</th>\n",
              "      <th>variety</th>\n",
              "      <th>winery</th>\n",
              "    </tr>\n",
              "  </thead>\n",
              "  <tbody>\n",
              "    <tr>\n",
              "      <th>0</th>\n",
              "      <td>US</td>\n",
              "      <td>This tremendous 100% varietal wine hails from ...</td>\n",
              "      <td>Martha's Vineyard</td>\n",
              "      <td>96</td>\n",
              "      <td>235.0</td>\n",
              "      <td>California</td>\n",
              "      <td>Napa Valley</td>\n",
              "      <td>Napa</td>\n",
              "      <td>Cabernet Sauvignon</td>\n",
              "      <td>Heitz</td>\n",
              "    </tr>\n",
              "    <tr>\n",
              "      <th>1</th>\n",
              "      <td>Spain</td>\n",
              "      <td>Ripe aromas of fig, blackberry and cassis are ...</td>\n",
              "      <td>Carodorum Selección Especial Reserva</td>\n",
              "      <td>96</td>\n",
              "      <td>110.0</td>\n",
              "      <td>Northern Spain</td>\n",
              "      <td>Toro</td>\n",
              "      <td>NaN</td>\n",
              "      <td>Tinta de Toro</td>\n",
              "      <td>Bodega Carmen Rodríguez</td>\n",
              "    </tr>\n",
              "    <tr>\n",
              "      <th>2</th>\n",
              "      <td>US</td>\n",
              "      <td>Mac Watson honors the memory of a wine once ma...</td>\n",
              "      <td>Special Selected Late Harvest</td>\n",
              "      <td>96</td>\n",
              "      <td>90.0</td>\n",
              "      <td>California</td>\n",
              "      <td>Knights Valley</td>\n",
              "      <td>Sonoma</td>\n",
              "      <td>Sauvignon Blanc</td>\n",
              "      <td>Macauley</td>\n",
              "    </tr>\n",
              "    <tr>\n",
              "      <th>3</th>\n",
              "      <td>US</td>\n",
              "      <td>This spent 20 months in 30% new French oak, an...</td>\n",
              "      <td>Reserve</td>\n",
              "      <td>96</td>\n",
              "      <td>65.0</td>\n",
              "      <td>Oregon</td>\n",
              "      <td>Willamette Valley</td>\n",
              "      <td>Willamette Valley</td>\n",
              "      <td>Pinot Noir</td>\n",
              "      <td>Ponzi</td>\n",
              "    </tr>\n",
              "    <tr>\n",
              "      <th>4</th>\n",
              "      <td>France</td>\n",
              "      <td>This is the top wine from La Bégude, named aft...</td>\n",
              "      <td>La Brûlade</td>\n",
              "      <td>95</td>\n",
              "      <td>66.0</td>\n",
              "      <td>Provence</td>\n",
              "      <td>Bandol</td>\n",
              "      <td>NaN</td>\n",
              "      <td>Provence red blend</td>\n",
              "      <td>Domaine de la Bégude</td>\n",
              "    </tr>\n",
              "    <tr>\n",
              "      <th>...</th>\n",
              "      <td>...</td>\n",
              "      <td>...</td>\n",
              "      <td>...</td>\n",
              "      <td>...</td>\n",
              "      <td>...</td>\n",
              "      <td>...</td>\n",
              "      <td>...</td>\n",
              "      <td>...</td>\n",
              "      <td>...</td>\n",
              "      <td>...</td>\n",
              "    </tr>\n",
              "    <tr>\n",
              "      <th>150925</th>\n",
              "      <td>Italy</td>\n",
              "      <td>Many people feel Fiano represents southern Ita...</td>\n",
              "      <td>NaN</td>\n",
              "      <td>91</td>\n",
              "      <td>20.0</td>\n",
              "      <td>Southern Italy</td>\n",
              "      <td>Fiano di Avellino</td>\n",
              "      <td>NaN</td>\n",
              "      <td>White Blend</td>\n",
              "      <td>Feudi di San Gregorio</td>\n",
              "    </tr>\n",
              "    <tr>\n",
              "      <th>150926</th>\n",
              "      <td>France</td>\n",
              "      <td>Offers an intriguing nose with ginger, lime an...</td>\n",
              "      <td>Cuvée Prestige</td>\n",
              "      <td>91</td>\n",
              "      <td>27.0</td>\n",
              "      <td>Champagne</td>\n",
              "      <td>Champagne</td>\n",
              "      <td>NaN</td>\n",
              "      <td>Champagne Blend</td>\n",
              "      <td>H.Germain</td>\n",
              "    </tr>\n",
              "    <tr>\n",
              "      <th>150927</th>\n",
              "      <td>Italy</td>\n",
              "      <td>This classic example comes from a cru vineyard...</td>\n",
              "      <td>Terre di Dora</td>\n",
              "      <td>91</td>\n",
              "      <td>20.0</td>\n",
              "      <td>Southern Italy</td>\n",
              "      <td>Fiano di Avellino</td>\n",
              "      <td>NaN</td>\n",
              "      <td>White Blend</td>\n",
              "      <td>Terredora</td>\n",
              "    </tr>\n",
              "    <tr>\n",
              "      <th>150928</th>\n",
              "      <td>France</td>\n",
              "      <td>A perfect salmon shade, with scents of peaches...</td>\n",
              "      <td>Grand Brut Rosé</td>\n",
              "      <td>90</td>\n",
              "      <td>52.0</td>\n",
              "      <td>Champagne</td>\n",
              "      <td>Champagne</td>\n",
              "      <td>NaN</td>\n",
              "      <td>Champagne Blend</td>\n",
              "      <td>Gosset</td>\n",
              "    </tr>\n",
              "    <tr>\n",
              "      <th>150929</th>\n",
              "      <td>Italy</td>\n",
              "      <td>More Pinot Grigios should taste like this. A r...</td>\n",
              "      <td>NaN</td>\n",
              "      <td>90</td>\n",
              "      <td>15.0</td>\n",
              "      <td>Northeastern Italy</td>\n",
              "      <td>Alto Adige</td>\n",
              "      <td>NaN</td>\n",
              "      <td>Pinot Grigio</td>\n",
              "      <td>Alois Lageder</td>\n",
              "    </tr>\n",
              "  </tbody>\n",
              "</table>\n",
              "<p>63743 rows × 10 columns</p>\n",
              "</div>"
            ],
            "text/plain": [
              "       country                                        description  \\\n",
              "0           US  This tremendous 100% varietal wine hails from ...   \n",
              "1        Spain  Ripe aromas of fig, blackberry and cassis are ...   \n",
              "2           US  Mac Watson honors the memory of a wine once ma...   \n",
              "3           US  This spent 20 months in 30% new French oak, an...   \n",
              "4       France  This is the top wine from La Bégude, named aft...   \n",
              "...        ...                                                ...   \n",
              "150925   Italy  Many people feel Fiano represents southern Ita...   \n",
              "150926  France  Offers an intriguing nose with ginger, lime an...   \n",
              "150927   Italy  This classic example comes from a cru vineyard...   \n",
              "150928  France  A perfect salmon shade, with scents of peaches...   \n",
              "150929   Italy  More Pinot Grigios should taste like this. A r...   \n",
              "\n",
              "                                 designation  points  price  \\\n",
              "0                          Martha's Vineyard      96  235.0   \n",
              "1       Carodorum Selección Especial Reserva      96  110.0   \n",
              "2              Special Selected Late Harvest      96   90.0   \n",
              "3                                    Reserve      96   65.0   \n",
              "4                                 La Brûlade      95   66.0   \n",
              "...                                      ...     ...    ...   \n",
              "150925                                   NaN      91   20.0   \n",
              "150926                        Cuvée Prestige      91   27.0   \n",
              "150927                         Terre di Dora      91   20.0   \n",
              "150928                       Grand Brut Rosé      90   52.0   \n",
              "150929                                   NaN      90   15.0   \n",
              "\n",
              "                  province           region_1           region_2  \\\n",
              "0               California        Napa Valley               Napa   \n",
              "1           Northern Spain               Toro                NaN   \n",
              "2               California     Knights Valley             Sonoma   \n",
              "3                   Oregon  Willamette Valley  Willamette Valley   \n",
              "4                 Provence             Bandol                NaN   \n",
              "...                    ...                ...                ...   \n",
              "150925      Southern Italy  Fiano di Avellino                NaN   \n",
              "150926           Champagne          Champagne                NaN   \n",
              "150927      Southern Italy  Fiano di Avellino                NaN   \n",
              "150928           Champagne          Champagne                NaN   \n",
              "150929  Northeastern Italy         Alto Adige                NaN   \n",
              "\n",
              "                   variety                   winery  \n",
              "0       Cabernet Sauvignon                    Heitz  \n",
              "1            Tinta de Toro  Bodega Carmen Rodríguez  \n",
              "2          Sauvignon Blanc                 Macauley  \n",
              "3               Pinot Noir                    Ponzi  \n",
              "4       Provence red blend     Domaine de la Bégude  \n",
              "...                    ...                      ...  \n",
              "150925         White Blend    Feudi di San Gregorio  \n",
              "150926     Champagne Blend                H.Germain  \n",
              "150927         White Blend                Terredora  \n",
              "150928     Champagne Blend                   Gosset  \n",
              "150929        Pinot Grigio            Alois Lageder  \n",
              "\n",
              "[63743 rows x 10 columns]"
            ]
          },
          "metadata": {
            "tags": []
          },
          "execution_count": 78
        }
      ]
    },
    {
      "cell_type": "markdown",
      "metadata": {
        "id": "a6fokm10ao5E"
      },
      "source": [
        "Pandas comes with a few built-in conditional selectors, two of which we will highlight here.\n",
        "\n",
        "The first is isin. isin is lets you select data whose value \"is in\" a list of values. For example, here's how we can use it to select wines only from Italy or France:\n"
      ]
    },
    {
      "cell_type": "code",
      "metadata": {
        "id": "7VgGRZG2ao5E",
        "outputId": "3a4a9ab7-b69b-41f1-93a5-1d22bf89aa8a"
      },
      "source": [
        "wine_reviews.loc[wine_reviews.country.isin(['Italy', 'France'])]"
      ],
      "execution_count": null,
      "outputs": [
        {
          "output_type": "execute_result",
          "data": {
            "text/html": [
              "<div>\n",
              "<style scoped>\n",
              "    .dataframe tbody tr th:only-of-type {\n",
              "        vertical-align: middle;\n",
              "    }\n",
              "\n",
              "    .dataframe tbody tr th {\n",
              "        vertical-align: top;\n",
              "    }\n",
              "\n",
              "    .dataframe thead th {\n",
              "        text-align: right;\n",
              "    }\n",
              "</style>\n",
              "<table border=\"1\" class=\"dataframe\">\n",
              "  <thead>\n",
              "    <tr style=\"text-align: right;\">\n",
              "      <th></th>\n",
              "      <th>country</th>\n",
              "      <th>description</th>\n",
              "      <th>designation</th>\n",
              "      <th>points</th>\n",
              "      <th>price</th>\n",
              "      <th>province</th>\n",
              "      <th>region_1</th>\n",
              "      <th>region_2</th>\n",
              "      <th>variety</th>\n",
              "      <th>winery</th>\n",
              "    </tr>\n",
              "  </thead>\n",
              "  <tbody>\n",
              "    <tr>\n",
              "      <th>4</th>\n",
              "      <td>France</td>\n",
              "      <td>This is the top wine from La Bégude, named aft...</td>\n",
              "      <td>La Brûlade</td>\n",
              "      <td>95</td>\n",
              "      <td>66.0</td>\n",
              "      <td>Provence</td>\n",
              "      <td>Bandol</td>\n",
              "      <td>NaN</td>\n",
              "      <td>Provence red blend</td>\n",
              "      <td>Domaine de la Bégude</td>\n",
              "    </tr>\n",
              "    <tr>\n",
              "      <th>10</th>\n",
              "      <td>Italy</td>\n",
              "      <td>Elegance, complexity and structure come togeth...</td>\n",
              "      <td>Ronco della Chiesa</td>\n",
              "      <td>95</td>\n",
              "      <td>80.0</td>\n",
              "      <td>Northeastern Italy</td>\n",
              "      <td>Collio</td>\n",
              "      <td>NaN</td>\n",
              "      <td>Friulano</td>\n",
              "      <td>Borgo del Tiglio</td>\n",
              "    </tr>\n",
              "    <tr>\n",
              "      <th>13</th>\n",
              "      <td>France</td>\n",
              "      <td>This wine is in peak condition. The tannins an...</td>\n",
              "      <td>Château Montus Prestige</td>\n",
              "      <td>95</td>\n",
              "      <td>90.0</td>\n",
              "      <td>Southwest France</td>\n",
              "      <td>Madiran</td>\n",
              "      <td>NaN</td>\n",
              "      <td>Tannat</td>\n",
              "      <td>Vignobles Brumont</td>\n",
              "    </tr>\n",
              "    <tr>\n",
              "      <th>18</th>\n",
              "      <td>France</td>\n",
              "      <td>Coming from a seven-acre vineyard named after ...</td>\n",
              "      <td>Le Pigeonnier</td>\n",
              "      <td>95</td>\n",
              "      <td>290.0</td>\n",
              "      <td>Southwest France</td>\n",
              "      <td>Cahors</td>\n",
              "      <td>NaN</td>\n",
              "      <td>Malbec</td>\n",
              "      <td>Château Lagrézette</td>\n",
              "    </tr>\n",
              "    <tr>\n",
              "      <th>32</th>\n",
              "      <td>Italy</td>\n",
              "      <td>Underbrush, scorched earth, menthol and plum s...</td>\n",
              "      <td>Vigna Piaggia</td>\n",
              "      <td>90</td>\n",
              "      <td>NaN</td>\n",
              "      <td>Tuscany</td>\n",
              "      <td>Brunello di Montalcino</td>\n",
              "      <td>NaN</td>\n",
              "      <td>Sangiovese</td>\n",
              "      <td>Abbadia Ardenga</td>\n",
              "    </tr>\n",
              "    <tr>\n",
              "      <th>...</th>\n",
              "      <td>...</td>\n",
              "      <td>...</td>\n",
              "      <td>...</td>\n",
              "      <td>...</td>\n",
              "      <td>...</td>\n",
              "      <td>...</td>\n",
              "      <td>...</td>\n",
              "      <td>...</td>\n",
              "      <td>...</td>\n",
              "      <td>...</td>\n",
              "    </tr>\n",
              "    <tr>\n",
              "      <th>150925</th>\n",
              "      <td>Italy</td>\n",
              "      <td>Many people feel Fiano represents southern Ita...</td>\n",
              "      <td>NaN</td>\n",
              "      <td>91</td>\n",
              "      <td>20.0</td>\n",
              "      <td>Southern Italy</td>\n",
              "      <td>Fiano di Avellino</td>\n",
              "      <td>NaN</td>\n",
              "      <td>White Blend</td>\n",
              "      <td>Feudi di San Gregorio</td>\n",
              "    </tr>\n",
              "    <tr>\n",
              "      <th>150926</th>\n",
              "      <td>France</td>\n",
              "      <td>Offers an intriguing nose with ginger, lime an...</td>\n",
              "      <td>Cuvée Prestige</td>\n",
              "      <td>91</td>\n",
              "      <td>27.0</td>\n",
              "      <td>Champagne</td>\n",
              "      <td>Champagne</td>\n",
              "      <td>NaN</td>\n",
              "      <td>Champagne Blend</td>\n",
              "      <td>H.Germain</td>\n",
              "    </tr>\n",
              "    <tr>\n",
              "      <th>150927</th>\n",
              "      <td>Italy</td>\n",
              "      <td>This classic example comes from a cru vineyard...</td>\n",
              "      <td>Terre di Dora</td>\n",
              "      <td>91</td>\n",
              "      <td>20.0</td>\n",
              "      <td>Southern Italy</td>\n",
              "      <td>Fiano di Avellino</td>\n",
              "      <td>NaN</td>\n",
              "      <td>White Blend</td>\n",
              "      <td>Terredora</td>\n",
              "    </tr>\n",
              "    <tr>\n",
              "      <th>150928</th>\n",
              "      <td>France</td>\n",
              "      <td>A perfect salmon shade, with scents of peaches...</td>\n",
              "      <td>Grand Brut Rosé</td>\n",
              "      <td>90</td>\n",
              "      <td>52.0</td>\n",
              "      <td>Champagne</td>\n",
              "      <td>Champagne</td>\n",
              "      <td>NaN</td>\n",
              "      <td>Champagne Blend</td>\n",
              "      <td>Gosset</td>\n",
              "    </tr>\n",
              "    <tr>\n",
              "      <th>150929</th>\n",
              "      <td>Italy</td>\n",
              "      <td>More Pinot Grigios should taste like this. A r...</td>\n",
              "      <td>NaN</td>\n",
              "      <td>90</td>\n",
              "      <td>15.0</td>\n",
              "      <td>Northeastern Italy</td>\n",
              "      <td>Alto Adige</td>\n",
              "      <td>NaN</td>\n",
              "      <td>Pinot Grigio</td>\n",
              "      <td>Alois Lageder</td>\n",
              "    </tr>\n",
              "  </tbody>\n",
              "</table>\n",
              "<p>44576 rows × 10 columns</p>\n",
              "</div>"
            ],
            "text/plain": [
              "       country                                        description  \\\n",
              "4       France  This is the top wine from La Bégude, named aft...   \n",
              "10       Italy  Elegance, complexity and structure come togeth...   \n",
              "13      France  This wine is in peak condition. The tannins an...   \n",
              "18      France  Coming from a seven-acre vineyard named after ...   \n",
              "32       Italy  Underbrush, scorched earth, menthol and plum s...   \n",
              "...        ...                                                ...   \n",
              "150925   Italy  Many people feel Fiano represents southern Ita...   \n",
              "150926  France  Offers an intriguing nose with ginger, lime an...   \n",
              "150927   Italy  This classic example comes from a cru vineyard...   \n",
              "150928  France  A perfect salmon shade, with scents of peaches...   \n",
              "150929   Italy  More Pinot Grigios should taste like this. A r...   \n",
              "\n",
              "                    designation  points  price            province  \\\n",
              "4                    La Brûlade      95   66.0            Provence   \n",
              "10           Ronco della Chiesa      95   80.0  Northeastern Italy   \n",
              "13      Château Montus Prestige      95   90.0    Southwest France   \n",
              "18                Le Pigeonnier      95  290.0    Southwest France   \n",
              "32                Vigna Piaggia      90    NaN             Tuscany   \n",
              "...                         ...     ...    ...                 ...   \n",
              "150925                      NaN      91   20.0      Southern Italy   \n",
              "150926           Cuvée Prestige      91   27.0           Champagne   \n",
              "150927            Terre di Dora      91   20.0      Southern Italy   \n",
              "150928          Grand Brut Rosé      90   52.0           Champagne   \n",
              "150929                      NaN      90   15.0  Northeastern Italy   \n",
              "\n",
              "                      region_1 region_2             variety  \\\n",
              "4                       Bandol      NaN  Provence red blend   \n",
              "10                      Collio      NaN            Friulano   \n",
              "13                     Madiran      NaN              Tannat   \n",
              "18                      Cahors      NaN              Malbec   \n",
              "32      Brunello di Montalcino      NaN          Sangiovese   \n",
              "...                        ...      ...                 ...   \n",
              "150925       Fiano di Avellino      NaN         White Blend   \n",
              "150926               Champagne      NaN     Champagne Blend   \n",
              "150927       Fiano di Avellino      NaN         White Blend   \n",
              "150928               Champagne      NaN     Champagne Blend   \n",
              "150929              Alto Adige      NaN        Pinot Grigio   \n",
              "\n",
              "                       winery  \n",
              "4        Domaine de la Bégude  \n",
              "10           Borgo del Tiglio  \n",
              "13          Vignobles Brumont  \n",
              "18         Château Lagrézette  \n",
              "32            Abbadia Ardenga  \n",
              "...                       ...  \n",
              "150925  Feudi di San Gregorio  \n",
              "150926              H.Germain  \n",
              "150927              Terredora  \n",
              "150928                 Gosset  \n",
              "150929          Alois Lageder  \n",
              "\n",
              "[44576 rows x 10 columns]"
            ]
          },
          "metadata": {
            "tags": []
          },
          "execution_count": 67
        }
      ]
    },
    {
      "cell_type": "code",
      "metadata": {
        "id": "inpf1z2aao5E",
        "outputId": "dd3f6e93-ac6d-4bf2-c1c1-8cd8be759a86"
      },
      "source": [
        "wine_reviews.head(10)"
      ],
      "execution_count": null,
      "outputs": [
        {
          "output_type": "execute_result",
          "data": {
            "text/html": [
              "<div>\n",
              "<style scoped>\n",
              "    .dataframe tbody tr th:only-of-type {\n",
              "        vertical-align: middle;\n",
              "    }\n",
              "\n",
              "    .dataframe tbody tr th {\n",
              "        vertical-align: top;\n",
              "    }\n",
              "\n",
              "    .dataframe thead th {\n",
              "        text-align: right;\n",
              "    }\n",
              "</style>\n",
              "<table border=\"1\" class=\"dataframe\">\n",
              "  <thead>\n",
              "    <tr style=\"text-align: right;\">\n",
              "      <th></th>\n",
              "      <th>country</th>\n",
              "      <th>description</th>\n",
              "      <th>designation</th>\n",
              "      <th>points</th>\n",
              "      <th>price</th>\n",
              "      <th>province</th>\n",
              "      <th>region_1</th>\n",
              "      <th>region_2</th>\n",
              "      <th>variety</th>\n",
              "      <th>winery</th>\n",
              "    </tr>\n",
              "  </thead>\n",
              "  <tbody>\n",
              "    <tr>\n",
              "      <th>0</th>\n",
              "      <td>US</td>\n",
              "      <td>This tremendous 100% varietal wine hails from ...</td>\n",
              "      <td>Martha's Vineyard</td>\n",
              "      <td>96</td>\n",
              "      <td>235.0</td>\n",
              "      <td>California</td>\n",
              "      <td>Napa Valley</td>\n",
              "      <td>Napa</td>\n",
              "      <td>Cabernet Sauvignon</td>\n",
              "      <td>Heitz</td>\n",
              "    </tr>\n",
              "    <tr>\n",
              "      <th>1</th>\n",
              "      <td>Spain</td>\n",
              "      <td>Ripe aromas of fig, blackberry and cassis are ...</td>\n",
              "      <td>Carodorum Selección Especial Reserva</td>\n",
              "      <td>96</td>\n",
              "      <td>110.0</td>\n",
              "      <td>Northern Spain</td>\n",
              "      <td>Toro</td>\n",
              "      <td>NaN</td>\n",
              "      <td>Tinta de Toro</td>\n",
              "      <td>Bodega Carmen Rodríguez</td>\n",
              "    </tr>\n",
              "    <tr>\n",
              "      <th>2</th>\n",
              "      <td>US</td>\n",
              "      <td>Mac Watson honors the memory of a wine once ma...</td>\n",
              "      <td>Special Selected Late Harvest</td>\n",
              "      <td>96</td>\n",
              "      <td>90.0</td>\n",
              "      <td>California</td>\n",
              "      <td>Knights Valley</td>\n",
              "      <td>Sonoma</td>\n",
              "      <td>Sauvignon Blanc</td>\n",
              "      <td>Macauley</td>\n",
              "    </tr>\n",
              "    <tr>\n",
              "      <th>3</th>\n",
              "      <td>US</td>\n",
              "      <td>This spent 20 months in 30% new French oak, an...</td>\n",
              "      <td>Reserve</td>\n",
              "      <td>96</td>\n",
              "      <td>65.0</td>\n",
              "      <td>Oregon</td>\n",
              "      <td>Willamette Valley</td>\n",
              "      <td>Willamette Valley</td>\n",
              "      <td>Pinot Noir</td>\n",
              "      <td>Ponzi</td>\n",
              "    </tr>\n",
              "    <tr>\n",
              "      <th>4</th>\n",
              "      <td>France</td>\n",
              "      <td>This is the top wine from La Bégude, named aft...</td>\n",
              "      <td>La Brûlade</td>\n",
              "      <td>95</td>\n",
              "      <td>66.0</td>\n",
              "      <td>Provence</td>\n",
              "      <td>Bandol</td>\n",
              "      <td>NaN</td>\n",
              "      <td>Provence red blend</td>\n",
              "      <td>Domaine de la Bégude</td>\n",
              "    </tr>\n",
              "    <tr>\n",
              "      <th>5</th>\n",
              "      <td>Spain</td>\n",
              "      <td>Deep, dense and pure from the opening bell, th...</td>\n",
              "      <td>Numanthia</td>\n",
              "      <td>95</td>\n",
              "      <td>73.0</td>\n",
              "      <td>Northern Spain</td>\n",
              "      <td>Toro</td>\n",
              "      <td>NaN</td>\n",
              "      <td>Tinta de Toro</td>\n",
              "      <td>Numanthia</td>\n",
              "    </tr>\n",
              "    <tr>\n",
              "      <th>6</th>\n",
              "      <td>Spain</td>\n",
              "      <td>Slightly gritty black-fruit aromas include a s...</td>\n",
              "      <td>San Román</td>\n",
              "      <td>95</td>\n",
              "      <td>65.0</td>\n",
              "      <td>Northern Spain</td>\n",
              "      <td>Toro</td>\n",
              "      <td>NaN</td>\n",
              "      <td>Tinta de Toro</td>\n",
              "      <td>Maurodos</td>\n",
              "    </tr>\n",
              "    <tr>\n",
              "      <th>7</th>\n",
              "      <td>Spain</td>\n",
              "      <td>Lush cedary black-fruit aromas are luxe and of...</td>\n",
              "      <td>Carodorum Único Crianza</td>\n",
              "      <td>95</td>\n",
              "      <td>110.0</td>\n",
              "      <td>Northern Spain</td>\n",
              "      <td>Toro</td>\n",
              "      <td>NaN</td>\n",
              "      <td>Tinta de Toro</td>\n",
              "      <td>Bodega Carmen Rodríguez</td>\n",
              "    </tr>\n",
              "    <tr>\n",
              "      <th>8</th>\n",
              "      <td>US</td>\n",
              "      <td>This re-named vineyard was formerly bottled as...</td>\n",
              "      <td>Silice</td>\n",
              "      <td>95</td>\n",
              "      <td>65.0</td>\n",
              "      <td>Oregon</td>\n",
              "      <td>Chehalem Mountains</td>\n",
              "      <td>Willamette Valley</td>\n",
              "      <td>Pinot Noir</td>\n",
              "      <td>Bergström</td>\n",
              "    </tr>\n",
              "    <tr>\n",
              "      <th>9</th>\n",
              "      <td>US</td>\n",
              "      <td>The producer sources from two blocks of the vi...</td>\n",
              "      <td>Gap's Crown Vineyard</td>\n",
              "      <td>95</td>\n",
              "      <td>60.0</td>\n",
              "      <td>California</td>\n",
              "      <td>Sonoma Coast</td>\n",
              "      <td>Sonoma</td>\n",
              "      <td>Pinot Noir</td>\n",
              "      <td>Blue Farm</td>\n",
              "    </tr>\n",
              "  </tbody>\n",
              "</table>\n",
              "</div>"
            ],
            "text/plain": [
              "  country                                        description  \\\n",
              "0      US  This tremendous 100% varietal wine hails from ...   \n",
              "1   Spain  Ripe aromas of fig, blackberry and cassis are ...   \n",
              "2      US  Mac Watson honors the memory of a wine once ma...   \n",
              "3      US  This spent 20 months in 30% new French oak, an...   \n",
              "4  France  This is the top wine from La Bégude, named aft...   \n",
              "5   Spain  Deep, dense and pure from the opening bell, th...   \n",
              "6   Spain  Slightly gritty black-fruit aromas include a s...   \n",
              "7   Spain  Lush cedary black-fruit aromas are luxe and of...   \n",
              "8      US  This re-named vineyard was formerly bottled as...   \n",
              "9      US  The producer sources from two blocks of the vi...   \n",
              "\n",
              "                            designation  points  price        province  \\\n",
              "0                     Martha's Vineyard      96  235.0      California   \n",
              "1  Carodorum Selección Especial Reserva      96  110.0  Northern Spain   \n",
              "2         Special Selected Late Harvest      96   90.0      California   \n",
              "3                               Reserve      96   65.0          Oregon   \n",
              "4                            La Brûlade      95   66.0        Provence   \n",
              "5                             Numanthia      95   73.0  Northern Spain   \n",
              "6                             San Román      95   65.0  Northern Spain   \n",
              "7               Carodorum Único Crianza      95  110.0  Northern Spain   \n",
              "8                                Silice      95   65.0          Oregon   \n",
              "9                  Gap's Crown Vineyard      95   60.0      California   \n",
              "\n",
              "             region_1           region_2             variety  \\\n",
              "0         Napa Valley               Napa  Cabernet Sauvignon   \n",
              "1                Toro                NaN       Tinta de Toro   \n",
              "2      Knights Valley             Sonoma     Sauvignon Blanc   \n",
              "3   Willamette Valley  Willamette Valley          Pinot Noir   \n",
              "4              Bandol                NaN  Provence red blend   \n",
              "5                Toro                NaN       Tinta de Toro   \n",
              "6                Toro                NaN       Tinta de Toro   \n",
              "7                Toro                NaN       Tinta de Toro   \n",
              "8  Chehalem Mountains  Willamette Valley          Pinot Noir   \n",
              "9        Sonoma Coast             Sonoma          Pinot Noir   \n",
              "\n",
              "                    winery  \n",
              "0                    Heitz  \n",
              "1  Bodega Carmen Rodríguez  \n",
              "2                 Macauley  \n",
              "3                    Ponzi  \n",
              "4     Domaine de la Bégude  \n",
              "5                Numanthia  \n",
              "6                 Maurodos  \n",
              "7  Bodega Carmen Rodríguez  \n",
              "8                Bergström  \n",
              "9                Blue Farm  "
            ]
          },
          "metadata": {
            "tags": []
          },
          "execution_count": 68
        }
      ]
    },
    {
      "cell_type": "markdown",
      "metadata": {
        "id": "QxbdYSDPao5E"
      },
      "source": [
        "The second is __isnull__ (and its companion __notnull__). These methods let you highlight values which are (or are not) empty (NaN). For example, to filter out wines lacking a price tag in the dataset, here's what we would do:"
      ]
    },
    {
      "cell_type": "code",
      "metadata": {
        "id": "hJdbFU12ao5E",
        "outputId": "45c13ef0-448b-4f9e-caf4-72109043eaa3"
      },
      "source": [
        "wine_reviews.loc[wine_reviews.region_2.notnull()]"
      ],
      "execution_count": null,
      "outputs": [
        {
          "output_type": "execute_result",
          "data": {
            "text/html": [
              "<div>\n",
              "<style scoped>\n",
              "    .dataframe tbody tr th:only-of-type {\n",
              "        vertical-align: middle;\n",
              "    }\n",
              "\n",
              "    .dataframe tbody tr th {\n",
              "        vertical-align: top;\n",
              "    }\n",
              "\n",
              "    .dataframe thead th {\n",
              "        text-align: right;\n",
              "    }\n",
              "</style>\n",
              "<table border=\"1\" class=\"dataframe\">\n",
              "  <thead>\n",
              "    <tr style=\"text-align: right;\">\n",
              "      <th></th>\n",
              "      <th>country</th>\n",
              "      <th>description</th>\n",
              "      <th>designation</th>\n",
              "      <th>points</th>\n",
              "      <th>price</th>\n",
              "      <th>province</th>\n",
              "      <th>region_1</th>\n",
              "      <th>region_2</th>\n",
              "      <th>variety</th>\n",
              "      <th>winery</th>\n",
              "    </tr>\n",
              "  </thead>\n",
              "  <tbody>\n",
              "    <tr>\n",
              "      <th>0</th>\n",
              "      <td>US</td>\n",
              "      <td>This tremendous 100% varietal wine hails from ...</td>\n",
              "      <td>Martha's Vineyard</td>\n",
              "      <td>96</td>\n",
              "      <td>235.0</td>\n",
              "      <td>California</td>\n",
              "      <td>Napa Valley</td>\n",
              "      <td>Napa</td>\n",
              "      <td>Cabernet Sauvignon</td>\n",
              "      <td>Heitz</td>\n",
              "    </tr>\n",
              "    <tr>\n",
              "      <th>2</th>\n",
              "      <td>US</td>\n",
              "      <td>Mac Watson honors the memory of a wine once ma...</td>\n",
              "      <td>Special Selected Late Harvest</td>\n",
              "      <td>96</td>\n",
              "      <td>90.0</td>\n",
              "      <td>California</td>\n",
              "      <td>Knights Valley</td>\n",
              "      <td>Sonoma</td>\n",
              "      <td>Sauvignon Blanc</td>\n",
              "      <td>Macauley</td>\n",
              "    </tr>\n",
              "    <tr>\n",
              "      <th>3</th>\n",
              "      <td>US</td>\n",
              "      <td>This spent 20 months in 30% new French oak, an...</td>\n",
              "      <td>Reserve</td>\n",
              "      <td>96</td>\n",
              "      <td>65.0</td>\n",
              "      <td>Oregon</td>\n",
              "      <td>Willamette Valley</td>\n",
              "      <td>Willamette Valley</td>\n",
              "      <td>Pinot Noir</td>\n",
              "      <td>Ponzi</td>\n",
              "    </tr>\n",
              "    <tr>\n",
              "      <th>8</th>\n",
              "      <td>US</td>\n",
              "      <td>This re-named vineyard was formerly bottled as...</td>\n",
              "      <td>Silice</td>\n",
              "      <td>95</td>\n",
              "      <td>65.0</td>\n",
              "      <td>Oregon</td>\n",
              "      <td>Chehalem Mountains</td>\n",
              "      <td>Willamette Valley</td>\n",
              "      <td>Pinot Noir</td>\n",
              "      <td>Bergström</td>\n",
              "    </tr>\n",
              "    <tr>\n",
              "      <th>9</th>\n",
              "      <td>US</td>\n",
              "      <td>The producer sources from two blocks of the vi...</td>\n",
              "      <td>Gap's Crown Vineyard</td>\n",
              "      <td>95</td>\n",
              "      <td>60.0</td>\n",
              "      <td>California</td>\n",
              "      <td>Sonoma Coast</td>\n",
              "      <td>Sonoma</td>\n",
              "      <td>Pinot Noir</td>\n",
              "      <td>Blue Farm</td>\n",
              "    </tr>\n",
              "    <tr>\n",
              "      <th>...</th>\n",
              "      <td>...</td>\n",
              "      <td>...</td>\n",
              "      <td>...</td>\n",
              "      <td>...</td>\n",
              "      <td>...</td>\n",
              "      <td>...</td>\n",
              "      <td>...</td>\n",
              "      <td>...</td>\n",
              "      <td>...</td>\n",
              "      <td>...</td>\n",
              "    </tr>\n",
              "    <tr>\n",
              "      <th>150892</th>\n",
              "      <td>US</td>\n",
              "      <td>A light, earthy wine, with violet, berry and t...</td>\n",
              "      <td>Coastal</td>\n",
              "      <td>82</td>\n",
              "      <td>10.0</td>\n",
              "      <td>California</td>\n",
              "      <td>California</td>\n",
              "      <td>California Other</td>\n",
              "      <td>Merlot</td>\n",
              "      <td>Callaway</td>\n",
              "    </tr>\n",
              "    <tr>\n",
              "      <th>150896</th>\n",
              "      <td>US</td>\n",
              "      <td>Some raspberry fruit in the aroma, but things ...</td>\n",
              "      <td>NaN</td>\n",
              "      <td>82</td>\n",
              "      <td>10.0</td>\n",
              "      <td>California</td>\n",
              "      <td>California</td>\n",
              "      <td>California Other</td>\n",
              "      <td>Pinot Noir</td>\n",
              "      <td>Camelot</td>\n",
              "    </tr>\n",
              "    <tr>\n",
              "      <th>150914</th>\n",
              "      <td>US</td>\n",
              "      <td>Old-gold in color, and thick and syrupy. The a...</td>\n",
              "      <td>Late Harvest Cluster Select</td>\n",
              "      <td>94</td>\n",
              "      <td>25.0</td>\n",
              "      <td>California</td>\n",
              "      <td>Anderson Valley</td>\n",
              "      <td>Mendocino/Lake Counties</td>\n",
              "      <td>White Riesling</td>\n",
              "      <td>Navarro</td>\n",
              "    </tr>\n",
              "    <tr>\n",
              "      <th>150915</th>\n",
              "      <td>US</td>\n",
              "      <td>Decades ago, Beringer’s then-winemaker Myron N...</td>\n",
              "      <td>Nightingale</td>\n",
              "      <td>93</td>\n",
              "      <td>30.0</td>\n",
              "      <td>California</td>\n",
              "      <td>North Coast</td>\n",
              "      <td>North Coast</td>\n",
              "      <td>White Blend</td>\n",
              "      <td>Beringer</td>\n",
              "    </tr>\n",
              "    <tr>\n",
              "      <th>150916</th>\n",
              "      <td>US</td>\n",
              "      <td>An impressive wine that presents a full bouque...</td>\n",
              "      <td>J. Schram</td>\n",
              "      <td>93</td>\n",
              "      <td>65.0</td>\n",
              "      <td>California</td>\n",
              "      <td>Napa Valley</td>\n",
              "      <td>Napa</td>\n",
              "      <td>Champagne Blend</td>\n",
              "      <td>Schramsberg</td>\n",
              "    </tr>\n",
              "  </tbody>\n",
              "</table>\n",
              "<p>60953 rows × 10 columns</p>\n",
              "</div>"
            ],
            "text/plain": [
              "       country                                        description  \\\n",
              "0           US  This tremendous 100% varietal wine hails from ...   \n",
              "2           US  Mac Watson honors the memory of a wine once ma...   \n",
              "3           US  This spent 20 months in 30% new French oak, an...   \n",
              "8           US  This re-named vineyard was formerly bottled as...   \n",
              "9           US  The producer sources from two blocks of the vi...   \n",
              "...        ...                                                ...   \n",
              "150892      US  A light, earthy wine, with violet, berry and t...   \n",
              "150896      US  Some raspberry fruit in the aroma, but things ...   \n",
              "150914      US  Old-gold in color, and thick and syrupy. The a...   \n",
              "150915      US  Decades ago, Beringer’s then-winemaker Myron N...   \n",
              "150916      US  An impressive wine that presents a full bouque...   \n",
              "\n",
              "                          designation  points  price    province  \\\n",
              "0                   Martha's Vineyard      96  235.0  California   \n",
              "2       Special Selected Late Harvest      96   90.0  California   \n",
              "3                             Reserve      96   65.0      Oregon   \n",
              "8                              Silice      95   65.0      Oregon   \n",
              "9                Gap's Crown Vineyard      95   60.0  California   \n",
              "...                               ...     ...    ...         ...   \n",
              "150892                        Coastal      82   10.0  California   \n",
              "150896                            NaN      82   10.0  California   \n",
              "150914    Late Harvest Cluster Select      94   25.0  California   \n",
              "150915                    Nightingale      93   30.0  California   \n",
              "150916                      J. Schram      93   65.0  California   \n",
              "\n",
              "                  region_1                 region_2             variety  \\\n",
              "0              Napa Valley                     Napa  Cabernet Sauvignon   \n",
              "2           Knights Valley                   Sonoma     Sauvignon Blanc   \n",
              "3        Willamette Valley        Willamette Valley          Pinot Noir   \n",
              "8       Chehalem Mountains        Willamette Valley          Pinot Noir   \n",
              "9             Sonoma Coast                   Sonoma          Pinot Noir   \n",
              "...                    ...                      ...                 ...   \n",
              "150892          California         California Other              Merlot   \n",
              "150896          California         California Other          Pinot Noir   \n",
              "150914     Anderson Valley  Mendocino/Lake Counties      White Riesling   \n",
              "150915         North Coast              North Coast         White Blend   \n",
              "150916         Napa Valley                     Napa     Champagne Blend   \n",
              "\n",
              "             winery  \n",
              "0             Heitz  \n",
              "2          Macauley  \n",
              "3             Ponzi  \n",
              "8         Bergström  \n",
              "9         Blue Farm  \n",
              "...             ...  \n",
              "150892     Callaway  \n",
              "150896      Camelot  \n",
              "150914      Navarro  \n",
              "150915     Beringer  \n",
              "150916  Schramsberg  \n",
              "\n",
              "[60953 rows x 10 columns]"
            ]
          },
          "metadata": {
            "tags": []
          },
          "execution_count": 80
        }
      ]
    },
    {
      "cell_type": "markdown",
      "metadata": {
        "id": "UGInP8-Oao5E"
      },
      "source": [
        "Before you can get to the solution, it’s first a good idea to grasp the concept of loc and how it differs from other indexing attributes such as __.iloc[]__ and __.ix[]__:\n",
        "\n",
        "__loc[]__ works on labels of your index. This means that if you give in __loc[2]__, you look for the values of your DataFrame that have an index labeled 2.\n",
        "\n",
        "__iloc[]__ works on the positions in your index. This means that if you give in __iloc[2]__, you look for the values of your DataFrame that are at index ’2`.\n",
        "\n",
        "__ix[]__ is a more complex case: when the index is integer-based, you pass a label to __.ix[]__. __ix[2]__ then means that you’re looking in your DataFrame for values that have an index labeled 2. This is just like __.loc[]__! However, if your index is not solely integer-based, __ix__ will work with positions, just like __.iloc[]__.\n"
      ]
    },
    {
      "cell_type": "markdown",
      "metadata": {
        "id": "-CBP2G8hao5F"
      },
      "source": [
        "## Assigning data\n",
        "\n",
        "Going the other way, assigning data to a DataFrame is easy. You can assign either a constant value:"
      ]
    },
    {
      "cell_type": "code",
      "metadata": {
        "id": "Xd_yt87Sao5F"
      },
      "source": [
        "wine_reviews['critic'] = 'everyone'"
      ],
      "execution_count": null,
      "outputs": []
    },
    {
      "cell_type": "code",
      "metadata": {
        "id": "0llr5QKNao5F",
        "outputId": "d05cc927-778f-4e6f-b477-0491f87f3194"
      },
      "source": [
        "wine_reviews.price.describe()"
      ],
      "execution_count": null,
      "outputs": [
        {
          "output_type": "execute_result",
          "data": {
            "text/plain": [
              "count    137235.000000\n",
              "mean         33.131482\n",
              "std          36.322536\n",
              "min           4.000000\n",
              "25%          16.000000\n",
              "50%          24.000000\n",
              "75%          40.000000\n",
              "max        2300.000000\n",
              "Name: price, dtype: float64"
            ]
          },
          "metadata": {
            "tags": []
          },
          "execution_count": 16
        }
      ]
    },
    {
      "cell_type": "markdown",
      "metadata": {
        "id": "IBMhQlCzao5F"
      },
      "source": [
        "Or with an iterable of values:"
      ]
    },
    {
      "cell_type": "code",
      "metadata": {
        "id": "YPMr8zVvao5F"
      },
      "source": [
        "wine_reviews['critic'] = range(len(wine_reviews), 0, -1)"
      ],
      "execution_count": null,
      "outputs": []
    },
    {
      "cell_type": "code",
      "metadata": {
        "id": "5SDL8OU_ao5F",
        "outputId": "9092920d-a50b-4c70-87aa-1ce9ee2e7b6d"
      },
      "source": [
        "wine_reviews.head(3)"
      ],
      "execution_count": null,
      "outputs": [
        {
          "output_type": "execute_result",
          "data": {
            "text/html": [
              "<div>\n",
              "<style scoped>\n",
              "    .dataframe tbody tr th:only-of-type {\n",
              "        vertical-align: middle;\n",
              "    }\n",
              "\n",
              "    .dataframe tbody tr th {\n",
              "        vertical-align: top;\n",
              "    }\n",
              "\n",
              "    .dataframe thead th {\n",
              "        text-align: right;\n",
              "    }\n",
              "</style>\n",
              "<table border=\"1\" class=\"dataframe\">\n",
              "  <thead>\n",
              "    <tr style=\"text-align: right;\">\n",
              "      <th></th>\n",
              "      <th>country</th>\n",
              "      <th>description</th>\n",
              "      <th>designation</th>\n",
              "      <th>points</th>\n",
              "      <th>price</th>\n",
              "      <th>province</th>\n",
              "      <th>region_1</th>\n",
              "      <th>region_2</th>\n",
              "      <th>variety</th>\n",
              "      <th>winery</th>\n",
              "      <th>critic</th>\n",
              "    </tr>\n",
              "  </thead>\n",
              "  <tbody>\n",
              "    <tr>\n",
              "      <th>0</th>\n",
              "      <td>US</td>\n",
              "      <td>This tremendous 100% varietal wine hails from ...</td>\n",
              "      <td>Martha's Vineyard</td>\n",
              "      <td>96</td>\n",
              "      <td>235.0</td>\n",
              "      <td>California</td>\n",
              "      <td>Napa Valley</td>\n",
              "      <td>Napa</td>\n",
              "      <td>Cabernet Sauvignon</td>\n",
              "      <td>Heitz</td>\n",
              "      <td>150930</td>\n",
              "    </tr>\n",
              "    <tr>\n",
              "      <th>1</th>\n",
              "      <td>Spain</td>\n",
              "      <td>Ripe aromas of fig, blackberry and cassis are ...</td>\n",
              "      <td>Carodorum Selección Especial Reserva</td>\n",
              "      <td>96</td>\n",
              "      <td>110.0</td>\n",
              "      <td>Northern Spain</td>\n",
              "      <td>Toro</td>\n",
              "      <td>NaN</td>\n",
              "      <td>Tinta de Toro</td>\n",
              "      <td>Bodega Carmen Rodríguez</td>\n",
              "      <td>150929</td>\n",
              "    </tr>\n",
              "    <tr>\n",
              "      <th>2</th>\n",
              "      <td>US</td>\n",
              "      <td>Mac Watson honors the memory of a wine once ma...</td>\n",
              "      <td>Special Selected Late Harvest</td>\n",
              "      <td>96</td>\n",
              "      <td>90.0</td>\n",
              "      <td>California</td>\n",
              "      <td>Knights Valley</td>\n",
              "      <td>Sonoma</td>\n",
              "      <td>Sauvignon Blanc</td>\n",
              "      <td>Macauley</td>\n",
              "      <td>150928</td>\n",
              "    </tr>\n",
              "  </tbody>\n",
              "</table>\n",
              "</div>"
            ],
            "text/plain": [
              "  country                                        description  \\\n",
              "0      US  This tremendous 100% varietal wine hails from ...   \n",
              "1   Spain  Ripe aromas of fig, blackberry and cassis are ...   \n",
              "2      US  Mac Watson honors the memory of a wine once ma...   \n",
              "\n",
              "                            designation  points  price        province  \\\n",
              "0                     Martha's Vineyard      96  235.0      California   \n",
              "1  Carodorum Selección Especial Reserva      96  110.0  Northern Spain   \n",
              "2         Special Selected Late Harvest      96   90.0      California   \n",
              "\n",
              "         region_1 region_2             variety                   winery  \\\n",
              "0     Napa Valley     Napa  Cabernet Sauvignon                    Heitz   \n",
              "1            Toro      NaN       Tinta de Toro  Bodega Carmen Rodríguez   \n",
              "2  Knights Valley   Sonoma     Sauvignon Blanc                 Macauley   \n",
              "\n",
              "   critic  \n",
              "0  150930  \n",
              "1  150929  \n",
              "2  150928  "
            ]
          },
          "metadata": {
            "tags": []
          },
          "execution_count": 14
        }
      ]
    },
    {
      "cell_type": "markdown",
      "metadata": {
        "id": "VrHG38puao5G"
      },
      "source": [
        "## Summary functions\n",
        "\n",
        "Pandas provides many simple \"summary functions\" (not an official name) which restructure the data in some useful way. For example, consider the describe() method:"
      ]
    },
    {
      "cell_type": "code",
      "metadata": {
        "id": "qSDEiVW4ao5G",
        "outputId": "23192849-ec77-49dc-da2f-59501fbc52fc"
      },
      "source": [
        "wine_reviews.points.describe()"
      ],
      "execution_count": null,
      "outputs": [
        {
          "output_type": "execute_result",
          "data": {
            "text/plain": [
              "count    150930.000000\n",
              "mean         87.888418\n",
              "std           3.222392\n",
              "min          80.000000\n",
              "25%          86.000000\n",
              "50%          88.000000\n",
              "75%          90.000000\n",
              "max         100.000000\n",
              "Name: points, dtype: float64"
            ]
          },
          "metadata": {
            "tags": []
          },
          "execution_count": 75
        }
      ]
    },
    {
      "cell_type": "markdown",
      "metadata": {
        "id": "GshV1w_zao5G"
      },
      "source": [
        "This method generates a high-level summary of the attributes of the given column. It is type-aware, meaning that its output changes based on the data type of the input. The output above only makes sense for numerical data; for string data here's what we get:"
      ]
    },
    {
      "cell_type": "code",
      "metadata": {
        "id": "SB-5j6QZao5G",
        "outputId": "c50fc7d6-a3b0-4141-8346-f4ce1f9cf64f"
      },
      "source": [
        "wine_reviews.winery.describe()"
      ],
      "execution_count": null,
      "outputs": [
        {
          "output_type": "execute_result",
          "data": {
            "text/plain": [
              "count              150930\n",
              "unique              14810\n",
              "top       Williams Selyem\n",
              "freq                  374\n",
              "Name: winery, dtype: object"
            ]
          },
          "metadata": {
            "tags": []
          },
          "execution_count": 38
        }
      ]
    },
    {
      "cell_type": "markdown",
      "metadata": {
        "id": "fI9aZVkYao5G"
      },
      "source": [
        "If you want to get some particular simple summary statistic about a column in a DataFrame or a Series, there is usually a helpful pandas function that makes it happen.\n",
        "\n",
        "For example, to see the mean of the points allotted (e.g. how well an averagely rated wine does), we can use the mean() function:\n"
      ]
    },
    {
      "cell_type": "code",
      "metadata": {
        "id": "Nc6jCvRfao5G",
        "outputId": "f31f1266-29f8-44a6-86fe-067b1a8f66e9"
      },
      "source": [
        "wine_reviews.points.quantile(0.95)"
      ],
      "execution_count": null,
      "outputs": [
        {
          "output_type": "execute_result",
          "data": {
            "text/plain": [
              "93.0"
            ]
          },
          "metadata": {
            "tags": []
          },
          "execution_count": 15
        }
      ]
    },
    {
      "cell_type": "markdown",
      "metadata": {
        "id": "xUt2_JvAao5G"
      },
      "source": [
        "To see a list of unique values we can use the unique() function:"
      ]
    },
    {
      "cell_type": "code",
      "metadata": {
        "id": "O0IXyXByao5H",
        "outputId": "67349b77-f3a7-4278-b691-322e266e0bd8"
      },
      "source": [
        "len(wine_reviews.winery.unique())"
      ],
      "execution_count": null,
      "outputs": [
        {
          "output_type": "execute_result",
          "data": {
            "text/plain": [
              "14810"
            ]
          },
          "metadata": {
            "tags": []
          },
          "execution_count": 20
        }
      ]
    },
    {
      "cell_type": "markdown",
      "metadata": {
        "id": "5QhqIAlZao5H"
      },
      "source": [
        "To see a list of unique values and how often they occur in the dataset, we can use the value_counts() method:"
      ]
    },
    {
      "cell_type": "code",
      "metadata": {
        "id": "rUEGcRWaao5H",
        "outputId": "7076ed4f-c0b3-4f07-92bf-28ee82f05035"
      },
      "source": [
        "wine_reviews.winery.value_counts()"
      ],
      "execution_count": null,
      "outputs": [
        {
          "output_type": "execute_result",
          "data": {
            "text/plain": [
              "Williams Selyem          374\n",
              "Testarossa               274\n",
              "DFJ Vinhos               258\n",
              "Chateau Ste. Michelle    225\n",
              "Columbia Crest           217\n",
              "                        ... \n",
              "Mas Blanch I Jové          1\n",
              "Icario                     1\n",
              "Francesco Boschis          1\n",
              "Timbuktu                   1\n",
              "Gianfranco Fino            1\n",
              "Name: winery, Length: 14810, dtype: int64"
            ]
          },
          "metadata": {
            "tags": []
          },
          "execution_count": 42
        }
      ]
    },
    {
      "cell_type": "markdown",
      "metadata": {
        "id": "hNbWHjc0ao5H"
      },
      "source": [
        "\n",
        "#### Maps\n",
        "\n",
        "A map is a term, borrowed from mathematics, for a function that takes one set of values and \"maps\" them to another set of values. In data science we often have a need for creating new representations from existing data, or for transforming data from the format it is in now to the format that we want it to be in later. Maps are what handle this work, making them extremely important for getting your work done!\n",
        "\n",
        "There are two mapping methods that you will use often.\n",
        "\n",
        "map() is the first, and slightly simpler one. For example, suppose that we wanted to remean the scores the wines received to 0. We can do this as follows:\n"
      ]
    },
    {
      "cell_type": "code",
      "metadata": {
        "id": "yBn54T6Eao5H"
      },
      "source": [
        "review_points_mean = wine_reviews.points.mean()"
      ],
      "execution_count": null,
      "outputs": []
    },
    {
      "cell_type": "code",
      "metadata": {
        "id": "0KMk6r6Iao5H",
        "outputId": "aa995455-1147-4ce1-a294-8958470f2c98"
      },
      "source": [
        "review_points_mean"
      ],
      "execution_count": null,
      "outputs": [
        {
          "output_type": "execute_result",
          "data": {
            "text/plain": [
              "87.8884184721394"
            ]
          },
          "metadata": {
            "tags": []
          },
          "execution_count": 23
        }
      ]
    },
    {
      "cell_type": "code",
      "metadata": {
        "id": "dVyQ7jkrao5J",
        "outputId": "b33fa539-9259-41db-d92f-0f440ef7e0aa"
      },
      "source": [
        "wine_reviews.points - review_points_mean"
      ],
      "execution_count": null,
      "outputs": [
        {
          "output_type": "execute_result",
          "data": {
            "text/plain": [
              "0         8.111582\n",
              "1         8.111582\n",
              "2         8.111582\n",
              "3         8.111582\n",
              "4         7.111582\n",
              "            ...   \n",
              "150925    3.111582\n",
              "150926    3.111582\n",
              "150927    3.111582\n",
              "150928    2.111582\n",
              "150929    2.111582\n",
              "Name: points, Length: 150930, dtype: float64"
            ]
          },
          "metadata": {
            "tags": []
          },
          "execution_count": 24
        }
      ]
    },
    {
      "cell_type": "code",
      "metadata": {
        "id": "EzZH_MYIao5K",
        "outputId": "41ed126a-b2dd-445d-b8ab-291f57a872e8"
      },
      "source": [
        "wine_reviews.points.map(lambda p: p - review_points_mean)"
      ],
      "execution_count": null,
      "outputs": [
        {
          "output_type": "execute_result",
          "data": {
            "text/plain": [
              "0         8.111582\n",
              "1         8.111582\n",
              "2         8.111582\n",
              "3         8.111582\n",
              "4         7.111582\n",
              "            ...   \n",
              "150925    3.111582\n",
              "150926    3.111582\n",
              "150927    3.111582\n",
              "150928    2.111582\n",
              "150929    2.111582\n",
              "Name: points, Length: 150930, dtype: float64"
            ]
          },
          "metadata": {
            "tags": []
          },
          "execution_count": 25
        }
      ]
    },
    {
      "cell_type": "markdown",
      "metadata": {
        "id": "lP9-AQvcao5K"
      },
      "source": [
        "The function you pass to __map()__ should expect a single value from the Series (a point value, in the above example), and return a transformed version of that value. map() returns a new Series where all the values have been transformed by your function.\n",
        "\n",
        "__apply()__ is the equivalent method if we want to transform a whole DataFrame by calling a custom method on each row.\n"
      ]
    },
    {
      "cell_type": "code",
      "metadata": {
        "id": "-0QnM3QBao5K"
      },
      "source": [
        "def remean_points(row):\n",
        "    row.points = row.points - review_points_mean\n",
        "    return row"
      ],
      "execution_count": null,
      "outputs": []
    },
    {
      "cell_type": "code",
      "metadata": {
        "id": "k-L7-qe0ao5K",
        "outputId": "f806a017-b602-4773-e49f-a705debaa540"
      },
      "source": [
        "wine_reviews.apply(remean_points, axis='columns')"
      ],
      "execution_count": null,
      "outputs": [
        {
          "output_type": "execute_result",
          "data": {
            "text/html": [
              "<div>\n",
              "<style scoped>\n",
              "    .dataframe tbody tr th:only-of-type {\n",
              "        vertical-align: middle;\n",
              "    }\n",
              "\n",
              "    .dataframe tbody tr th {\n",
              "        vertical-align: top;\n",
              "    }\n",
              "\n",
              "    .dataframe thead th {\n",
              "        text-align: right;\n",
              "    }\n",
              "</style>\n",
              "<table border=\"1\" class=\"dataframe\">\n",
              "  <thead>\n",
              "    <tr style=\"text-align: right;\">\n",
              "      <th></th>\n",
              "      <th>country</th>\n",
              "      <th>description</th>\n",
              "      <th>designation</th>\n",
              "      <th>points</th>\n",
              "      <th>price</th>\n",
              "      <th>province</th>\n",
              "      <th>region_1</th>\n",
              "      <th>region_2</th>\n",
              "      <th>variety</th>\n",
              "      <th>winery</th>\n",
              "      <th>critic</th>\n",
              "      <th>index_backwards</th>\n",
              "    </tr>\n",
              "  </thead>\n",
              "  <tbody>\n",
              "    <tr>\n",
              "      <th>0</th>\n",
              "      <td>US</td>\n",
              "      <td>This tremendous 100% varietal wine hails from ...</td>\n",
              "      <td>Martha's Vineyard</td>\n",
              "      <td>8.111582</td>\n",
              "      <td>235.0</td>\n",
              "      <td>California</td>\n",
              "      <td>Napa Valley</td>\n",
              "      <td>Napa</td>\n",
              "      <td>Cabernet Sauvignon</td>\n",
              "      <td>Heitz</td>\n",
              "      <td>everyone</td>\n",
              "      <td>150930</td>\n",
              "    </tr>\n",
              "    <tr>\n",
              "      <th>1</th>\n",
              "      <td>Spain</td>\n",
              "      <td>Ripe aromas of fig, blackberry and cassis are ...</td>\n",
              "      <td>Carodorum Selección Especial Reserva</td>\n",
              "      <td>8.111582</td>\n",
              "      <td>110.0</td>\n",
              "      <td>Northern Spain</td>\n",
              "      <td>Toro</td>\n",
              "      <td>NaN</td>\n",
              "      <td>Tinta de Toro</td>\n",
              "      <td>Bodega Carmen Rodríguez</td>\n",
              "      <td>everyone</td>\n",
              "      <td>150929</td>\n",
              "    </tr>\n",
              "    <tr>\n",
              "      <th>2</th>\n",
              "      <td>US</td>\n",
              "      <td>Mac Watson honors the memory of a wine once ma...</td>\n",
              "      <td>Special Selected Late Harvest</td>\n",
              "      <td>8.111582</td>\n",
              "      <td>90.0</td>\n",
              "      <td>California</td>\n",
              "      <td>Knights Valley</td>\n",
              "      <td>Sonoma</td>\n",
              "      <td>Sauvignon Blanc</td>\n",
              "      <td>Macauley</td>\n",
              "      <td>everyone</td>\n",
              "      <td>150928</td>\n",
              "    </tr>\n",
              "    <tr>\n",
              "      <th>3</th>\n",
              "      <td>US</td>\n",
              "      <td>This spent 20 months in 30% new French oak, an...</td>\n",
              "      <td>Reserve</td>\n",
              "      <td>8.111582</td>\n",
              "      <td>65.0</td>\n",
              "      <td>Oregon</td>\n",
              "      <td>Willamette Valley</td>\n",
              "      <td>Willamette Valley</td>\n",
              "      <td>Pinot Noir</td>\n",
              "      <td>Ponzi</td>\n",
              "      <td>everyone</td>\n",
              "      <td>150927</td>\n",
              "    </tr>\n",
              "    <tr>\n",
              "      <th>4</th>\n",
              "      <td>France</td>\n",
              "      <td>This is the top wine from La Bégude, named aft...</td>\n",
              "      <td>La Brûlade</td>\n",
              "      <td>7.111582</td>\n",
              "      <td>66.0</td>\n",
              "      <td>Provence</td>\n",
              "      <td>Bandol</td>\n",
              "      <td>NaN</td>\n",
              "      <td>Provence red blend</td>\n",
              "      <td>Domaine de la Bégude</td>\n",
              "      <td>everyone</td>\n",
              "      <td>150926</td>\n",
              "    </tr>\n",
              "    <tr>\n",
              "      <th>...</th>\n",
              "      <td>...</td>\n",
              "      <td>...</td>\n",
              "      <td>...</td>\n",
              "      <td>...</td>\n",
              "      <td>...</td>\n",
              "      <td>...</td>\n",
              "      <td>...</td>\n",
              "      <td>...</td>\n",
              "      <td>...</td>\n",
              "      <td>...</td>\n",
              "      <td>...</td>\n",
              "      <td>...</td>\n",
              "    </tr>\n",
              "    <tr>\n",
              "      <th>150925</th>\n",
              "      <td>Italy</td>\n",
              "      <td>Many people feel Fiano represents southern Ita...</td>\n",
              "      <td>NaN</td>\n",
              "      <td>3.111582</td>\n",
              "      <td>20.0</td>\n",
              "      <td>Southern Italy</td>\n",
              "      <td>Fiano di Avellino</td>\n",
              "      <td>NaN</td>\n",
              "      <td>White Blend</td>\n",
              "      <td>Feudi di San Gregorio</td>\n",
              "      <td>everyone</td>\n",
              "      <td>5</td>\n",
              "    </tr>\n",
              "    <tr>\n",
              "      <th>150926</th>\n",
              "      <td>France</td>\n",
              "      <td>Offers an intriguing nose with ginger, lime an...</td>\n",
              "      <td>Cuvée Prestige</td>\n",
              "      <td>3.111582</td>\n",
              "      <td>27.0</td>\n",
              "      <td>Champagne</td>\n",
              "      <td>Champagne</td>\n",
              "      <td>NaN</td>\n",
              "      <td>Champagne Blend</td>\n",
              "      <td>H.Germain</td>\n",
              "      <td>everyone</td>\n",
              "      <td>4</td>\n",
              "    </tr>\n",
              "    <tr>\n",
              "      <th>150927</th>\n",
              "      <td>Italy</td>\n",
              "      <td>This classic example comes from a cru vineyard...</td>\n",
              "      <td>Terre di Dora</td>\n",
              "      <td>3.111582</td>\n",
              "      <td>20.0</td>\n",
              "      <td>Southern Italy</td>\n",
              "      <td>Fiano di Avellino</td>\n",
              "      <td>NaN</td>\n",
              "      <td>White Blend</td>\n",
              "      <td>Terredora</td>\n",
              "      <td>everyone</td>\n",
              "      <td>3</td>\n",
              "    </tr>\n",
              "    <tr>\n",
              "      <th>150928</th>\n",
              "      <td>France</td>\n",
              "      <td>A perfect salmon shade, with scents of peaches...</td>\n",
              "      <td>Grand Brut Rosé</td>\n",
              "      <td>2.111582</td>\n",
              "      <td>52.0</td>\n",
              "      <td>Champagne</td>\n",
              "      <td>Champagne</td>\n",
              "      <td>NaN</td>\n",
              "      <td>Champagne Blend</td>\n",
              "      <td>Gosset</td>\n",
              "      <td>everyone</td>\n",
              "      <td>2</td>\n",
              "    </tr>\n",
              "    <tr>\n",
              "      <th>150929</th>\n",
              "      <td>Italy</td>\n",
              "      <td>More Pinot Grigios should taste like this. A r...</td>\n",
              "      <td>NaN</td>\n",
              "      <td>2.111582</td>\n",
              "      <td>15.0</td>\n",
              "      <td>Northeastern Italy</td>\n",
              "      <td>Alto Adige</td>\n",
              "      <td>NaN</td>\n",
              "      <td>Pinot Grigio</td>\n",
              "      <td>Alois Lageder</td>\n",
              "      <td>everyone</td>\n",
              "      <td>1</td>\n",
              "    </tr>\n",
              "  </tbody>\n",
              "</table>\n",
              "<p>150930 rows × 12 columns</p>\n",
              "</div>"
            ],
            "text/plain": [
              "       country                                        description  \\\n",
              "0           US  This tremendous 100% varietal wine hails from ...   \n",
              "1        Spain  Ripe aromas of fig, blackberry and cassis are ...   \n",
              "2           US  Mac Watson honors the memory of a wine once ma...   \n",
              "3           US  This spent 20 months in 30% new French oak, an...   \n",
              "4       France  This is the top wine from La Bégude, named aft...   \n",
              "...        ...                                                ...   \n",
              "150925   Italy  Many people feel Fiano represents southern Ita...   \n",
              "150926  France  Offers an intriguing nose with ginger, lime an...   \n",
              "150927   Italy  This classic example comes from a cru vineyard...   \n",
              "150928  France  A perfect salmon shade, with scents of peaches...   \n",
              "150929   Italy  More Pinot Grigios should taste like this. A r...   \n",
              "\n",
              "                                 designation    points  price  \\\n",
              "0                          Martha's Vineyard  8.111582  235.0   \n",
              "1       Carodorum Selección Especial Reserva  8.111582  110.0   \n",
              "2              Special Selected Late Harvest  8.111582   90.0   \n",
              "3                                    Reserve  8.111582   65.0   \n",
              "4                                 La Brûlade  7.111582   66.0   \n",
              "...                                      ...       ...    ...   \n",
              "150925                                   NaN  3.111582   20.0   \n",
              "150926                        Cuvée Prestige  3.111582   27.0   \n",
              "150927                         Terre di Dora  3.111582   20.0   \n",
              "150928                       Grand Brut Rosé  2.111582   52.0   \n",
              "150929                                   NaN  2.111582   15.0   \n",
              "\n",
              "                  province           region_1           region_2  \\\n",
              "0               California        Napa Valley               Napa   \n",
              "1           Northern Spain               Toro                NaN   \n",
              "2               California     Knights Valley             Sonoma   \n",
              "3                   Oregon  Willamette Valley  Willamette Valley   \n",
              "4                 Provence             Bandol                NaN   \n",
              "...                    ...                ...                ...   \n",
              "150925      Southern Italy  Fiano di Avellino                NaN   \n",
              "150926           Champagne          Champagne                NaN   \n",
              "150927      Southern Italy  Fiano di Avellino                NaN   \n",
              "150928           Champagne          Champagne                NaN   \n",
              "150929  Northeastern Italy         Alto Adige                NaN   \n",
              "\n",
              "                   variety                   winery    critic  index_backwards  \n",
              "0       Cabernet Sauvignon                    Heitz  everyone           150930  \n",
              "1            Tinta de Toro  Bodega Carmen Rodríguez  everyone           150929  \n",
              "2          Sauvignon Blanc                 Macauley  everyone           150928  \n",
              "3               Pinot Noir                    Ponzi  everyone           150927  \n",
              "4       Provence red blend     Domaine de la Bégude  everyone           150926  \n",
              "...                    ...                      ...       ...              ...  \n",
              "150925         White Blend    Feudi di San Gregorio  everyone                5  \n",
              "150926     Champagne Blend                H.Germain  everyone                4  \n",
              "150927         White Blend                Terredora  everyone                3  \n",
              "150928     Champagne Blend                   Gosset  everyone                2  \n",
              "150929        Pinot Grigio            Alois Lageder  everyone                1  \n",
              "\n",
              "[150930 rows x 12 columns]"
            ]
          },
          "metadata": {
            "tags": []
          },
          "execution_count": 51
        }
      ]
    },
    {
      "cell_type": "markdown",
      "metadata": {
        "id": "50OFh-lyao5K"
      },
      "source": [
        "If we had called reviews.apply() with __axis='index'__, then instead of passing a function to transform each row, we would need to give a function to transform each column.\n",
        "\n",
        "Note that map() and apply() return new, transformed Series and DataFrames, respectively. They don't modify the original data they're called on. If we look at the first row of reviews, we can see that it still has its original points value.\n"
      ]
    },
    {
      "cell_type": "code",
      "metadata": {
        "id": "69cG1B09ao5K",
        "outputId": "f0aeee33-6dd5-4375-84a7-1c047efd1982"
      },
      "source": [
        "wine_reviews.head(1)"
      ],
      "execution_count": null,
      "outputs": [
        {
          "output_type": "execute_result",
          "data": {
            "text/html": [
              "<div>\n",
              "<style scoped>\n",
              "    .dataframe tbody tr th:only-of-type {\n",
              "        vertical-align: middle;\n",
              "    }\n",
              "\n",
              "    .dataframe tbody tr th {\n",
              "        vertical-align: top;\n",
              "    }\n",
              "\n",
              "    .dataframe thead th {\n",
              "        text-align: right;\n",
              "    }\n",
              "</style>\n",
              "<table border=\"1\" class=\"dataframe\">\n",
              "  <thead>\n",
              "    <tr style=\"text-align: right;\">\n",
              "      <th></th>\n",
              "      <th>country</th>\n",
              "      <th>description</th>\n",
              "      <th>designation</th>\n",
              "      <th>points</th>\n",
              "      <th>price</th>\n",
              "      <th>province</th>\n",
              "      <th>region_1</th>\n",
              "      <th>region_2</th>\n",
              "      <th>variety</th>\n",
              "      <th>winery</th>\n",
              "      <th>critic</th>\n",
              "      <th>index_backwards</th>\n",
              "    </tr>\n",
              "  </thead>\n",
              "  <tbody>\n",
              "    <tr>\n",
              "      <th>0</th>\n",
              "      <td>US</td>\n",
              "      <td>This tremendous 100% varietal wine hails from ...</td>\n",
              "      <td>Martha's Vineyard</td>\n",
              "      <td>96</td>\n",
              "      <td>235.0</td>\n",
              "      <td>California</td>\n",
              "      <td>Napa Valley</td>\n",
              "      <td>Napa</td>\n",
              "      <td>Cabernet Sauvignon</td>\n",
              "      <td>Heitz</td>\n",
              "      <td>everyone</td>\n",
              "      <td>150930</td>\n",
              "    </tr>\n",
              "  </tbody>\n",
              "</table>\n",
              "</div>"
            ],
            "text/plain": [
              "  country                                        description  \\\n",
              "0      US  This tremendous 100% varietal wine hails from ...   \n",
              "\n",
              "         designation  points  price    province     region_1 region_2  \\\n",
              "0  Martha's Vineyard      96  235.0  California  Napa Valley     Napa   \n",
              "\n",
              "              variety winery    critic  index_backwards  \n",
              "0  Cabernet Sauvignon  Heitz  everyone           150930  "
            ]
          },
          "metadata": {
            "tags": []
          },
          "execution_count": 54
        }
      ]
    },
    {
      "cell_type": "markdown",
      "metadata": {
        "id": "blTBu-Jnao5L"
      },
      "source": [
        "Pandas provides many common mapping operations as built-ins. For example, here's a faster way of remeaning our points column:"
      ]
    },
    {
      "cell_type": "code",
      "metadata": {
        "id": "2EmaYhrzao5L",
        "outputId": "7e3c7ce5-fddc-47af-8629-52669034cce4"
      },
      "source": [
        "review_points_mean = wine_reviews.points.mean()\n",
        "wine_reviews.points - review_points_mean"
      ],
      "execution_count": null,
      "outputs": [
        {
          "output_type": "execute_result",
          "data": {
            "text/plain": [
              "0         8.111582\n",
              "1         8.111582\n",
              "2         8.111582\n",
              "3         8.111582\n",
              "4         7.111582\n",
              "            ...   \n",
              "150925    3.111582\n",
              "150926    3.111582\n",
              "150927    3.111582\n",
              "150928    2.111582\n",
              "150929    2.111582\n",
              "Name: points, Length: 150930, dtype: float64"
            ]
          },
          "metadata": {
            "tags": []
          },
          "execution_count": 57
        }
      ]
    },
    {
      "cell_type": "code",
      "metadata": {
        "id": "7ooExaqtao5L",
        "outputId": "19ea00a3-d483-4096-9223-c06864e59152"
      },
      "source": [
        "wine_reviews.country + \" - \" + wine_reviews.region_1"
      ],
      "execution_count": null,
      "outputs": [
        {
          "output_type": "execute_result",
          "data": {
            "text/plain": [
              "0                  US - Napa Valley\n",
              "1                      Spain - Toro\n",
              "2               US - Knights Valley\n",
              "3            US - Willamette Valley\n",
              "4                   France - Bandol\n",
              "                    ...            \n",
              "150925    Italy - Fiano di Avellino\n",
              "150926           France - Champagne\n",
              "150927    Italy - Fiano di Avellino\n",
              "150928           France - Champagne\n",
              "150929           Italy - Alto Adige\n",
              "Length: 150930, dtype: object"
            ]
          },
          "metadata": {
            "tags": []
          },
          "execution_count": 58
        }
      ]
    },
    {
      "cell_type": "markdown",
      "metadata": {
        "id": "8tmJVxvoao5L"
      },
      "source": [
        "## Groupwise analysis\n",
        "\n",
        "One function we've been using heavily thus far is the value_counts() function. We can replicate what value_counts() does by doing the following:"
      ]
    },
    {
      "cell_type": "code",
      "metadata": {
        "id": "XP8SbKT5ao5L",
        "outputId": "2b07c17c-7525-4138-9d20-bd6fa26604b3"
      },
      "source": [
        "wine_reviews.groupby('points').points.count()"
      ],
      "execution_count": null,
      "outputs": [
        {
          "output_type": "execute_result",
          "data": {
            "text/plain": [
              "points\n",
              "80       898\n",
              "81      1502\n",
              "82      4041\n",
              "83      6048\n",
              "84     10708\n",
              "85     12411\n",
              "86     15573\n",
              "87     20747\n",
              "88     17871\n",
              "89     12921\n",
              "90     15973\n",
              "91     10536\n",
              "92      9241\n",
              "93      6017\n",
              "94      3462\n",
              "95      1716\n",
              "96       695\n",
              "97       365\n",
              "98       131\n",
              "99        50\n",
              "100       24\n",
              "Name: points, dtype: int64"
            ]
          },
          "metadata": {
            "tags": []
          },
          "execution_count": 60
        }
      ]
    },
    {
      "cell_type": "markdown",
      "metadata": {
        "id": "msPFYw6rao5M"
      },
      "source": [
        "## Merging with Pandas\n",
        "\n",
        "Merging is used when we want to collect data that shares a key variable but are located in different DataFrames. To merge DataFrames, we use the merge() function. Say we have df1 and df2."
      ]
    },
    {
      "cell_type": "code",
      "metadata": {
        "id": "rs5XxbH1ao5M",
        "outputId": "e63811d2-7370-4faa-d9e7-43d67ff3e15f"
      },
      "source": [
        "d = {\n",
        "    'subject_id': ['1', '2', '3', '4', '5'],\n",
        "    'student_name': ['Mark', 'Khalid', 'Deborah', 'Trevon', 'Raven']\n",
        "}\n",
        "df1 = pd.DataFrame(d, columns=['subject_id', 'student_name'])\n",
        "df1"
      ],
      "execution_count": null,
      "outputs": [
        {
          "output_type": "execute_result",
          "data": {
            "text/html": [
              "<div>\n",
              "<style scoped>\n",
              "    .dataframe tbody tr th:only-of-type {\n",
              "        vertical-align: middle;\n",
              "    }\n",
              "\n",
              "    .dataframe tbody tr th {\n",
              "        vertical-align: top;\n",
              "    }\n",
              "\n",
              "    .dataframe thead th {\n",
              "        text-align: right;\n",
              "    }\n",
              "</style>\n",
              "<table border=\"1\" class=\"dataframe\">\n",
              "  <thead>\n",
              "    <tr style=\"text-align: right;\">\n",
              "      <th></th>\n",
              "      <th>subject_id</th>\n",
              "      <th>student_name</th>\n",
              "    </tr>\n",
              "  </thead>\n",
              "  <tbody>\n",
              "    <tr>\n",
              "      <th>0</th>\n",
              "      <td>1</td>\n",
              "      <td>Mark</td>\n",
              "    </tr>\n",
              "    <tr>\n",
              "      <th>1</th>\n",
              "      <td>2</td>\n",
              "      <td>Khalid</td>\n",
              "    </tr>\n",
              "    <tr>\n",
              "      <th>2</th>\n",
              "      <td>3</td>\n",
              "      <td>Deborah</td>\n",
              "    </tr>\n",
              "    <tr>\n",
              "      <th>3</th>\n",
              "      <td>4</td>\n",
              "      <td>Trevon</td>\n",
              "    </tr>\n",
              "    <tr>\n",
              "      <th>4</th>\n",
              "      <td>5</td>\n",
              "      <td>Raven</td>\n",
              "    </tr>\n",
              "  </tbody>\n",
              "</table>\n",
              "</div>"
            ],
            "text/plain": [
              "  subject_id student_name\n",
              "0          1         Mark\n",
              "1          2       Khalid\n",
              "2          3      Deborah\n",
              "3          4       Trevon\n",
              "4          5        Raven"
            ]
          },
          "metadata": {
            "tags": []
          },
          "execution_count": 26
        }
      ]
    },
    {
      "cell_type": "code",
      "metadata": {
        "id": "Q8vFNHlFao5M",
        "outputId": "8c8eaf99-a7ea-490c-ac52-6ac796b3045c"
      },
      "source": [
        "data = {\n",
        "    'subject_id': ['4', '5', '6', '7', '8'],\n",
        "    'student_name': ['Eric', 'Imani', 'Cece', 'Darius', 'Andre']\n",
        "}\n",
        "df2 = pd.DataFrame(data, columns=['subject_id', 'student_name'])\n",
        "df2"
      ],
      "execution_count": null,
      "outputs": [
        {
          "output_type": "execute_result",
          "data": {
            "text/html": [
              "<div>\n",
              "<style scoped>\n",
              "    .dataframe tbody tr th:only-of-type {\n",
              "        vertical-align: middle;\n",
              "    }\n",
              "\n",
              "    .dataframe tbody tr th {\n",
              "        vertical-align: top;\n",
              "    }\n",
              "\n",
              "    .dataframe thead th {\n",
              "        text-align: right;\n",
              "    }\n",
              "</style>\n",
              "<table border=\"1\" class=\"dataframe\">\n",
              "  <thead>\n",
              "    <tr style=\"text-align: right;\">\n",
              "      <th></th>\n",
              "      <th>subject_id</th>\n",
              "      <th>student_name</th>\n",
              "    </tr>\n",
              "  </thead>\n",
              "  <tbody>\n",
              "    <tr>\n",
              "      <th>0</th>\n",
              "      <td>4</td>\n",
              "      <td>Eric</td>\n",
              "    </tr>\n",
              "    <tr>\n",
              "      <th>1</th>\n",
              "      <td>5</td>\n",
              "      <td>Imani</td>\n",
              "    </tr>\n",
              "    <tr>\n",
              "      <th>2</th>\n",
              "      <td>6</td>\n",
              "      <td>Cece</td>\n",
              "    </tr>\n",
              "    <tr>\n",
              "      <th>3</th>\n",
              "      <td>7</td>\n",
              "      <td>Darius</td>\n",
              "    </tr>\n",
              "    <tr>\n",
              "      <th>4</th>\n",
              "      <td>8</td>\n",
              "      <td>Andre</td>\n",
              "    </tr>\n",
              "  </tbody>\n",
              "</table>\n",
              "</div>"
            ],
            "text/plain": [
              "  subject_id student_name\n",
              "0          4         Eric\n",
              "1          5        Imani\n",
              "2          6         Cece\n",
              "3          7       Darius\n",
              "4          8        Andre"
            ]
          },
          "metadata": {
            "tags": []
          },
          "execution_count": 27
        }
      ]
    },
    {
      "cell_type": "markdown",
      "metadata": {
        "id": "j9VGnUy8ao5M"
      },
      "source": [
        "So, how do we merge them? It’s simple: with the merge() function!"
      ]
    },
    {
      "cell_type": "code",
      "metadata": {
        "id": "72MeXfwHao5M",
        "outputId": "7021aab5-ef02-450c-d5b7-ba5c415a4885"
      },
      "source": [
        "pd.merge(df1, df2, on='student_name')"
      ],
      "execution_count": null,
      "outputs": [
        {
          "output_type": "execute_result",
          "data": {
            "text/html": [
              "<div>\n",
              "<style scoped>\n",
              "    .dataframe tbody tr th:only-of-type {\n",
              "        vertical-align: middle;\n",
              "    }\n",
              "\n",
              "    .dataframe tbody tr th {\n",
              "        vertical-align: top;\n",
              "    }\n",
              "\n",
              "    .dataframe thead th {\n",
              "        text-align: right;\n",
              "    }\n",
              "</style>\n",
              "<table border=\"1\" class=\"dataframe\">\n",
              "  <thead>\n",
              "    <tr style=\"text-align: right;\">\n",
              "      <th></th>\n",
              "      <th>subject_id_x</th>\n",
              "      <th>student_name</th>\n",
              "      <th>subject_id_y</th>\n",
              "    </tr>\n",
              "  </thead>\n",
              "  <tbody>\n",
              "  </tbody>\n",
              "</table>\n",
              "</div>"
            ],
            "text/plain": [
              "Empty DataFrame\n",
              "Columns: [subject_id_x, student_name, subject_id_y]\n",
              "Index: []"
            ]
          },
          "metadata": {
            "tags": []
          },
          "execution_count": 28
        }
      ]
    },
    {
      "cell_type": "markdown",
      "metadata": {
        "id": "_ekTZwL6ao5M"
      },
      "source": [
        "## Grouping with Pandas\n",
        "\n",
        "Grouping is how we categorize our data. If a value occurs in multiple rows of a single column, the data related to that value in other columns can be grouped together. Just like with merging, it’s more simple than it sounds. We use the groupby function. Look at this example."
      ]
    },
    {
      "cell_type": "code",
      "metadata": {
        "id": "km3t83vVao5M",
        "outputId": "f6f10fe1-920e-4277-f7d4-b798c914408a"
      },
      "source": [
        "raw = {\n",
        "    'Name': ['Darell', 'Darell', 'Lilith', 'Lilith', 'Tran', 'Tran', 'Tran',\n",
        "        'Tran', 'John', 'Darell', 'Darell', 'Darell'],\n",
        "    'Position': [2, 1, 1, 4, 2, 4, 3, 1, 3, 2, 4, 3],\n",
        "    'Year': [2009, 2010, 2009, 2010, 2010, 2010, 2011, 2012, 2011, 2013, 2013, 2012],\n",
        "    'Marks':[408, 398, 422, 376, 401, 380, 396, 388, 356, 402, 368, 378]\n",
        "}\n",
        "df = pd.DataFrame(raw)\n",
        "df"
      ],
      "execution_count": null,
      "outputs": [
        {
          "output_type": "execute_result",
          "data": {
            "text/html": [
              "<div>\n",
              "<style scoped>\n",
              "    .dataframe tbody tr th:only-of-type {\n",
              "        vertical-align: middle;\n",
              "    }\n",
              "\n",
              "    .dataframe tbody tr th {\n",
              "        vertical-align: top;\n",
              "    }\n",
              "\n",
              "    .dataframe thead th {\n",
              "        text-align: right;\n",
              "    }\n",
              "</style>\n",
              "<table border=\"1\" class=\"dataframe\">\n",
              "  <thead>\n",
              "    <tr style=\"text-align: right;\">\n",
              "      <th></th>\n",
              "      <th>Name</th>\n",
              "      <th>Position</th>\n",
              "      <th>Year</th>\n",
              "      <th>Marks</th>\n",
              "    </tr>\n",
              "  </thead>\n",
              "  <tbody>\n",
              "    <tr>\n",
              "      <th>0</th>\n",
              "      <td>Darell</td>\n",
              "      <td>2</td>\n",
              "      <td>2009</td>\n",
              "      <td>408</td>\n",
              "    </tr>\n",
              "    <tr>\n",
              "      <th>1</th>\n",
              "      <td>Darell</td>\n",
              "      <td>1</td>\n",
              "      <td>2010</td>\n",
              "      <td>398</td>\n",
              "    </tr>\n",
              "    <tr>\n",
              "      <th>2</th>\n",
              "      <td>Lilith</td>\n",
              "      <td>1</td>\n",
              "      <td>2009</td>\n",
              "      <td>422</td>\n",
              "    </tr>\n",
              "    <tr>\n",
              "      <th>3</th>\n",
              "      <td>Lilith</td>\n",
              "      <td>4</td>\n",
              "      <td>2010</td>\n",
              "      <td>376</td>\n",
              "    </tr>\n",
              "    <tr>\n",
              "      <th>4</th>\n",
              "      <td>Tran</td>\n",
              "      <td>2</td>\n",
              "      <td>2010</td>\n",
              "      <td>401</td>\n",
              "    </tr>\n",
              "    <tr>\n",
              "      <th>5</th>\n",
              "      <td>Tran</td>\n",
              "      <td>4</td>\n",
              "      <td>2010</td>\n",
              "      <td>380</td>\n",
              "    </tr>\n",
              "    <tr>\n",
              "      <th>6</th>\n",
              "      <td>Tran</td>\n",
              "      <td>3</td>\n",
              "      <td>2011</td>\n",
              "      <td>396</td>\n",
              "    </tr>\n",
              "    <tr>\n",
              "      <th>7</th>\n",
              "      <td>Tran</td>\n",
              "      <td>1</td>\n",
              "      <td>2012</td>\n",
              "      <td>388</td>\n",
              "    </tr>\n",
              "    <tr>\n",
              "      <th>8</th>\n",
              "      <td>John</td>\n",
              "      <td>3</td>\n",
              "      <td>2011</td>\n",
              "      <td>356</td>\n",
              "    </tr>\n",
              "    <tr>\n",
              "      <th>9</th>\n",
              "      <td>Darell</td>\n",
              "      <td>2</td>\n",
              "      <td>2013</td>\n",
              "      <td>402</td>\n",
              "    </tr>\n",
              "    <tr>\n",
              "      <th>10</th>\n",
              "      <td>Darell</td>\n",
              "      <td>4</td>\n",
              "      <td>2013</td>\n",
              "      <td>368</td>\n",
              "    </tr>\n",
              "    <tr>\n",
              "      <th>11</th>\n",
              "      <td>Darell</td>\n",
              "      <td>3</td>\n",
              "      <td>2012</td>\n",
              "      <td>378</td>\n",
              "    </tr>\n",
              "  </tbody>\n",
              "</table>\n",
              "</div>"
            ],
            "text/plain": [
              "      Name  Position  Year  Marks\n",
              "0   Darell         2  2009    408\n",
              "1   Darell         1  2010    398\n",
              "2   Lilith         1  2009    422\n",
              "3   Lilith         4  2010    376\n",
              "4     Tran         2  2010    401\n",
              "5     Tran         4  2010    380\n",
              "6     Tran         3  2011    396\n",
              "7     Tran         1  2012    388\n",
              "8     John         3  2011    356\n",
              "9   Darell         2  2013    402\n",
              "10  Darell         4  2013    368\n",
              "11  Darell         3  2012    378"
            ]
          },
          "metadata": {
            "tags": []
          },
          "execution_count": 29
        }
      ]
    },
    {
      "cell_type": "code",
      "metadata": {
        "id": "w4ITZ1i3ao5N",
        "outputId": "aeaa160f-2587-4ec2-d6db-eb8ea6bd216d"
      },
      "source": [
        "group = df.groupby('Year')\n",
        "group.get_group(2010)"
      ],
      "execution_count": null,
      "outputs": [
        {
          "output_type": "execute_result",
          "data": {
            "text/html": [
              "<div>\n",
              "<style scoped>\n",
              "    .dataframe tbody tr th:only-of-type {\n",
              "        vertical-align: middle;\n",
              "    }\n",
              "\n",
              "    .dataframe tbody tr th {\n",
              "        vertical-align: top;\n",
              "    }\n",
              "\n",
              "    .dataframe thead th {\n",
              "        text-align: right;\n",
              "    }\n",
              "</style>\n",
              "<table border=\"1\" class=\"dataframe\">\n",
              "  <thead>\n",
              "    <tr style=\"text-align: right;\">\n",
              "      <th></th>\n",
              "      <th>Name</th>\n",
              "      <th>Position</th>\n",
              "      <th>Year</th>\n",
              "      <th>Marks</th>\n",
              "    </tr>\n",
              "  </thead>\n",
              "  <tbody>\n",
              "    <tr>\n",
              "      <th>1</th>\n",
              "      <td>Darell</td>\n",
              "      <td>1</td>\n",
              "      <td>2010</td>\n",
              "      <td>398</td>\n",
              "    </tr>\n",
              "    <tr>\n",
              "      <th>3</th>\n",
              "      <td>Lilith</td>\n",
              "      <td>4</td>\n",
              "      <td>2010</td>\n",
              "      <td>376</td>\n",
              "    </tr>\n",
              "    <tr>\n",
              "      <th>4</th>\n",
              "      <td>Tran</td>\n",
              "      <td>2</td>\n",
              "      <td>2010</td>\n",
              "      <td>401</td>\n",
              "    </tr>\n",
              "    <tr>\n",
              "      <th>5</th>\n",
              "      <td>Tran</td>\n",
              "      <td>4</td>\n",
              "      <td>2010</td>\n",
              "      <td>380</td>\n",
              "    </tr>\n",
              "  </tbody>\n",
              "</table>\n",
              "</div>"
            ],
            "text/plain": [
              "     Name  Position  Year  Marks\n",
              "1  Darell         1  2010    398\n",
              "3  Lilith         4  2010    376\n",
              "4    Tran         2  2010    401\n",
              "5    Tran         4  2010    380"
            ]
          },
          "metadata": {
            "tags": []
          },
          "execution_count": 32
        }
      ]
    },
    {
      "cell_type": "markdown",
      "metadata": {
        "id": "2-UNUJXbao5N"
      },
      "source": [
        "## Concatenation\n",
        "\n",
        "Concatenation is a long word that means to add a set of data to another. We use the concat() function to do so. To clarify the difference between merge and concatenation, merge() combines data on shared columns, while concat() combines DataFrames across columns or rows."
      ]
    },
    {
      "cell_type": "code",
      "metadata": {
        "id": "9djaS5boao5N",
        "outputId": "458dd7b0-8402-4aee-cf04-edaba2d0f687"
      },
      "source": [
        "df1"
      ],
      "execution_count": null,
      "outputs": [
        {
          "output_type": "execute_result",
          "data": {
            "text/html": [
              "<div>\n",
              "<style scoped>\n",
              "    .dataframe tbody tr th:only-of-type {\n",
              "        vertical-align: middle;\n",
              "    }\n",
              "\n",
              "    .dataframe tbody tr th {\n",
              "        vertical-align: top;\n",
              "    }\n",
              "\n",
              "    .dataframe thead th {\n",
              "        text-align: right;\n",
              "    }\n",
              "</style>\n",
              "<table border=\"1\" class=\"dataframe\">\n",
              "  <thead>\n",
              "    <tr style=\"text-align: right;\">\n",
              "      <th></th>\n",
              "      <th>subject_id</th>\n",
              "      <th>student_name</th>\n",
              "    </tr>\n",
              "  </thead>\n",
              "  <tbody>\n",
              "    <tr>\n",
              "      <th>0</th>\n",
              "      <td>1</td>\n",
              "      <td>Mark</td>\n",
              "    </tr>\n",
              "    <tr>\n",
              "      <th>1</th>\n",
              "      <td>2</td>\n",
              "      <td>Khalid</td>\n",
              "    </tr>\n",
              "    <tr>\n",
              "      <th>2</th>\n",
              "      <td>3</td>\n",
              "      <td>Deborah</td>\n",
              "    </tr>\n",
              "    <tr>\n",
              "      <th>3</th>\n",
              "      <td>4</td>\n",
              "      <td>Trevon</td>\n",
              "    </tr>\n",
              "    <tr>\n",
              "      <th>4</th>\n",
              "      <td>5</td>\n",
              "      <td>Raven</td>\n",
              "    </tr>\n",
              "  </tbody>\n",
              "</table>\n",
              "</div>"
            ],
            "text/plain": [
              "  subject_id student_name\n",
              "0          1         Mark\n",
              "1          2       Khalid\n",
              "2          3      Deborah\n",
              "3          4       Trevon\n",
              "4          5        Raven"
            ]
          },
          "metadata": {
            "tags": []
          },
          "execution_count": 33
        }
      ]
    },
    {
      "cell_type": "code",
      "metadata": {
        "id": "xXlQhzSuao5N",
        "outputId": "5bce3447-21f3-4cff-c0ac-c1b9a2541bb6"
      },
      "source": [
        "df2"
      ],
      "execution_count": null,
      "outputs": [
        {
          "output_type": "execute_result",
          "data": {
            "text/html": [
              "<div>\n",
              "<style scoped>\n",
              "    .dataframe tbody tr th:only-of-type {\n",
              "        vertical-align: middle;\n",
              "    }\n",
              "\n",
              "    .dataframe tbody tr th {\n",
              "        vertical-align: top;\n",
              "    }\n",
              "\n",
              "    .dataframe thead th {\n",
              "        text-align: right;\n",
              "    }\n",
              "</style>\n",
              "<table border=\"1\" class=\"dataframe\">\n",
              "  <thead>\n",
              "    <tr style=\"text-align: right;\">\n",
              "      <th></th>\n",
              "      <th>subject_id</th>\n",
              "      <th>student_name</th>\n",
              "    </tr>\n",
              "  </thead>\n",
              "  <tbody>\n",
              "    <tr>\n",
              "      <th>0</th>\n",
              "      <td>4</td>\n",
              "      <td>Eric</td>\n",
              "    </tr>\n",
              "    <tr>\n",
              "      <th>1</th>\n",
              "      <td>5</td>\n",
              "      <td>Imani</td>\n",
              "    </tr>\n",
              "    <tr>\n",
              "      <th>2</th>\n",
              "      <td>6</td>\n",
              "      <td>Cece</td>\n",
              "    </tr>\n",
              "    <tr>\n",
              "      <th>3</th>\n",
              "      <td>7</td>\n",
              "      <td>Darius</td>\n",
              "    </tr>\n",
              "    <tr>\n",
              "      <th>4</th>\n",
              "      <td>8</td>\n",
              "      <td>Andre</td>\n",
              "    </tr>\n",
              "  </tbody>\n",
              "</table>\n",
              "</div>"
            ],
            "text/plain": [
              "  subject_id student_name\n",
              "0          4         Eric\n",
              "1          5        Imani\n",
              "2          6         Cece\n",
              "3          7       Darius\n",
              "4          8        Andre"
            ]
          },
          "metadata": {
            "tags": []
          },
          "execution_count": 34
        }
      ]
    },
    {
      "cell_type": "code",
      "metadata": {
        "id": "2VqV4O_8ao5N",
        "outputId": "26acff73-5cae-4b05-f6e5-a9e3a364d0b6"
      },
      "source": [
        "pd.concat([df1,df2])"
      ],
      "execution_count": null,
      "outputs": [
        {
          "output_type": "execute_result",
          "data": {
            "text/html": [
              "<div>\n",
              "<style scoped>\n",
              "    .dataframe tbody tr th:only-of-type {\n",
              "        vertical-align: middle;\n",
              "    }\n",
              "\n",
              "    .dataframe tbody tr th {\n",
              "        vertical-align: top;\n",
              "    }\n",
              "\n",
              "    .dataframe thead th {\n",
              "        text-align: right;\n",
              "    }\n",
              "</style>\n",
              "<table border=\"1\" class=\"dataframe\">\n",
              "  <thead>\n",
              "    <tr style=\"text-align: right;\">\n",
              "      <th></th>\n",
              "      <th>subject_id</th>\n",
              "      <th>student_name</th>\n",
              "    </tr>\n",
              "  </thead>\n",
              "  <tbody>\n",
              "    <tr>\n",
              "      <th>0</th>\n",
              "      <td>1</td>\n",
              "      <td>Mark</td>\n",
              "    </tr>\n",
              "    <tr>\n",
              "      <th>1</th>\n",
              "      <td>2</td>\n",
              "      <td>Khalid</td>\n",
              "    </tr>\n",
              "    <tr>\n",
              "      <th>2</th>\n",
              "      <td>3</td>\n",
              "      <td>Deborah</td>\n",
              "    </tr>\n",
              "    <tr>\n",
              "      <th>3</th>\n",
              "      <td>4</td>\n",
              "      <td>Trevon</td>\n",
              "    </tr>\n",
              "    <tr>\n",
              "      <th>4</th>\n",
              "      <td>5</td>\n",
              "      <td>Raven</td>\n",
              "    </tr>\n",
              "    <tr>\n",
              "      <th>0</th>\n",
              "      <td>4</td>\n",
              "      <td>Eric</td>\n",
              "    </tr>\n",
              "    <tr>\n",
              "      <th>1</th>\n",
              "      <td>5</td>\n",
              "      <td>Imani</td>\n",
              "    </tr>\n",
              "    <tr>\n",
              "      <th>2</th>\n",
              "      <td>6</td>\n",
              "      <td>Cece</td>\n",
              "    </tr>\n",
              "    <tr>\n",
              "      <th>3</th>\n",
              "      <td>7</td>\n",
              "      <td>Darius</td>\n",
              "    </tr>\n",
              "    <tr>\n",
              "      <th>4</th>\n",
              "      <td>8</td>\n",
              "      <td>Andre</td>\n",
              "    </tr>\n",
              "  </tbody>\n",
              "</table>\n",
              "</div>"
            ],
            "text/plain": [
              "  subject_id student_name\n",
              "0          1         Mark\n",
              "1          2       Khalid\n",
              "2          3      Deborah\n",
              "3          4       Trevon\n",
              "4          5        Raven\n",
              "0          4         Eric\n",
              "1          5        Imani\n",
              "2          6         Cece\n",
              "3          7       Darius\n",
              "4          8        Andre"
            ]
          },
          "metadata": {
            "tags": []
          },
          "execution_count": 35
        }
      ]
    },
    {
      "cell_type": "markdown",
      "metadata": {
        "id": "7wWT9TBUao5O"
      },
      "source": [
        "## Downloading data sets from a url"
      ]
    },
    {
      "cell_type": "code",
      "metadata": {
        "id": "pBCkbGpXao5O"
      },
      "source": [
        "download_url = (\"https://raw.githubusercontent.com/fivethirtyeight/data/master/college-majors/recent-grads.csv\")\n",
        "df = pd.read_csv(download_url)"
      ],
      "execution_count": null,
      "outputs": []
    },
    {
      "cell_type": "code",
      "metadata": {
        "id": "q4izn8YDao5O",
        "outputId": "62e70820-9fcf-49a2-d306-1029e0dd0c48"
      },
      "source": [
        "df.head()"
      ],
      "execution_count": null,
      "outputs": [
        {
          "output_type": "execute_result",
          "data": {
            "text/html": [
              "<div>\n",
              "<style scoped>\n",
              "    .dataframe tbody tr th:only-of-type {\n",
              "        vertical-align: middle;\n",
              "    }\n",
              "\n",
              "    .dataframe tbody tr th {\n",
              "        vertical-align: top;\n",
              "    }\n",
              "\n",
              "    .dataframe thead th {\n",
              "        text-align: right;\n",
              "    }\n",
              "</style>\n",
              "<table border=\"1\" class=\"dataframe\">\n",
              "  <thead>\n",
              "    <tr style=\"text-align: right;\">\n",
              "      <th></th>\n",
              "      <th>Rank</th>\n",
              "      <th>Major_code</th>\n",
              "      <th>Major</th>\n",
              "      <th>Total</th>\n",
              "      <th>Men</th>\n",
              "      <th>Women</th>\n",
              "      <th>Major_category</th>\n",
              "      <th>ShareWomen</th>\n",
              "      <th>Sample_size</th>\n",
              "      <th>Employed</th>\n",
              "      <th>...</th>\n",
              "      <th>Part_time</th>\n",
              "      <th>Full_time_year_round</th>\n",
              "      <th>Unemployed</th>\n",
              "      <th>Unemployment_rate</th>\n",
              "      <th>Median</th>\n",
              "      <th>P25th</th>\n",
              "      <th>P75th</th>\n",
              "      <th>College_jobs</th>\n",
              "      <th>Non_college_jobs</th>\n",
              "      <th>Low_wage_jobs</th>\n",
              "    </tr>\n",
              "  </thead>\n",
              "  <tbody>\n",
              "    <tr>\n",
              "      <th>0</th>\n",
              "      <td>1</td>\n",
              "      <td>2419</td>\n",
              "      <td>PETROLEUM ENGINEERING</td>\n",
              "      <td>2339.0</td>\n",
              "      <td>2057.0</td>\n",
              "      <td>282.0</td>\n",
              "      <td>Engineering</td>\n",
              "      <td>0.120564</td>\n",
              "      <td>36</td>\n",
              "      <td>1976</td>\n",
              "      <td>...</td>\n",
              "      <td>270</td>\n",
              "      <td>1207</td>\n",
              "      <td>37</td>\n",
              "      <td>0.018381</td>\n",
              "      <td>110000</td>\n",
              "      <td>95000</td>\n",
              "      <td>125000</td>\n",
              "      <td>1534</td>\n",
              "      <td>364</td>\n",
              "      <td>193</td>\n",
              "    </tr>\n",
              "    <tr>\n",
              "      <th>1</th>\n",
              "      <td>2</td>\n",
              "      <td>2416</td>\n",
              "      <td>MINING AND MINERAL ENGINEERING</td>\n",
              "      <td>756.0</td>\n",
              "      <td>679.0</td>\n",
              "      <td>77.0</td>\n",
              "      <td>Engineering</td>\n",
              "      <td>0.101852</td>\n",
              "      <td>7</td>\n",
              "      <td>640</td>\n",
              "      <td>...</td>\n",
              "      <td>170</td>\n",
              "      <td>388</td>\n",
              "      <td>85</td>\n",
              "      <td>0.117241</td>\n",
              "      <td>75000</td>\n",
              "      <td>55000</td>\n",
              "      <td>90000</td>\n",
              "      <td>350</td>\n",
              "      <td>257</td>\n",
              "      <td>50</td>\n",
              "    </tr>\n",
              "    <tr>\n",
              "      <th>2</th>\n",
              "      <td>3</td>\n",
              "      <td>2415</td>\n",
              "      <td>METALLURGICAL ENGINEERING</td>\n",
              "      <td>856.0</td>\n",
              "      <td>725.0</td>\n",
              "      <td>131.0</td>\n",
              "      <td>Engineering</td>\n",
              "      <td>0.153037</td>\n",
              "      <td>3</td>\n",
              "      <td>648</td>\n",
              "      <td>...</td>\n",
              "      <td>133</td>\n",
              "      <td>340</td>\n",
              "      <td>16</td>\n",
              "      <td>0.024096</td>\n",
              "      <td>73000</td>\n",
              "      <td>50000</td>\n",
              "      <td>105000</td>\n",
              "      <td>456</td>\n",
              "      <td>176</td>\n",
              "      <td>0</td>\n",
              "    </tr>\n",
              "    <tr>\n",
              "      <th>3</th>\n",
              "      <td>4</td>\n",
              "      <td>2417</td>\n",
              "      <td>NAVAL ARCHITECTURE AND MARINE ENGINEERING</td>\n",
              "      <td>1258.0</td>\n",
              "      <td>1123.0</td>\n",
              "      <td>135.0</td>\n",
              "      <td>Engineering</td>\n",
              "      <td>0.107313</td>\n",
              "      <td>16</td>\n",
              "      <td>758</td>\n",
              "      <td>...</td>\n",
              "      <td>150</td>\n",
              "      <td>692</td>\n",
              "      <td>40</td>\n",
              "      <td>0.050125</td>\n",
              "      <td>70000</td>\n",
              "      <td>43000</td>\n",
              "      <td>80000</td>\n",
              "      <td>529</td>\n",
              "      <td>102</td>\n",
              "      <td>0</td>\n",
              "    </tr>\n",
              "    <tr>\n",
              "      <th>4</th>\n",
              "      <td>5</td>\n",
              "      <td>2405</td>\n",
              "      <td>CHEMICAL ENGINEERING</td>\n",
              "      <td>32260.0</td>\n",
              "      <td>21239.0</td>\n",
              "      <td>11021.0</td>\n",
              "      <td>Engineering</td>\n",
              "      <td>0.341631</td>\n",
              "      <td>289</td>\n",
              "      <td>25694</td>\n",
              "      <td>...</td>\n",
              "      <td>5180</td>\n",
              "      <td>16697</td>\n",
              "      <td>1672</td>\n",
              "      <td>0.061098</td>\n",
              "      <td>65000</td>\n",
              "      <td>50000</td>\n",
              "      <td>75000</td>\n",
              "      <td>18314</td>\n",
              "      <td>4440</td>\n",
              "      <td>972</td>\n",
              "    </tr>\n",
              "  </tbody>\n",
              "</table>\n",
              "<p>5 rows × 21 columns</p>\n",
              "</div>"
            ],
            "text/plain": [
              "   Rank  Major_code                                      Major    Total  \\\n",
              "0     1        2419                      PETROLEUM ENGINEERING   2339.0   \n",
              "1     2        2416             MINING AND MINERAL ENGINEERING    756.0   \n",
              "2     3        2415                  METALLURGICAL ENGINEERING    856.0   \n",
              "3     4        2417  NAVAL ARCHITECTURE AND MARINE ENGINEERING   1258.0   \n",
              "4     5        2405                       CHEMICAL ENGINEERING  32260.0   \n",
              "\n",
              "       Men    Women Major_category  ShareWomen  Sample_size  Employed  ...  \\\n",
              "0   2057.0    282.0    Engineering    0.120564           36      1976  ...   \n",
              "1    679.0     77.0    Engineering    0.101852            7       640  ...   \n",
              "2    725.0    131.0    Engineering    0.153037            3       648  ...   \n",
              "3   1123.0    135.0    Engineering    0.107313           16       758  ...   \n",
              "4  21239.0  11021.0    Engineering    0.341631          289     25694  ...   \n",
              "\n",
              "   Part_time  Full_time_year_round  Unemployed  Unemployment_rate  Median  \\\n",
              "0        270                  1207          37           0.018381  110000   \n",
              "1        170                   388          85           0.117241   75000   \n",
              "2        133                   340          16           0.024096   73000   \n",
              "3        150                   692          40           0.050125   70000   \n",
              "4       5180                 16697        1672           0.061098   65000   \n",
              "\n",
              "   P25th   P75th  College_jobs  Non_college_jobs  Low_wage_jobs  \n",
              "0  95000  125000          1534               364            193  \n",
              "1  55000   90000           350               257             50  \n",
              "2  50000  105000           456               176              0  \n",
              "3  43000   80000           529               102              0  \n",
              "4  50000   75000         18314              4440            972  \n",
              "\n",
              "[5 rows x 21 columns]"
            ]
          },
          "metadata": {
            "tags": []
          },
          "execution_count": 43
        }
      ]
    },
    {
      "cell_type": "markdown",
      "metadata": {
        "id": "Dfyg2bZCao5O"
      },
      "source": [
        "## Create Your First Pandas Plot\n",
        "\n",
        "Your dataset contains some columns related to the earnings of graduates in each major:\n",
        "<ul>\n",
        "    <li> \"Median\" is the median earnings of full-time, year-round workers.</li>\n",
        "    <li> \"P25th\" is the 25th percentile of earnings.</li>\n",
        "    <li> \"P75th\" is the 75th percentile of earnings.</li>\n",
        "    <li> \"Rank\" is the majors rank by median earnings.</li>\n",
        "</ul>\n",
        "Let's start with a plot displaying these columns. First, you need to set up your Jupyter Notebook to display plots with the __%matplotlib__ magic command:"
      ]
    },
    {
      "cell_type": "code",
      "metadata": {
        "id": "yPfu-6p4ao5O"
      },
      "source": [
        "import pandas as pd\n",
        "import matplotlib.pyplot as plt"
      ],
      "execution_count": null,
      "outputs": []
    },
    {
      "cell_type": "code",
      "metadata": {
        "id": "DJbePtZLao5O"
      },
      "source": [
        "%matplotlib inline"
      ],
      "execution_count": null,
      "outputs": []
    },
    {
      "cell_type": "code",
      "metadata": {
        "id": "ylowPvPcao5O",
        "outputId": "926c9f8a-6a17-4e1d-da11-181a65c54e05"
      },
      "source": [
        "df.plot(x=\"Rank\", y=[\"P25th\", \"Median\", \"P75th\"])\n",
        "plt.show()"
      ],
      "execution_count": null,
      "outputs": [
        {
          "output_type": "display_data",
          "data": {
            "image/png": "[encoded data removed]",
            "text/plain": [
              "<Figure size 432x288 with 1 Axes>"
            ]
          },
          "metadata": {
            "tags": [],
            "needs_background": "light"
          }
        }
      ]
    },
    {
      "cell_type": "markdown",
      "metadata": {
        "id": "gG4T8mWSao5P"
      },
      "source": [
        "Looking at the plot, you can make the following observations:\n",
        "<ul>\n",
        "    <li>The median income decreases as rank decreases. This is expected because the rank is determined by the median income.</li>\n",
        "    <li>Some majors have large gaps between the 25th and 75th percentiles. People with these degrees may earn significantly less or significantly more than the median income.</li>\n",
        "    <li>Other majors have very small gaps between the 25th and 75th percentiles. People with these degrees earn salaries very close to the median income.</li>\n",
        "</ul>\n",
        "Your first plot already hints that there's a lot more to discover in the data! Some majors have a wide range of earnings, and others have a rather narrow range. To discover these differences, you'll use several other types of plots.\n",
        "\n"
      ]
    },
    {
      "cell_type": "markdown",
      "metadata": {
        "id": "nFyToXjVao5P"
      },
      "source": [
        ".plot() has several optional parameters. Most notably, the kind parameter accepts eleven different string values and determines which kind of plot you’ll create:\n",
        "<ol>\n",
        "    \n",
        "    \"area\" is for area plots.\n",
        "    \"bar\" is for vertical bar charts.\n",
        "    \"barh\" is for horizontal bar charts.\n",
        "    \"box\" is for box plots.\n",
        "    \"hexbin\" is for hexbin plots.\n",
        "    \"hist\" is for histograms.\n",
        "    \"kde\" is for kernel density estimate charts.\n",
        "    \"density\" is an alias for \"kde\".\n",
        "    \"line\" is for line graphs.\n",
        "    \"pie\" is for pie charts.\n",
        "    \"scatter\" is for scatter plots.\n",
        "</ol>\n",
        "The default value is __\"line\"__. Line graphs, like the one you created above, provide a good overview of your data. You can use them to detect general trends. They rarely provide sophisticated insight, but they can give you clues as to where to zoom in.\n",
        "\n",
        "If you don’t provide a parameter to .plot(), then it creates a line plot with the index on the x-axis and all the numeric columns on the y-axis. While this is a useful default for datasets with only a few columns, for the college majors dataset and its several numeric columns, it looks like quite a mess."
      ]
    },
    {
      "cell_type": "markdown",
      "metadata": {
        "id": "Ju8E2WmWao5P"
      },
      "source": [
        "## Distributions and Histograms\n",
        "\n",
        "DataFrame is not the only class in pandas with a .plot() method. As so often happens in pandas, the Series object provides similar functionality.\n",
        "\n",
        "You can get each column of a DataFrame as a Series object. Here’s an example using the \"Median\" column of the DataFrame you created from the college major data:"
      ]
    },
    {
      "cell_type": "code",
      "metadata": {
        "id": "Qn_ydrAJao5P",
        "outputId": "09f3051d-a698-43a9-d838-fb6025a7613c"
      },
      "source": [
        "median_column = df[\"Median\"]\n",
        "type(median_column)"
      ],
      "execution_count": null,
      "outputs": [
        {
          "output_type": "execute_result",
          "data": {
            "text/plain": [
              "pandas.core.series.Series"
            ]
          },
          "metadata": {
            "tags": []
          },
          "execution_count": 39
        }
      ]
    },
    {
      "cell_type": "code",
      "metadata": {
        "id": "Tsnkp4SXao5P",
        "outputId": "35af2bab-b6e5-4720-a81d-7294bac353e4"
      },
      "source": [
        "median_column.plot(kind=\"hist\")\n",
        "plt.show()"
      ],
      "execution_count": null,
      "outputs": [
        {
          "output_type": "display_data",
          "data": {
            "image/png": "[encoded data removed]",
            "text/plain": [
              "<Figure size 432x288 with 1 Axes>"
            ]
          },
          "metadata": {
            "tags": [],
            "needs_background": "light"
          }
        }
      ]
    },
    {
      "cell_type": "markdown",
      "metadata": {
        "id": "jel07SM-ao5P"
      },
      "source": [
        "The histogram shows the data grouped into ten bins ranging from $\\$20,000$ to $\\$120,000$, and each bin has a width of $10,000. The histogram has a different shape than the normal distribution, which has a symmetric bell shape with a peak in the middle."
      ]
    },
    {
      "cell_type": "markdown",
      "metadata": {
        "id": "6qP9lGBYao5Q"
      },
      "source": [
        "The histogram of the median data, however, peaks on the left below $\\$40,000$. The tail stretches far to the right and suggests that there are indeed fields whose majors can expect significantly higher earnings."
      ]
    },
    {
      "cell_type": "markdown",
      "metadata": {
        "id": "R0XCz0ueao5Q"
      },
      "source": [
        "## Outliers\n",
        "\n",
        "Have you spotted that lonely small bin on the right edge of the distribution? It seems that one data point has its own category. The majors in this field get an excellent salary compared not only to the average but also to the runner-up. Although this isn't its main purpose, a histogram can help you to detect such an outlier. Let's investigate the outlier a bit more:\n",
        "<ul>\n",
        "    <li>Which majors does this outlier represent?</li>\n",
        "    <li>How big is its edge?</li>\n",
        "</ul>\n",
        "Contrary to the first overview, you only want to compare a few data points, but you want to see more details about them. For this, a bar plot is an excellent tool. First, select the five majors with the highest median earnings. You'll need two steps:\n",
        "<ul>\n",
        "    <li>To sort by the \"Median\" column, use .sort_values() and provide the name of the column you want to sort by as well as the direction ascending=False.</li>\n",
        "    <li>To get the top five items of your list, use .head().</li>\n",
        "</ul>\n",
        "Let's create a new DataFrame called top_5:"
      ]
    },
    {
      "cell_type": "code",
      "metadata": {
        "id": "zfAflW2Vao5Q"
      },
      "source": [
        "top_5 = df.sort_values(by=\"Median\", ascending=False).head()"
      ],
      "execution_count": null,
      "outputs": []
    },
    {
      "cell_type": "markdown",
      "metadata": {
        "id": "77pgoubyao5Q"
      },
      "source": [
        "Now you have a smaller DataFrame containing only the top five most lucrative majors. As a next step, you can create a bar plot that shows only the majors with these top five median salaries:"
      ]
    },
    {
      "cell_type": "code",
      "metadata": {
        "id": "VYH4H-3uao5Q",
        "outputId": "d01062c8-52a2-4316-ce23-fa397eb70ec3"
      },
      "source": [
        "top_5.plot(x=\"Major\", y=\"Median\", kind=\"bar\", rot=45, fontsize=8)\n",
        "plt.show()"
      ],
      "execution_count": null,
      "outputs": [
        {
          "output_type": "display_data",
          "data": {
            "image/png": "[encoded data removed]",
            "text/plain": [
              "<Figure size 432x288 with 1 Axes>"
            ]
          },
          "metadata": {
            "tags": [],
            "needs_background": "light"
          }
        }
      ]
    },
    {
      "cell_type": "markdown",
      "metadata": {
        "id": "EoZhVz8nao5Q"
      },
      "source": [
        "Notice that you use the rot and fontsize parameters to rotate and size the labels of the x-axis so that they're visible. You'll see a plot with 5 bars:"
      ]
    },
    {
      "cell_type": "markdown",
      "metadata": {
        "id": "qB9TAxshao5Q"
      },
      "source": [
        "This plot shows that the median salary of petroleum engineering majors is more than $20,000 higher than the rest. The earnings for the second- through fourth-place majors are relatively close to one another.\n",
        "\n",
        "If you have a data point with a much higher or lower value than the rest, then you’ll probably want to investigate a bit further. For example, you can look at the columns that contain related data.\n",
        "\n",
        "Let’s investigate all majors whose median salary is above $60,000. First, you need to filter these majors with the mask _df[df[\"Median\"] > 60000]_. Then you can create another bar plot showing all three earnings columns:"
      ]
    },
    {
      "cell_type": "code",
      "metadata": {
        "id": "z49UweDnao5R",
        "outputId": "b37fe9c3-d4f0-46ae-a60a-b989d395360d"
      },
      "source": [
        "top_medians = df[df[\"Median\"] > 60000].sort_values(\"Median\")\n",
        "top_medians.plot(x=\"Major\", y=[\"P25th\", \"Median\", \"P75th\"], kind=\"bar\",)\n",
        "plt.show()"
      ],
      "execution_count": null,
      "outputs": [
        {
          "output_type": "display_data",
          "data": {
            "image/png": "[encoded data removed]",
            "text/plain": [
              "<Figure size 432x288 with 1 Axes>"
            ]
          },
          "metadata": {
            "tags": [],
            "needs_background": "light"
          }
        }
      ]
    },
    {
      "cell_type": "markdown",
      "metadata": {
        "id": "O_3jfhrtao5R"
      },
      "source": [
        "The 25th and 75th percentile confirm what you’ve seen above: petroleum engineering majors were by far the best paid recent graduates.\n",
        "\n",
        "Why should you be so interested in outliers in this dataset? If you’re a college student pondering which major to pick, you have at least one pretty obvious reason. But outliers are also very interesting from an analysis point of view. They can indicate not only industries with an abundance of money but also invalid data.\n",
        "\n",
        "Invalid data can be caused by any number of errors or oversights, including a sensor outage, an error during the manual data entry, or a five-year-old participating in a focus group meant for kids age ten and above. Investigating outliers is an important step in data cleaning."
      ]
    },
    {
      "cell_type": "markdown",
      "metadata": {
        "id": "mmaiKObgao5R"
      },
      "source": [
        "Even if the data is correct, you may decide that it’s just so different from the rest that it produces more noise than benefit. Let’s assume you analyze the sales data of a small publisher. You group the revenues by region and compare them to the same month of the previous year. Then out of the blue, the publisher lands a national bestseller.\n",
        "\n",
        "This pleasant event makes your report kind of pointless. With the bestseller’s data included, sales are going up everywhere. Performing the same analysis without the outlier would provide more valuable information, allowing you to see that in New York your sales numbers have improved significantly, but in Miami they got worse."
      ]
    },
    {
      "cell_type": "markdown",
      "metadata": {
        "id": "H6f4fkU0ao5R"
      },
      "source": [
        "## Check for Correlation\n",
        "\n",
        "Often you want to see whether two columns of a dataset are connected. If you pick a major with higher median earnings, do you also have a lower chance of unemployment? As a first step, create a scatter plot with those two columns:"
      ]
    },
    {
      "cell_type": "code",
      "metadata": {
        "id": "nBfpuOb4ao5R",
        "outputId": "7c4edfe6-c344-49c8-efee-39fa5a862106"
      },
      "source": [
        "df.plot(x=\"Median\", y=\"Unemployment_rate\", kind=\"scatter\")\n",
        "plt.show()"
      ],
      "execution_count": null,
      "outputs": [
        {
          "output_type": "display_data",
          "data": {
            "image/png": "[encoded data removed]",
            "text/plain": [
              "<Figure size 432x288 with 1 Axes>"
            ]
          },
          "metadata": {
            "tags": [],
            "needs_background": "light"
          }
        }
      ]
    },
    {
      "cell_type": "markdown",
      "metadata": {
        "id": "Ev6E0W4Rao5R"
      },
      "source": [
        "You should see a quite random-looking plot, like this: scatter plot median unemployment"
      ]
    },
    {
      "cell_type": "markdown",
      "metadata": {
        "id": "smwOVBXOao5S"
      },
      "source": [
        "A quick glance at this figure shows that there’s no significant correlation between the earnings and unemployment rate.\n",
        "\n",
        "While a scatter plot is an excellent tool for getting a first impression about possible correlation, it certainly isn’t definitive proof of a connection. For an overview of the correlations between different columns, you can use .corr(). If you suspect a correlation between two values, then you have several tools at your disposal to verify your hunch and measure how strong the correlation is.\n",
        "\n",
        "Keep in mind, though, that even if a correlation exists between two values, it still doesn’t mean that a change in one would result in a change in the other. In other words, correlation does not imply causation."
      ]
    },
    {
      "cell_type": "markdown",
      "metadata": {
        "id": "X5kDd4jwao5S"
      },
      "source": [
        "## Analyze Categorical Data\n",
        "\n",
        "To process bigger chunks of information, the human mind consciously and unconsciously sorts data into categories. This technique is often useful, but it’s far from flawless.\n",
        "\n",
        "Sometimes we put things into a category that, upon further examination, aren’t all that similar. In this section, you’ll get to know some tools for examining categories and verifying whether a given categorization makes sense.\n",
        "\n",
        "Many datasets already contain some explicit or implicit categorization. In the current example, the 173 majors are divided into 16 categories."
      ]
    },
    {
      "cell_type": "markdown",
      "metadata": {
        "id": "v7zw3KIyao5S"
      },
      "source": [
        "## Grouping\n",
        "\n",
        "A basic usage of categories is grouping and aggregation. You can use .groupby() to determine how popular each of the categories in the college major dataset are:"
      ]
    },
    {
      "cell_type": "code",
      "metadata": {
        "id": "HCWrq20lao5S"
      },
      "source": [
        "cat_totals = df.groupby(\"Major_category\")[\"Total\"].sum().sort_values()"
      ],
      "execution_count": null,
      "outputs": []
    },
    {
      "cell_type": "code",
      "metadata": {
        "id": "ufr_y0_Rao5S",
        "outputId": "e87eb5cb-ca5a-484b-c846-a13d0bc3613e"
      },
      "source": [
        "cat_totals"
      ],
      "execution_count": null,
      "outputs": [
        {
          "output_type": "execute_result",
          "data": {
            "text/plain": [
              "Major_category\n",
              "Interdisciplinary                        12296.0\n",
              "Agriculture & Natural Resources          75620.0\n",
              "Law & Public Policy                     179107.0\n",
              "Physical Sciences                       185479.0\n",
              "Industrial Arts & Consumer Services     229792.0\n",
              "Computers & Mathematics                 299008.0\n",
              "Arts                                    357130.0\n",
              "Communications & Journalism             392601.0\n",
              "Biology & Life Science                  453862.0\n",
              "Health                                  463230.0\n",
              "Psychology & Social Work                481007.0\n",
              "Social Science                          529966.0\n",
              "Engineering                             537583.0\n",
              "Education                               559129.0\n",
              "Humanities & Liberal Arts               713468.0\n",
              "Business                               1302376.0\n",
              "Name: Total, dtype: float64"
            ]
          },
          "metadata": {
            "tags": []
          },
          "execution_count": 26
        }
      ]
    },
    {
      "cell_type": "code",
      "metadata": {
        "id": "Tvzw7PClao5S",
        "outputId": "3b5c0cf4-0ebd-4622-919b-a1e5ea7e20cb"
      },
      "source": [
        "cat_totals.plot(kind=\"barh\", fontsize=4)\n",
        "plt.show()"
      ],
      "execution_count": null,
      "outputs": [
        {
          "output_type": "display_data",
          "data": {
            "image/png": "[encoded data removed]",
            "text/plain": [
              "<Figure size 432x288 with 1 Axes>"
            ]
          },
          "metadata": {
            "tags": [],
            "needs_background": "light"
          }
        }
      ]
    },
    {
      "cell_type": "markdown",
      "metadata": {
        "id": "4Du03LUSao5S"
      },
      "source": [
        "As your plot shows, business is by far the most popular major category. While humanities and liberal arts is the clear second, the rest of the fields are more similar in popularity."
      ]
    },
    {
      "cell_type": "markdown",
      "metadata": {
        "id": "QFG73w6qao5T"
      },
      "source": [
        "## Determining Ratios\n",
        "\n",
        "Vertical and horizontal bar charts are often a good choice if you want to see the difference between your categories. If you’re interested in ratios, then pie plots are an excellent tool. However, since cat_totals contains a few smaller categories, creating a pie plot with cat_totals.plot(kind=\"pie\") will produce several tiny slices with overlapping labels .\n",
        "\n",
        "To address this problem, you can lump the smaller categories into a single group. Merge all categories with a total under 100,000 into a category called \"Other\", then create a pie plot:"
      ]
    },
    {
      "cell_type": "code",
      "metadata": {
        "id": "zhpXD_c9ao5T"
      },
      "source": [
        "small_cat_totals = cat_totals[cat_totals < 100_000]"
      ],
      "execution_count": null,
      "outputs": []
    },
    {
      "cell_type": "code",
      "metadata": {
        "id": "KxnnMbi6ao5T"
      },
      "source": [
        "big_cat_totals = cat_totals[cat_totals > 100_000]"
      ],
      "execution_count": null,
      "outputs": []
    },
    {
      "cell_type": "code",
      "metadata": {
        "id": "kKUGqEdfao5T",
        "outputId": "e71d7912-6ce3-4289-bae5-c601b2a50f6c"
      },
      "source": [
        "# Adding a new item \"Other\" with the sum of the small categories\n",
        "small_sums = pd.Series([small_cat_totals.sum()], index=[\"Other\"])\n",
        "big_cat_totals = big_cat_totals.append(small_sums)\n",
        "big_cat_totals.plot(kind=\"pie\", label=\"\")\n",
        "plt.show()"
      ],
      "execution_count": null,
      "outputs": [
        {
          "output_type": "display_data",
          "data": {
            "image/png": "[encoded data removed]",
            "text/plain": [
              "<Figure size 432x288 with 1 Axes>"
            ]
          },
          "metadata": {
            "tags": []
          }
        }
      ]
    },
    {
      "cell_type": "markdown",
      "metadata": {
        "id": "s2L8XjCmao5T"
      },
      "source": [
        "Notice that you include the argument label=\"\". By default, pandas adds a label with the column name. That often makes sense, but in this case it would only add noise."
      ]
    },
    {
      "cell_type": "code",
      "metadata": {
        "id": "unEx-ppqao5T",
        "outputId": "6046a6ea-2177-4552-8680-55688feb6d99"
      },
      "source": [
        "import numpy as np\n",
        "import matplotlib.pyplot as plt\n",
        "import seaborn as sns\n",
        "%matplotlib inline\n",
        "data = np.random.normal(0, 1, 3)\n",
        "# array([-1.18878589,  0.59627021,  1.59895721])plt.figure(figsize=(16, 6))\n",
        "sns.boxplot(x=data);"
      ],
      "execution_count": null,
      "outputs": [
        {
          "output_type": "display_data",
          "data": {
            "image/png": "[encoded data removed]",
            "text/plain": [
              "<Figure size 432x288 with 1 Axes>"
            ]
          },
          "metadata": {
            "tags": [],
            "needs_background": "light"
          }
        }
      ]
    },
    {
      "cell_type": "code",
      "metadata": {
        "id": "H5HpgJUZao5U",
        "outputId": "77ee040e-1824-4cab-f5ad-fafcfc093d9e"
      },
      "source": [
        "from bokeh.plotting import figure, output_file, show\n",
        "\n",
        "# prepare some data\n",
        "x = [0.1, 0.5, 1.0, 1.5, 2.0, 2.5, 3.0]\n",
        "y0 = [i**2 for i in x]\n",
        "y1 = [10**i for i in x]\n",
        "y2 = [10**(i**2) for i in x]\n",
        "\n",
        "# output to static HTML file\n",
        "output_file(\"log_lines.html\")\n",
        "\n",
        "# create a new plot\n",
        "p = figure(\n",
        "   tools=\"pan,box_zoom,reset,save\",\n",
        "   y_axis_type=\"log\", y_range=[0.001, 10**11], title=\"log axis example\",\n",
        "   x_axis_label='sections', y_axis_label='particles'\n",
        ")\n",
        "\n",
        "# add some renderers\n",
        "p.line(x, x, legend=\"y=x\")\n",
        "p.circle(x, x, legend=\"y=x\", fill_color=\"white\", size=8)\n",
        "p.line(x, y0, legend=\"y=x^2\", line_width=3)\n",
        "p.line(x, y1, legend=\"y=10^x\", line_color=\"red\")\n",
        "p.circle(x, y1, legend=\"y=10^x\", fill_color=\"red\", line_color=\"red\", size=6)\n",
        "p.line(x, y2, legend=\"y=10^x^2\", line_color=\"orange\", line_dash=\"4 4\")\n",
        "\n",
        "# show the results\n",
        "show(p)"
      ],
      "execution_count": null,
      "outputs": [
        {
          "output_type": "stream",
          "text": [
            "BokehDeprecationWarning: 'legend' keyword is deprecated, use explicit 'legend_label', 'legend_field', or 'legend_group' keywords instead\n",
            "BokehDeprecationWarning: 'legend' keyword is deprecated, use explicit 'legend_label', 'legend_field', or 'legend_group' keywords instead\n",
            "BokehDeprecationWarning: 'legend' keyword is deprecated, use explicit 'legend_label', 'legend_field', or 'legend_group' keywords instead\n",
            "BokehDeprecationWarning: 'legend' keyword is deprecated, use explicit 'legend_label', 'legend_field', or 'legend_group' keywords instead\n",
            "BokehDeprecationWarning: 'legend' keyword is deprecated, use explicit 'legend_label', 'legend_field', or 'legend_group' keywords instead\n",
            "BokehDeprecationWarning: 'legend' keyword is deprecated, use explicit 'legend_label', 'legend_field', or 'legend_group' keywords instead\n"
          ],
          "name": "stderr"
        }
      ]
    },
    {
      "cell_type": "code",
      "metadata": {
        "id": "eTkC6zG8ao5U"
      },
      "source": [
        "import plotly.graph_objects as go\n",
        "fig = go.Figure(data=go.Bar(y=[2, 3, 1]))\n",
        "fig.show()"
      ],
      "execution_count": null,
      "outputs": []
    }
  ]
}