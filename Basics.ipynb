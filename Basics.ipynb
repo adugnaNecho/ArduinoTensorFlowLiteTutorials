{
  "nbformat": 4,
  "nbformat_minor": 0,
  "metadata": {
    "kernelspec": {
      "display_name": "Python 3",
      "language": "python",
      "name": "python3"
    },
    "language_info": {
      "codemirror_mode": {
        "name": "ipython",
        "version": 3
      },
      "file_extension": ".py",
      "mimetype": "text/x-python",
      "name": "python",
      "nbconvert_exporter": "python",
      "pygments_lexer": "ipython3",
      "version": "3.7.3"
    },
    "toc": {
      "base_numbering": 1,
      "nav_menu": {
        "height": "78px",
        "width": "508px"
      },
      "number_sections": true,
      "sideBar": true,
      "skip_h1_title": false,
      "title_cell": "Table of Contents",
      "title_sidebar": "Contents",
      "toc_cell": false,
      "toc_position": {
        "height": "calc(100% - 180px)",
        "left": "10px",
        "top": "150px",
        "width": "165px"
      },
      "toc_section_display": true,
      "toc_window_display": true
    },
    "colab": {
      "name": "Basics.ipynb",
      "provenance": [],
      "include_colab_link": true
    }
  },
  "cells": [
    {
      "cell_type": "markdown",
      "metadata": {
        "id": "view-in-github",
        "colab_type": "text"
      },
      "source": [
        "<a href=\"https://colab.research.google.com/github/adugnaNecho/ArduinoTensorFlowLiteTutorials/blob/master/Basics.ipynb\" target=\"_parent\"><img src=\"https://colab.research.google.com/assets/colab-badge.svg\" alt=\"Open In Colab\"/></a>"
      ]
    },
    {
      "cell_type": "markdown",
      "metadata": {
        "id": "_RCekXhqS3-w"
      },
      "source": [
        "<center>\n",
        "<img src=\"images/logo1.png\" alt=\"logo\" style=\"width: 200px;\"/>\n",
        "<br>\n",
        "\n",
        "<center> <font size=6 style='bold  font-family: var(--Abel)'>Bahir Dar University </font> </center>\n",
        "    \n",
        "<br>\n",
        "<center> <font size=6 style='bold font-family: var(--Anton);'>Bahir Dar Institute of Technology</font> </center>\n",
        "<br>\n",
        "<br>\n",
        "<br>\n",
        "\n",
        "<center> <font size=6 style='bold' color='#FF5733'>Training on Python Basics</font> </center>\n",
        "\n",
        "<br>\n",
        "    <center> <font size=6 family = var(--Anton) style='bold'>By</font> </center>\n",
        "<br>\n",
        "<center> <font size=6 style='bold font-family:var(--Abel)' color='#FF5733'>Eyaya Birara</font> </center>\n",
        "<br>\n",
        "\n",
        "<center> <font size=6 style='bold font-family:Abel'>July 21-24, 2021 </font> </center>\n",
        "<br>\n",
        "<center> <font size=6 style='bold font-family:Abel'>Organized By:<font size=6 style='bold font-family:var(--Abel)' color='blue'> UiL-CS</font> </font> </center>\n",
        "</center>"
      ]
    },
    {
      "cell_type": "markdown",
      "metadata": {
        "id": "2u5hSGgkS3-0"
      },
      "source": [
        "<h1> Introduction </h1>\n",
        "\n"
      ]
    },
    {
      "cell_type": "markdown",
      "metadata": {
        "id": "OthYnj9CS3-1"
      },
      "source": [
        "**Python** is an object-oriented programming language that is designed in C. By nature, it is a high-level programming language that allows for the creation of both simple as well as complex operations. Along with this Python comes inbuilt with a wide array of modules as well as libraries which allows it to support many different programming languages like Java, C, C++, and JSON.\n",
        "\n",
        "**Python** is a dynamic, high level, free open source and interpreted programming language. It supports object-oriented programming as well as procedural oriented programming. \n",
        "\n",
        "In Python, we don’t need to declare the type of variable because it is a **dynamic typed programming language**.\n",
        "For example, \n",
        "\n",
        "```python\n",
        "x=10\n",
        "```\n",
        "here x can be anything such as String, int etc.\n"
      ]
    },
    {
      "cell_type": "markdown",
      "metadata": {
        "id": "xBz2pTHYS3-3"
      },
      "source": [
        "<h2>Features of Python</h2>\n",
        "\n",
        "<p>Python provides lots of features that are listed below.</p>\n",
        "\n",
        "![title](images/features.png)\n",
        "\n",
        "**1. Easy to Learn and Use**\n",
        "<p>Python is easy to learn and use. It is developer-friendly and high level programming language.</p>\n",
        "\n",
        "**2. Expressive Language**\n",
        "<p> Python language is more expressive means that it is more understandable and readable.</p>\n",
        "\n",
        "**3. Interpreted Language**\n",
        "<p> Python is an interpreted language i.e. interpreter executes the code line by line at a time. This makes debugging easy and thus suitable for beginners.</p>\n",
        "\n",
        "**4. Cross-platform Language**\n",
        "<p>Python can run equally on different platforms such as Windows, Linux, Unix and Macintosh etc. So, we can say that Python is a portable language.</p>\n",
        "\n",
        "**5. Free and Open Source**\n",
        "<p> Python language is freely available at <a href=\"https://www.python.org/\" rel=\"nofollow\" target=\"blank\">https://www.python.org</a>.The source-code is also available. Therefore it is open source.</p>\n",
        "\n",
        "**6. Object-Oriented Language**\n",
        "<p> Python supports object oriented language and concepts of classes and objects come into existence.</p>\n",
        "\n",
        "**7. Extensible** \n",
        "<p>It implies that other languages such as C/C++ can be used to compile the code and thus it can be used further in our python code.</p>\n",
        "\n",
        "**8. Large Standard Library**\n",
        "<p>Python has a large and broad library and prvides rich set of module and functions for rapid application development. </p>\n",
        "\n",
        "**9. GUI Programming Support**\n",
        "<p>Graphical user interfaces can be developed using Python.</p>\n",
        "\n",
        "**10. Integrated**\n",
        "<p> It can be easily integrated with languages like C, C++, JAVA etc.</p>"
      ]
    },
    {
      "cell_type": "markdown",
      "metadata": {
        "id": "7HehBiiES3-4"
      },
      "source": [
        "<h2>Python version</h2>\n",
        "\n",
        "There are two version of the Python language out there: Python 2.x and Python 3.x. They are (slightly) different — the changes in Python 3.x were introduced to address shortcomings in the design of the language that were identified since Python’s inception. A decision was made that some incompatibility should be accepted to achieve the higher goal of a better language for the future.\n",
        "\n",
        "For scientific computation, it is crucial to make use of numerical libraries such as [numpy](http://numpy.scipy.org/), [scipy](http://www.scipy.org) and the plotting package [matplotlib](http://matplotlib.sourceforge.net/).\n",
        "\n",
        "All of these are now available for Python 3, and we will use Python 3.x in this training.\n",
        "\n",
        "However, there is a lot of code still in use that was written for Python 2, and it's useful to be aware of the differences. The most prominent example is that in Python 2.x, the `print` command is special, whereas in Python 3 it is an ordinary function. For example, in Python 2.7, we can write:\n",
        "\n",
        "```python\n",
        "print \"Hello World\"\n",
        "```"
      ]
    },
    {
      "cell_type": "code",
      "metadata": {
        "id": "r3NhtAsbS3-5"
      },
      "source": [
        "print (\"Hello\")"
      ],
      "execution_count": null,
      "outputs": []
    },
    {
      "cell_type": "markdown",
      "metadata": {
        "id": "vAYWqccwS3-6"
      },
      "source": [
        "<h1 style=bold>Part-1: Python Basics</h1>\n",
        "<h2 style=bold> Python Syntax </h2>\n",
        "Door to learn any language, not only technical but any language in general, one has to have strong command on its <b>grammar</b>. Grammar in a technical scenario means <b>syntax</b>.\n",
        "\n",
        "Today, we will learn about the Python syntax in which, we will see what is Python syntax and how it is different from other programming lagueges such as Java and C++. \n",
        "\n",
        "After completing this section, you will be able to identify and debug Python syntax. So, let’s first understand what is Python Syntax with the help of example.\n",
        "\n",
        "The term syntax is referred to a set of rules and principles that describes the structure of a language. The Python syntax defines all the set of rules that are used to create sentences in Python programming. <b>For example –</b>  we have to learn grammar when we want to learn the English language. In the same way, you will need to learn and understand the Python syntax in order to learn the Python language.\n",
        "\n",
        "<font size=4> __Example of Python Syntax__ </font>\n",
        "\n",
        "Python is a popular language because of its elegant syntax structure. Let’s take a quick look at a simple Python program and you will get an idea of how programming in Python looks like."
      ]
    },
    {
      "cell_type": "code",
      "metadata": {
        "id": "W5I8i6krS3-7",
        "colab": {
          "base_uri": "https://localhost:8080/"
        },
        "outputId": "108f582a-9627-402f-8306-1207462da707"
      },
      "source": [
        "a=3\n",
        "print(a)"
      ],
      "execution_count": null,
      "outputs": [
        {
          "output_type": "stream",
          "text": [
            "3\n"
          ],
          "name": "stdout"
        }
      ]
    },
    {
      "cell_type": "code",
      "metadata": {
        "id": "W8LkO1ZuS3-7"
      },
      "source": [
        "print(\"please enter a number\")\n",
        "n = int(input())\n",
        "print(type(n))"
      ],
      "execution_count": null,
      "outputs": []
    },
    {
      "cell_type": "code",
      "metadata": {
        "id": "xKzsZxdYS3-8"
      },
      "source": [
        "#Simple Python Program to see if a user is eligible to vote or not.\n",
        "# getting user’s name \n",
        "print(\"Enter your name:\")\n",
        "name = input()\n",
        "# getting user’s age\n",
        "print(\"Enter your age:\")\n",
        "age = int(input())\n",
        "# condition to check if user is eligible or not\n",
        "if( age >= 18 ):\n",
        "    print( name, ' is eligible to vote.')\n",
        "else:\n",
        "    print( name, ' is not eligible to vote.')"
      ],
      "execution_count": null,
      "outputs": []
    },
    {
      "cell_type": "markdown",
      "metadata": {
        "id": "Z7inGCGzS3-8"
      },
      "source": [
        "*Now! Let us see various structures in Python syntax that are used while doing programming in Python.*\n",
        "\n",
        "<h3>Types of Syntax Structures in Python</h3>\n",
        "\n",
        "![title](images/syntax.png)"
      ]
    },
    {
      "cell_type": "markdown",
      "metadata": {
        "id": "EIulUidkS3-8"
      },
      "source": [
        "<h4>Python Line Structure </h4>\n",
        "    \n",
        "    \n",
        "A Python program comprises logical lines. A NEWLINE token follows each of those. The interpreter ignores blank lines.\n",
        "\n",
        "The following line causes an error."
      ]
    },
    {
      "cell_type": "code",
      "metadata": {
        "id": "6Im72XWDS3-9"
      },
      "source": [
        "print(\"hi\n",
        "      How are you\")"
      ],
      "execution_count": null,
      "outputs": []
    },
    {
      "cell_type": "markdown",
      "metadata": {
        "id": "X7zxXqvhS3-9"
      },
      "source": [
        "<h4> Python Multiline Statements </h4>\n",
        "\n",
        "This one is an important Python syntax. We saw that Python does not mandate semicolons. A new line means a new statement. But sometimes, you may want to split a statement over two or more lines. It may be to aid readability. You can do so in the following ways.\n",
        "\n",
        "**1. Use a backward slash**"
      ]
    },
    {
      "cell_type": "code",
      "metadata": {
        "id": "-i3PAKnSS3-9"
      },
      "source": [
        "print(\"hi\\\n",
        "How are you\")"
      ],
      "execution_count": null,
      "outputs": []
    },
    {
      "cell_type": "markdown",
      "metadata": {
        "id": "ANwR051NS3--"
      },
      "source": [
        "You can also use it to distribute a statement without a string across lines."
      ]
    },
    {
      "cell_type": "code",
      "metadata": {
        "id": "tYPHFo20S3--"
      },
      "source": [
        "a\\\n",
        "=\\\n",
        "10"
      ],
      "execution_count": null,
      "outputs": []
    },
    {
      "cell_type": "code",
      "metadata": {
        "id": "WBcBkuCsS3--"
      },
      "source": [
        "print(a)"
      ],
      "execution_count": null,
      "outputs": []
    },
    {
      "cell_type": "markdown",
      "metadata": {
        "id": "KT0S9iAbS3-_"
      },
      "source": [
        "**2. Put the String in Triple Quotes**"
      ]
    },
    {
      "cell_type": "code",
      "metadata": {
        "id": "gVQauF0qS3-_"
      },
      "source": [
        "print(\"\"\"hi\n",
        "How are you\"\"\")"
      ],
      "execution_count": null,
      "outputs": []
    },
    {
      "cell_type": "markdown",
      "metadata": {
        "id": "tvSdBGctS3-_"
      },
      "source": [
        "However, you can’t use backslashes inside a docstring for statements that aren’t a string."
      ]
    },
    {
      "cell_type": "code",
      "metadata": {
        "id": "uUoe8COsS3-_"
      },
      "source": [
        "\"\"\"b\\\n",
        "=\\\n",
        "10\"\"\""
      ],
      "execution_count": null,
      "outputs": []
    },
    {
      "cell_type": "code",
      "metadata": {
        "id": "yLY9aDYqS3-_"
      },
      "source": [
        "print(b)"
      ],
      "execution_count": null,
      "outputs": []
    },
    {
      "cell_type": "markdown",
      "metadata": {
        "id": "P4QifJrQS3_A"
      },
      "source": [
        "<h4> Python Comments</h4>\n",
        "\n",
        "Python Syntax **‘Comments’** let you store tags at the right places in the code. You can use them to explain complex sections of code. The interpreter ignores comments. Declare a comment using an octothorpe (#)."
      ]
    },
    {
      "cell_type": "code",
      "metadata": {
        "id": "-mghXPcAS3_A"
      },
      "source": [
        "# This is a comment\n",
        "# This is a second comment\n",
        "x =3\n",
        "print(x)"
      ],
      "execution_count": null,
      "outputs": []
    },
    {
      "cell_type": "markdown",
      "metadata": {
        "id": "66j77mkLS3_A"
      },
      "source": [
        "Python does not support general multiline comments like **Java** or **C++**."
      ]
    },
    {
      "cell_type": "markdown",
      "metadata": {
        "id": "oZo0zj0IS3_A"
      },
      "source": [
        "<h4> Python Docstrings</h4>\n",
        "\n",
        "A docstring is a documentation string. As a comment, this Python Syntax is used to explain code. But unlike comments, they are more specific. Also, they are retained at runtime. This way, the programmer can inspect them at runtime. Delimit a docstring using three double-quotes. You may put it as a function’s first line to describe it."
      ]
    },
    {
      "cell_type": "code",
      "metadata": {
        "id": "PuEUFp-LS3_B"
      },
      "source": [
        "def f(x):\n",
        "    \"\"\"\n",
        "     This function returns square of a number\n",
        "     this is the third comment\n",
        "    \"\"\"\n",
        "    return x**2"
      ],
      "execution_count": null,
      "outputs": []
    },
    {
      "cell_type": "code",
      "metadata": {
        "id": "p0EbgYSsS3_B"
      },
      "source": [
        ""
      ],
      "execution_count": null,
      "outputs": []
    },
    {
      "cell_type": "code",
      "metadata": {
        "id": "CpcbuJL1S3_B"
      },
      "source": [
        "f(3)     #function call to f by passing a value of 3 "
      ],
      "execution_count": null,
      "outputs": []
    },
    {
      "cell_type": "markdown",
      "metadata": {
        "id": "oKwU0990S3_B"
      },
      "source": [
        "<h4> Python Indentation </h4>\n",
        "    \n",
        "Since Python doesn’t use curly braces to delimit blocks of code, this Python Syntax is mandatory. You can indent code under a function, loop, or class."
      ]
    },
    {
      "cell_type": "code",
      "metadata": {
        "id": "dSsWsjdcS3_C"
      },
      "source": [
        "if 0 >1:\n",
        "    print(\"2 is the bigger person\")\n",
        "    print('it does not mean that 1 is worthless')\n",
        "print(\"Hello\")"
      ],
      "execution_count": null,
      "outputs": []
    },
    {
      "cell_type": "markdown",
      "metadata": {
        "id": "sg6Wvg9gS3_C"
      },
      "source": [
        "You can indent using a number of tabs or spaces, or a combination of those. But remember, indent statements under one block of code with the same amount of tabs and spaces."
      ]
    },
    {
      "cell_type": "code",
      "metadata": {
        "id": "ydU2fuOkS3_C"
      },
      "source": [
        "if 2 >1:\n",
        "    print(\"2 is the bigger person\")\n",
        "  print('it doe not mean that 1 is worthless')"
      ],
      "execution_count": null,
      "outputs": []
    },
    {
      "cell_type": "markdown",
      "metadata": {
        "id": "WxzClTZqS3_D"
      },
      "source": [
        "<h4> Python Multiple Statements in One Line</h4>\n",
        "\n",
        "You can also fit in more than one statement on one line. Do this by separating them with a semicolon. But you’d only want to do so if it supplements readability"
      ]
    },
    {
      "cell_type": "code",
      "metadata": {
        "id": "G27dCkRYS3_D"
      },
      "source": [
        "a=10; print(a)"
      ],
      "execution_count": null,
      "outputs": []
    },
    {
      "cell_type": "markdown",
      "metadata": {
        "id": "7UdfXs3hS3_D"
      },
      "source": [
        "<h4>Python Quotations</h4>\n",
        "\n",
        "Python supports the single quote and the double quote for string literals. But if you begin a string with a single quote, you must end it with a single quote. The same goes for double-quotes.\n",
        "\n",
        "The following string is delimited by single quotes."
      ]
    },
    {
      "cell_type": "code",
      "metadata": {
        "id": "C4ATkai3S3_D"
      },
      "source": [
        "print('We need to keep our social-distancing')"
      ],
      "execution_count": null,
      "outputs": []
    },
    {
      "cell_type": "markdown",
      "metadata": {
        "id": "rgUrZ04DS3_D"
      },
      "source": [
        "This string is delimited by double-quotes."
      ]
    },
    {
      "cell_type": "code",
      "metadata": {
        "id": "RnOuvz8eS3_D"
      },
      "source": [
        "print(\"We need to keep our 'social-distancing'\")"
      ],
      "execution_count": null,
      "outputs": []
    },
    {
      "cell_type": "markdown",
      "metadata": {
        "id": "v3N2TuRxS3_E"
      },
      "source": [
        "Notice how we used single quotes around the word social-distancing in the string? If we used double quotes everywhere, the string would terminate prematurely."
      ]
    },
    {
      "cell_type": "code",
      "metadata": {
        "id": "a1F9Cx__S3_E"
      },
      "source": [
        "print(\"We need to keep our \"social-distancing\"\")"
      ],
      "execution_count": null,
      "outputs": []
    },
    {
      "cell_type": "markdown",
      "metadata": {
        "id": "ihQTExuwS3_E"
      },
      "source": [
        "<h4>Python Blank Lines</h4>\n",
        "\n",
        "If you leave a line with just whitespace, the interpreter will ignore it."
      ]
    },
    {
      "cell_type": "code",
      "metadata": {
        "id": "53bUEOcES3_E"
      },
      "source": [
        "a =5 \n",
        "print(a**2)"
      ],
      "execution_count": null,
      "outputs": []
    },
    {
      "cell_type": "markdown",
      "metadata": {
        "id": "Lawl_2IcS3_E"
      },
      "source": [
        "<h4>Python Identifiers</h4>\n",
        "\n",
        "An identifier is a name of a program element, and it is **user-defined**. This Python Syntax uniquely identifies the element. There are some rules to follow while choosing an identifier:\n",
        "<ol>\n",
        "    <li>An identifier may only begin with A-Z, a-z, or an underscore(_).</li>\n",
        "    <li>This may be followed by letters, digits, and underscores- zero or more.</li>\n",
        "    <li>Python is case-sensitive. Name and name are two different identifiers.</li>\n",
        "    <li>A reserved keyword may not be used as an identifier. The following is a list of keywords.</li>\n",
        "</ol>"
      ]
    },
    {
      "cell_type": "code",
      "metadata": {
        "id": "7e1Jv5VeS3_E"
      },
      "source": [
        "university ='BDU' \n",
        "print(university)"
      ],
      "execution_count": null,
      "outputs": []
    },
    {
      "cell_type": "code",
      "metadata": {
        "id": "VR6uXv-tS3_F"
      },
      "source": [
        "help(\"keywords\")"
      ],
      "execution_count": null,
      "outputs": []
    },
    {
      "cell_type": "code",
      "metadata": {
        "id": "xjdRZ1e7S3_F"
      },
      "source": [
        ""
      ],
      "execution_count": null,
      "outputs": []
    },
    {
      "cell_type": "markdown",
      "metadata": {
        "id": "Z5VVMPKUS3_F"
      },
      "source": [
        "Apart from these rules, there are a few naming conventions that you should follow while using this Python syntax:\n",
        "\n",
        "<ol>\n",
        "    <li>Use uppercase initials for class names, lowercase for all others.</li>\n",
        "    <li>Name a private identifier with a leading underscore ( _username)</li>\n",
        "    <li>Name a strongly private identifier with two leading underscores ( __password)</li>\n",
        "    <li>Special identifiers by Python end with two leading underscores.</li>\n",
        "<ol>"
      ]
    },
    {
      "cell_type": "markdown",
      "metadata": {
        "id": "f2GIKDpFS3_F"
      },
      "source": [
        "<h4> Python Variables</h4>\n",
        "\n",
        "In Python, you don't define the type of the variable. It is assumed on the basis of the value it holds."
      ]
    },
    {
      "cell_type": "code",
      "metadata": {
        "id": "b2ny-XTgS3_F"
      },
      "source": [
        "x = 10\n",
        "print(x)\n",
        "print(type(x))"
      ],
      "execution_count": null,
      "outputs": []
    },
    {
      "cell_type": "code",
      "metadata": {
        "id": "46XPDhO6S3_F"
      },
      "source": [
        "x = 'Python'\n",
        "print(x)\n",
        "print(type(x))"
      ],
      "execution_count": null,
      "outputs": []
    },
    {
      "cell_type": "markdown",
      "metadata": {
        "id": "atoWM6JaS3_G"
      },
      "source": [
        "Here, we declared a variable x and assigned it a value of 10. Then we printed its value. Next, we assigned it the value ‘Hello’ and printed it out. So, we see, a variable can hold any type of value at a later instant. Hence, Python is a **dynamically-typed language**."
      ]
    },
    {
      "cell_type": "markdown",
      "metadata": {
        "id": "5QPVI7_FS3_G"
      },
      "source": [
        "<h4> Python String Formatters</h4>\n",
        "\n",
        "Now let us see the different types of String formatters in Python:\n",
        "\n",
        "**1. % Operator**\n",
        "\n",
        "You can use the % operator to format a string to contain text as well as values of identifiers. Use %s where you want a value to appear. After the string, put a % operator and mention the identifiers in parameters."
      ]
    },
    {
      "cell_type": "code",
      "metadata": {
        "id": "4Bi61vSkS3_G"
      },
      "source": [
        "x=15;  printer=\"SANS-Printer\"\n",
        "#print(\"I just printed \"+ str(x)+ \" pages to the printer \" + \"SANS-Printer\")\n",
        "print(\"I just printed %s pages to the printer %s\" % (x, printer))"
      ],
      "execution_count": null,
      "outputs": []
    },
    {
      "cell_type": "markdown",
      "metadata": {
        "id": "gFQegNHAS3_G"
      },
      "source": [
        "**2. Format Method**\n",
        "\n",
        "The format method allows you to format a string in a similar way. At the places, you want to put values, put 0,1,2,.. in curly braces. Call the format method on the string and mention the identifiers in the parameters."
      ]
    },
    {
      "cell_type": "code",
      "metadata": {
        "id": "qKWqevnpS3_G"
      },
      "source": [
        "y = \"Dr. Dawit\"\n",
        "print(\"{0} just printed {1} pages to the printer {2}\".format(x, printer,y))"
      ],
      "execution_count": null,
      "outputs": []
    },
    {
      "cell_type": "markdown",
      "metadata": {
        "id": "Ar-DszhKS3_G"
      },
      "source": [
        "You can also use the method to print out identifiers that match certain values."
      ]
    },
    {
      "cell_type": "code",
      "metadata": {
        "id": "1ANjtdsES3_H"
      },
      "source": [
        "print(\"I  just printed {x} pages to the printer {printer}\".format(x=8, printer='HP'))"
      ],
      "execution_count": null,
      "outputs": []
    },
    {
      "cell_type": "markdown",
      "metadata": {
        "id": "RNz2JSO8S3_H"
      },
      "source": [
        "**3. f-strings**\n",
        "\n",
        "If you use an f-string, you just need to mention the identifiers in curly braces. Also, write ‘f’ right before the string, but outside the quotes used."
      ]
    },
    {
      "cell_type": "code",
      "metadata": {
        "id": "7JBlxFYBS3_H"
      },
      "source": [
        "print(f\"I just printed {x} pages to the printer {printer}\")"
      ],
      "execution_count": null,
      "outputs": []
    },
    {
      "cell_type": "markdown",
      "metadata": {
        "id": "7rtnj9APS3_H"
      },
      "source": [
        "So, this was all about Python Syntax. I hope you will practice and dig deeper to have a better understanding of python syntax.\n",
        "<br>\n",
        "<br>\n",
        "\n",
        "<center> <font color=green size=8> Any Questions?</font></center>"
      ]
    },
    {
      "cell_type": "markdown",
      "metadata": {
        "id": "U7f0BY9KS3_H"
      },
      "source": [
        "<h2>Variables and Data Types </h2>\n",
        "In this section, we will learn about Python variables and data types being used in Python. Since we know that Python is a dynamically-typed language, we don’t specify the type of a variable when declaring one.\n",
        "\n",
        "We will also learn about converting one data type to another in Python and local and global variables in Python. So, let's begin with Python variables and data types Tutorial.\n",
        "\n",
        "![variables](images/python-variables-2-1.jpg)\n",
        "\n",
        "A variable is a container for a value. It can be assigned a name, you can use it to refer to it later in the program. Based on the value assigned, the interpreter decides its data type. You can always store a different type in a variable.\n",
        "\n",
        "For example, if you store 7 in a variable, later, you can store 'python'\n",
        "\n",
        "<h3> Python Variables Naming Rules </h3>\n",
        "\n",
        "There are certain rules to what you can name a variable(called an identifier).\n",
        "\n",
        "**1. Python variables can only begin with a letter(A-Z/a-z) or an underscore(_).**"
      ]
    },
    {
      "cell_type": "code",
      "metadata": {
        "id": "CHYVxZU2S3_I"
      },
      "source": [
        "9lives=9"
      ],
      "execution_count": null,
      "outputs": []
    },
    {
      "cell_type": "code",
      "metadata": {
        "id": "uKvGdVkLS3_I"
      },
      "source": [
        "flag=0\n",
        "flag"
      ],
      "execution_count": null,
      "outputs": []
    },
    {
      "cell_type": "code",
      "metadata": {
        "id": "-WjFIYQSS3_I"
      },
      "source": [
        "_9lives = \"cat\"\n",
        "_9lives"
      ],
      "execution_count": null,
      "outputs": []
    },
    {
      "cell_type": "markdown",
      "metadata": {
        "id": "qW7yCrZ1S3_I"
      },
      "source": [
        "**2. The rest of the identifier may contain letters(A-Z/a-z), underscores(_), and numbers(0-9).**"
      ]
    },
    {
      "cell_type": "code",
      "metadata": {
        "id": "ZU6ZfkCwS3_I"
      },
      "source": [
        "year1='freshman'\n",
        "year1"
      ],
      "execution_count": null,
      "outputs": []
    },
    {
      "cell_type": "markdown",
      "metadata": {
        "id": "KxCgA-0bS3_I"
      },
      "source": [
        "**3. Python does not allow special characters such as** @, $, and %"
      ]
    },
    {
      "cell_type": "code",
      "metadata": {
        "id": "tViCPj3tS3_J"
      },
      "source": [
        "_$$=7"
      ],
      "execution_count": null,
      "outputs": []
    },
    {
      "cell_type": "code",
      "metadata": {
        "id": "HZxa4X0sS3_J"
      },
      "source": [
        "del Name"
      ],
      "execution_count": null,
      "outputs": []
    },
    {
      "cell_type": "markdown",
      "metadata": {
        "id": "8VwBbtkhS3_J"
      },
      "source": [
        "**4. Python is case-sensitive, and so are Python identifiers.** Name and name are two different identifiers."
      ]
    },
    {
      "cell_type": "code",
      "metadata": {
        "id": "xodEg71eS3_J"
      },
      "source": [
        "name=\"Ayushi\"\n",
        "name"
      ],
      "execution_count": null,
      "outputs": []
    },
    {
      "cell_type": "code",
      "metadata": {
        "id": "HmPcOqr1S3_J"
      },
      "source": [
        "Name"
      ],
      "execution_count": null,
      "outputs": []
    },
    {
      "cell_type": "markdown",
      "metadata": {
        "id": "2GFJAX2qS3_J"
      },
      "source": [
        "**5. Reserved words (keywords) cannot be used as identifier names.**"
      ]
    },
    {
      "cell_type": "code",
      "metadata": {
        "id": "9Dm1TziRS3_J"
      },
      "source": [
        "help('keywords')"
      ],
      "execution_count": null,
      "outputs": []
    },
    {
      "cell_type": "markdown",
      "metadata": {
        "id": "4PSXoSFMS3_K"
      },
      "source": [
        "<h4>Assigning and Reassigning Python Variables</h4>\n",
        "\n",
        "To assign a value to Python variables, you don’t need to declare its type. You name it according to the rules stated above, and type the value after the equal sign(=)."
      ]
    },
    {
      "cell_type": "code",
      "metadata": {
        "id": "2Tgs8OciS3_K"
      },
      "source": [
        "age = 18\n",
        "print(age)"
      ],
      "execution_count": null,
      "outputs": []
    },
    {
      "cell_type": "code",
      "metadata": {
        "id": "ebiIHIMJS3_K"
      },
      "source": [
        "age = \"Abebe\"\n",
        "print(age)"
      ],
      "execution_count": null,
      "outputs": []
    },
    {
      "cell_type": "markdown",
      "metadata": {
        "id": "SkEIgzE1S3_K"
      },
      "source": [
        "However, age=Abebe doesn’t make sense. Also, you cannot use Python variables before assigning it a value."
      ]
    },
    {
      "cell_type": "code",
      "metadata": {
        "id": "uE2E0gzoS3_K"
      },
      "source": [
        "age=Abebe"
      ],
      "execution_count": null,
      "outputs": []
    },
    {
      "cell_type": "markdown",
      "metadata": {
        "id": "qfgGeK-kS3_K"
      },
      "source": [
        "You can’t put the identifier on the right-hand side of the equal sign, though. The following code causes an error."
      ]
    },
    {
      "cell_type": "code",
      "metadata": {
        "id": "y8VxySJjS3_L"
      },
      "source": [
        "7 = age"
      ],
      "execution_count": null,
      "outputs": []
    },
    {
      "cell_type": "markdown",
      "metadata": {
        "id": "vJwO073hS3_L"
      },
      "source": [
        "Neither can you assign Python variables to a keyword."
      ]
    },
    {
      "cell_type": "code",
      "metadata": {
        "id": "KX1lRYa3S3_L"
      },
      "source": [
        "False=choice"
      ],
      "execution_count": null,
      "outputs": []
    },
    {
      "cell_type": "markdown",
      "metadata": {
        "id": "Ig4kKwLkS3_L"
      },
      "source": [
        "<h4>Multiple Assignment</h4>\n",
        "You can assign values to multiple Python variables in one statement."
      ]
    },
    {
      "cell_type": "code",
      "metadata": {
        "id": "0Opdl6UmS3_L"
      },
      "source": [
        "a = b = c =10"
      ],
      "execution_count": null,
      "outputs": []
    },
    {
      "cell_type": "code",
      "metadata": {
        "id": "BD6QF90wS3_L"
      },
      "source": [
        "a"
      ],
      "execution_count": null,
      "outputs": []
    },
    {
      "cell_type": "code",
      "metadata": {
        "id": "kLlowm_JS3_L"
      },
      "source": [
        "b"
      ],
      "execution_count": null,
      "outputs": []
    },
    {
      "cell_type": "code",
      "metadata": {
        "id": "0bQIvV5RS3_M"
      },
      "source": [
        "c"
      ],
      "execution_count": null,
      "outputs": []
    },
    {
      "cell_type": "code",
      "metadata": {
        "id": "I7C1QIF8S3_M"
      },
      "source": [
        "age,city=18,'Bahir Dar'\n",
        "print(age,city)"
      ],
      "execution_count": null,
      "outputs": []
    },
    {
      "cell_type": "markdown",
      "metadata": {
        "id": "9ENFCFKBS3_M"
      },
      "source": [
        "Or you can assign the same value to multiple Python variables."
      ]
    },
    {
      "cell_type": "code",
      "metadata": {
        "id": "ZRP9JbJ-S3_M"
      },
      "source": [
        "age=fav=7\n",
        "print(age,fav)"
      ],
      "execution_count": null,
      "outputs": []
    },
    {
      "cell_type": "markdown",
      "metadata": {
        "id": "ZalY8YeUS3_M"
      },
      "source": [
        "<h4>Swapping Variables</h4>\n",
        "Swapping means interchanging values. To swap Python variables, you don’t need to do much."
      ]
    },
    {
      "cell_type": "code",
      "metadata": {
        "id": "r5HNlflOS3_M"
      },
      "source": [
        "a,b='red','blue'\n",
        "\n",
        "print(a,b)\n",
        "a,b=b,a\n",
        "print(a,b)"
      ],
      "execution_count": null,
      "outputs": []
    },
    {
      "cell_type": "code",
      "metadata": {
        "id": "WFyd391vS3_N"
      },
      "source": [
        "a =4\n",
        "b=5\n",
        "\n",
        "c=a\n",
        "b=a\n",
        "a=b"
      ],
      "execution_count": null,
      "outputs": []
    },
    {
      "cell_type": "markdown",
      "metadata": {
        "id": "zMO-_oYpS3_N"
      },
      "source": [
        "<h4>Deleting Variables</h4>\n",
        "You can also delete Python variables using the keyword ‘del’."
      ]
    },
    {
      "cell_type": "code",
      "metadata": {
        "id": "umCvQ1tUS3_N"
      },
      "source": [
        "a='red'\n",
        "del a\n",
        "a"
      ],
      "execution_count": null,
      "outputs": []
    },
    {
      "cell_type": "markdown",
      "metadata": {
        "id": "Q3ZByWnrS3_N"
      },
      "source": [
        "<h3> Python Data Types </h3>\n",
        "\n",
        "![data types](images/python-data-types.jpg)"
      ]
    },
    {
      "cell_type": "markdown",
      "metadata": {
        "id": "-0H4zK8LS3_R"
      },
      "source": [
        "Although we don’t have to declare a type for Python variables, a value does have a type. This information is vital to the interpreter. Python supports the following Python data types."
      ]
    },
    {
      "cell_type": "markdown",
      "metadata": {
        "id": "6UkBIDHjS3_S"
      },
      "source": [
        "<h3> 1. Python Numbers</h3>\n",
        "There are four numeric Python data types.\n",
        "<h4>1.1. int </h4>\n",
        "int stands for integer. This Python Data Type holds signed integers. We can use the type() function to find which class it belongs to."
      ]
    },
    {
      "cell_type": "code",
      "metadata": {
        "id": "jxd7s5DPS3_S"
      },
      "source": [
        "x = -3\n",
        "print(type(x))"
      ],
      "execution_count": null,
      "outputs": []
    },
    {
      "cell_type": "markdown",
      "metadata": {
        "id": "qZ0NS1m5S3_S"
      },
      "source": [
        "An integer can be of any length, with the only limitation being the available memory."
      ]
    },
    {
      "cell_type": "code",
      "metadata": {
        "id": "E9TFn7YxS3_T"
      },
      "source": [
        "a = 2**10000"
      ],
      "execution_count": null,
      "outputs": []
    },
    {
      "cell_type": "code",
      "metadata": {
        "id": "IIqdeoT7S3_T"
      },
      "source": [
        "type(a)"
      ],
      "execution_count": null,
      "outputs": []
    },
    {
      "cell_type": "markdown",
      "metadata": {
        "id": "fY_InzK5S3_T"
      },
      "source": [
        "<h4> 1.2. float</h4>\n",
        "\n",
        "This Python Data Type holds floating-point real values. An int can only store the number 3, but float can store 3.25 if you want."
      ]
    },
    {
      "cell_type": "code",
      "metadata": {
        "id": "s89xrS3_S3_U"
      },
      "source": [
        "x = 3.0\n",
        "type(x)"
      ],
      "execution_count": null,
      "outputs": []
    },
    {
      "cell_type": "code",
      "metadata": {
        "id": "UE_YHkJhS3_U"
      },
      "source": [
        "5//2.0"
      ],
      "execution_count": null,
      "outputs": []
    },
    {
      "cell_type": "markdown",
      "metadata": {
        "id": "kmLC3bn2S3_U"
      },
      "source": [
        "<h4> 1.3. long</h4>\n",
        "\n",
        "This Python Data type holds a long integer of unlimited length. But this construct does not exist in Python 3.x."
      ]
    },
    {
      "cell_type": "markdown",
      "metadata": {
        "id": "KMK3nZPPS3_U"
      },
      "source": [
        "<h4> 1.4. complex</h4>\n",
        "\n",
        "This Python Data type holds a complex number. A complex number looks like this: **a+bj** Here, **a** and **b** are the real numbers, **a** is the real part of the number, and **bj** is imaginary."
      ]
    },
    {
      "cell_type": "code",
      "metadata": {
        "id": "NVoijDwSS3_V"
      },
      "source": [
        "a = 3 - 5j\n",
        "\n",
        "type(a)"
      ],
      "execution_count": null,
      "outputs": []
    },
    {
      "cell_type": "markdown",
      "metadata": {
        "id": "jk6m1Vy8S3_V"
      },
      "source": [
        "Use the **isinstance()** function to tell if Python variables belong to a particular class. It takes two parameters- the variable/value, and the class."
      ]
    },
    {
      "cell_type": "code",
      "metadata": {
        "id": "GIm3BBkCS3_V"
      },
      "source": [
        "isinstance(a,int)"
      ],
      "execution_count": null,
      "outputs": []
    },
    {
      "cell_type": "markdown",
      "metadata": {
        "id": "prFwXZOGS3_V"
      },
      "source": [
        "<h3> 2. String</h3>\n",
        "A string is a sequence of characters. Python does not have a char data type, unlike C++ or Java. You can delimit a string using single quotes or double-quotes."
      ]
    },
    {
      "cell_type": "code",
      "metadata": {
        "id": "36CgJ5-XS3_W"
      },
      "source": [
        "city = \"Bahir Dar\"\n",
        "\n",
        "type(city)"
      ],
      "execution_count": null,
      "outputs": []
    },
    {
      "cell_type": "markdown",
      "metadata": {
        "id": "bb1z9s3uS3_W"
      },
      "source": [
        "<h4> 2.1. Spanning a String Across Lines </h4>\n",
        "\n",
        "To span a string across multiple lines, you can use triple quotes."
      ]
    },
    {
      "cell_type": "code",
      "metadata": {
        "id": "7oQ1wqNwS3_W"
      },
      "source": [
        "var = \"\"\"If   \n",
        "only\"\"\"\n",
        "\n",
        "var"
      ],
      "execution_count": null,
      "outputs": []
    },
    {
      "cell_type": "markdown",
      "metadata": {
        "id": "7WHpuTivS3_W"
      },
      "source": [
        "As you can see, the quotes preserved the formatting (\\n is the escape sequence for newline, \\t is for tab)."
      ]
    },
    {
      "cell_type": "markdown",
      "metadata": {
        "id": "vyXPD23wS3_W"
      },
      "source": [
        "<h4> 2.2. Displaying Part of a String </h4>\n",
        "\n",
        "You can display a character from a string using its index in the string. Remember, indexing starts with 0."
      ]
    },
    {
      "cell_type": "code",
      "metadata": {
        "id": "VgwEUKTAS3_X"
      },
      "source": [
        "s = \"introduction to python\"\n",
        "s[0]"
      ],
      "execution_count": null,
      "outputs": []
    },
    {
      "cell_type": "code",
      "metadata": {
        "id": "6CcDJQ2rS3_X"
      },
      "source": [
        "s[3:7:2]"
      ],
      "execution_count": null,
      "outputs": []
    },
    {
      "cell_type": "code",
      "metadata": {
        "id": "kZPIbKX5S3_X"
      },
      "source": [
        "s"
      ],
      "execution_count": null,
      "outputs": []
    },
    {
      "cell_type": "code",
      "metadata": {
        "id": "4zmO8fGCS3_X"
      },
      "source": [
        "s."
      ],
      "execution_count": null,
      "outputs": []
    },
    {
      "cell_type": "markdown",
      "metadata": {
        "id": "eBIDV909S3_X"
      },
      "source": [
        "<h4> 2.3. String Concatenation</h4>\n",
        "\n",
        "You can concatenate(join) strings."
      ]
    },
    {
      "cell_type": "code",
      "metadata": {
        "id": "0_e_HtQsS3_Y"
      },
      "source": [
        "a='10'\n",
        "print(a+a)"
      ],
      "execution_count": null,
      "outputs": []
    },
    {
      "cell_type": "code",
      "metadata": {
        "id": "gVO5k7SQS3_Y"
      },
      "source": [
        "a."
      ],
      "execution_count": null,
      "outputs": []
    },
    {
      "cell_type": "markdown",
      "metadata": {
        "id": "N4QQM3gJS3_Y"
      },
      "source": [
        "However, you cannot concatenate values of different types."
      ]
    },
    {
      "cell_type": "code",
      "metadata": {
        "id": "plpAL4DIS3_Y"
      },
      "source": [
        "print('10' + 10)"
      ],
      "execution_count": null,
      "outputs": []
    },
    {
      "cell_type": "markdown",
      "metadata": {
        "id": "gIxhiMtNS3_Y"
      },
      "source": [
        "<h3> 3. Python Lists</h3>\n",
        "\n",
        "A list is a collection of values. Remember, it may contain different types of values. To define a list, you must put values separated with commas in square brackets. You don’t need to declare a type for a list either."
      ]
    },
    {
      "cell_type": "code",
      "metadata": {
        "id": "hNrvXaKLS3_Y"
      },
      "source": [
        "days=['Monday', 'Firday',5,6,7,8,[\"June\", \"july\"]]"
      ],
      "execution_count": null,
      "outputs": []
    },
    {
      "cell_type": "code",
      "metadata": {
        "id": "YfTFvi_WS3_Z"
      },
      "source": [
        "days[-3]"
      ],
      "execution_count": null,
      "outputs": []
    },
    {
      "cell_type": "markdown",
      "metadata": {
        "id": "TKYV7QjcS3_Z"
      },
      "source": [
        "<h4>3.1. Slicing a List</h4>\n",
        "\n",
        "You can slice a list the way you’d slice a string- with the slicing operator."
      ]
    },
    {
      "cell_type": "code",
      "metadata": {
        "id": "knbdFBnjS3_Z"
      },
      "source": [
        "days[1:3]"
      ],
      "execution_count": null,
      "outputs": []
    },
    {
      "cell_type": "markdown",
      "metadata": {
        "id": "9XXqYTAnS3_Z"
      },
      "source": [
        "Indexing for a list begins with 0, like for a string. A Python doesn’t have arrays."
      ]
    },
    {
      "cell_type": "markdown",
      "metadata": {
        "id": "7uu82g-MS3_Z"
      },
      "source": [
        "<h4> 3.2. Length of a List </h4>\n",
        "\n",
        "Python supports an inbuilt function to calculate the length of a list."
      ]
    },
    {
      "cell_type": "code",
      "metadata": {
        "id": "S4VzK0q2S3_Z"
      },
      "source": [
        "len(days)"
      ],
      "execution_count": null,
      "outputs": []
    },
    {
      "cell_type": "markdown",
      "metadata": {
        "id": "gxDi-i4lS3_a"
      },
      "source": [
        "<h4>3.3. Reassigning Elements of a List</h4>\n",
        "\n",
        "A list is mutable. This means that you can reassign elements later on."
      ]
    },
    {
      "cell_type": "code",
      "metadata": {
        "id": "wI_hVvNFS3_a"
      },
      "source": [
        "days"
      ],
      "execution_count": null,
      "outputs": []
    },
    {
      "cell_type": "code",
      "metadata": {
        "id": "y0-I3dy6S3_a"
      },
      "source": [
        "days[2]='Wednesday'"
      ],
      "execution_count": null,
      "outputs": []
    },
    {
      "cell_type": "code",
      "metadata": {
        "id": "Yevvgg-3S3_a"
      },
      "source": [
        "days"
      ],
      "execution_count": null,
      "outputs": []
    },
    {
      "cell_type": "code",
      "metadata": {
        "id": "1wW4MHArS3_a"
      },
      "source": [
        "days\n"
      ],
      "execution_count": null,
      "outputs": []
    },
    {
      "cell_type": "code",
      "metadata": {
        "id": "7d1rlbIqS3_a"
      },
      "source": [
        "days"
      ],
      "execution_count": null,
      "outputs": []
    },
    {
      "cell_type": "markdown",
      "metadata": {
        "id": "5xRarlvlS3_b"
      },
      "source": [
        "<h4> 3.4. Iterating on the List</h4>\n",
        "\n",
        "To iterate over the list we can use the for loop. By iterating, we can access each element one by one which is very helpful when we need to perform some operations on each element of list."
      ]
    },
    {
      "cell_type": "code",
      "metadata": {
        "id": "PSoK6CCbS3_b"
      },
      "source": [
        "nums = [1,2,5,6,8]\n",
        "for n in nums:\n",
        "    print(n)"
      ],
      "execution_count": null,
      "outputs": []
    },
    {
      "cell_type": "markdown",
      "metadata": {
        "id": "ab_tA8C1S3_b"
      },
      "source": [
        "<h3> 4. Python Tuples</h3>\n",
        "\n",
        "A tuple is like a list. You declare it using parentheses instead."
      ]
    },
    {
      "cell_type": "code",
      "metadata": {
        "id": "T1KpOtJ_S3_b"
      },
      "source": [
        "subjects = ('Mathematics','Physics','Chemistry')\n",
        "subjects"
      ],
      "execution_count": null,
      "outputs": []
    },
    {
      "cell_type": "code",
      "metadata": {
        "id": "JsmwUVD7S3_b"
      },
      "source": [
        "type(subjects)"
      ],
      "execution_count": null,
      "outputs": []
    },
    {
      "cell_type": "markdown",
      "metadata": {
        "id": "SbK4I-1rS3_c"
      },
      "source": [
        "<h4> 4.1. Accessing and Slicing a Tuple</h4>\n",
        "\n",
        "You access a tuple the same way as you’d access a list. The same goes for slicing it."
      ]
    },
    {
      "cell_type": "code",
      "metadata": {
        "id": "DXeKyTRGS3_c"
      },
      "source": [
        "subjects[1]"
      ],
      "execution_count": null,
      "outputs": []
    },
    {
      "cell_type": "code",
      "metadata": {
        "id": "-WVfxG6IS3_c"
      },
      "source": [
        "subjects[0:2]"
      ],
      "execution_count": null,
      "outputs": []
    },
    {
      "cell_type": "markdown",
      "metadata": {
        "id": "kAI7JRmNS3_c"
      },
      "source": [
        "<h4>A tuple is Immutable</h4>\n",
        "\n",
        "However, Python tuple is immutable. Once declared, you can’t change its size or elements."
      ]
    },
    {
      "cell_type": "code",
      "metadata": {
        "id": "GdIgT1L_S3_c"
      },
      "source": [
        "subjects[2]='Biology'"
      ],
      "execution_count": null,
      "outputs": []
    },
    {
      "cell_type": "code",
      "metadata": {
        "id": "HoMINTCqS3_c"
      },
      "source": [
        "subjects[3]='Computer Science'"
      ],
      "execution_count": null,
      "outputs": []
    },
    {
      "cell_type": "markdown",
      "metadata": {
        "id": "ceb4TbZ5S3_d"
      },
      "source": [
        "<h3>5. Dictionaries</h3>\n",
        "\n",
        "A dictionary holds key-value pairs. Declare it in curly braces, with pairs separated by commas. Separate keys and values by a colon(:)."
      ]
    },
    {
      "cell_type": "code",
      "metadata": {
        "id": "yhInlBLmS3_d"
      },
      "source": [
        "person = {'name':'Abebe','age':19,'city':'Bahir Dar'}"
      ],
      "execution_count": null,
      "outputs": []
    },
    {
      "cell_type": "code",
      "metadata": {
        "id": "IttVYp4hS3_d"
      },
      "source": [
        "person"
      ],
      "execution_count": null,
      "outputs": []
    },
    {
      "cell_type": "markdown",
      "metadata": {
        "id": "Ql_K52atS3_d"
      },
      "source": [
        "The type() function works with dictionaries too."
      ]
    },
    {
      "cell_type": "code",
      "metadata": {
        "id": "237zBM76S3_d"
      },
      "source": [
        "type(person)"
      ],
      "execution_count": null,
      "outputs": []
    },
    {
      "cell_type": "markdown",
      "metadata": {
        "id": "5WdKTm1oS3_d"
      },
      "source": [
        "<h4>5.1. Accessing a Value</h4>\n",
        "\n",
        "To access a value, you mention the key in square brackets."
      ]
    },
    {
      "cell_type": "code",
      "metadata": {
        "id": "v69zlKf6S3_d"
      },
      "source": [
        "person['age']"
      ],
      "execution_count": null,
      "outputs": []
    },
    {
      "cell_type": "markdown",
      "metadata": {
        "id": "mclkokI_S3_e"
      },
      "source": [
        "<h4>5.2. Reassigning Elements</h4>\n",
        "\n",
        "You can reassign a value to a key."
      ]
    },
    {
      "cell_type": "code",
      "metadata": {
        "id": "rHpFoZvzS3_e"
      },
      "source": [
        "person['age']=21\n",
        "person['age']"
      ],
      "execution_count": null,
      "outputs": []
    },
    {
      "cell_type": "markdown",
      "metadata": {
        "id": "-zx9JML6S3_e"
      },
      "source": [
        "<h3>5.3. List of Keys</h3>\n",
        "\n",
        "Use the keys() function to get a list of keys in the dictionary."
      ]
    },
    {
      "cell_type": "code",
      "metadata": {
        "id": "gw32AiAaS3_f"
      },
      "source": [
        "person.keys()"
      ],
      "execution_count": null,
      "outputs": []
    },
    {
      "cell_type": "markdown",
      "metadata": {
        "id": "ieeD9ipUS3_f"
      },
      "source": [
        "<h2> Type Conversion </h2>\n",
        "\n",
        "Since Python is dynamically-typed, you may want to convert a value into another type. Python supports a list of functions for the same.\n",
        "\n",
        "**1. int()**\n",
        "\n",
        "It converts the value into an int."
      ]
    },
    {
      "cell_type": "code",
      "metadata": {
        "id": "E2jS8TICS3_f"
      },
      "source": [
        "int(3.7)"
      ],
      "execution_count": null,
      "outputs": []
    },
    {
      "cell_type": "markdown",
      "metadata": {
        "id": "TkOmrkpNS3_f"
      },
      "source": [
        "Notice how it truncated 0.7 instead of rounding the number off to 4. You can also turn a Boolean into an int."
      ]
    },
    {
      "cell_type": "code",
      "metadata": {
        "id": "qDZINGr-S3_f"
      },
      "source": [
        "int(True)"
      ],
      "execution_count": null,
      "outputs": []
    },
    {
      "cell_type": "code",
      "metadata": {
        "id": "az_DSw3IS3_f"
      },
      "source": [
        "int(False)"
      ],
      "execution_count": null,
      "outputs": []
    },
    {
      "cell_type": "markdown",
      "metadata": {
        "id": "vQJpWG57S3_g"
      },
      "source": [
        "However, you cannot turn a string into an int. It throws an error."
      ]
    },
    {
      "cell_type": "code",
      "metadata": {
        "id": "99QM5fljS3_g"
      },
      "source": [
        "int(\"a\")"
      ],
      "execution_count": null,
      "outputs": []
    },
    {
      "cell_type": "code",
      "metadata": {
        "id": "jzdlgnSxS3_g"
      },
      "source": [
        "e = \"77\""
      ],
      "execution_count": null,
      "outputs": []
    },
    {
      "cell_type": "code",
      "metadata": {
        "id": "j2gOYxYNS3_g"
      },
      "source": [
        "type(e)"
      ],
      "execution_count": null,
      "outputs": []
    },
    {
      "cell_type": "code",
      "metadata": {
        "id": "gGXvwlD0S3_g"
      },
      "source": [
        "a=int(\"77\")\n",
        "\n",
        "type(a)"
      ],
      "execution_count": null,
      "outputs": []
    },
    {
      "cell_type": "markdown",
      "metadata": {
        "id": "G_KnGeMDS3_g"
      },
      "source": [
        "**2. float()**\n",
        "\n",
        "It converts the value into a float."
      ]
    },
    {
      "cell_type": "code",
      "metadata": {
        "id": "43XZJvWhS3_g"
      },
      "source": [
        "float(7)"
      ],
      "execution_count": null,
      "outputs": []
    },
    {
      "cell_type": "code",
      "metadata": {
        "id": "mS4ri_sCS3_h"
      },
      "source": [
        "float(True)"
      ],
      "execution_count": null,
      "outputs": []
    },
    {
      "cell_type": "code",
      "metadata": {
        "id": "3trnYG1cS3_h"
      },
      "source": [
        "float(\"11\")"
      ],
      "execution_count": null,
      "outputs": []
    },
    {
      "cell_type": "code",
      "metadata": {
        "id": "V10VaJWMS3_h",
        "colab": {
          "base_uri": "https://localhost:8080/"
        },
        "outputId": "f44c94f6-2b6a-49a4-f50f-5575dac248ce"
      },
      "source": [
        "3e-1   #3*10**-1"
      ],
      "execution_count": null,
      "outputs": [
        {
          "output_type": "execute_result",
          "data": {
            "text/plain": [
              "0.3"
            ]
          },
          "metadata": {
            "tags": []
          },
          "execution_count": 2
        }
      ]
    },
    {
      "cell_type": "code",
      "metadata": {
        "id": "uAs3kk4RS3_h"
      },
      "source": [
        "1e3"
      ],
      "execution_count": null,
      "outputs": []
    },
    {
      "cell_type": "markdown",
      "metadata": {
        "id": "xEd5wKgvS3_h"
      },
      "source": [
        "You can also use ‘e’ to denote an exponential number."
      ]
    },
    {
      "cell_type": "code",
      "metadata": {
        "id": "vFLtC8rbS3_i"
      },
      "source": [
        "float(\"2.1e-2\")"
      ],
      "execution_count": null,
      "outputs": []
    },
    {
      "cell_type": "code",
      "metadata": {
        "id": "Vv3J70odS3_i"
      },
      "source": [
        "int(2.1e-2)"
      ],
      "execution_count": null,
      "outputs": []
    },
    {
      "cell_type": "markdown",
      "metadata": {
        "id": "Cad40iEUS3_i"
      },
      "source": [
        "However, this number works even without the float() function."
      ]
    },
    {
      "cell_type": "code",
      "metadata": {
        "id": "GnubGF9-S3_i"
      },
      "source": [
        "2.1e-2"
      ],
      "execution_count": null,
      "outputs": []
    },
    {
      "cell_type": "markdown",
      "metadata": {
        "id": "UkbXVpjTS3_i"
      },
      "source": [
        "**3. str()**\n",
        "\n",
        "It converts the value into a string."
      ]
    },
    {
      "cell_type": "code",
      "metadata": {
        "id": "r6WoDbDsS3_i"
      },
      "source": [
        "str(2.1)"
      ],
      "execution_count": null,
      "outputs": []
    },
    {
      "cell_type": "code",
      "metadata": {
        "id": "CESNuf1RS3_i"
      },
      "source": [
        "str(7)"
      ],
      "execution_count": null,
      "outputs": []
    },
    {
      "cell_type": "code",
      "metadata": {
        "id": "05wLFmB5S3_j"
      },
      "source": [
        "str(True)"
      ],
      "execution_count": null,
      "outputs": []
    },
    {
      "cell_type": "markdown",
      "metadata": {
        "id": "NRZk1VMwS3_j"
      },
      "source": [
        "You can also convert a list, a tuple, a set, or a dictionary into a string."
      ]
    },
    {
      "cell_type": "code",
      "metadata": {
        "id": "7tM9BksvS3_j"
      },
      "source": [
        "str([1,2,3])"
      ],
      "execution_count": null,
      "outputs": []
    },
    {
      "cell_type": "markdown",
      "metadata": {
        "id": "a9hNs-8TS3_j"
      },
      "source": [
        "**3. list()**\n",
        "\n",
        "It converts the value into a list."
      ]
    },
    {
      "cell_type": "code",
      "metadata": {
        "id": "JloyJtdVS3_j"
      },
      "source": [
        "list(\"123\")"
      ],
      "execution_count": null,
      "outputs": []
    },
    {
      "cell_type": "code",
      "metadata": {
        "id": "4L0pMt4yS3_j"
      },
      "source": [
        "list({1,2,2,3})"
      ],
      "execution_count": null,
      "outputs": []
    },
    {
      "cell_type": "code",
      "metadata": {
        "id": "2F47E2OfS3_j"
      },
      "source": [
        "D = {\"a\":1,\"b\":2}\n",
        "D.keys()"
      ],
      "execution_count": null,
      "outputs": []
    },
    {
      "cell_type": "code",
      "metadata": {
        "id": "OxED_shyS3_k"
      },
      "source": [
        "list({\"a\":1,\"b\":2})"
      ],
      "execution_count": null,
      "outputs": []
    },
    {
      "cell_type": "code",
      "metadata": {
        "id": "_ZtxKpGPS3_k"
      },
      "source": [
        "D"
      ],
      "execution_count": null,
      "outputs": []
    },
    {
      "cell_type": "markdown",
      "metadata": {
        "id": "V6D8LRKES3_k"
      },
      "source": [
        "However, the following raises an error."
      ]
    },
    {
      "cell_type": "code",
      "metadata": {
        "id": "ToRJqW5gS3_k"
      },
      "source": [
        "{a:1,b:2}"
      ],
      "execution_count": null,
      "outputs": []
    },
    {
      "cell_type": "markdown",
      "metadata": {
        "id": "h_w7wogAS3_k"
      },
      "source": [
        "**4. tuple()**\n",
        "\n",
        "It converts the value into a tuple."
      ]
    },
    {
      "cell_type": "code",
      "metadata": {
        "id": "vslsDGZ4S3_k",
        "colab": {
          "base_uri": "https://localhost:8080/"
        },
        "outputId": "7950c70f-99e9-4e97-809b-f597d6932c38"
      },
      "source": [
        "tuple({1,2,2,3})"
      ],
      "execution_count": null,
      "outputs": [
        {
          "output_type": "execute_result",
          "data": {
            "text/plain": [
              "(1, 2, 3)"
            ]
          },
          "metadata": {
            "tags": []
          },
          "execution_count": 3
        }
      ]
    },
    {
      "cell_type": "markdown",
      "metadata": {
        "id": "O6hkXv7zS3_k"
      },
      "source": [
        "You can try your own combinations. Also try composite functions."
      ]
    },
    {
      "cell_type": "markdown",
      "metadata": {
        "id": "XurHWb7xS3_l"
      },
      "source": [
        "<h2> Python Operators </h2>\n",
        "Python Operator falls into 7 categories:\n",
        "<ul>\n",
        "    <li>Python Arithmetic Operator</li>\n",
        "    <li>Python Relational Operator</li>\n",
        "    <li>Python Assignment Operator</li>\n",
        "    <li>Python Logical Operator</li>\n",
        "    <li>Python Membership Operator</li>\n",
        "    <li>Python Identity Operator</li>\n",
        "    <li>Python Bitwise Operator</li>\n",
        "</ul>"
      ]
    },
    {
      "cell_type": "markdown",
      "metadata": {
        "id": "cG8iTl16S3_l"
      },
      "source": [
        "<h3> Python Arithmetic Operator</h3>\n",
        "\n",
        "These Python arithmetic operators include Python operators for basic mathematical operations.\n",
        "\n",
        "![operators](images/operators.jpg)"
      ]
    },
    {
      "cell_type": "markdown",
      "metadata": {
        "id": "pBKuchvIS3_m"
      },
      "source": [
        "**a. Addition(+)**\n",
        "\n",
        "Adds the values on either side of the operator."
      ]
    },
    {
      "cell_type": "code",
      "metadata": {
        "id": "0YOLBGkCS3_m"
      },
      "source": [
        "3+4"
      ],
      "execution_count": null,
      "outputs": []
    },
    {
      "cell_type": "markdown",
      "metadata": {
        "id": "-pI3jL7cS3_m"
      },
      "source": [
        "**b. Subtraction(-)**\n",
        "\n",
        "Subtracts the value on the right from the one on the left."
      ]
    },
    {
      "cell_type": "code",
      "metadata": {
        "id": "25uCBTecS3_n"
      },
      "source": [
        "3-4"
      ],
      "execution_count": null,
      "outputs": []
    },
    {
      "cell_type": "markdown",
      "metadata": {
        "id": "qNMXQLwCS3_n"
      },
      "source": [
        "**c. Multiplication(*)**\n",
        "\n",
        "Multiplies the values on either side of the operator."
      ]
    },
    {
      "cell_type": "code",
      "metadata": {
        "id": "bEsWUExzS3_n"
      },
      "source": [
        "3*4"
      ],
      "execution_count": null,
      "outputs": []
    },
    {
      "cell_type": "markdown",
      "metadata": {
        "id": "zS7LgaXnS3_n"
      },
      "source": [
        "**d. Division(/)**\n",
        "\n",
        "Divides the value on the left by the one on the right. Notice that division results in a floating-point value."
      ]
    },
    {
      "cell_type": "code",
      "metadata": {
        "id": "a-ERjsPXS3_o"
      },
      "source": [
        "3/4"
      ],
      "execution_count": null,
      "outputs": []
    },
    {
      "cell_type": "code",
      "metadata": {
        "id": "z0PVg9HsS3_o"
      },
      "source": [
        "4/0"
      ],
      "execution_count": null,
      "outputs": []
    },
    {
      "cell_type": "markdown",
      "metadata": {
        "id": "qZTjmmGoS3_p"
      },
      "source": [
        "__e. Exponentiation(**)__\n",
        "\n",
        "Raises the first number to the power of the second."
      ]
    },
    {
      "cell_type": "code",
      "metadata": {
        "id": "r4k4KikHS3_p"
      },
      "source": [
        "3**4"
      ],
      "execution_count": null,
      "outputs": []
    },
    {
      "cell_type": "markdown",
      "metadata": {
        "id": "msNwmspsS3_p"
      },
      "source": [
        "**f. Floor Division(//)**\n",
        "\n",
        "Divides and returns the integer value of the quotient. It dumps the digits after the decimal."
      ]
    },
    {
      "cell_type": "code",
      "metadata": {
        "id": "fMlRBF6LS3_p"
      },
      "source": [
        "3//4"
      ],
      "execution_count": null,
      "outputs": []
    },
    {
      "cell_type": "code",
      "metadata": {
        "id": "eDk2TnZpS3_q"
      },
      "source": [
        "4//3"
      ],
      "execution_count": null,
      "outputs": []
    },
    {
      "cell_type": "code",
      "metadata": {
        "id": "9NalGUMVS3_q"
      },
      "source": [
        "10//3"
      ],
      "execution_count": null,
      "outputs": []
    },
    {
      "cell_type": "markdown",
      "metadata": {
        "id": "ZQRddPa1S3_q"
      },
      "source": [
        "**g. Modulus(%)**\n",
        "\n",
        "Divides and returns the value of the remainder."
      ]
    },
    {
      "cell_type": "code",
      "metadata": {
        "id": "rQZLsxLHS3_r"
      },
      "source": [
        "3%4"
      ],
      "execution_count": null,
      "outputs": []
    },
    {
      "cell_type": "code",
      "metadata": {
        "id": "LAWTrZRSS3_r"
      },
      "source": [
        "4%3"
      ],
      "execution_count": null,
      "outputs": []
    },
    {
      "cell_type": "code",
      "metadata": {
        "id": "hTbvqg_oS3_r"
      },
      "source": [
        "10%3"
      ],
      "execution_count": null,
      "outputs": []
    },
    {
      "cell_type": "code",
      "metadata": {
        "id": "KX-3wDjOS3_r"
      },
      "source": [
        "10.5%3"
      ],
      "execution_count": null,
      "outputs": []
    },
    {
      "cell_type": "markdown",
      "metadata": {
        "id": "aF_g310RS3_s"
      },
      "source": [
        "<h3>Python Relational Operator</h3>\n",
        "\n",
        "Let’s see Python Relational Operator.\n",
        "\n",
        "![relational operators](images/Roperators.jpg)"
      ]
    },
    {
      "cell_type": "markdown",
      "metadata": {
        "id": "uQkYIp1kS3_s"
      },
      "source": [
        "**Relational Python Operator** carries out the comparison between operands. They tell us whether an operand is greater than the other, lesser, equal, or a combination of those."
      ]
    },
    {
      "cell_type": "markdown",
      "metadata": {
        "id": "jVN9TihIS3_s"
      },
      "source": [
        "**a. Less than(<)**\n",
        "\n",
        "This operator checks if the value on the left of the operator is lesser than the one on the right."
      ]
    },
    {
      "cell_type": "code",
      "metadata": {
        "id": "uuPyLD0uS3_s"
      },
      "source": [
        "3<4"
      ],
      "execution_count": null,
      "outputs": []
    },
    {
      "cell_type": "markdown",
      "metadata": {
        "id": "WK3j4K9KS3_t"
      },
      "source": [
        "**b. Greater than(>)**\n",
        "\n",
        "It checks if the value on the left of the operator is greater than the one on the right."
      ]
    },
    {
      "cell_type": "code",
      "metadata": {
        "id": "jTMt2TODS3_t"
      },
      "source": [
        "3>4"
      ],
      "execution_count": null,
      "outputs": []
    },
    {
      "cell_type": "markdown",
      "metadata": {
        "id": "tJeGHwzsS3_t"
      },
      "source": [
        "**c. Less than or equal to(<=)**\n",
        "\n",
        "It checks if the value on the left of the operator is lesser than or equal to the one on the right."
      ]
    },
    {
      "cell_type": "code",
      "metadata": {
        "id": "jxP3KXSrS3_t"
      },
      "source": [
        "0>=0"
      ],
      "execution_count": null,
      "outputs": []
    },
    {
      "cell_type": "markdown",
      "metadata": {
        "id": "aj17_bgiS3_t"
      },
      "source": [
        "**e. Equal to(= =)**\n",
        "\n",
        "This operator checks if the value on the left of the operator is equal to the one on the right. 1 is equal to the Boolean value True, but 2 isn’t. Also, 0 is equal to False."
      ]
    },
    {
      "cell_type": "code",
      "metadata": {
        "id": "D-NQc0IbS3_u"
      },
      "source": [
        "3==3.0"
      ],
      "execution_count": null,
      "outputs": []
    },
    {
      "cell_type": "code",
      "metadata": {
        "id": "YUr1SLkSS3_u"
      },
      "source": [
        "1==True"
      ],
      "execution_count": null,
      "outputs": []
    },
    {
      "cell_type": "code",
      "metadata": {
        "id": "EQ2XWca8S3_u"
      },
      "source": [
        "7==True"
      ],
      "execution_count": null,
      "outputs": []
    },
    {
      "cell_type": "code",
      "metadata": {
        "id": "uc5MWTPBS3_u"
      },
      "source": [
        "0==False"
      ],
      "execution_count": null,
      "outputs": []
    },
    {
      "cell_type": "markdown",
      "metadata": {
        "id": "-nbBhBU3S3_u"
      },
      "source": [
        "**f. Not equal to(!=)**\n",
        "\n",
        "It checks if the value on the left of the operator is not equal to the one on the right. The Python operator <> does the same job, but has been abandoned in Python 3.\n",
        "\n",
        "When the condition for a relative operator is fulfilled, it returns True. Otherwise, it returns False. You can use this return value in a further statement or expression."
      ]
    },
    {
      "cell_type": "code",
      "metadata": {
        "id": "oTHz8du4S3_v"
      },
      "source": [
        "1!=1.0"
      ],
      "execution_count": null,
      "outputs": []
    },
    {
      "cell_type": "code",
      "metadata": {
        "id": "jFBrFEPDS3_v"
      },
      "source": [
        "a = 1\n",
        "b = 1.0"
      ],
      "execution_count": null,
      "outputs": []
    },
    {
      "cell_type": "code",
      "metadata": {
        "id": "bwPeqYl6S3_v"
      },
      "source": [
        "a is b"
      ],
      "execution_count": null,
      "outputs": []
    },
    {
      "cell_type": "markdown",
      "metadata": {
        "id": "aevByo62S3_v"
      },
      "source": [
        "<h3>Python Assignment Operator</h3>\n",
        "\n",
        "![assign operator](images/assignOper.jpg)\n",
        "\n",
        "An assignment operator assigns a value to a variable. It may manipulate the value by a factor before assigning it. We have 8 assignment operators- one plain, and seven for the 7 arithmetic python operators.\n",
        "\n",
        "**a. Assign(=)**\n",
        "\n",
        "Assigns a value to the expression on the left. Notice that = = is used for comparing, but = is used for assigning."
      ]
    },
    {
      "cell_type": "code",
      "metadata": {
        "id": "t6Qq4FMUS3_v"
      },
      "source": [
        "a = 6\n",
        "print(a)"
      ],
      "execution_count": null,
      "outputs": []
    },
    {
      "cell_type": "markdown",
      "metadata": {
        "id": "VWpMdZnrS3_v"
      },
      "source": [
        "**b. Add and Assign(+=)**\n",
        "\n",
        "Adds the values on either side and assigns it to the expression on the left. $a+=10$ is the same as $a=a+10$.\n",
        "\n",
        "The same goes for all the next assignment operators."
      ]
    },
    {
      "cell_type": "code",
      "metadata": {
        "id": "tD4JdNTBS3_v"
      },
      "source": [
        "a += 2 # a = a + 2\n",
        "print(a)"
      ],
      "execution_count": null,
      "outputs": []
    },
    {
      "cell_type": "markdown",
      "metadata": {
        "id": "GmPEjFLuS3_w"
      },
      "source": [
        "**c. Subtract and Assign(-=)**\n",
        "\n",
        "Subtracts the value on the right from the value on the left. Then it assigns it to the expression on the left."
      ]
    },
    {
      "cell_type": "code",
      "metadata": {
        "id": "q66YBl3iS3_w"
      },
      "source": [
        "a -= 2 \n",
        "print(a)"
      ],
      "execution_count": null,
      "outputs": []
    },
    {
      "cell_type": "markdown",
      "metadata": {
        "id": "D6IvsOFfS3_w"
      },
      "source": [
        "**d. Divide and Assign(/=)**\n",
        "\n",
        "Divides the value on the left by the one on the right. Then it assigns it to the expression on the left."
      ]
    },
    {
      "cell_type": "code",
      "metadata": {
        "id": "3puw-F2LS3_w"
      },
      "source": [
        "a/=6\n",
        "print(a)"
      ],
      "execution_count": null,
      "outputs": []
    },
    {
      "cell_type": "markdown",
      "metadata": {
        "id": "ffIBXo7AS3_w"
      },
      "source": [
        "**e. Multiply and Assign(*=)**\n",
        "\n",
        "Multiplies the values on either sides. Then it assigns it to the expression on the left."
      ]
    },
    {
      "cell_type": "code",
      "metadata": {
        "id": "qdcHN6ATS3_x"
      },
      "source": [
        "a *= 8\n",
        "print(a)"
      ],
      "execution_count": null,
      "outputs": []
    },
    {
      "cell_type": "markdown",
      "metadata": {
        "id": "Qle4JfLHS3_x"
      },
      "source": [
        "**f. Modulus and Assign(%=)**\n",
        "\n",
        "Performs modulus on the values on either side. Then it assigns it to the expression on the left."
      ]
    },
    {
      "cell_type": "code",
      "metadata": {
        "id": "__mvz2LzS3_x"
      },
      "source": [
        "a %=3\n",
        "print(a)"
      ],
      "execution_count": null,
      "outputs": []
    },
    {
      "cell_type": "markdown",
      "metadata": {
        "id": "EhVkHY62S3_x"
      },
      "source": [
        "__g. Exponent and Assign(**=)__\n",
        "\n",
        "Performs exponentiation on the values on either side. Then assigns it to the expression on the left."
      ]
    },
    {
      "cell_type": "code",
      "metadata": {
        "id": "NA1n84jrS3_x"
      },
      "source": [
        "a=2\n",
        "a**=5 \n",
        "\n",
        "print(a)"
      ],
      "execution_count": null,
      "outputs": []
    },
    {
      "cell_type": "markdown",
      "metadata": {
        "id": "jQC2JyJ1S3_x"
      },
      "source": [
        "**h. Floor-Divide and Assign(//=)**\n",
        "\n",
        "Performs floor-division on the values on either side. Then assigns it to the expression on the left."
      ]
    },
    {
      "cell_type": "code",
      "metadata": {
        "id": "zyVVJCHlS3_y"
      },
      "source": [
        "a //=3\n",
        "print(a)"
      ],
      "execution_count": null,
      "outputs": []
    },
    {
      "cell_type": "markdown",
      "metadata": {
        "id": "XSaJBPAhS3_y"
      },
      "source": [
        "<h3>Python Logical Operator</h3>\n",
        "\n",
        "These are conjunctions that you can use to combine more than one condition. We have three Python logical operator – and, or, and not that come under python operators.\n",
        "\n",
        "**a. and**\n",
        "\n",
        "If the conditions on both the sides of the operator are true, then the expression as a whole is true."
      ]
    },
    {
      "cell_type": "code",
      "metadata": {
        "id": "RnNcB71lS3_y"
      },
      "source": [
        "a = 7>7 and 2>-1 \n",
        "\n",
        "print(a)"
      ],
      "execution_count": null,
      "outputs": []
    },
    {
      "cell_type": "markdown",
      "metadata": {
        "id": "r2hxdK5XS3_y"
      },
      "source": [
        "**b. or**\n",
        "\n",
        "The expression is false only if both the statements around the operator are false. Otherwise, it is true."
      ]
    },
    {
      "cell_type": "code",
      "metadata": {
        "id": "lcvXNy6oS3_y"
      },
      "source": [
        "a =7>7 or 2>-1 \n",
        "\n",
        "print(a)"
      ],
      "execution_count": null,
      "outputs": []
    },
    {
      "cell_type": "markdown",
      "metadata": {
        "id": "UC3RIIzBS3_y"
      },
      "source": [
        "‘and’ returns the first False value or the last value; ‘or’ returns the first True value or the last value"
      ]
    },
    {
      "cell_type": "markdown",
      "metadata": {
        "id": "8xJIE2b0S3_y"
      },
      "source": [
        "**c. not**\n",
        "\n",
        "This inverts the Boolean value of an expression. It converts True to False, and False to True. As you can see below, the Boolean value for 0 is False. So, not inverts it to True."
      ]
    },
    {
      "cell_type": "code",
      "metadata": {
        "id": "ZJhZ25OIS3_z"
      },
      "source": [
        "a=not(0)\n",
        "print(a)"
      ],
      "execution_count": null,
      "outputs": []
    },
    {
      "cell_type": "markdown",
      "metadata": {
        "id": "NiWHjWT5S3_z"
      },
      "source": [
        "<h3>Membership Python Operator</h3>\n",
        "\n",
        "These operators test whether a value is a member of a sequence. The sequence may be a list, a string, or a tuple. We have two membership python operators- ‘in’ and ‘not in’.\n",
        "\n",
        "**a. in**\n",
        "\n",
        "This checks if a value is a member of a sequence. In our example, we see that the string ‘fox’ does not belong to the list pets. But the string ‘cat’ belongs to it, so it returns True. Also, the string ‘me’ is a substring to the string ‘disappointment’. Therefore, it returns true."
      ]
    },
    {
      "cell_type": "code",
      "metadata": {
        "scrolled": true,
        "id": "hMfdgnGGS3_z"
      },
      "source": [
        "pets=['dog','cat','ferret']\n",
        "'fox' in pets"
      ],
      "execution_count": null,
      "outputs": []
    },
    {
      "cell_type": "code",
      "metadata": {
        "id": "Gaw9eFmYS3_z"
      },
      "source": [
        "'cat' in pets"
      ],
      "execution_count": null,
      "outputs": []
    },
    {
      "cell_type": "code",
      "metadata": {
        "id": "n-usMxpZS3_z"
      },
      "source": [
        "'me' in 'disappointment'"
      ],
      "execution_count": null,
      "outputs": []
    },
    {
      "cell_type": "markdown",
      "metadata": {
        "id": "L0DzVA45S3_z"
      },
      "source": [
        "**b. not in**\n",
        "\n",
        "Unlike ‘in’, ‘not in’ checks if a value is not a member of a sequence."
      ]
    },
    {
      "cell_type": "code",
      "metadata": {
        "id": "l5YwjEzaS3_z"
      },
      "source": [
        "'poi' not in 'disappointment'"
      ],
      "execution_count": null,
      "outputs": []
    },
    {
      "cell_type": "markdown",
      "metadata": {
        "id": "XWKyRMLtS3_0"
      },
      "source": [
        "<h3>Python Identity Operator</h3>\n",
        "\n",
        "Let us proceed towards identity Python Operator.\n",
        "\n",
        "These operators test if the two operands share an identity. We have two identity operators- ‘is’ and ‘is not’.\n",
        "\n",
        "**a. is**\n",
        "\n",
        "If two operands have the same identity, it returns True. Otherwise, it returns False. Here, 2 is not the same as 20, so it returns False. Also, ‘2’ and “2” are the same. The difference in quotes does not make them different. So, it returns True."
      ]
    },
    {
      "cell_type": "code",
      "metadata": {
        "id": "c431Asq2S3_0"
      },
      "source": [
        "2 is 20"
      ],
      "execution_count": null,
      "outputs": []
    },
    {
      "cell_type": "code",
      "metadata": {
        "id": "tL3lOcEuS3_0"
      },
      "source": [
        "'2' is \"2\""
      ],
      "execution_count": null,
      "outputs": []
    },
    {
      "cell_type": "markdown",
      "metadata": {
        "id": "5C1TBpuPS3_0"
      },
      "source": [
        "**b. is not**\n",
        "\n",
        "2 is a number, and ‘2’ is a string. So, it returns a True to that."
      ]
    },
    {
      "cell_type": "code",
      "metadata": {
        "id": "TBI6X9BbS3_0"
      },
      "source": [
        "2 is not '2'"
      ],
      "execution_count": null,
      "outputs": []
    },
    {
      "cell_type": "markdown",
      "metadata": {
        "id": "hBxFBW3pS3_0"
      },
      "source": [
        "<h3>Python Operator Precedence</h3>\n",
        "You sure have heard about **BODMAS** somewhere in your journey so far (mathematics, school). In Python, however, we come across **PEMDAS**:\n",
        "<ul>\n",
        "    <li>Parentheses</li>\n",
        "<li>Exponentiation</li>\n",
        "<li>Multiplication</li>\n",
        "<li>Division</li>\n",
        "<li>Addition</li>\n",
        "<li>Subtraction</li>\n",
        "</ul>\n",
        "    \n",
        "**What is Python Expression?**\n",
        "\n",
        "An expression is a combination of values, variables, operators, and function calls. Notably, the Python interpreter can evaluate a valid expression. Why don't we take an example?"
      ]
    },
    {
      "cell_type": "code",
      "metadata": {
        "id": "q-tiFesnS3_1"
      },
      "source": [
        "4+3"
      ],
      "execution_count": null,
      "outputs": []
    },
    {
      "cell_type": "markdown",
      "metadata": {
        "id": "VnkqHjEGS3_1"
      },
      "source": [
        "$4+3$ is an expression with one operator. We can also put in more than one. The precedence rules show us the way to follow an order. The divisionn has a higher precedence than addition."
      ]
    },
    {
      "cell_type": "code",
      "metadata": {
        "id": "3DmDtGrNS3_1"
      },
      "source": [
        "3+3/3"
      ],
      "execution_count": null,
      "outputs": []
    },
    {
      "cell_type": "markdown",
      "metadata": {
        "id": "t3_j93EjS3_2"
      },
      "source": [
        "When we use parentheses, however, we can alter the order of execution here."
      ]
    },
    {
      "cell_type": "code",
      "metadata": {
        "id": "GfoUmVBtS3_2"
      },
      "source": [
        "(3+3)/3"
      ],
      "execution_count": null,
      "outputs": []
    },
    {
      "cell_type": "markdown",
      "metadata": {
        "id": "gojiGuQqS3_2"
      },
      "source": [
        "What we conclude here is that using parentheses, we can force the operators of lower precedence to run first. Or we can say that when two operators share an operand, the one with the higher precedence gets to go first."
      ]
    },
    {
      "cell_type": "markdown",
      "metadata": {
        "id": "bzorvzibS3_2"
      },
      "source": [
        "A mnemonic to remember that will be **\"Please Excuse My Dear Aunt Sifrash\".**\n",
        "Let's take an example."
      ]
    },
    {
      "cell_type": "code",
      "metadata": {
        "id": "Qn2ObI7OS3_2"
      },
      "source": [
        "((((13+5)*2)-4)/2)-13"
      ],
      "execution_count": null,
      "outputs": []
    },
    {
      "cell_type": "markdown",
      "metadata": {
        "id": "urz0CNN-S3_3"
      },
      "source": [
        "How did that happen? Let’s work it out.\n",
        "\n",
        "13+5 gives us 18\n",
        "\n",
        "18*2 gives us 36\n",
        "\n",
        "36-4 gives us 32\n",
        "\n",
        "32/2 gives us 16.0 #Note that division gives us floats!\n",
        "\n",
        "16-13 gives us 3.0"
      ]
    },
    {
      "cell_type": "code",
      "metadata": {
        "id": "2QZSVkNTS3_3"
      },
      "source": [
        "Fruits = {\"Banana\":4+5, \"Orange\":2,\"Apple\":5}"
      ],
      "execution_count": null,
      "outputs": []
    },
    {
      "cell_type": "code",
      "metadata": {
        "id": "fZf-xEgRS3_3"
      },
      "source": [
        "Fruits"
      ],
      "execution_count": null,
      "outputs": []
    },
    {
      "cell_type": "code",
      "metadata": {
        "id": "jv58Te5mS3_3"
      },
      "source": [
        "Fruits[\"Banana\"]"
      ],
      "execution_count": null,
      "outputs": []
    },
    {
      "cell_type": "markdown",
      "metadata": {
        "id": "6qbDp4Q2S3_3"
      },
      "source": [
        "<h2> Python Decision Making Statements</h2>\n",
        "\n",
        "Python decision making constructs include Python **if** statements, **if else** statements, **elif** statements, **nested if conditions** and **single statement conditions**. We will understand these with syntax and example to get a clear understanding.\n",
        "\n",
        "![decision](images/decision.jpg)\n",
        "\n",
        "Sometimes, in a program, we may want to make a decision based on a condition. We know that an expression’s value can be True or False. We may want to do something only when a certain condition is true. For example, assume variables a and b. If a is greater, then we want to print “a is greater”. Otherwise, we want to print “b is greater”. For this, we use an if-statement. Also, operators come in handy when you want to join conditions to make a composite one.\n",
        "\n",
        "Let us see at various python decision making expressions in details with syntax and example. So let’s install python on Windows first and revise Python syntax for programming in Python."
      ]
    },
    {
      "cell_type": "markdown",
      "metadata": {
        "id": "3UjmDZmpS3_3"
      },
      "source": [
        "<h3>Python if Statements</h3>\n",
        "\n",
        "An if statement in python takes an expression with it. If the expression amounts to True, then the block of statements under it is executed. If it amounts to False, then the block is skipped and control transfers to the statements after the block. But remember to indent the statements in a block equally. This is because we don't use curly braces to delimit blocks. Also, use a colon(:) after the condition.\n",
        "\n",
        "![if](images/if_Statements.jpg)"
      ]
    },
    {
      "cell_type": "code",
      "metadata": {
        "id": "moLvSl1KS3_3"
      },
      "source": [
        "a=7\n",
        "if a<6:\n",
        "    print(f\"{a} is good\")\n",
        "    print('7 is greater than 6')"
      ],
      "execution_count": null,
      "outputs": []
    },
    {
      "cell_type": "markdown",
      "metadata": {
        "id": "KGdM7G7MS3_4"
      },
      "source": [
        "Here, since 7>6, the condition is true. So, it prints the given string."
      ]
    },
    {
      "cell_type": "code",
      "metadata": {
        "id": "jbASV4UQS3_4"
      },
      "source": [
        "if 0:\n",
        "    print(\"yay\")"
      ],
      "execution_count": null,
      "outputs": []
    },
    {
      "cell_type": "markdown",
      "metadata": {
        "id": "RjYG-WX9S3_4"
      },
      "source": [
        "We know, 1 has a Boolean value of True. So, the condition is true, and it prints 'yay'.\n",
        "\n",
        "You can also write the condition in parentheses. It does not cause a syntax error."
      ]
    },
    {
      "cell_type": "code",
      "metadata": {
        "id": "ElJGKCEiS3_4"
      },
      "source": [
        "if (1.0 is not 1):\n",
        "    print(\"1\")"
      ],
      "execution_count": null,
      "outputs": []
    },
    {
      "cell_type": "markdown",
      "metadata": {
        "id": "2_U_SXKXS3_4"
      },
      "source": [
        "<h3>4. Python if-else Statements</h3>\n",
        "\n",
        "What happens when the condition is untrue? We can mention that it in the block after the else statement. An else statement comes right after the block after 'if'.\n",
        "\n",
        "![if else](images/if_else_statements.jpg)"
      ]
    },
    {
      "cell_type": "code",
      "metadata": {
        "id": "3SbQYG7BS3_4"
      },
      "source": [
        "if 2<1:\n",
        "    print(\"2\")\n",
        "    #else:\n",
        "    #    print(\"1\")\n",
        "print(\" Done\")"
      ],
      "execution_count": null,
      "outputs": []
    },
    {
      "cell_type": "code",
      "metadata": {
        "id": "tXt4jMdXS3_5"
      },
      "source": [
        "if 2>1:\n",
        "    print(\"2\")\n",
        "else:\n",
        "    print(\"1\")"
      ],
      "execution_count": null,
      "outputs": []
    },
    {
      "cell_type": "markdown",
      "metadata": {
        "id": "mwX3NKZES3_5"
      },
      "source": [
        "Pay attention to the indent. The else keyword does not appear in the if-block. Press Backspace to undo the automatic indent. Here, 2 is not less than 1. So, the statements in the else-block are executed. It prints 1."
      ]
    },
    {
      "cell_type": "code",
      "metadata": {
        "id": "5gkHR6qXS3_5"
      },
      "source": [
        "if 2<1:\n",
        "    print(\"2\")\n",
        "else:\n",
        "    print(\"1\")\n",
        "else:\n",
        "    print(\"Hey\")"
      ],
      "execution_count": null,
      "outputs": []
    },
    {
      "cell_type": "markdown",
      "metadata": {
        "id": "AeSGAhuLS3_5"
      },
      "source": [
        "As appears in the above example, you cannot posit two else statements under an if. It causes a syntax error."
      ]
    },
    {
      "cell_type": "markdown",
      "metadata": {
        "id": "eFlH4-loS3_5"
      },
      "source": [
        "<h3>Chained Conditionals (elif ladder)</h3>\n",
        "\n",
        "Python allows the elif keyword as a replacement to the else-if statements in Java or C++. When we have more than one condition to check, we can use it. If condition 1 isn't True, condition 2 is checked. If it isn't true, condition 3 is checked.\n",
        "\n",
        "![chained conditions](images/Chained-Conditionals.jpg)"
      ]
    },
    {
      "cell_type": "code",
      "metadata": {
        "id": "5B7vYluCS3_6"
      },
      "source": [
        "if 2<1:\n",
        "     print(\"2\")\n",
        "elif 3<1:\n",
        "     print(\"3\")\n",
        "elif 4<1:\n",
        "    print(\"4\")\n",
        "else:\n",
        "     print(\"1\")\n",
        "print(\"it's Done\")"
      ],
      "execution_count": null,
      "outputs": []
    },
    {
      "cell_type": "markdown",
      "metadata": {
        "id": "-aWfJqePS3_6"
      },
      "source": [
        "As we saw, else if causes a syntax error. We must use elif. Here, 2 is not less than 1, so, the condition with elif is checked. Since it is true (1<3), it prints 1. Also, you can put an else statement after your elif statements if you want. Since in the last example, the first two conditions are false, the else is executed. So, it prints 1."
      ]
    },
    {
      "cell_type": "markdown",
      "metadata": {
        "id": "UELwTGUdS3_6"
      },
      "source": [
        "<h3>Nested if Statements in Python</h3>\n",
        "\n",
        "You can put an if statement in the block under another if statement. This is to implement further checks.\n",
        "\n",
        "![nested if](images/Nested-if-Statements.jpg)"
      ]
    },
    {
      "cell_type": "code",
      "metadata": {
        "id": "cG9n58MCS3_6"
      },
      "source": [
        "a=1\n",
        "b=3\n",
        "if a==1:\n",
        "    if b==2:\n",
        "        print(\"a is 1 and b is 2\")\n",
        "    else:\n",
        "        print(b,' is not 2')"
      ],
      "execution_count": null,
      "outputs": []
    },
    {
      "cell_type": "markdown",
      "metadata": {
        "id": "fGDnGSMBS3_6"
      },
      "source": [
        "Here, a is 1. So, b is checked. Since it is 2, it prints the given string. Not every if block has to have statements though."
      ]
    },
    {
      "cell_type": "markdown",
      "metadata": {
        "id": "C2Lqsko9S3_6"
      },
      "source": [
        "<h3>Single Statement Condition in Python</h3>\n",
        "\n",
        "If you only need to write a single statement under if, you can write it in the same line using single statement python decision making constructs."
      ]
    },
    {
      "cell_type": "code",
      "metadata": {
        "id": "jOTLnkAOS3_6"
      },
      "source": [
        "a=7\n",
        "if a>4: print(\"Greater\")"
      ],
      "execution_count": null,
      "outputs": []
    },
    {
      "cell_type": "markdown",
      "metadata": {
        "id": "7mG6TTRhS3_7"
      },
      "source": [
        "Here, we wrote it in one line, but it works without a problem."
      ]
    },
    {
      "cell_type": "code",
      "metadata": {
        "id": "JhH-0QdaS3_7"
      },
      "source": [
        "print(3);print(5)"
      ],
      "execution_count": null,
      "outputs": []
    },
    {
      "cell_type": "code",
      "metadata": {
        "id": "39P7aXi3S3_7"
      },
      "source": [
        "if a<4:\n",
        "    print(\"Hi\")\n",
        "    print(\"it works\")"
      ],
      "execution_count": null,
      "outputs": []
    },
    {
      "cell_type": "code",
      "metadata": {
        "id": "WAD4tftvS3_7"
      },
      "source": [
        "if a>4:print(\"Hi\"); print(\"it Works\"); print(\" Hellow\")"
      ],
      "execution_count": null,
      "outputs": []
    },
    {
      "cell_type": "markdown",
      "metadata": {
        "id": "Ib9CW0hlS3_7"
      },
      "source": [
        "You can also use semicolons to write more than one statement in the same line as the condition. However, this may affect the readability of your code."
      ]
    },
    {
      "cell_type": "markdown",
      "metadata": {
        "id": "duFHiD4YS3_7"
      },
      "source": [
        "<h2>Python Looping</h2>\n",
        "\n",
        "In this Python Loop Tutorial, we will learn about different types of Python Loop. Here, we will study Python **For** Loop, Python **While** Loop, Python **Loop Control Statements**, and **Nested For Loop** in Python with their subtypes, syntax, and examples.\n",
        "\n",
        "![loops](images/Loops.jpg)"
      ]
    },
    {
      "cell_type": "markdown",
      "metadata": {
        "id": "WN1hXle7S3_8"
      },
      "source": [
        "When you want some statements to execute a hundred times, you don’t repeat them 100 times. Think of when you want to print numbers 1 to 99. Or that you want to say Hello to 99 friends. In such a case, you can use loops in python.\n",
        "\n",
        "Here, we will discuss 4 types of Python Loop:\n",
        "<ul>\n",
        "    <li>Python For Loop</li>\n",
        "    <li>Python While Loop</li>\n",
        "    <li>Python Loop Control Statements</li>\n",
        "    <li>Nested For Loop in Python</li>\n",
        "</ul>\n",
        "\n",
        "<h3>Python While Loop</h3>\n",
        "\n",
        "A while loop in python iterates till its condition becomes False. In other words, it executes the statements under itself while the condition it takes is True.\n",
        "\n",
        "![while loop](images/while_loop.jpg)\n",
        "\n",
        "When the program control reaches the while loop, the condition is checked. If the condition is true, the block of code under it is executed. Remember to indent all statements under the loop equally. After that, the condition is checked again. This continues until the condition becomes false. Then, the first statement, if any, after the loop is executed."
      ]
    },
    {
      "cell_type": "code",
      "metadata": {
        "id": "vGzZYt02S3_9"
      },
      "source": [
        "a=10\n",
        "while(a>0):\n",
        "    print(a)\n",
        "    a-=1"
      ],
      "execution_count": null,
      "outputs": []
    },
    {
      "cell_type": "markdown",
      "metadata": {
        "id": "YG13kGVyS3_9"
      },
      "source": [
        "This loop prints numbers from 10 to 1. In Python, a-wouldn't work. We use a-=1 for the same.\n",
        "\n",
        "![infinite looping](images/infinit_loop.jpg)\n",
        "\n",
        "**a. An Infinite Loop**\n",
        "\n",
        "Be careful while using a while loop. Because if you forget to increment the counter variable in python, or write flawed logic, the condition may never become false. In such a case, the loop will run infinitely, and the conditions after the loop will starve. To stop execution, press Ctrl+C. However, an infinite loop may actually be useful. "
      ]
    },
    {
      "cell_type": "markdown",
      "metadata": {
        "id": "jIA6xTQpS3_9"
      },
      "source": [
        "**b. The else statement for while loop**\n",
        "\n",
        "A while loop may have an else statement after it. When the condition becomes false, the block under the else statement is executed. However, it doesn't execute if you break out of the loop or if an exception is raised."
      ]
    },
    {
      "cell_type": "code",
      "metadata": {
        "id": "JHsD3HlSS3_-"
      },
      "source": [
        "a=10\n",
        "while(a>0):\n",
        "    print(a)\n",
        "    a-=1\n",
        "else:\n",
        "    print(\"Reached 0\")"
      ],
      "execution_count": null,
      "outputs": []
    },
    {
      "cell_type": "markdown",
      "metadata": {
        "id": "7GncP3oZS3_-"
      },
      "source": [
        "In the following code, we put a break statement in the body of the while loop for a==5. So, when that happens, the statement in the else block is not executed."
      ]
    },
    {
      "cell_type": "code",
      "metadata": {
        "id": "IGXrQYGbS3_-"
      },
      "source": [
        "a=3\n",
        "while(a>0):\n",
        "    print(a)\n",
        "    a-=1\n",
        "    if a==1: break;\n",
        "else:\n",
        "    print(\"Reached 0\")"
      ],
      "execution_count": null,
      "outputs": []
    },
    {
      "cell_type": "markdown",
      "metadata": {
        "id": "HTGRoZVfS3_-"
      },
      "source": [
        "**c. Single Statement while**\n",
        "\n",
        "Like an if statement, if we have only one statement in while's body, we can write it all in one line."
      ]
    },
    {
      "cell_type": "code",
      "metadata": {
        "id": "8JizOjmDS3__"
      },
      "source": [
        "a=10\n",
        "while a>0: print(a); a-=1;"
      ],
      "execution_count": null,
      "outputs": []
    },
    {
      "cell_type": "code",
      "metadata": {
        "id": "tV9120U3S3__"
      },
      "source": [
        "from numpy import random "
      ],
      "execution_count": null,
      "outputs": []
    },
    {
      "cell_type": "code",
      "metadata": {
        "id": "wpRDX5inS4AA"
      },
      "source": [
        ""
      ],
      "execution_count": null,
      "outputs": []
    },
    {
      "cell_type": "code",
      "metadata": {
        "id": "KLYKHGIOS4AA"
      },
      "source": [
        "y = random.randint(1,100)\n",
        "x =int(input(\"Please enter your guess\"))\n",
        "while x!=y:\n",
        "    if x>y:\n",
        "        x = int(input(\"Your number is big, please try a smaller number \"))\n",
        "    else:\n",
        "        x = int(input(\"Your number is small, please try a bigger number \"))\n",
        "    \n",
        "print(\"Congrats you found the number!\")"
      ],
      "execution_count": null,
      "outputs": []
    },
    {
      "cell_type": "markdown",
      "metadata": {
        "id": "XgNR9dgHS4AA"
      },
      "source": [
        "You can see that there were two statements in while's body, but we used semicolons to separate them. Without the second statement, it would form an infinite loop.\n",
        "\n",
        "<h3>Python For Loop</h3>\n",
        "Python for loop can iterate over a sequence of items. The structure of a for loop in Python is different than that in C++ or Java. That is, \n",
        "\n",
        "```C++\n",
        "for(int i=0;i<n;i++)\n",
        "```\n",
        "won't work here. In Python, we use the 'in' keyword. Lets see a Python for loop Example\n",
        "\n",
        "![for loop](images/for_loops.jpg)"
      ]
    },
    {
      "cell_type": "code",
      "metadata": {
        "id": "RzW1BzJNS4AB"
      },
      "source": [
        "L = list(range(2,10))\n",
        "L"
      ],
      "execution_count": null,
      "outputs": []
    },
    {
      "cell_type": "code",
      "metadata": {
        "id": "SLyg2RMqS4AB"
      },
      "source": [
        "for a in range(3):\n",
        "    print(a)"
      ],
      "execution_count": null,
      "outputs": []
    },
    {
      "cell_type": "markdown",
      "metadata": {
        "id": "DFxJjxJkS4AB"
      },
      "source": [
        "If we wanted to print 1 to 3, we could write the following code."
      ]
    },
    {
      "cell_type": "code",
      "metadata": {
        "id": "SQLnj7EyS4AB"
      },
      "source": [
        "for a in range(3):\n",
        "    print(a+1)\n"
      ],
      "execution_count": null,
      "outputs": []
    },
    {
      "cell_type": "code",
      "metadata": {
        "id": "LLjcSEpUS4AC"
      },
      "source": [
        "for a in range(1,4):\n",
        "    print(a)"
      ],
      "execution_count": null,
      "outputs": []
    },
    {
      "cell_type": "code",
      "metadata": {
        "id": "LzV8MYs5S4AC"
      },
      "source": [
        "range?"
      ],
      "execution_count": null,
      "outputs": []
    },
    {
      "cell_type": "markdown",
      "metadata": {
        "id": "Mjp-pn7nS4AC"
      },
      "source": [
        "![for loop2](images/for_loop.jpg)"
      ]
    },
    {
      "cell_type": "markdown",
      "metadata": {
        "id": "U2p93cGoS4AC"
      },
      "source": [
        "**a. The range() function**\n",
        "\n",
        "This function yields a sequence of numbers. When called with one argument, say n, it creates a sequence of numbers from 0 to n-1."
      ]
    },
    {
      "cell_type": "code",
      "metadata": {
        "id": "Q63h_qjlS4AD"
      },
      "source": [
        "list(range(10))"
      ],
      "execution_count": null,
      "outputs": []
    },
    {
      "cell_type": "markdown",
      "metadata": {
        "id": "F_g7BhFqS4AD"
      },
      "source": [
        "We use the list function to convert the range object into a list object.\n",
        "\n",
        "Calling it with two arguments creates a sequence of numbers from the first to the second."
      ]
    },
    {
      "cell_type": "code",
      "metadata": {
        "id": "SLFa4R2xS4AD"
      },
      "source": [
        "list(range(1,8))"
      ],
      "execution_count": null,
      "outputs": []
    },
    {
      "cell_type": "markdown",
      "metadata": {
        "id": "3E1l8IZdS4AD"
      },
      "source": [
        "You can also pass three arguments. The third argument is the interval."
      ]
    },
    {
      "cell_type": "code",
      "metadata": {
        "id": "u674lb9DS4AE"
      },
      "source": [
        "list(range(1,10,2))"
      ],
      "execution_count": null,
      "outputs": []
    },
    {
      "cell_type": "markdown",
      "metadata": {
        "id": "UBHjKZdTS4AE"
      },
      "source": [
        "Remember, the interval can also be negative."
      ]
    },
    {
      "cell_type": "code",
      "metadata": {
        "id": "Nct5jUAaS4AE"
      },
      "source": [
        "list(range(10,2,-2))"
      ],
      "execution_count": null,
      "outputs": []
    },
    {
      "cell_type": "markdown",
      "metadata": {
        "id": "gq4UN5ZYS4AE"
      },
      "source": [
        "However, the following codes will return an empty list."
      ]
    },
    {
      "cell_type": "code",
      "metadata": {
        "id": "nUyjY2AjS4AE"
      },
      "source": [
        "list(range(12,2))"
      ],
      "execution_count": null,
      "outputs": []
    },
    {
      "cell_type": "code",
      "metadata": {
        "id": "29uBuINBS4AE"
      },
      "source": [
        "list(range(2,12,-2))"
      ],
      "execution_count": null,
      "outputs": []
    },
    {
      "cell_type": "code",
      "metadata": {
        "id": "-DPtzBL1S4AE"
      },
      "source": [
        "list(range(12,2,2))"
      ],
      "execution_count": null,
      "outputs": []
    },
    {
      "cell_type": "markdown",
      "metadata": {
        "id": "3aASGYr_S4AF"
      },
      "source": [
        "**b. Iterating on lists or similar constructs**\n",
        "\n",
        "You aren't bound to use the range() function, though. You can use the loop to iterate on a list or a similar construct."
      ]
    },
    {
      "cell_type": "code",
      "metadata": {
        "id": "R1I-1V9OS4AF"
      },
      "source": [
        "for a in [1,2,3]:\n",
        "    print(a)"
      ],
      "execution_count": null,
      "outputs": []
    },
    {
      "cell_type": "code",
      "metadata": {
        "id": "4wyoHezES4AF"
      },
      "source": [
        "for a in (1,2,3):\n",
        "         print(a)"
      ],
      "execution_count": null,
      "outputs": []
    },
    {
      "cell_type": "markdown",
      "metadata": {
        "id": "FPkhIdJjS4AF"
      },
      "source": [
        "You can also iterate on a string."
      ]
    },
    {
      "cell_type": "code",
      "metadata": {
        "id": "Rzdnv15NS4AF"
      },
      "source": [
        "for i in 'wisdom at the source of blue nile':\n",
        "        print(i)"
      ],
      "execution_count": null,
      "outputs": []
    },
    {
      "cell_type": "markdown",
      "metadata": {
        "id": "_i4GxBxiS4AF"
      },
      "source": [
        "**c. Iterating on indices of a list or a similar construct**\n",
        "\n",
        "The *len()* function returns the length of the list. When you apply the *range()* function on that, it returns the indices of the list on a range object. You can iterate on that."
      ]
    },
    {
      "cell_type": "code",
      "metadata": {
        "id": "Zp0GkBV0S4AF"
      },
      "source": [
        "Language=['Amharic','English','Arabic','swahili']\n",
        "for i in Language:\n",
        "    print(i)"
      ],
      "execution_count": null,
      "outputs": []
    },
    {
      "cell_type": "markdown",
      "metadata": {
        "id": "4xsn-znzS4AG"
      },
      "source": [
        "**d. The else statement for for-loop**\n",
        "\n",
        "Like a while loop, a for-loop may also have an else statement after it. When the loop is exhausted, the block under the else statement executes."
      ]
    },
    {
      "cell_type": "code",
      "metadata": {
        "id": "KpCyw3tOS4AG"
      },
      "source": [
        "for i in range(10):\n",
        "     print(i)\n",
        "else:\n",
        "     print(\"Reached else\")"
      ],
      "execution_count": null,
      "outputs": []
    },
    {
      "cell_type": "markdown",
      "metadata": {
        "id": "fwVB6v4dS4AG"
      },
      "source": [
        "Like in the while loop, it doesn’t execute if you break out of the loop or if an exception is raised."
      ]
    },
    {
      "cell_type": "code",
      "metadata": {
        "id": "gWgWTaDCS4AG"
      },
      "source": [
        "for i in range(10):\n",
        "        print(i)\n",
        "        if(i==7):\n",
        "            break\n",
        "else:print(\"Reached else\")\n",
        "    \n",
        "print(\" Out of the for loop\")"
      ],
      "execution_count": null,
      "outputs": []
    },
    {
      "cell_type": "markdown",
      "metadata": {
        "id": "ybtdKj0CS4AG"
      },
      "source": [
        "<h4> Nested for Loops Python</h4>\n",
        "\n",
        "You can also nest a loop inside another. You can put a for loop inside a while, or a while inside a for, or a for inside a for, or a while inside a while. Or you can put a loop inside a loop inside a loop. You can go as far as you want."
      ]
    },
    {
      "cell_type": "code",
      "metadata": {
        "id": "K5X1iqXoS4AG"
      },
      "source": [
        "for i in range(1,6):\n",
        "    for j in range(i):\n",
        "        print(\"*\",end=' ')\n",
        "    print()"
      ],
      "execution_count": null,
      "outputs": []
    },
    {
      "cell_type": "markdown",
      "metadata": {
        "id": "8F1Bw9MJS4AG"
      },
      "source": [
        "Let’s look at some nested while loops to print the same pattern."
      ]
    },
    {
      "cell_type": "code",
      "metadata": {
        "id": "WUTOCWRzS4AH"
      },
      "source": [
        "i=6\n",
        "while(i>0):\n",
        "    j=6\n",
        "    while(j>i):\n",
        "        print(\"*\",end=' ')\n",
        "        j-=1\n",
        "    i-=1\n",
        "    print()"
      ],
      "execution_count": null,
      "outputs": []
    },
    {
      "cell_type": "markdown",
      "metadata": {
        "id": "jLt4uGtDS4AH"
      },
      "source": [
        "<h4>Loop Control Statements in Python</h4>\n",
        "\n",
        "Sometimes, you may want to break out of normal execution in a loop. For this, we have three keywords in Python- break, continue, and pass.\n",
        "\n",
        "![Loop Control](images/Loop_Control.jpg)"
      ]
    },
    {
      "cell_type": "markdown",
      "metadata": {
        "id": "VswvHKO7S4AH"
      },
      "source": [
        "**a. break statement**\n",
        "\n",
        "When you put a break statement in the body of a loop, the loop stops executing, and control shifts to the first statement outside it. You can put it in a for or while loop."
      ]
    },
    {
      "cell_type": "code",
      "metadata": {
        "id": "DJA6swrtS4AH"
      },
      "source": [
        "for i in 'break':\n",
        "    print(i)\n",
        "    if i=='a': \n",
        "        break;"
      ],
      "execution_count": null,
      "outputs": []
    },
    {
      "cell_type": "markdown",
      "metadata": {
        "id": "lefYcmUJS4AH"
      },
      "source": [
        "**b. continue statement**\n",
        "\n",
        "When the program control reaches the continue statement, it skips the statements after ‘continue’. It then shifts to the next item in the sequence and executes the block of code for it. You can use it with both for and while loops."
      ]
    },
    {
      "cell_type": "code",
      "metadata": {
        "id": "5iusoLqwS4AH"
      },
      "source": [
        "i=0\n",
        "while(i<8):\n",
        "    \n",
        "    if(i==6): \n",
        "        continue\n",
        "    i+=1\n",
        "    print(i)"
      ],
      "execution_count": null,
      "outputs": []
    },
    {
      "cell_type": "markdown",
      "metadata": {
        "id": "uzO29K8JS4AH"
      },
      "source": [
        "If here, the iteration i+=1 succeeds the if condition, it prints to 5 and gets stuck in an infinite loop. You can break out of an infinite loop by pressing interrupt in the Kernel menu and if you are using the shell press Ctrl+C."
      ]
    },
    {
      "cell_type": "code",
      "metadata": {
        "id": "BuO1uuugS4AI"
      },
      "source": [
        "i=0\n",
        "while(i<8):\n",
        "    if(i==6): continue\n",
        "    print(i)\n",
        "    i+=1"
      ],
      "execution_count": null,
      "outputs": []
    },
    {
      "cell_type": "markdown",
      "metadata": {
        "id": "jDqxkVMSS4AI"
      },
      "source": [
        "**c. pass statement**\n",
        "\n",
        "In Python, we use the pass statement to implement stubs. When we need a particular loop, class, or function in our program, but don't know what goes in it, we place the pass statement in it. It is a null statement. The interpreter does not ignore it, but it performs a no-operation (NOP)."
      ]
    },
    {
      "cell_type": "code",
      "metadata": {
        "id": "0ViLbZpkS4AI"
      },
      "source": [
        "for i in 'selfhelp':\n",
        "        pass\n",
        "print(i)"
      ],
      "execution_count": null,
      "outputs": []
    },
    {
      "cell_type": "markdown",
      "metadata": {
        "id": "6FyElY6jS4AI"
      },
      "source": [
        "In this tutorial on Python Loops, we learnt about while and for loops in Python. We also learnt how to nest loops, and use the range() function to iterate through a sequence of items. Lastly, we learnt about break, continue, and pass statements to control loops. So, try out your own combinations in the shell, and don’t forget to leave your feedback in the comments."
      ]
    },
    {
      "cell_type": "markdown",
      "metadata": {
        "id": "MDuQM9jKS4AI"
      },
      "source": [
        "<h2> Python Function </h2>"
      ]
    },
    {
      "cell_type": "markdown",
      "metadata": {
        "id": "MEFLZrPSS4AI"
      },
      "source": [
        "Now, we forward to deeper parts of the language, let’s read about Python Function. Moreover, we will study the different types of functions in Python: Python built-in functions, Python recursion function, Python lambda function, and Python user-defined functions with their syntax and examples.\n",
        "\n",
        "So, let’s start the Python Function Tutorial.\n",
        "\n",
        "Python function in any programming language is a sequence of statements in a certain order, given a name. When called, those statements are executed. So we don't have to write the code again and again for each [type of] data that we want to apply it to. This is called code re-usability."
      ]
    },
    {
      "cell_type": "markdown",
      "metadata": {
        "id": "tkSIDYuuS4AI"
      },
      "source": [
        "<h3> User Defined Fucntions</h3>\n",
        "\n",
        "For simplicity purposes, we will divide this lesson into two parts. First, we will talk about user-defined functions in Python. Python lets us group a sequence of statements into a single entity, called a function. A Python function may or may not have a name. We'll look at functions without a name later in this tutorial.\n",
        "\n",
        "**a. Advantages of User-defined Functions in Python**\n",
        "<ol>\n",
        "    <li>This Python Function help divide a program into modules. This makes the code easier to manage, debug, and scale.</li>\n",
        "    <li>It implements code reuse. Every time you need to execute a sequence of statements, all you need to do is to call the function.</li>\n",
        "    <li>This Python Function allow us to change functionality easily, and different programmers can work on different functions.</li>\n",
        "</ol>\n",
        "\n",
        "**b. Defining a Function in Python**\n",
        "\n",
        "To define your own Python function, you use the **'def'** keyword before its name. And its name is to be followed by parentheses, before a colon(:)."
      ]
    },
    {
      "cell_type": "code",
      "metadata": {
        "id": "gDNtf6TgS4AJ"
      },
      "source": [
        "def hello():\n",
        "    print(\"Hello\")"
      ],
      "execution_count": null,
      "outputs": []
    },
    {
      "cell_type": "code",
      "metadata": {
        "id": "1oyfBrz7S4AJ"
      },
      "source": [
        "hello()"
      ],
      "execution_count": null,
      "outputs": []
    },
    {
      "cell_type": "markdown",
      "metadata": {
        "id": "N6ltMqbSS4AJ"
      },
      "source": [
        "The contents inside the body of the function must be equally indented.\n",
        "\n",
        "As we had discussed on Python syntax, you may use a **docstring** right under the first line of a function declaration. This is a documentation string, and it explains what the function does."
      ]
    },
    {
      "cell_type": "code",
      "metadata": {
        "id": "KN8GxCHKS4AJ"
      },
      "source": [
        "f(2)"
      ],
      "execution_count": null,
      "outputs": []
    },
    {
      "cell_type": "code",
      "metadata": {
        "id": "wOgBa-pSS4AJ"
      },
      "source": [
        "def f(x):\n",
        "    return x**2"
      ],
      "execution_count": null,
      "outputs": []
    },
    {
      "cell_type": "code",
      "metadata": {
        "id": "yVIgFM4QS4AJ"
      },
      "source": [
        ""
      ],
      "execution_count": null,
      "outputs": []
    },
    {
      "cell_type": "code",
      "metadata": {
        "id": "UJzXdpfpS4AJ"
      },
      "source": [
        "def Hello():\n",
        "    \"\"\"\n",
        "    This Python function simply prints hello to the screen\n",
        "    \"\"\"\n",
        "    print(\"Hello world\")"
      ],
      "execution_count": null,
      "outputs": []
    },
    {
      "cell_type": "code",
      "metadata": {
        "id": "vujPqBcyS4AJ"
      },
      "source": [
        "Hello()"
      ],
      "execution_count": null,
      "outputs": []
    },
    {
      "cell_type": "code",
      "metadata": {
        "id": "c8O5yVI3S4AK"
      },
      "source": [
        "hello.__doc__"
      ],
      "execution_count": null,
      "outputs": []
    },
    {
      "cell_type": "markdown",
      "metadata": {
        "id": "tsSyfr4TS4AK"
      },
      "source": [
        "You can access this docstring using the __doc__ attribute of the function."
      ]
    },
    {
      "cell_type": "code",
      "metadata": {
        "id": "l6x1SH1BS4AK"
      },
      "source": [
        "def func1():\n",
        "    \"\"\"\n",
        "    This is the docstring\n",
        "    \"\"\"\n",
        "    print(\"Hello\")"
      ],
      "execution_count": null,
      "outputs": []
    },
    {
      "cell_type": "code",
      "metadata": {
        "id": "0HJN2vAoS4AK"
      },
      "source": [
        "func1.__doc__"
      ],
      "execution_count": null,
      "outputs": []
    },
    {
      "cell_type": "markdown",
      "metadata": {
        "id": "7B9oJ2Y8S4AK"
      },
      "source": [
        "If you don't yet know what to put in the function, then you should put the pass statement in its body. If you leave its body empty, you get an error \"Expected an indented block\"."
      ]
    },
    {
      "cell_type": "code",
      "metadata": {
        "id": "M4z3vKUlS4AK"
      },
      "source": [
        "def hello1():\n",
        "    pass"
      ],
      "execution_count": null,
      "outputs": []
    },
    {
      "cell_type": "markdown",
      "metadata": {
        "id": "sWRpZfriS4AK"
      },
      "source": [
        "**c. Rules for naming python function (identifier)**\n",
        "\n",
        "We follow the same rules when naming a function as we do when naming a variable.\n",
        "<ol>\n",
        "    <li>It can begin with either of the following: A-Z, a-z, and underscore(_).</li>\n",
        "    <li>The rest of it can contain either of the following: A-Z, a-z, digits(0-9), and underscore(_).</li>\n",
        "    <li>A reserved keyword may not be chosen as an identifier.</li>\n",
        "</ol>\n",
        "It is good practice to name a Python function according to what it does.\n",
        "\n"
      ]
    },
    {
      "cell_type": "markdown",
      "metadata": {
        "id": "UXkfN14GS4AL"
      },
      "source": [
        "**d. Python Function Parameters**\n",
        "\n",
        "Sometimes, you may want a function to operate on some variables, and produce a result. Such a function may take any number of parameters. Let's take a function to add two numbers."
      ]
    },
    {
      "cell_type": "code",
      "metadata": {
        "id": "Qeldm0RJS4AL"
      },
      "source": [
        "def sum1(a,b):\n",
        "    y=f\"{a}+{b}={a+b}\"\n",
        "    return y"
      ],
      "execution_count": null,
      "outputs": []
    },
    {
      "cell_type": "code",
      "metadata": {
        "id": "j_XqnICrS4AL"
      },
      "source": [
        "sum1(5,4)"
      ],
      "execution_count": null,
      "outputs": []
    },
    {
      "cell_type": "code",
      "metadata": {
        "id": "olZBWh2JS4AL"
      },
      "source": [
        ""
      ],
      "execution_count": null,
      "outputs": []
    },
    {
      "cell_type": "code",
      "metadata": {
        "id": "annCxN8AS4AL"
      },
      "source": [
        ""
      ],
      "execution_count": null,
      "outputs": []
    },
    {
      "cell_type": "code",
      "metadata": {
        "id": "8p2Q4ADSS4AL"
      },
      "source": [
        ""
      ],
      "execution_count": null,
      "outputs": []
    },
    {
      "cell_type": "code",
      "metadata": {
        "id": "VuSK0rOfS4AL"
      },
      "source": [
        "def sum(a,b):\n",
        "    return (f\"{a}+{b}={a+b}\")"
      ],
      "execution_count": null,
      "outputs": []
    },
    {
      "cell_type": "code",
      "metadata": {
        "id": "YAdsSjpnS4AL"
      },
      "source": [
        "r = sum(6,2)\n",
        "r"
      ],
      "execution_count": null,
      "outputs": []
    },
    {
      "cell_type": "markdown",
      "metadata": {
        "id": "kx6Gzt4TS4AM"
      },
      "source": [
        "Here, the function sum() takes two parameters- a and b. When we call the function, we pass numbers 2 and 3. These are the arguments that fit a and b respectively. We will describe calling a function in point f. A function in Python may contain any number of parameters, or none."
      ]
    },
    {
      "cell_type": "markdown",
      "metadata": {
        "id": "tyR187k6S4AM"
      },
      "source": [
        "<font size=4 color=red> Wait a minute, what have we just done?</font>. 'sum' is a built in function."
      ]
    },
    {
      "cell_type": "code",
      "metadata": {
        "id": "DeXAglZnS4AM"
      },
      "source": [
        "l=[2,3,4,5]\n",
        "sum(l)"
      ],
      "execution_count": null,
      "outputs": []
    },
    {
      "cell_type": "code",
      "metadata": {
        "id": "LRTSZ9unS4AM"
      },
      "source": [
        "del sum"
      ],
      "execution_count": null,
      "outputs": []
    },
    {
      "cell_type": "code",
      "metadata": {
        "id": "k-ICq2yKS4AM"
      },
      "source": [
        "sum(l)"
      ],
      "execution_count": null,
      "outputs": []
    },
    {
      "cell_type": "markdown",
      "metadata": {
        "id": "QLChJziuS4AN"
      },
      "source": [
        "In the next example, we try adding an int and a float."
      ]
    },
    {
      "cell_type": "code",
      "metadata": {
        "id": "X2de6n30S4AN"
      },
      "source": [
        "def sum2(a,b):\n",
        "    print(f\"{a}+{b}={a+b}\")\n",
        "sum2(3.0,2)"
      ],
      "execution_count": null,
      "outputs": []
    },
    {
      "cell_type": "markdown",
      "metadata": {
        "id": "ZGOYAB39S4AN"
      },
      "source": [
        "However, you can't add incompatible types."
      ]
    },
    {
      "cell_type": "code",
      "metadata": {
        "id": "n0x4IKxvS4AN"
      },
      "source": [
        "sum2('Hello',2)"
      ],
      "execution_count": null,
      "outputs": []
    },
    {
      "cell_type": "markdown",
      "metadata": {
        "id": "jD2lAC8pS4AQ"
      },
      "source": [
        "**e. Python return statement**\n",
        "\n",
        "A Python function may optionally return a value. This value can be a result that it produced on its execution. Or it can be something you specify- an expression or a value."
      ]
    },
    {
      "cell_type": "code",
      "metadata": {
        "id": "fVD_3NKmS4AR"
      },
      "source": [
        "def func1(a):\n",
        "    if a%2==0:\n",
        "        return 0\n",
        "    else:\n",
        "        return 1\n",
        "x =func1(4)"
      ],
      "execution_count": null,
      "outputs": []
    },
    {
      "cell_type": "code",
      "metadata": {
        "id": "sK7GaNlXS4AR"
      },
      "source": [
        "x**3 +3"
      ],
      "execution_count": null,
      "outputs": []
    },
    {
      "cell_type": "markdown",
      "metadata": {
        "id": "SyJv_6MpS4AR"
      },
      "source": [
        "As soon as a return statement is reached in a function, the function stops executing. Then, the next statement after the function call is executed. Let's try returning an expression."
      ]
    },
    {
      "cell_type": "code",
      "metadata": {
        "id": "zEgmsbzzS4AR"
      },
      "source": [
        "def Sum(a,b):\n",
        "    c = a+b\n",
        "    return c"
      ],
      "execution_count": null,
      "outputs": []
    },
    {
      "cell_type": "code",
      "metadata": {
        "id": "eUnSTKcGS4AR"
      },
      "source": [
        "x =Sum(8,4)\n",
        "print(x)"
      ],
      "execution_count": null,
      "outputs": []
    },
    {
      "cell_type": "markdown",
      "metadata": {
        "id": "MGp-3V3dS4AS"
      },
      "source": [
        "**f. Calling a Python function**\n",
        "\n",
        "To call a Python function at a place in your code, you simply need to name it, and pass arguments, if any. Let’s call the function hello() that we defined in section b."
      ]
    },
    {
      "cell_type": "code",
      "metadata": {
        "id": "G7-NvAJBS4AS"
      },
      "source": [
        "hello()"
      ],
      "execution_count": null,
      "outputs": []
    },
    {
      "cell_type": "markdown",
      "metadata": {
        "id": "6xXW2WzFS4AS"
      },
      "source": [
        "We already saw how to call python function with arguments in section e."
      ]
    },
    {
      "cell_type": "markdown",
      "metadata": {
        "id": "8vAkesIOS4AS"
      },
      "source": [
        "**g. Scope and Lifetime of Variables in Python**\n",
        "\n",
        "A variable isn't visible everywhere and alive every time. We study this in functions because the scope and lifetime for a variable depend on whether it is inside a function.\n",
        "\n",
        "**1. Scope**\n",
        "\n",
        "A variable’s scope tells us where in the program it is visible. A variable may have local or global scope.\n",
        "\n",
        "  **Local Scope-** A variable that’s declared inside a function has a local scope. In other words, it is local to that function."
      ]
    },
    {
      "cell_type": "code",
      "metadata": {
        "id": "e6_wMqVqS4AT"
      },
      "source": [
        "def func3():\n",
        "    x=7\n",
        "    print(x)\n",
        "func3()"
      ],
      "execution_count": null,
      "outputs": []
    },
    {
      "cell_type": "markdown",
      "metadata": {
        "id": "BatReiHiS4AT"
      },
      "source": [
        "If you then try to access the variable x outside the function, you cannot."
      ]
    },
    {
      "cell_type": "code",
      "metadata": {
        "id": "nh0-qf9RS4AT"
      },
      "source": [
        "x"
      ],
      "execution_count": null,
      "outputs": []
    },
    {
      "cell_type": "markdown",
      "metadata": {
        "id": "n5Hd3V6-S4AU"
      },
      "source": [
        " **Global Scope-** When you declare a variable outside python function, or anything else, it has global scope. It means that it is visible everywhere within the program.\n",
        "\n"
      ]
    },
    {
      "cell_type": "code",
      "metadata": {
        "id": "6eI3J7XES4AU"
      },
      "source": [
        "y=7\n",
        "def func4():\n",
        "    print(y)\n",
        "func4()"
      ],
      "execution_count": null,
      "outputs": []
    },
    {
      "cell_type": "markdown",
      "metadata": {
        "id": "JUqUHkXDS4AU"
      },
      "source": [
        "However, you can't change its value from inside a local scope(here, inside a function). To do so, you must declare it global inside the function, using the 'global' keyword."
      ]
    },
    {
      "cell_type": "code",
      "metadata": {
        "id": "vLdca-lSS4AU"
      },
      "source": [
        "y=7\n",
        "def func4():\n",
        "    global y\n",
        "    y+=1\n",
        "    print(y)\n",
        "func4()"
      ],
      "execution_count": null,
      "outputs": []
    },
    {
      "cell_type": "code",
      "metadata": {
        "id": "zl6qMcPXS4AU"
      },
      "source": [
        "y"
      ],
      "execution_count": null,
      "outputs": []
    },
    {
      "cell_type": "markdown",
      "metadata": {
        "id": "iqJcUaePS4AV"
      },
      "source": [
        "As you can see, y has been changed to 8."
      ]
    },
    {
      "cell_type": "markdown",
      "metadata": {
        "id": "atCgW0hAS4AV"
      },
      "source": [
        "**2. Lifetime**\n",
        "\n",
        "A variable's lifetime is the period of time for which it resides in the memory.\n",
        "\n",
        "A variable that's declared inside python function is destroyed after the function stops executing. So the next time the function is called, it does not remember the previous value of that variable."
      ]
    },
    {
      "cell_type": "code",
      "metadata": {
        "id": "Az0fnbyMS4AV"
      },
      "source": [
        "def func1():\n",
        "    counter=1\n",
        "    counter+=1\n",
        "    print(counter)\n",
        "func1()"
      ],
      "execution_count": null,
      "outputs": []
    },
    {
      "cell_type": "code",
      "metadata": {
        "id": "wZi-WRM5S4AV"
      },
      "source": [
        "func1()"
      ],
      "execution_count": null,
      "outputs": []
    },
    {
      "cell_type": "markdown",
      "metadata": {
        "id": "lo3FRlwFS4AV"
      },
      "source": [
        "As you can see here, the function func1() doesn't print 2 the second time.\n",
        "\n",
        "**h. Deleting Python function**\n",
        "\n",
        "Till now, we have seen how to delete a variable. Similarly, you can delete a function with the ‘del’ keyword."
      ]
    },
    {
      "cell_type": "code",
      "metadata": {
        "id": "XfRP2_-KS4AW"
      },
      "source": [
        "def func7():\n",
        "    print(\"7\")\n",
        "func7()"
      ],
      "execution_count": null,
      "outputs": []
    },
    {
      "cell_type": "code",
      "metadata": {
        "id": "mhH1g_yWS4AW"
      },
      "source": [
        "del func7\n",
        "func7()"
      ],
      "execution_count": null,
      "outputs": []
    },
    {
      "cell_type": "markdown",
      "metadata": {
        "id": "_4h5XbocS4AW"
      },
      "source": [
        "When deleting a function, you don’t need to put parentheses after its name.\n",
        "\n",
        "<h3>Python Built-in Functions</h3>\n",
        "\n",
        "In various previous lessons, we have seen a range of built-in functions by Python. This Python function apply on constructs like int, float, bin, hex, string, list, tuple, set, dictionary, and so. Refer to those lessons to revise them all.\n",
        "\n",
        "<h3>Python Lambda Expressions</h3>\n",
        "\n",
        "As we said earlier, a function doesn't need to have a name. A lambda expression in Python allows us to create anonymous python function, and we use the 'lambda' keyword for it. The following is the syntax for a lambda expression.\n",
        "\n",
        "```python\n",
        "lambda arguments:expression\n",
        "```\n",
        "\n",
        "It’s worth noting that it can have any number of arguments, but only one expression. It evaluates the value of that expression, and returns the result. Let’s take an example."
      ]
    },
    {
      "cell_type": "code",
      "metadata": {
        "id": "vhEMLb9XS4AX"
      },
      "source": [
        "def f(x):\n",
        "    return x**2"
      ],
      "execution_count": null,
      "outputs": []
    },
    {
      "cell_type": "code",
      "metadata": {
        "id": "hB5xpM7HS4AX"
      },
      "source": [
        "f(4)"
      ],
      "execution_count": null,
      "outputs": []
    },
    {
      "cell_type": "code",
      "metadata": {
        "id": "xR8ZNdV-S4AX"
      },
      "source": [
        "g = lambda x: x**2"
      ],
      "execution_count": null,
      "outputs": []
    },
    {
      "cell_type": "code",
      "metadata": {
        "id": "wZzNS09NS4AY"
      },
      "source": [
        "g(4)"
      ],
      "execution_count": null,
      "outputs": []
    },
    {
      "cell_type": "code",
      "metadata": {
        "id": "ZroKOK6XS4AY"
      },
      "source": [
        "myvar=lambda a,b:(a*b)+2"
      ],
      "execution_count": null,
      "outputs": []
    },
    {
      "cell_type": "code",
      "metadata": {
        "id": "oDn4jnVaS4AY"
      },
      "source": [
        "myvar(2,3)"
      ],
      "execution_count": null,
      "outputs": []
    },
    {
      "cell_type": "markdown",
      "metadata": {
        "id": "l8Yu1igoS4AY"
      },
      "source": [
        "This code takes the numbers *2* and *3* as arguments $a$ and b respectively, and puts them in the expression $(a*b)+2$. This makes it $(2*3)+2$, which is $8$. Finally, it returns $8$.\n",
        "\n",
        "Actually, the function object is assigned to the identifier myvar.\n",
        "\n",
        "Lambda functions can be used along with built-in functions like **filter()**, **map()** and **reduce()**.\n",
        "\n",
        "**Use of lambda() with filter()**\n",
        "\n",
        "The filter() function in Python takes in a function and a list as arguments. This offers an elegant way to filter out all the elements of a sequence \"sequence\", for which the function returns True. Here is a small program that returns the odd numbers from an input list:"
      ]
    },
    {
      "cell_type": "code",
      "metadata": {
        "id": "1652iHTHS4AY"
      },
      "source": [
        "li = [5, 7, 22, 97, 54, 62, 77, 23, 73, 61] \n",
        "final_list = list(filter(lambda x: (x%2 == 0) , li)) \n",
        "print(final_list) "
      ],
      "execution_count": null,
      "outputs": []
    },
    {
      "cell_type": "markdown",
      "metadata": {
        "id": "TKlDEFFPS4AY"
      },
      "source": [
        "**Use of lambda() with map()**\n",
        "\n",
        "The map() function in Python takes in a function and a list as argument. The function is called with a lambda function and a list and a new list is returned which contains all the lambda modified items returned by that function for each item. Example:"
      ]
    },
    {
      "cell_type": "code",
      "metadata": {
        "id": "soOcr4UeS4AZ"
      },
      "source": [
        "L=[3,7,-3,8]\n",
        "\n",
        "List = list(map(lambda x:x-2, L))\n",
        "List"
      ],
      "execution_count": null,
      "outputs": []
    },
    {
      "cell_type": "code",
      "metadata": {
        "id": "EHB0PeT_S4AZ"
      },
      "source": [
        "li = [5, 7, 22, 97, 54, 62, 77, 23, 73, 61] \n",
        "final_list = list(map(lambda x: x*2 , li)) \n",
        "print(final_list) "
      ],
      "execution_count": null,
      "outputs": []
    },
    {
      "cell_type": "markdown",
      "metadata": {
        "id": "57hE8W5hS4AZ"
      },
      "source": [
        "**Use of lambda() with reduce()**\n",
        "\n",
        "The reduce() function in Python takes in a function and a list as argument. The function is called with a lambda function and a list and a new reduced result is returned. This performs a repetitive operation over the pairs of the list. This is a part of functools module. Example:"
      ]
    },
    {
      "cell_type": "code",
      "metadata": {
        "id": "M4pz3jHCS4AZ"
      },
      "source": [
        "from functools import reduce\n",
        "li = [5, 8, 10, 20, 50, 100] \n",
        "s = reduce((lambda x, y: x + y), li) \n",
        "print (s) "
      ],
      "execution_count": null,
      "outputs": []
    },
    {
      "cell_type": "markdown",
      "metadata": {
        "id": "4HOIYoLIS4AZ"
      },
      "source": [
        "Here the results of previous two elements are added to the next element and this goes on till the end of the list like $(((((5+8)+10)+20)+50)+100).$"
      ]
    },
    {
      "cell_type": "markdown",
      "metadata": {
        "id": "q3Qyv__hS4AZ"
      },
      "source": [
        "<h3>Python Recursion Function</h3>\n",
        "\n",
        "A very interesting concept in any field, recursion is using something to define itself. In other words, it is something calling itself. In Python function, recursion is when a function calls itself. To see how this could be useful, let’s try calculating the factorial of a number. Mathematically, a number’s factorial is:\n",
        "\n",
        "```python\n",
        "n!=n*n-1*n-2*...*2*1\n",
        "```\n",
        "\n",
        "To code this, we type the following."
      ]
    },
    {
      "cell_type": "code",
      "metadata": {
        "id": "mhWxHqRqS4AZ"
      },
      "source": [
        "def facto(n):\n",
        "    if n==1:\n",
        "        return(1)\n",
        "    return n*facto(n-1)"
      ],
      "execution_count": null,
      "outputs": []
    },
    {
      "cell_type": "code",
      "metadata": {
        "id": "XcMDPjzaS4Aa"
      },
      "source": [
        "facto(5)"
      ],
      "execution_count": null,
      "outputs": []
    },
    {
      "cell_type": "markdown",
      "metadata": {
        "id": "CpeckUvnS4Aa"
      },
      "source": [
        "![factorial](images/factorial.jpg)"
      ]
    },
    {
      "cell_type": "code",
      "metadata": {
        "id": "k879SkFZS4Aa"
      },
      "source": [
        "import numpy as np\n",
        "import math as m"
      ],
      "execution_count": null,
      "outputs": []
    },
    {
      "cell_type": "code",
      "metadata": {
        "id": "Djgzc-4XS4Aa"
      },
      "source": [
        "m.factorial(5)"
      ],
      "execution_count": null,
      "outputs": []
    },
    {
      "cell_type": "code",
      "metadata": {
        "id": "ttg1smB1S4Aa"
      },
      "source": [
        ""
      ],
      "execution_count": null,
      "outputs": []
    },
    {
      "cell_type": "markdown",
      "metadata": {
        "id": "_H5wOxZ0S4Aa"
      },
      "source": [
        "It is important to revise in order to retain information. In this lesson, we learned about the Python function. First, we saw the advantages of a user-defined function in Python. Now we can create, update, and delete a function. And we know that a function may take arguments and may return a value. We also looked at the scope and lifetime of a variable. Hope you like the Python Function Tutorial.\n",
        "\n",
        "Don’t forget to revise the various built-in functions supported by Python."
      ]
    },
    {
      "cell_type": "markdown",
      "metadata": {
        "id": "uJjBaVQaS4Aa"
      },
      "source": [
        "### Excercises"
      ]
    },
    {
      "cell_type": "markdown",
      "metadata": {
        "id": "dDlqygjuS4Aa"
      },
      "source": [
        "<h4>1. Reverse a given number and return true if it is the same as the original number</h4>\n",
        "\n",
        "Example: original number 121\n",
        "\n",
        "The original and reverse number is the same: True\n",
        "\n",
        "original number 125\n",
        "\n",
        "The original and reverse number is the same: False"
      ]
    },
    {
      "cell_type": "markdown",
      "metadata": {
        "id": "h14kevJhS4Ab"
      },
      "source": [
        "<h4> 2. Write a function that returns the maximum of two numbers.</h4>"
      ]
    },
    {
      "cell_type": "markdown",
      "metadata": {
        "id": "HV1LbYbHS4Ab"
      },
      "source": [
        "<h4> 3. Write a function called fizz_buzz that takes a number.</h4>\n",
        "\n",
        "If the number is divisible by 3, it should return \"Fizz\".\n",
        "\n",
        "If it is divisible by 5, it should return \"Buzz\".\n",
        "\n",
        "If it is divisible by both 3 and 5, it should return \"FizzBuzz\".\n",
        "\n",
        "Otherwise, it should return the same number."
      ]
    },
    {
      "cell_type": "markdown",
      "metadata": {
        "id": "nowlZZOIS4Ab"
      },
      "source": [
        "<h4> 4.</h4> Write a function for checking the speed of drivers. This function should have one parameter: speed.\n",
        "    If speed is less than 70, it should print “Ok”.\n",
        "    Otherwise, for every 5km above the speed limit (70), it should give the driver one demerit point and print the total number of demerit points. For example, if the speed is 80, it should print: “Points: 2”.\n",
        "    If the driver gets more than 12 points, the function should print: “License suspended”"
      ]
    },
    {
      "cell_type": "markdown",
      "metadata": {
        "id": "VYzjf7qdS4Ab"
      },
      "source": [
        "<h4>5.</h4> Write a function called showNumbers that takes a parameter called limit. It should print all the numbers between 0 and limit with a label to identify the even and odd numbers. For example, if the limit is 3, it should print:\n",
        "\n",
        "    0 EVEN\n",
        "    \n",
        "    1 ODD\n",
        "    \n",
        "    2 EVEN\n",
        "    \n",
        "    3 ODD"
      ]
    },
    {
      "cell_type": "markdown",
      "metadata": {
        "id": "rHhy_gZCS4Ab"
      },
      "source": [
        "<h4> 6.</h4>Write a function that computes the square of the numbers form 0 to lim and returns them as a list"
      ]
    },
    {
      "cell_type": "code",
      "metadata": {
        "id": "nKRqWN_gS4Ab"
      },
      "source": [
        "s = input(\"Please enter your number \")\n",
        "\n",
        "x=\"\"\n",
        "for i in range(len(s),0,-1):\n",
        "    x = x+s[i-1]\n",
        "if x==s:\n",
        "    print(\"True\", x)\n",
        "else:\n",
        "    print(\"False\", x)"
      ],
      "execution_count": null,
      "outputs": []
    },
    {
      "cell_type": "code",
      "metadata": {
        "id": "d_UkSxaKS4Ac"
      },
      "source": [
        "def reverse():\n",
        "    x = int(input(\"Eneter anumber \"))\n",
        "    x1=x\n",
        "    r=0\n",
        "    y=0\n",
        "    while x1>0:\n",
        "        r = x1%10\n",
        "        x1 =x1//10  #x1 //=10\n",
        "        y = y*10 + r\n",
        "    if x==y:\n",
        "        print(\"True \", y)\n",
        "    else:\n",
        "        print(\"False\", x)"
      ],
      "execution_count": null,
      "outputs": []
    },
    {
      "cell_type": "code",
      "metadata": {
        "id": "-NvCPye8S4Ac"
      },
      "source": [
        "reverse()"
      ],
      "execution_count": null,
      "outputs": []
    },
    {
      "cell_type": "markdown",
      "metadata": {
        "id": "XeH4ZpsxS4Ac"
      },
      "source": [
        "<h2> Python File I/O </h2>\n",
        "\n",
        "In this section, you will learn about Python file operations. More specifically, opening a file, reading form it, writing into it, closing it and various file methods that you should be aware of.\n",
        "\n",
        "<h3> Files </h3>\n",
        "    \n",
        "Files are named locations on disk to store related information. They are used to permanently store data in a non-volatile memory (e.g. hard disk).\n",
        "\n",
        "Since Random Access Memory (RAM) is volatile (which loses its data when the computer is turned off), we use files for future use of the data by permanently storing them.\n",
        "\n",
        "When we want to read from or write to a file, we need to open it first. When we are done, it needs to be closed so that the resources that are tied with the file are freed.\n",
        "\n",
        "Hence, in Python, a file operation takes place in the following order:\n",
        "    <ol> \n",
        "        <li> Open a file </li>\n",
        "        <li> Read or write (perform operation) </li>\n",
        "        <li> Close the file</li>\n",
        "    </ol>"
      ]
    },
    {
      "cell_type": "markdown",
      "metadata": {
        "id": "DzMzp-a7S4Ac"
      },
      "source": [
        "<h4>Opening Files in Python </h4>\n",
        "\n",
        "Python has a built-in open() function to open a file. This function returns a file object, also called a handle, as it is used to read or modify the file accordingly."
      ]
    },
    {
      "cell_type": "markdown",
      "metadata": {
        "id": "3TdhWCBVS4Ac"
      },
      "source": [
        "<h3>Types Of File in Python</h3>\n",
        "\n",
        "There are two types of files in Python and each of them are explained below in detail with examples for your easy understanding.\n",
        "\n",
        "**They are:**\n",
        "    <ul>\n",
        "        <li>Binary file</li>\n",
        "        <li> Text file </li>\n",
        "    </ul>\n",
        "**Birnary files in Python**\n",
        "\n",
        "Most of the files that we see in our computer system are called binary files.\n",
        "\n",
        "**Exampls**\n",
        "<ol>\n",
        "    <li>Document files: .pdf, .doc, .xls etc. </li>\n",
        "    <li>Image files: .png, .jpg, .gif, .bmp etc.</li>\n",
        "    <li>Video files: .mp4, .3gp, .mkv, .avi etc.</li>\n",
        "    <li>Audio files: .mp3, .wav, .mka, .aac etc.</li>\n",
        "    <li>Database files: .mdb, .accde, .frm, .sqlite etc. </li>\n",
        "    <li>Archive files: .zip, .rar, .iso, .7z etc. </li>\n",
        "    <li>Executable files: .exe, .dll, .class etc. </li>\n",
        "</ol>\n",
        "\n",
        "All binary files follow a specific format. We can open some binary files in the normal text editor but we can’t read the content present inside the file. That’s because all the binary files will be encoded in the binary format, which can be understood only by a computer or machine.\n",
        "\n",
        "For handling such binary files we need a specific type of software to open it.\n",
        "\n",
        "**For Example**, You need Microsoft word software to open .doc binary files. Likewise, you need a pdf reader software to open .pdf binary files and you need a photo editor software to read the image files and so on."
      ]
    },
    {
      "cell_type": "code",
      "metadata": {
        "id": "GjSskPgHS4Ac"
      },
      "source": [
        "f = open(\"test.txt\") #Open file in the current directory"
      ],
      "execution_count": null,
      "outputs": []
    },
    {
      "cell_type": "markdown",
      "metadata": {
        "id": "4szam2r-S4Ad"
      },
      "source": [
        "We can specify the mode while opening a file. In mode, we specify whether we want to read r, write w or append a to the file. We can also specify if we want to open the file in text mode or binary mode.\n",
        "\n",
        "The default is reading in text mode. In this mode, we get strings when reading from the file.\n",
        "\n",
        "On the other hand, binary mode returns bytes and this is the mode to be used when dealing with non-text files like images or executable files.\n",
        "\n",
        "|Mode|Description|\n",
        "|:-|:-|\n",
        "| r    | Opens a file for reading. (default) |\n",
        "| w    | Opens a file for writing. Creates a new file if it does not exist or truncates the file if it exists.|\n",
        "|x|Opens a file for exclusive creation. If the file already exists, the operation fails.|\n",
        "|a|Opens a file for appending at the end of the file without truncating it. Creates a new file if it does not exist.|\n",
        "|t| Opens in text mode. (default)|\n",
        "|b| Opens in binary mode.\n",
        "|+| Opens a file for updating( reading and writing)|"
      ]
    },
    {
      "cell_type": "markdown",
      "metadata": {
        "id": "rKN03GomS4Ad"
      },
      "source": [
        "Unlike other languages, the character a does not imply the number 97 until it is encoded using ASCII (or other equivalent encodings).\n",
        "\n",
        "Moreover, the default encoding is platform dependent. In windows, it is cp1252 but utf-8 in Linux.\n",
        "\n",
        "So, we must not also rely on the default encoding or else our code will behave differently in different platforms.\n",
        "\n",
        "Hence, when working with files in text mode, it is highly recommended to specify the encoding type."
      ]
    },
    {
      "cell_type": "code",
      "metadata": {
        "id": "VCfCAGxQS4Ad"
      },
      "source": [
        "f = open(\"test.txt\", mode='w', encoding='utf-8')"
      ],
      "execution_count": null,
      "outputs": []
    },
    {
      "cell_type": "markdown",
      "metadata": {
        "id": "bOmxSVXqS4Ad"
      },
      "source": [
        "<h4>Closing Files in Python</h4>\n",
        "\n",
        "When we are done with performing operations on the file, we need to properly close the file.\n",
        "\n",
        "Closing a file will free up the resources that were tied with the file. It is done using the close() method available in Python.\n",
        "\n",
        "Python has a garbage collector to clean up unreferenced objects but we must not rely on it to close the file."
      ]
    },
    {
      "cell_type": "code",
      "metadata": {
        "id": "8FWTE2XmS4Ad"
      },
      "source": [
        "f = open(\"test.txt\", encoding = 'utf-8')\n",
        "# perform file operations\n",
        "f.close()"
      ],
      "execution_count": null,
      "outputs": []
    },
    {
      "cell_type": "markdown",
      "metadata": {
        "id": "0HQEG-DPS4Ad"
      },
      "source": [
        "This method is not entirely safe. If an exception occurs when we are performing some operation with the file, the code exits without closing the file.\n",
        "\n",
        "A safer way is to use a __try...finally__ block."
      ]
    },
    {
      "cell_type": "code",
      "metadata": {
        "id": "FI1vc3BcS4Ad"
      },
      "source": [
        "try:\n",
        "   f = open(\"test.txt\", encoding = 'utf-8')\n",
        "   # perform file operations\n",
        "finally:\n",
        "   f.close()"
      ],
      "execution_count": null,
      "outputs": []
    },
    {
      "cell_type": "markdown",
      "metadata": {
        "id": "d43JObHOS4Ae"
      },
      "source": [
        "This way, we are guaranteeing that the file is properly closed even if an exception is raised that causes program flow to stop.\n",
        "\n",
        "The best way to close a file is by using the with statement. This ensures that the file is closed when the block inside the with statement is exited.\n",
        "\n",
        "We don't need to explicitly call the close() method. It is done internally."
      ]
    },
    {
      "cell_type": "code",
      "metadata": {
        "id": "508IJng-S4Ae"
      },
      "source": [
        "with open(\"test.txt\") as f:\n",
        "    pass\n",
        "    #perform file operations here"
      ],
      "execution_count": null,
      "outputs": []
    },
    {
      "cell_type": "markdown",
      "metadata": {
        "id": "_SX60_GgS4Ae"
      },
      "source": [
        "<h4>Writing to Files in Python</h4>\n",
        "\n",
        "In order to write into a file in Python, we need to open it in write w, append a or exclusive creation x mode.\n",
        "\n",
        "We need to be careful with the w mode, as it will overwrite into the file if it already exists. Due to this, all the previous data are erased.\n",
        "\n",
        "Writing a string or sequence of bytes (for binary files) is done using the write() method. This method returns the number of characters written to the file."
      ]
    },
    {
      "cell_type": "code",
      "metadata": {
        "id": "4OSH2lgES4Ae"
      },
      "source": [
        "f = open(\"test.txt\",'w')"
      ],
      "execution_count": null,
      "outputs": []
    },
    {
      "cell_type": "code",
      "metadata": {
        "id": "EYDvmdlnS4Ae"
      },
      "source": [
        "f.write(\"\\nThis is an introduction to python\")\n",
        "f.close()"
      ],
      "execution_count": null,
      "outputs": []
    },
    {
      "cell_type": "code",
      "metadata": {
        "id": "Ycz0fAXQS4Ae"
      },
      "source": [
        "with open(\"test.txt\",'w',encoding = 'utf-8') as f:\n",
        "    f.write(\"my first file\\n\")\n",
        "    f.write(\"This file\\n\\n\")\n",
        "    f.write(\"contains three lines\\n\")"
      ],
      "execution_count": null,
      "outputs": []
    },
    {
      "cell_type": "markdown",
      "metadata": {
        "id": "c-sLfbJ7S4Ae"
      },
      "source": [
        "This program will create a new file named test.txt in the current directory if it does not exist. If it does exist, it is overwritten.\n",
        "\n",
        "We must include the newline characters ourselves to distinguish the different lines."
      ]
    },
    {
      "cell_type": "markdown",
      "metadata": {
        "id": "ovh4LthES4Af"
      },
      "source": [
        "<h4>Reading Files in Python</h4>\n",
        "\n",
        "To read a file in Python, we must open the file in reading r mode.\n",
        "\n",
        "There are various methods available for this purpose. We can use the read(size) method to read in the size number of data. If the size parameter is not specified, it reads and returns up to the end of the file.\n",
        "\n",
        "We can read the text.txt file we wrote in the above section in the following way:"
      ]
    },
    {
      "cell_type": "code",
      "metadata": {
        "id": "7xqOIZy7S4Af"
      },
      "source": [
        "f = open(\"test.txt\",'r',encoding = 'utf-8')"
      ],
      "execution_count": null,
      "outputs": []
    },
    {
      "cell_type": "code",
      "metadata": {
        "id": "8mk0-iu8S4Ai"
      },
      "source": [
        "f.read(4) # read the first 4 characters"
      ],
      "execution_count": null,
      "outputs": []
    },
    {
      "cell_type": "code",
      "metadata": {
        "id": "jSGzNzkUS4Ai"
      },
      "source": [
        "f.tell()"
      ],
      "execution_count": null,
      "outputs": []
    },
    {
      "cell_type": "code",
      "metadata": {
        "id": "_KRV3ViyS4Ai"
      },
      "source": [
        "f.read(4) # read the next 4 characters"
      ],
      "execution_count": null,
      "outputs": []
    },
    {
      "cell_type": "code",
      "metadata": {
        "id": "OhXRv4RjS4Ai"
      },
      "source": [
        "f.read() #read in the rest till end of file"
      ],
      "execution_count": null,
      "outputs": []
    },
    {
      "cell_type": "code",
      "metadata": {
        "id": "OB2cHkyVS4Ai"
      },
      "source": [
        "f.read() # further reading returns empty sting"
      ],
      "execution_count": null,
      "outputs": []
    },
    {
      "cell_type": "markdown",
      "metadata": {
        "id": "8jJX0lHxS4Ai"
      },
      "source": [
        "We can see that the read() method returns a newline as '\\n'. Once the end of the file is reached, we get an empty string on further reading.\n",
        "\n",
        "We can change our current file cursor (position) using the seek() method. Similarly, the tell() method returns our current position (in number of bytes)."
      ]
    },
    {
      "cell_type": "code",
      "metadata": {
        "id": "6aCv8WVMS4Aj"
      },
      "source": [
        "f.tell() # get the current file position"
      ],
      "execution_count": null,
      "outputs": []
    },
    {
      "cell_type": "code",
      "metadata": {
        "id": "Oz44WLQhS4Aj"
      },
      "source": [
        "f.seek(0)   # bring file cursor to initial position"
      ],
      "execution_count": null,
      "outputs": []
    },
    {
      "cell_type": "code",
      "metadata": {
        "id": "bUiVb4k7S4Aj"
      },
      "source": [
        "print(f.read())  # read the entire file"
      ],
      "execution_count": null,
      "outputs": []
    },
    {
      "cell_type": "markdown",
      "metadata": {
        "id": "b4SYgZBjS4Aj"
      },
      "source": [
        "We can read a file line-by-line using a for loop. This is both efficient and fast."
      ]
    },
    {
      "cell_type": "code",
      "metadata": {
        "id": "BTqarBy9S4Aj"
      },
      "source": [
        "f.seek(0)   # bring file cursor to initial position\n",
        "for line in f:\n",
        "    print(line, end='')"
      ],
      "execution_count": null,
      "outputs": []
    },
    {
      "cell_type": "markdown",
      "metadata": {
        "id": "h82ZPRLrS4Aj"
      },
      "source": [
        "In this program, the lines in the file itself include a newline character \\n. So, we use the end parameter of the print() function to avoid two newlines when printing.\n",
        "\n",
        "Alternatively, we can use the readline() method to read individual lines of a file. This method reads a file till the newline, including the newline character."
      ]
    },
    {
      "cell_type": "code",
      "metadata": {
        "id": "dRhYGIsnS4Al"
      },
      "source": [
        "f.seek(0)   # bring file cursor to initial position\n",
        "f.readline()"
      ],
      "execution_count": null,
      "outputs": []
    },
    {
      "cell_type": "code",
      "metadata": {
        "id": "Yk0XOqp-S4Al"
      },
      "source": [
        "f.readline(4)"
      ],
      "execution_count": null,
      "outputs": []
    },
    {
      "cell_type": "code",
      "metadata": {
        "id": "bRocwup3S4Al"
      },
      "source": [
        "f.seek(3)\n",
        "f.readline()"
      ],
      "execution_count": null,
      "outputs": []
    },
    {
      "cell_type": "code",
      "metadata": {
        "id": "QXM6BUMiS4Am"
      },
      "source": [
        "f.readline()"
      ],
      "execution_count": null,
      "outputs": []
    },
    {
      "cell_type": "code",
      "metadata": {
        "id": "w-fISropS4Am"
      },
      "source": [
        "f.readline()"
      ],
      "execution_count": null,
      "outputs": []
    },
    {
      "cell_type": "code",
      "metadata": {
        "id": "9VXXgmf1S4Am"
      },
      "source": [
        "f.readline()"
      ],
      "execution_count": null,
      "outputs": []
    },
    {
      "cell_type": "markdown",
      "metadata": {
        "id": "sMrCh-XZS4Am"
      },
      "source": [
        "Lastly, the readlines() method returns a list of remaining lines of the entire file. All these reading methods return empty values when the end of file (EOF) is reached."
      ]
    },
    {
      "cell_type": "code",
      "metadata": {
        "id": "R57G4OS5S4An"
      },
      "source": [
        "f.seek(0)\n",
        "L=f.readlines()"
      ],
      "execution_count": null,
      "outputs": []
    },
    {
      "cell_type": "code",
      "metadata": {
        "id": "rpVg7ogLS4An"
      },
      "source": [
        "L"
      ],
      "execution_count": null,
      "outputs": []
    },
    {
      "cell_type": "markdown",
      "metadata": {
        "id": "36hY8vBVS4An"
      },
      "source": [
        "### Excercises\n",
        "\n",
        "**1.** Write a Python program to append text to the a.txt file and display the text\n",
        "\n",
        "**2.** Write a Python program to read the a.txt file line by line and store it into a list. \n",
        "\n",
        "**3.** Write a python program to find the longest words.\n",
        "\n",
        "**4.** Write a Python program to count the number of lines the text file.\n",
        "\n",
        "**5.** Write a Python program to count the frequency of words the text file."
      ]
    },
    {
      "cell_type": "markdown",
      "metadata": {
        "id": "Ojk3_4KZS4An"
      },
      "source": [
        "### Possible Solutions"
      ]
    },
    {
      "cell_type": "code",
      "metadata": {
        "id": "NQm_DcR0S4An"
      },
      "source": [
        "#1.\n",
        "\n",
        "with open('a.txt', 'a') as myfile:\n",
        "    myfile.write(\"Python is a dynamically type programming language.\\n\")\n",
        "    myfile.write('Python is open source\\n')\n",
        "    "
      ],
      "execution_count": null,
      "outputs": []
    },
    {
      "cell_type": "code",
      "metadata": {
        "id": "mOowf9UTS4Ao"
      },
      "source": [
        "2#\n",
        "\n",
        "with open('a.txt', 'r') as myfile:\n",
        "    L = myfile.readlines()"
      ],
      "execution_count": null,
      "outputs": []
    },
    {
      "cell_type": "code",
      "metadata": {
        "id": "4VLDQ52CS4Ao"
      },
      "source": [
        "L"
      ],
      "execution_count": null,
      "outputs": []
    },
    {
      "cell_type": "code",
      "metadata": {
        "id": "IWgh6r94S4Ao"
      },
      "source": [
        "#3. \n",
        "with open('a.txt', 'r') as myfile:\n",
        "    words = myfile.read().split()"
      ],
      "execution_count": null,
      "outputs": []
    },
    {
      "cell_type": "code",
      "metadata": {
        "id": "Gal6c_LcS4Ao"
      },
      "source": [
        "words"
      ],
      "execution_count": null,
      "outputs": []
    },
    {
      "cell_type": "code",
      "metadata": {
        "id": "zyyu5SwaS4Ap"
      },
      "source": [
        "ml = len(words[0])\n",
        "for i in range(len(words)):\n",
        "    if ml <len(words[i]):\n",
        "        ml = len(words[i])\n",
        "print(ml)"
      ],
      "execution_count": null,
      "outputs": []
    },
    {
      "cell_type": "code",
      "metadata": {
        "id": "l-XJpapuS4Ap"
      },
      "source": [
        "longest_words =[]\n",
        "\n",
        "for word in words:\n",
        "    if( len(word)==ml):\n",
        "        longest_words.append(word)\n",
        "\n",
        "longest_words"
      ],
      "execution_count": null,
      "outputs": []
    },
    {
      "cell_type": "code",
      "metadata": {
        "id": "HefLTqEES4Ap"
      },
      "source": [
        "max_len = len(max(words, key=len))   \n",
        "[word for word in words if len(word)==max_len]"
      ],
      "execution_count": null,
      "outputs": []
    },
    {
      "cell_type": "code",
      "metadata": {
        "id": "zsa6YqeuS4Ap"
      },
      "source": [
        "#4\n",
        "with open('a.txt', 'r') as myfile:\n",
        "    lines = myfile.readlines()\n",
        "len(lines)"
      ],
      "execution_count": null,
      "outputs": []
    },
    {
      "cell_type": "code",
      "metadata": {
        "id": "u-6iuNovS4Aq"
      },
      "source": [
        "# 5\n",
        "f = open(\"a.txt\")\n",
        "words = f.read().split()\n",
        "words"
      ],
      "execution_count": null,
      "outputs": []
    },
    {
      "cell_type": "code",
      "metadata": {
        "id": "PssFvDKJS4Ar"
      },
      "source": [
        "F = {}\n",
        "n = len(words)\n",
        "for i in range(n):\n",
        "    if words[i] not in F.keys():\n",
        "        F[words[i]] =1\n",
        "        for j in range(i+1,n):\n",
        "            if words[i]==words[j]:\n",
        "                F[words[i]] +=1\n",
        "F"
      ],
      "execution_count": null,
      "outputs": []
    },
    {
      "cell_type": "code",
      "metadata": {
        "id": "5ZRWKJpXS4As"
      },
      "source": [
        "# Better\n",
        "from collections import Counter\n",
        "\n",
        "with open('a.txt') as myfile:\n",
        "    count = Counter(myfile.read().split())\n",
        "count"
      ],
      "execution_count": null,
      "outputs": []
    },
    {
      "cell_type": "markdown",
      "metadata": {
        "id": "7DWD_nDSS4As"
      },
      "source": [
        "<h2> Python Modules </h2>\n",
        "Before we jump into the scientific computing ecosystem, first let's discuss what modules are in python.\n",
        "\n",
        "A module allows you to logically organize your Python code. Grouping related code into a module makes the code easier to understand and use. A module is a Python object with arbitrarily named attributes that you can bind and reference.\n",
        "\n",
        "Simply, a module is a file consisting of Python code. A module can define functions, classes and variables. A module can also include runnable code.\n",
        "\n",
        "There are actually three different ways to define a module in Python:\n",
        "<ol>\n",
        "    <li>A module can be written in Python itself.</li>\n",
        "    <li>A module can be written in C and loaded dynamically at run-time, like the re (regular expression) module.</li>\n",
        "    <li>A built-in module is intrinsically contained in the interpreter, like the itertools module.</li>\n",
        "</ol>\n",
        "A module's contents are accessed the same way in all three cases: with the *import statement*.\n",
        "\n",
        "Here, the focus will mostly be on modules that are written in Python. The cool thing about modules written in Python is that they are exceedingly straightforward to build. All you need to do is create a file that contains legitimate Python code and then give the file a name with a .py extension. That’s it! No special syntax or voodoo is necessary.\n",
        "\n",
        "For example, suppose you have created a file called **arithmetic_operations.py** which defines the four arithmetic operations.\n",
        "\n",
        "Now, if I want to use the arithmetic_operations module first I must import it using the import statement.\n",
        "\n",
        "<h3> The import Statement </h3>\n",
        "\n",
        "Module contents are made available to the caller with the import statement. The import statement takes many different forms, shown below.\n",
        "```python\n",
        "    import <module_name>\n",
        "```\n",
        "\n",
        "Note that this does not make the module contents directly accessible to the caller. Each module has its own private symbol table, which serves as the global symbol table for all objects defined in the module. Thus, a module creates a separate namespace, as already noted.\n",
        "\n",
        "The statement import <module_name> only places <module_name> in the caller’s symbol table. The objects that are defined in the module remain in the module’s private symbol table.\n",
        "\n",
        "From the caller, objects in the module are only accessible when prefixed with <module_name> via **dot notation**, as illustrated below.\n",
        "\n",
        "After the following import statement, arithmetic_operations is placed into the local symbol table. Thus, arithmetic_operations has meaning in the caller’s local context:"
      ]
    },
    {
      "cell_type": "code",
      "metadata": {
        "id": "AazBXuvdS4At"
      },
      "source": [
        "import arithmetic_operations \n",
        "\n",
        "arithmetic_operations"
      ],
      "execution_count": null,
      "outputs": []
    },
    {
      "cell_type": "markdown",
      "metadata": {
        "id": "1OlAdw1lS4At"
      },
      "source": [
        "But add and the other functions defined inside the module remain in the module’s private symbol table and are not meaningful in the local context:"
      ]
    },
    {
      "cell_type": "code",
      "metadata": {
        "id": "MtMUX1MgS4At"
      },
      "source": [
        "arithmetic_operations.add"
      ],
      "execution_count": null,
      "outputs": []
    },
    {
      "cell_type": "markdown",
      "metadata": {
        "id": "12RAaWkzS4At"
      },
      "source": [
        "To be accessed in the local context, names of objects defined in the module must be prefixed by arithmetic:  "
      ]
    },
    {
      "cell_type": "code",
      "metadata": {
        "id": "nXbuaB0NS4At"
      },
      "source": [
        "arithmetic_operations.add?"
      ],
      "execution_count": null,
      "outputs": []
    },
    {
      "cell_type": "markdown",
      "metadata": {
        "id": "t-b7g0GxS4Au"
      },
      "source": [
        "Several comma-separated modules may be specified in a single import statement:\n",
        "```python\n",
        "import <module_name>[, <module_name> ...]\n",
        "```"
      ]
    },
    {
      "cell_type": "markdown",
      "metadata": {
        "id": "hHNFAheHS4Au"
      },
      "source": [
        "<h3> from   module_name  import name(s) </h3>\n",
        "\n",
        "An alternate form of the import statement allows individual objects from the module to be imported directly into the caller's symbol table:    \n",
        "\n",
        "```python\n",
        "from <module_name> import <name(s)>\n",
        "```\n",
        "\n",
        "Following execution of the above statement, <name(s)> can be referenced in the caller's environment without the <module_name> prefix:"
      ]
    },
    {
      "cell_type": "code",
      "metadata": {
        "id": "Nj80QSjvS4Av"
      },
      "source": [
        "from arithmetic_operations import add, subtract, divide"
      ],
      "execution_count": null,
      "outputs": []
    },
    {
      "cell_type": "code",
      "metadata": {
        "id": "VzNLFeqVS4Aw"
      },
      "source": [
        "subtract(4,9)"
      ],
      "execution_count": null,
      "outputs": []
    },
    {
      "cell_type": "code",
      "metadata": {
        "id": "ZqISeNgWS4Aw"
      },
      "source": [
        "3/0"
      ],
      "execution_count": null,
      "outputs": []
    },
    {
      "cell_type": "code",
      "metadata": {
        "id": "w47IIlycS4Aw"
      },
      "source": [
        "divide(3,0)"
      ],
      "execution_count": null,
      "outputs": []
    },
    {
      "cell_type": "markdown",
      "metadata": {
        "id": "kHXM2KXlS4Aw"
      },
      "source": [
        "It is even possible to indiscriminately *import* everything from a module at one fell swoop:\n",
        "```python\n",
        "from <module_name> import *\n",
        "```\n",
        "\n",
        "This will place the names of all objects from <module_name> into the local symbol table, with the exception of any that begin with the underscore (_) character."
      ]
    },
    {
      "cell_type": "code",
      "metadata": {
        "id": "_lnKIuTpS4Ax"
      },
      "source": [
        "from arithmetic_operations import *"
      ],
      "execution_count": null,
      "outputs": []
    },
    {
      "cell_type": "code",
      "metadata": {
        "id": "d-ayLiXhS4Ax"
      },
      "source": [
        "multiply(3,4)"
      ],
      "execution_count": null,
      "outputs": []
    },
    {
      "cell_type": "code",
      "metadata": {
        "id": "nmXLASgoS4Ax"
      },
      "source": [
        "from math import pi"
      ],
      "execution_count": null,
      "outputs": []
    },
    {
      "cell_type": "code",
      "metadata": {
        "id": "L7f0n-20S4Ax"
      },
      "source": [
        "2*pi"
      ],
      "execution_count": null,
      "outputs": []
    },
    {
      "cell_type": "code",
      "metadata": {
        "id": "tg2lcIAPS4Ay"
      },
      "source": [
        "from numpy import pi"
      ],
      "execution_count": null,
      "outputs": []
    },
    {
      "cell_type": "code",
      "metadata": {
        "id": "vQ6-EdMAS4Ay"
      },
      "source": [
        "2*pi"
      ],
      "execution_count": null,
      "outputs": []
    },
    {
      "cell_type": "markdown",
      "metadata": {
        "id": "1V6uPY7eS4Ay"
      },
      "source": [
        "This isn't necessarily recommended in large-scale production code. It's a bit dangerous because you are entering names into the local symbol table en masse. Unless you know them all well and can be confident there won't be a conflict, you have a decent chance of overwriting an existing name inadvertently. However, this syntax is quite handy when you are just mucking around with the interactive interpreter, for testing or discovery purposes, because it quickly gives you access to everything a module has to offer without a lot of typing."
      ]
    },
    {
      "cell_type": "markdown",
      "metadata": {
        "id": "AsnMPs7uS4Ay"
      },
      "source": [
        "<h3> Python module aliasing</h3>\n",
        "\n",
        "In short it means that\n",
        "\n",
        "```python\n",
        "import a_ridiculously_long_module_name as short_name\n",
        "```"
      ]
    },
    {
      "cell_type": "code",
      "metadata": {
        "id": "PX-hZGvES4Az"
      },
      "source": [
        "import arithmetic_operations as ao"
      ],
      "execution_count": null,
      "outputs": []
    },
    {
      "cell_type": "code",
      "metadata": {
        "id": "rqx8fLDgS4Az"
      },
      "source": [
        "ao.add(3,4)"
      ],
      "execution_count": null,
      "outputs": []
    },
    {
      "cell_type": "code",
      "metadata": {
        "id": "U5jZ6eioS4Az"
      },
      "source": [
        "ao.divide(9,3)"
      ],
      "execution_count": null,
      "outputs": []
    }
  ]
}