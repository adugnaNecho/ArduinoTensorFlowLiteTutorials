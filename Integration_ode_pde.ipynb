{
  "nbformat": 4,
  "nbformat_minor": 0,
  "metadata": {
    "kernelspec": {
      "display_name": "Python 3",
      "language": "python",
      "name": "python3"
    },
    "language_info": {
      "codemirror_mode": {
        "name": "ipython",
        "version": 3
      },
      "file_extension": ".py",
      "mimetype": "text/x-python",
      "name": "python",
      "nbconvert_exporter": "python",
      "pygments_lexer": "ipython3",
      "version": "3.7.3"
    },
    "toc": {
      "base_numbering": 1,
      "nav_menu": {},
      "number_sections": true,
      "sideBar": true,
      "skip_h1_title": false,
      "title_cell": "Table of Contents",
      "title_sidebar": "Contents",
      "toc_cell": false,
      "toc_position": {},
      "toc_section_display": true,
      "toc_window_display": false
    },
    "colab": {
      "name": "Integration_ode_pde.ipynb",
      "provenance": [],
      "include_colab_link": true
    }
  },
  "cells": [
    {
      "cell_type": "markdown",
      "metadata": {
        "id": "view-in-github",
        "colab_type": "text"
      },
      "source": [
        "<a href=\"https://colab.research.google.com/github/adugnaNecho/ArduinoTensorFlowLiteTutorials/blob/master/Integration_ode_pde.ipynb\" target=\"_parent\"><img src=\"https://colab.research.google.com/assets/colab-badge.svg\" alt=\"Open In Colab\"/></a>"
      ]
    },
    {
      "cell_type": "code",
      "metadata": {
        "id": "yIpMRdb5X0DS"
      },
      "source": [
        "import numpy as np\n",
        "import matplotlib.pyplot as plt\n",
        "import matplotlib as mpl\n",
        "from scipy import integrate as Int\n",
        "import sympy as spy\n",
        "import mpmath as mpm"
      ],
      "execution_count": null,
      "outputs": []
    },
    {
      "cell_type": "code",
      "metadata": {
        "id": "_SHX89D3X0DU"
      },
      "source": [
        "spy.init_printing()"
      ],
      "execution_count": null,
      "outputs": []
    },
    {
      "cell_type": "markdown",
      "metadata": {
        "id": "2VDEzDMvX0DV"
      },
      "source": [
        "# Integration"
      ]
    },
    {
      "cell_type": "markdown",
      "metadata": {
        "id": "ZAKUEH_JX0DV"
      },
      "source": [
        "## Numerical Integration Methods\n",
        "\n",
        "Here we are concerned with evaluating definite integrals on the form $I(f) = \\int_{a}^{b}f(x)dx$, with given integration limits $a$ and $b$. The interval $[a, b]$ can be finite, semi-infinite (where either $a = -\\infty$ or $b = \\infty$), or infinite (where both $a = -\\infty$ and $b = \\infty$). The integral $I(f)$ can be interpreted as the area between the curve of the integrand $f(x)$ and the $x$ axis as shown bellow"
      ]
    },
    {
      "cell_type": "code",
      "metadata": {
        "id": "0DO87QDfX0DV",
        "outputId": "96b2d396-7b37-4d7f-f295-3645e01164fc"
      },
      "source": [
        "def f(x):\n",
        "    return x**4-2*x -2\n",
        "\n",
        "\n",
        "fig, ax = plt.subplots()\n",
        "a=-1.5\n",
        "b=2\n",
        "x = np.linspace(a,b,51)\n",
        "x1 = np.linspace(a-0.1,b+0.1,71)\n",
        "y = f(x)\n",
        "y1 = f(x1)\n",
        "\n",
        "ax.plot(x,y,'k--')\n",
        "ax.plot(x1,y1,'k--')\n",
        "\n",
        "ax.fill_between(x, y, color='#539ecd')\n",
        "ax.annotate(\"\", xy=(x1.max()+0.1, 0), xytext=(x1.min(), 0),arrowprops=dict(arrowstyle=\"->\"))\n",
        "ax.annotate(\"\", xy=(0,y1.max()-0.1,), xytext=(0,y1.min(),),arrowprops=dict(arrowstyle=\"->\"))\n",
        "ax.text(a-0.05, -1, \"a\", transform=ax.transData)\n",
        "ax.text(b-0.05, -1, \"b\", transform=ax.transData)\n",
        "ax.text(1.5, 7.4, \"$f(x)$\", transform=ax.transData)\n",
        "fig.savefig('int.png', bbox_inches='tight')\n",
        "plt.show()\n"
      ],
      "execution_count": null,
      "outputs": [
        {
          "output_type": "display_data",
          "data": {
            "image/png": "[encoded data removed]",
            "text/plain": [
              "<Figure size 432x288 with 1 Axes>"
            ]
          },
          "metadata": {
            "tags": [],
            "needs_background": "light"
          }
        }
      ]
    },
    {
      "cell_type": "markdown",
      "metadata": {
        "id": "GJI07y5-X0DW"
      },
      "source": [
        "A general strategy for numerically evaluating an integral $I(f)$, on the form given above, is to write the integral as a discrete sum that approximates the value of the integral:\n",
        "\\begin{equation}\n",
        "I(f) = \\sum_{1}^{n}w_if(x_i) + R_n\n",
        "\\end{equation}\n",
        "\n",
        "Here w i are the weights of $n$ evaluations of $f(x)$ at the points $x_i \\in [a, b]$, and $r_n$ is the residual due to the approximation. In practice we assume that $r_n$ is small and can be neglected, but it is important to have an estimate of $r_n$ to known how accurately the integral is approximated. This summation formula for $I(f)$ is known as an $n$-point __quadrature rule__, and the choice of the number of points $n$, their locations in $[a, b]$, and the weight factors $w_i$ influence the accuracy and the computational complexity\n",
        "of its evaluation. Quadrature rules can be derived from interpolations of $f(x)$ on the interval $[a, b]$. If the points $x_i$ are evenly spaced in the interval $[a, b]$, and a polynomial interpolation is used, then the resulting quadrature rule is known as a __Newton-Cotes quadrature rule.__\n",
        "\n",
        "Approximating $f(x)$ by a polynomial of degree one, evaluated at the endpoints of the interval, results in\n",
        "\\begin{equation}\n",
        "\\int_{a}^{b}f(x)dx\\approx \\frac{a+b}{2}\\left(f(a)+f(b)\\right).\n",
        "\\end{equation}\n",
        "\n",
        "This is known as the __trapezoid rule__, and it is also of polynomial degree one. Using an\n",
        "interpolation polynomial of second order results in __Simpson's rule__,\n",
        "\\begin{equation}\n",
        "\\int_{a}^{b}f(x)dx\\approx \\frac{a+b}{2}\\left(f(a)+4f\\left(\\frac{a+b}{2}\\right) + f(b)\\right).\n",
        "\\end{equation}\n",
        "\n"
      ]
    },
    {
      "cell_type": "markdown",
      "metadata": {
        "id": "Sgj472GPX0DW"
      },
      "source": [
        "The method of arriving at this formula can easily be demonstrated using SymPy: First we define symbols for the variables $a$, $b$, and $x$, as well as the function $f$."
      ]
    },
    {
      "cell_type": "code",
      "metadata": {
        "id": "9CH7pmR0X0DX"
      },
      "source": [
        "f = spy.Function(\"f\")"
      ],
      "execution_count": null,
      "outputs": []
    },
    {
      "cell_type": "code",
      "metadata": {
        "id": "kaZhFLJ0X0DX"
      },
      "source": [
        "a, b, X = spy.symbols(\"a, b, x\")"
      ],
      "execution_count": null,
      "outputs": []
    },
    {
      "cell_type": "code",
      "metadata": {
        "id": "ZNYvoQwvX0DX"
      },
      "source": [
        "x = a, (a+b)/2, b  # for Simpson's rule"
      ],
      "execution_count": null,
      "outputs": []
    },
    {
      "cell_type": "code",
      "metadata": {
        "id": "2rP_TQ2UX0DY",
        "outputId": "49c8e283-5df2-441f-e06e-35a035347dea"
      },
      "source": [
        "w = [spy.symbols(\"w_%d\" % i) for i in range(len(x))]\n",
        "w"
      ],
      "execution_count": null,
      "outputs": [
        {
          "output_type": "execute_result",
          "data": {
            "image/png": "[encoded data removed]",
            "text/latex": "$\\displaystyle \\left[ w_{0}, \\  w_{1}, \\  w_{2}\\right]$",
            "text/plain": [
              "[w₀, w₁, w₂]"
            ]
          },
          "metadata": {
            "tags": []
          },
          "execution_count": 120
        }
      ]
    },
    {
      "cell_type": "markdown",
      "metadata": {
        "id": "zaTtj-gQX0DY"
      },
      "source": [
        "Given $x$ and $w$, we can now construct a symbolic expression for the quadrature rule:"
      ]
    },
    {
      "cell_type": "code",
      "metadata": {
        "id": "ReE9DxG8X0DY"
      },
      "source": [
        "q_rule = sum([w[i] * f(x[i]) for i in range(len(x))])"
      ],
      "execution_count": null,
      "outputs": []
    },
    {
      "cell_type": "code",
      "metadata": {
        "id": "e4P6yOXWX0DY",
        "outputId": "43f3dbb9-12e6-4620-d1ff-765a39e02688"
      },
      "source": [
        "q_rule"
      ],
      "execution_count": null,
      "outputs": [
        {
          "output_type": "execute_result",
          "data": {
            "image/png": "[encoded data removed]",
            "text/latex": "$\\displaystyle w_{0} f{\\left(a \\right)} + w_{1} f{\\left(\\frac{a}{2} + \\frac{b}{2} \\right)} + w_{2} f{\\left(b \\right)}$",
            "text/plain": [
              "              ⎛a   b⎞          \n",
              "w₀⋅f(a) + w₁⋅f⎜─ + ─⎟ + w₂⋅f(b)\n",
              "              ⎝2   2⎠          "
            ]
          },
          "metadata": {
            "tags": []
          },
          "execution_count": 122
        }
      ]
    },
    {
      "cell_type": "markdown",
      "metadata": {
        "id": "GhLcEzt2X0DZ"
      },
      "source": [
        "To compute the appropriate values of the weight factors $w_i$, we choose the polynomial basis functions $$ \\displaystyle \\left\\{ \\phi_n(x) = x^n \\right\\}_{1}^{n}$$ for the interpolation of $f(x)$, and here we use $n =0$ the sympy.Lambda function to create symbolic representations for each of these basis functions:"
      ]
    },
    {
      "cell_type": "code",
      "metadata": {
        "id": "aYzUcio0X0DZ"
      },
      "source": [
        "ϕ = [spy.Lambda(X, X**n) for n in range(len(x))]"
      ],
      "execution_count": null,
      "outputs": []
    },
    {
      "cell_type": "code",
      "metadata": {
        "id": "RJKdVEmjX0DZ",
        "outputId": "91ba6d28-b55d-43b8-ab49-49ce7f611b72"
      },
      "source": [
        "ϕ"
      ],
      "execution_count": null,
      "outputs": [
        {
          "output_type": "execute_result",
          "data": {
            "image/png": "[encoded data removed]",
            "text/latex": "$\\displaystyle \\left[ \\left( x \\mapsto 1 \\right), \\  \\left( x \\mapsto x \\right), \\  \\left( x \\mapsto x^{2} \\right)\\right]$",
            "text/plain": [
              "⎡                   2⎤\n",
              "⎣x ↦ 1, x ↦ x, x ↦ x ⎦"
            ]
          },
          "metadata": {
            "tags": []
          },
          "execution_count": 124
        }
      ]
    },
    {
      "cell_type": "markdown",
      "metadata": {
        "id": "GOTtKv_IX0DZ"
      },
      "source": [
        " The key to finding the weight factors in the quadrature expression is that the integral $\\int_{a}^{b}\\phi(x)dx$ can be computed analytically for each of the basis functions $\\phi(x)$.\n",
        " \\begin{equation}\n",
        " \\sum_{i=0}^{2}w_i\\phi_n(x_i) = \\int_{a}^{b} \\phi_n(x)dx\n",
        " \\end{equation}\n",
        "\n",
        "By substituting the function $f(x)$ with each of the basis functions $\\phi_n (x)$ in the quadrature\n",
        "rule, we obtain an equation system for the unknown weight factors:"
      ]
    },
    {
      "cell_type": "code",
      "metadata": {
        "id": "-hee_5VxX0DZ"
      },
      "source": [
        "eqs = [q_rule.subs(f, phi[n]) - spy.integrate(phi[n](X), (X, a, b)) for n in range(len(phi))]"
      ],
      "execution_count": null,
      "outputs": []
    },
    {
      "cell_type": "code",
      "metadata": {
        "id": "ETIB3vQAX0Da",
        "outputId": "73fcfafd-0fa6-417e-f09d-6a5c8b19f786"
      },
      "source": [
        "eqs"
      ],
      "execution_count": null,
      "outputs": [
        {
          "output_type": "execute_result",
          "data": {
            "image/png": "[encoded data removed]",
            "text/latex": "$\\displaystyle \\left[ a - b + w_{0} + w_{1} + w_{2}, \\  \\frac{a^{2}}{2} + a w_{0} - \\frac{b^{2}}{2} + b w_{2} + w_{1} \\left(\\frac{a}{2} + \\frac{b}{2}\\right), \\  \\frac{a^{3}}{3} + a^{2} w_{0} - \\frac{b^{3}}{3} + b^{2} w_{2} + w_{1} \\left(\\frac{a}{2} + \\frac{b}{2}\\right)^{2}\\right]$",
            "text/plain": [
              "⎡                       2           2                       3            3    \n",
              "⎢                      a           b              ⎛a   b⎞  a     2      b     \n",
              "⎢a - b + w₀ + w₁ + w₂, ── + a⋅w₀ - ── + b⋅w₂ + w₁⋅⎜─ + ─⎟, ── + a ⋅w₀ - ── + b\n",
              "⎣                      2           2              ⎝2   2⎠  3            3     \n",
              "\n",
              "                 2⎤\n",
              "2         ⎛a   b⎞ ⎥\n",
              " ⋅w₂ + w₁⋅⎜─ + ─⎟ ⎥\n",
              "          ⎝2   2⎠ ⎦"
            ]
          },
          "metadata": {
            "tags": []
          },
          "execution_count": 126
        }
      ]
    },
    {
      "cell_type": "markdown",
      "metadata": {
        "id": "Vkvow_LgX0Da"
      },
      "source": [
        "Solving this linear equation system gives analytical expressions for the weight factors,"
      ]
    },
    {
      "cell_type": "code",
      "metadata": {
        "id": "BqVGS3aHX0Da"
      },
      "source": [
        "w_sol = spy.solve(eqs, w)"
      ],
      "execution_count": null,
      "outputs": []
    },
    {
      "cell_type": "code",
      "metadata": {
        "id": "hPrsFsT5X0Da",
        "outputId": "3145a4cb-7029-4add-f110-8e053c0280bc"
      },
      "source": [
        "w_sol"
      ],
      "execution_count": null,
      "outputs": [
        {
          "output_type": "execute_result",
          "data": {
            "image/png": "[encoded data removed]",
            "text/latex": "$\\displaystyle \\left\\{ w_{0} : - \\frac{a}{6} + \\frac{b}{6}, \\  w_{1} : - \\frac{2 a}{3} + \\frac{2 b}{3}, \\  w_{2} : - \\frac{a}{6} + \\frac{b}{6}\\right\\}$",
            "text/plain": [
              "⎧      a   b        2⋅a   2⋅b        a   b⎫\n",
              "⎨w₀: - ─ + ─, w₁: - ─── + ───, w₂: - ─ + ─⎬\n",
              "⎩      6   6         3     3         6   6⎭"
            ]
          },
          "metadata": {
            "tags": []
          },
          "execution_count": 128
        }
      ]
    },
    {
      "cell_type": "markdown",
      "metadata": {
        "id": "fIT8DdR4X0Da"
      },
      "source": [
        "and by substituting the solution into the symbolic expression for the quadrature rule, we obtain"
      ]
    },
    {
      "cell_type": "code",
      "metadata": {
        "id": "xJLjEEUYX0Db",
        "outputId": "fa192a25-1994-404b-de9a-22aebc7feef8"
      },
      "source": [
        "q_rule.subs(w_sol).simplify()"
      ],
      "execution_count": null,
      "outputs": [
        {
          "output_type": "execute_result",
          "data": {
            "image/png": "[encoded data removed]",
            "text/latex": "$\\displaystyle - \\frac{\\left(a - b\\right) \\left(f{\\left(a \\right)} + f{\\left(b \\right)} + 4 f{\\left(\\frac{a}{2} + \\frac{b}{2} \\right)}\\right)}{6}$",
            "text/plain": [
              "         ⎛                 ⎛a   b⎞⎞ \n",
              "-(a - b)⋅⎜f(a) + f(b) + 4⋅f⎜─ + ─⎟⎟ \n",
              "         ⎝                 ⎝2   2⎠⎠ \n",
              "────────────────────────────────────\n",
              "                 6                  "
            ]
          },
          "metadata": {
            "tags": []
          },
          "execution_count": 129
        }
      ]
    },
    {
      "cell_type": "markdown",
      "metadata": {
        "id": "eCJbzUeVX0Db"
      },
      "source": [
        "We recognize this result as Simpson's quadrature rule given in the preceding section."
      ]
    },
    {
      "cell_type": "markdown",
      "metadata": {
        "id": "W64kHFasX0Db"
      },
      "source": [
        "Higher-order quadrature rules can similarly be derived using higher-order polynomial interpolation (more sample points in the $[a, b]$ interval). However, high-order polynomial interpolation can have undesirable behavior between the sample points. Rather than using higher-order quadrature rules, it is therefore often better to divide the integration interval $[a, b]$ into subintervals $[a = x_0 , x_1],[x_1 , x_2 ],\\cdots,[x_{N-1} , x_N = b]$ and use a low-order quadrature rule in each of these subintervals. Such methods are known as composite quadrature rules."
      ]
    },
    {
      "cell_type": "markdown",
      "metadata": {
        "id": "hea151tFX0Db"
      },
      "source": [
        "### Numerical Integration with SciPy"
      ]
    },
    {
      "cell_type": "markdown",
      "metadata": {
        "id": "Qtp_uC7VX0Db"
      },
      "source": [
        "The numerical quadrature routines in the SciPy integrate module can be categorized into two types: routines that take the integrand as a Python function and routines that take arrays with samples of the integrand at given points. The functions of the first type use __Gaussian quadrature__ (quad, quadrature, fixed_quad), while functions of the second type use __Newton-Cotes__ methods (trapz, simps, and romb)."
      ]
    },
    {
      "cell_type": "markdown",
      "metadata": {
        "id": "saUo6pWlX0Dc"
      },
      "source": [
        "### Gaussian Quadrature\n",
        "As a concrete example, consider the numerical evaluation of the integral $\\int_{-1}^{1}e^{-x^2}d x$ . To evaluate this integral using SciPy’s quad function, we first define a function for the integrand and then call the quad function:"
      ]
    },
    {
      "cell_type": "code",
      "metadata": {
        "id": "fZXO76cFX0Dc"
      },
      "source": [
        "import scipy.integrate as Int"
      ],
      "execution_count": null,
      "outputs": []
    },
    {
      "cell_type": "code",
      "metadata": {
        "id": "Kjavr1jBX0Dc"
      },
      "source": [
        "def f(x):\n",
        "    return np.exp(-x**2)"
      ],
      "execution_count": null,
      "outputs": []
    },
    {
      "cell_type": "code",
      "metadata": {
        "id": "-ElNCYSiX0Dc"
      },
      "source": [
        "val, err = Int.quad(f, -1, 1)"
      ],
      "execution_count": null,
      "outputs": []
    },
    {
      "cell_type": "code",
      "metadata": {
        "id": "jRoCFUafX0Dc",
        "outputId": "fb73c886-6b83-4971-f988-ede5b62c1d9d"
      },
      "source": [
        "val"
      ],
      "execution_count": null,
      "outputs": [
        {
          "output_type": "execute_result",
          "data": {
            "image/png": "[encoded data removed]",
            "text/latex": "$\\displaystyle 1.493648265624854$",
            "text/plain": [
              "1.493648265624854"
            ]
          },
          "metadata": {
            "tags": []
          },
          "execution_count": 83
        }
      ]
    },
    {
      "cell_type": "code",
      "metadata": {
        "id": "McR3edcjX0Dc",
        "outputId": "e8e55b1c-8b07-432b-9de3-d5ccdb858ad6"
      },
      "source": [
        "err"
      ],
      "execution_count": null,
      "outputs": [
        {
          "output_type": "execute_result",
          "data": {
            "image/png": "[encoded data removed]",
            "text/latex": "$\\displaystyle 1.6582826951881447e-14$",
            "text/plain": [
              "1.6582826951881447e-14"
            ]
          },
          "metadata": {
            "tags": []
          },
          "execution_count": 145
        }
      ]
    },
    {
      "cell_type": "markdown",
      "metadata": {
        "id": "Qlb1o4oxX0Dd"
      },
      "source": [
        "The quad function returns a tuple that contains the numerical __estimate of the integral__, __val__, and an estimate of the __absolute error__, __err__. The tolerances for the absolute and the relative errors can be set using the optional __epsabs__ and __epsrel__ keyword arguments, respectively."
      ]
    },
    {
      "cell_type": "markdown",
      "metadata": {
        "id": "X-rzBuahX0Dd"
      },
      "source": [
        "If the function $f$ takes more than one variable, the quad routine integrates the function over its first argument. We can optionally specify the values of additional arguments by passing those values to the integrand function via the keyword argument args to the quad function. For example, if we wish to evaluate \n",
        "\\begin{equation}\n",
        "\\int_{-1}^{1}ae^{-(x - b )^2 /c^2} dx\n",
        "\\end{equation}\n",
        "for the specific values of the parameters a = 1, b = 2, and c = 3, we can define a function\n",
        "for the integrand that takes all these additional arguments and then specify the values of\n",
        "a, b, and c by passing args=(1, 2, 3) to the quad function:"
      ]
    },
    {
      "cell_type": "code",
      "metadata": {
        "id": "KYnV3WzsX0Dd"
      },
      "source": [
        "def f(x, a, b, c):\n",
        "    return a*np.exp(-((x - b)/c)**2)"
      ],
      "execution_count": null,
      "outputs": []
    },
    {
      "cell_type": "code",
      "metadata": {
        "id": "-UO4bdh_X0Dd"
      },
      "source": [
        "val, err = Int.quad(f, -1, 1, args=(1, 2, 3))"
      ],
      "execution_count": null,
      "outputs": []
    },
    {
      "cell_type": "code",
      "metadata": {
        "id": "VM6siLdOX0Dd",
        "outputId": "4634c98d-8f71-4f98-80cb-eb038bf543ab"
      },
      "source": [
        "val"
      ],
      "execution_count": null,
      "outputs": [
        {
          "output_type": "execute_result",
          "data": {
            "image/png": "[encoded data removed]",
            "text/latex": "$\\displaystyle 1.2763068351022229$",
            "text/plain": [
              "1.2763068351022229"
            ]
          },
          "metadata": {
            "tags": []
          },
          "execution_count": 86
        }
      ]
    },
    {
      "cell_type": "code",
      "metadata": {
        "id": "O3mtGR7WX0De",
        "outputId": "f67f7bc6-1cb9-4238-d536-a60d99c4fdfa"
      },
      "source": [
        "err"
      ],
      "execution_count": null,
      "outputs": [
        {
          "output_type": "execute_result",
          "data": {
            "image/png": "[encoded data removed]",
            "text/latex": "$\\displaystyle 1.4169852348169507e-14$",
            "text/plain": [
              "1.4169852348169507e-14"
            ]
          },
          "metadata": {
            "tags": []
          },
          "execution_count": 150
        }
      ]
    },
    {
      "cell_type": "markdown",
      "metadata": {
        "id": "CeLJRUhKX0De"
      },
      "source": [
        "### Tabulated Integrand"
      ]
    },
    {
      "cell_type": "code",
      "metadata": {
        "id": "Wsd3XLNYX0De"
      },
      "source": [
        "f = lambda x: np.sqrt(x)\n",
        "a, b = 0, 2"
      ],
      "execution_count": null,
      "outputs": []
    },
    {
      "cell_type": "code",
      "metadata": {
        "id": "_OHrr3L1X0De"
      },
      "source": [
        "x = np.linspace(a, b, 25)\n",
        "y =f(x)"
      ],
      "execution_count": null,
      "outputs": []
    },
    {
      "cell_type": "code",
      "metadata": {
        "id": "5SWmu0d3X0De",
        "outputId": "554fbd8c-2a34-4bdb-9282-4bbe4e9337cf"
      },
      "source": [
        "x"
      ],
      "execution_count": null,
      "outputs": [
        {
          "output_type": "execute_result",
          "data": {
            "text/plain": [
              "array([0.        , 0.08333333, 0.16666667, 0.25      , 0.33333333,\n",
              "       0.41666667, 0.5       , 0.58333333, 0.66666667, 0.75      ,\n",
              "       0.83333333, 0.91666667, 1.        , 1.08333333, 1.16666667,\n",
              "       1.25      , 1.33333333, 1.41666667, 1.5       , 1.58333333,\n",
              "       1.66666667, 1.75      , 1.83333333, 1.91666667, 2.        ])"
            ]
          },
          "metadata": {
            "tags": []
          },
          "execution_count": 89
        }
      ]
    },
    {
      "cell_type": "code",
      "metadata": {
        "id": "PCtBpJtNX0De",
        "outputId": "e7b2e194-1847-4134-9465-fe13a8cbafbb"
      },
      "source": [
        "y"
      ],
      "execution_count": null,
      "outputs": [
        {
          "output_type": "execute_result",
          "data": {
            "text/plain": [
              "array([0.        , 0.28867513, 0.40824829, 0.5       , 0.57735027,\n",
              "       0.64549722, 0.70710678, 0.76376262, 0.81649658, 0.8660254 ,\n",
              "       0.91287093, 0.95742711, 1.        , 1.040833  , 1.08012345,\n",
              "       1.11803399, 1.15470054, 1.19023807, 1.22474487, 1.25830574,\n",
              "       1.29099445, 1.32287566, 1.3540064 , 1.38443731, 1.41421356])"
            ]
          },
          "metadata": {
            "tags": []
          },
          "execution_count": 90
        }
      ]
    },
    {
      "cell_type": "code",
      "metadata": {
        "id": "nSh7eVmkX0Df",
        "outputId": "28b2fa49-14c2-435a-aeb2-300b62f63c49"
      },
      "source": [
        "fig, ax = plt.subplots(figsize=(8, 3))\n",
        "ax.plot(x, y, 'bo')\n",
        "xx = np.linspace(a, b, 500)\n",
        "ax.plot(xx, f(xx), 'b-')\n",
        "ax.fill_between(xx, f(xx), color='green', alpha=0.5)\n",
        "ax.set_xlabel(r\"$x$\", fontsize=18)\n",
        "ax.set_ylabel(r\"$f(x)$\", fontsize=18)"
      ],
      "execution_count": null,
      "outputs": [
        {
          "output_type": "execute_result",
          "data": {
            "text/plain": [
              "Text(0, 0.5, '$f(x)$')"
            ]
          },
          "metadata": {
            "tags": []
          },
          "execution_count": 91
        },
        {
          "output_type": "display_data",
          "data": {
            "image/png": "[encoded data removed]",
            "text/plain": [
              "<Figure size 576x216 with 1 Axes>"
            ]
          },
          "metadata": {
            "tags": [],
            "needs_background": "light"
          }
        }
      ]
    },
    {
      "cell_type": "code",
      "metadata": {
        "id": "EIyHUc19X0Df"
      },
      "source": [
        "val_trapz = Int.trapz(y, x)"
      ],
      "execution_count": null,
      "outputs": []
    },
    {
      "cell_type": "code",
      "metadata": {
        "id": "YygYmvD6X0Df",
        "outputId": "a2c87151-ca5e-46cc-ffa1-fe93eb449bad"
      },
      "source": [
        "val_trapz"
      ],
      "execution_count": null,
      "outputs": [
        {
          "output_type": "execute_result",
          "data": {
            "image/png": "[encoded data removed]",
            "text/latex": "$\\displaystyle 1.8808217160508505$",
            "text/plain": [
              "1.8808217160508505"
            ]
          },
          "metadata": {
            "tags": []
          },
          "execution_count": 94
        }
      ]
    },
    {
      "cell_type": "code",
      "metadata": {
        "id": "vxlkUIdNX0Df"
      },
      "source": [
        "val_simps = Int.simps(y, x)"
      ],
      "execution_count": null,
      "outputs": []
    },
    {
      "cell_type": "code",
      "metadata": {
        "id": "8y0NviRaX0Df",
        "outputId": "a552d7fa-db60-4923-c936-3743bada4d7a"
      },
      "source": [
        "val_simps"
      ],
      "execution_count": null,
      "outputs": [
        {
          "output_type": "execute_result",
          "data": {
            "image/png": "[encoded data removed]",
            "text/latex": "$\\displaystyle 1.883665102448715$",
            "text/plain": [
              "1.883665102448715"
            ]
          },
          "metadata": {
            "tags": []
          },
          "execution_count": 96
        }
      ]
    },
    {
      "cell_type": "markdown",
      "metadata": {
        "id": "9XlnCKHjX0Dg"
      },
      "source": [
        "### Multiple Integration"
      ]
    },
    {
      "cell_type": "markdown",
      "metadata": {
        "id": "nctMQvQiX0Dg"
      },
      "source": [
        "For example, consider the integral \n",
        "\\begin{equation}\n",
        "\\int_{0}^{1}\\int_{0}^{1} e^{-x^2 - y^2} dx dy. \n",
        "\\end{equation}\n",
        "To evaluate this we first define the function f for the integrand and graph the function and the\n",
        "integration region, as shown in the Figure below"
      ]
    },
    {
      "cell_type": "code",
      "metadata": {
        "id": "gW0QO_LaX0Dg"
      },
      "source": [
        "def f(x, y):\n",
        "    return np.exp(-x**2 - y**2)"
      ],
      "execution_count": null,
      "outputs": []
    },
    {
      "cell_type": "code",
      "metadata": {
        "id": "FGpxG_-bX0Dg",
        "outputId": "c0e3907a-dc54-447c-9da6-e3595444f624"
      },
      "source": [
        "fig, ax = plt.subplots(figsize=(6, 5))\n",
        "x = y = np.linspace(-1.25, 1.25, 75)\n",
        "X, Y = np.meshgrid(x, y)\n",
        "c = ax.contour(X, Y, f(X, Y), 15, cmap=mpl.cm.jet, vmin=-1,vmax=1)\n",
        "bound_rect = plt.Rectangle((0, 0), 1, 1, facecolor=\"grey\")\n",
        "ax.add_patch(bound_rect)\n",
        "ax.axis('tight')\n",
        "ax.set_xlabel('$x$', fontsize=18)\n",
        "ax.set_ylabel('$y$', fontsize=18)"
      ],
      "execution_count": null,
      "outputs": [
        {
          "output_type": "execute_result",
          "data": {
            "text/plain": [
              "Text(0, 0.5, '$y$')"
            ]
          },
          "metadata": {
            "tags": []
          },
          "execution_count": 101
        },
        {
          "output_type": "display_data",
          "data": {
            "image/png": "[encoded data removed]",
            "text/plain": [
              "<Figure size 432x360 with 1 Axes>"
            ]
          },
          "metadata": {
            "tags": [],
            "needs_background": "light"
          }
        }
      ]
    },
    {
      "cell_type": "markdown",
      "metadata": {
        "id": "DIJzwFbJX0Dg"
      },
      "source": [
        "In this example the integration limits for both the $x$ and $y$ variables are constants, but since __dblquad__ expects functions for the integration limits for the y variable, we must also define the functions h and g, even though in this case they only evaluate to constants regardless of the value of $x$."
      ]
    },
    {
      "cell_type": "code",
      "metadata": {
        "id": "Z5nu1C1hX0Dg"
      },
      "source": [
        "a, b = 0, 1\n",
        "g = lambda x: 0\n",
        "h = lambda x: 1"
      ],
      "execution_count": null,
      "outputs": []
    },
    {
      "cell_type": "markdown",
      "metadata": {
        "id": "K8r4qVNXX0Dh"
      },
      "source": [
        "Now, with all the arguments prepared, we can call __dblquad_ to evaluate the integral:"
      ]
    },
    {
      "cell_type": "code",
      "metadata": {
        "id": "v0_WkLZ_X0Dh",
        "outputId": "97d8a9c9-a9dd-44d8-c141-657bb5001a38"
      },
      "source": [
        "Int.dblquad(f, a, b, g, h)"
      ],
      "execution_count": null,
      "outputs": [
        {
          "output_type": "execute_result",
          "data": {
            "image/png": "[encoded data removed]",
            "text/latex": "$\\displaystyle \\left( 0.5577462853510337, \\  8.291374381535408e-15\\right)$",
            "text/plain": [
              "(0.5577462853510337, 8.291374381535408e-15)"
            ]
          },
          "metadata": {
            "tags": []
          },
          "execution_count": 103
        }
      ]
    },
    {
      "cell_type": "markdown",
      "metadata": {
        "id": "fW8kwEtDX0Dh"
      },
      "source": [
        "Note that we could also have done the same thing a bit more concisely, although slightly less readable, by using _inline_ __lambda function__ definitions:"
      ]
    },
    {
      "cell_type": "code",
      "metadata": {
        "id": "R7tu2A5nX0Dh",
        "outputId": "373fc147-1f46-41f3-977b-e29800ca379c"
      },
      "source": [
        "Int.dblquad(lambda x, y: np.exp(-x**2-y**2), 0, 1, lambda x: 0, lambda x: 1)"
      ],
      "execution_count": null,
      "outputs": [
        {
          "output_type": "execute_result",
          "data": {
            "image/png": "[encoded data removed]",
            "text/latex": "$\\displaystyle \\left( 0.5577462853510337, \\  8.291374381535408e-15\\right)$",
            "text/plain": [
              "(0.5577462853510337, 8.291374381535408e-15)"
            ]
          },
          "metadata": {
            "tags": []
          },
          "execution_count": 104
        }
      ]
    },
    {
      "cell_type": "markdown",
      "metadata": {
        "id": "yBnRvFqJX0Dh"
      },
      "source": [
        "Because $g$ and $h$ are functions, we can compute integrals with x-dependent integration limits along the $y$ dimension. For example, with $g(x) = x -1$ and $h(x) = 1 -x$, we obtain:"
      ]
    },
    {
      "cell_type": "code",
      "metadata": {
        "id": "BGxVirz-X0Dh",
        "outputId": "ed6125cb-9b98-49c5-8c3d-a03554789b12"
      },
      "source": [
        "Int.dblquad(f, 0, 1, lambda x: -1 + x, lambda x: 1 - x)"
      ],
      "execution_count": null,
      "outputs": [
        {
          "output_type": "execute_result",
          "data": {
            "image/png": "[encoded data removed]",
            "text/latex": "$\\displaystyle \\left( 0.7320931000008094, \\  1.6564972931774035e-14\\right)$",
            "text/plain": [
              "(0.7320931000008094, 1.6564972931774035e-14)"
            ]
          },
          "metadata": {
            "tags": []
          },
          "execution_count": 105
        }
      ]
    },
    {
      "cell_type": "code",
      "metadata": {
        "id": "FvuFX292X0Di"
      },
      "source": [
        "Int.tplquad?"
      ],
      "execution_count": null,
      "outputs": []
    },
    {
      "cell_type": "markdown",
      "metadata": {
        "id": "IcosFN69X0Di"
      },
      "source": [
        "## Ordinary Differential Equations"
      ]
    },
    {
      "cell_type": "code",
      "metadata": {
        "id": "woUuOewuX0Di"
      },
      "source": [
        "import numpy as np\n",
        "import matplotlib.pyplot as plt\n",
        "from scipy import integrate as Int\n",
        "import sympy as spy"
      ],
      "execution_count": null,
      "outputs": []
    },
    {
      "cell_type": "markdown",
      "metadata": {
        "id": "ioCKk-3uX0Di"
      },
      "source": [
        "### First Order ODE\n",
        " __Initial value problem__: \n",
        "  Consider the first order ODE:\n",
        "\\begin{equation}\n",
        "\\frac{dy}{dt} = f(t,y), \\qquad \\text{with initial condition } y(0)=y_0\n",
        "\\end{equation}\n",
        " \n",
        " __Euler method__\n",
        "\n",
        "\n",
        "The __explicity Euler's method__ is given by  approximating the derivative with the forward difference as\n",
        "\\begin{equation}\n",
        "y_i^{\\prime} = \\frac{y_{i+1} - y_{i}}{h} + \\mathcal{O}(h)\n",
        "\\end{equation}\n",
        "which gives the approximate solution at node $i$ as. \n",
        "\\begin{equation}\n",
        "y_{i+1} = y_{i} + hf(t_i,y_i),\n",
        "\\end{equation}\n",
        "where $h$ is the step size of the discretization.\n",
        "\n",
        "Similarly, if we use the backward difference for approximation we get the __implicit Euler's method__ as \n",
        "\\begin{equation}\n",
        "y_{i+1} = y_{i} + hf(t_{i+1},y_{i+1})\n",
        "\\end{equation}\n",
        "\n"
      ]
    },
    {
      "cell_type": "markdown",
      "metadata": {
        "id": "y4hjY-WpX0Di"
      },
      "source": [
        "__Example__\n",
        "\n",
        "Consider  $y^{\\prime}=-y$  with a condition gives  $y(t) = y_0e^{-t} $"
      ]
    },
    {
      "cell_type": "code",
      "metadata": {
        "id": "PtS4HkqfX0Dj"
      },
      "source": [
        "def f(t,y):\n",
        "    return (-y)"
      ],
      "execution_count": null,
      "outputs": []
    },
    {
      "cell_type": "code",
      "metadata": {
        "id": "3HDM7O5CX0Dj"
      },
      "source": [
        "def forwardEuler(a,b,h,y0,f):\n",
        "    n = int((b-a)/h)\n",
        "    t = np.linspace(a, b, n+1) # Discretization of the time variable\n",
        "    y = np.empty(t.size)\n",
        "    y[0]=y0                    # initial condition\n",
        "    for n, T in enumerate(t[:-1]):\n",
        "        y[n+1] = y[n] + h *f(T,y[n])\n",
        "    return t,y"
      ],
      "execution_count": null,
      "outputs": []
    },
    {
      "cell_type": "code",
      "metadata": {
        "id": "mwpVAj9rX0Dj",
        "outputId": "1592c07b-44a4-4c52-8750-3005c299a606"
      },
      "source": [
        "a = 0\n",
        "b =10\n",
        "h=0.01\n",
        "y0=1\n",
        "\n",
        "t,y_app= forwardEuler(a,b,h,y0,f)\n",
        "y_ext = np.exp(-t)\n",
        "\n",
        "plt.plot(t, y_app, '-+', label='Explicit method')\n",
        "plt.plot(t,y_ext , label='Exact solution')\n",
        "plt.legend()\n",
        "plt.show()"
      ],
      "execution_count": null,
      "outputs": [
        {
          "output_type": "display_data",
          "data": {
            "image/png": "[encoded data removed]",
            "text/plain": [
              "<Figure size 432x288 with 1 Axes>"
            ]
          },
          "metadata": {
            "tags": [],
            "needs_background": "light"
          }
        }
      ]
    },
    {
      "cell_type": "markdown",
      "metadata": {
        "id": "IGZmHjMEX0Dj"
      },
      "source": [
        "### Higher order methods\n",
        "\n",
        "__One-Step Methods:__ __Runge-Kutta type__\n",
        "\n",
        " Most popular method is explicit RK4:\n",
        " \\begin{equation}\n",
        " \\begin{aligned}\n",
        " k_1 &= hf\\left(t_n,y_n\\right) \\\\\n",
        " k_2 &= hf\\left(t_n + \\frac{h}{2},y_n+\\frac{k_1}{2}\\right) \\\\\n",
        " k_3 &= hf\\left(t_n + \\frac{h}{2},y_n+\\frac{k_2}{2}\\right) \\\\\n",
        " k_4 &= hf\\left(t_n + h,y_n+k_3\\right)\n",
        " \\end{aligned}\n",
        " \\end{equation}\n",
        "\n",
        "$y_{n+1} = y_n + \\frac{1}{6}\\left(k_1 + 2(k_2 + k_3) +k_4\\right)$"
      ]
    },
    {
      "cell_type": "code",
      "metadata": {
        "id": "j4-RN5B9X0Dk"
      },
      "source": [
        "def RK4(a,b,h,y0,f):\n",
        "    n = int((b-a)/h)\n",
        "    t = np.linspace(a, b, n+1) # Discretization of the time variable\n",
        "    y = np.empty(t.size)\n",
        "    y[0]=y0                    # initial condition\n",
        "    for n, T in enumerate(t[:-1]):\n",
        "        k1 = h*f(T,y[n])\n",
        "        k2 = h*f(T +h/2,y[n]+ k1/2)\n",
        "        k3 = h*f(T +h/2,y[n]+ k2/2)\n",
        "        k4 = h*f(T +h,y[n]+ k3)\n",
        "        \n",
        "        y[n+1] = y[n] + (1/6)*(k1 + 2*(k2+k3) + k4)\n",
        "    return t,y"
      ],
      "execution_count": null,
      "outputs": []
    },
    {
      "cell_type": "code",
      "metadata": {
        "id": "vWsRxCWuX0Dk"
      },
      "source": [
        "%matplotlib qt\n",
        "a = 0\n",
        "b =10\n",
        "h=0.5\n",
        "y0=1\n",
        "\n",
        "t,y_ex= forwardEuler(a,b,h,y0,f)\n",
        "t,y_rk4 = RK4(a,b,h,y0,f)\n",
        "\n",
        "plt.plot(t, y_ex, '-+', label='Explicit Euler')\n",
        "plt.plot(t, y_rk4,'-or', label='RK4')\n",
        "plt.plot(t, np.exp(-t), label='Exact solution')\n",
        "plt.legend()\n",
        "plt.show()"
      ],
      "execution_count": null,
      "outputs": []
    },
    {
      "cell_type": "markdown",
      "metadata": {
        "id": "ZvbQapcxX0Dk"
      },
      "source": [
        "__Coupled ODE__\n",
        "\n",
        "__The SIR Model for Spread of Disease - The Differential Equation Model__"
      ]
    },
    {
      "cell_type": "code",
      "metadata": {
        "id": "7_rbe4h8X0Dk"
      },
      "source": [
        "def SIR(y,t,p):\n",
        "    S,I,R = y # vector of state variable y=[S,I,R]\n",
        "    b,k = p\n",
        "    dSdt = -b*S*I\n",
        "    dIdt = b*S*I - k*I\n",
        "    dRdt = k*I\n",
        "    f = [dSdt,dIdt,dRdt]\n",
        "    return f    "
      ],
      "execution_count": null,
      "outputs": []
    },
    {
      "cell_type": "code",
      "metadata": {
        "id": "xzs5iSBPX0Dk",
        "outputId": "e58356f4-f0ae-4a18-8faa-1919243e4df4"
      },
      "source": [
        "# Initial Conditions\n",
        "s0 = 1\n",
        "i0 = 1.27e-6\n",
        "r0 = 0\n",
        "S0 = [s0,i0,r0]\n",
        "#Parameters\n",
        "b = 1/2\n",
        "k = 1/3\n",
        "p=[b,k]\n",
        "\n",
        "\n",
        "\n",
        "t = np.linspace(0,140,140)\n",
        "\n",
        "wsol = Int.odeint(SIR, S0, t, args=(p,) )\n",
        "\n",
        "S=wsol[:,0]\n",
        "I=wsol[:,1]\n",
        "R=wsol[:,2]\n",
        "\n",
        "plt.xlabel('t')\n",
        "#plt.grid(True)\n",
        "lw = 2\n",
        "\n",
        "plt.plot(t, S, 'b', linewidth=lw)\n",
        "plt.plot(t, I, 'g', linewidth=lw)\n",
        "plt.plot(t, R, 'k', linewidth=lw)\n",
        "\n",
        "plt.legend(('$S$', '$I$', '$R$'))\n",
        "plt.title('')\n",
        "\n"
      ],
      "execution_count": null,
      "outputs": [
        {
          "output_type": "execute_result",
          "data": {
            "text/plain": [
              "Text(0.5, 1.0, '')"
            ]
          },
          "metadata": {
            "tags": []
          },
          "execution_count": 118
        }
      ]
    },
    {
      "cell_type": "markdown",
      "metadata": {
        "id": "hMZrOiVhX0Dl"
      },
      "source": [
        "## Partial Differential Equations: The Finite Difference"
      ]
    },
    {
      "cell_type": "markdown",
      "metadata": {
        "id": "8BkQ5xvgX0Dl"
      },
      "source": [
        "__1D Wave Equation__\n",
        "\n",
        "__Simulation of waves on a string__\n",
        "\n",
        "We begin our study of wave equations by simulating one-dimensional waves on a string, say on a guitar or violin. Let the string in the deformed state coincide with the interval $ [0,L]$  on the $ x$ axis, and let $ u(x,t)$ be the displacement at time $ t $ in the $ y $ direction of a point initially at $ x$. The displacement function $u$ is governed by the mathematical model \n",
        "$$ \n",
        "\\begin{align} \n",
        "u_{tt} &= c^2 u_{xx}, \\quad & x\\in (0,L),\\ t\\in (0,T] \\tag{1}\\\\ \n",
        "u(x,0) &= I(x), \\quad &x\\in [0,L] \\tag{2}\\\\\n",
        "u_t(x,0) &= 0, \\quad &x\\in [0,L] \\tag{3}\\\\ u(0,t) & = 0, \\quad &t\\in (0,T] \\tag{4}\\\\\n",
        "u(L,t) & = 0, \\quad &t\\in (0,T] \\tag{5} \n",
        "\\end{align} \n",
        "$$ The constant $c$ and the function $ I(x)$ must be prescribed. Equation (1) is known as the __one-dimensional wave equation__. \n",
        "\n",
        "Since this PDE contains a second-order derivative in time, we need two initial conditions. The condition (2) specifies the initial shape of the string, $I(x)$, and (3) expresses that the initial velocity of the string is zero. \n",
        "\n",
        "In addition, PDEs need boundary conditions, give here as (4) and (5). These two conditions specify that the string is fixed at the ends, i.e., that the displacement $ u $ is zero.\n",
        "\n",
        "The solution $u(x,t)$ varies in space and time and describes waves that move with velocity $c $ to the left and right."
      ]
    },
    {
      "cell_type": "markdown",
      "metadata": {
        "id": "DyRlsVUDX0Dl"
      },
      "source": [
        "### Discretizing the domain\n",
        "\n",
        "The PDE problem (1)-(5) will now be discretized in space and time by a finite difference method.\n",
        "\n",
        "The temporal domain $[0,T]$ is represented by a finite number of mesh points \n",
        "\\begin{equation} \n",
        "0 = t_0 < t_1 < t_2 < \\cdots < t_{N_t-1} < t_{N_t} = T.\\tag{7} \n",
        "\\end{equation} \n",
        "\n",
        "Similarly, the spatial domain $[0,L]$ is replaced by a set of mesh points \n",
        "\\begin{equation} 0 = x_0 < x_1 < x_2 < \\cdots < x_{N_x-1} < x_{N_x} = L \\tag{8} \n",
        "\\end{equation} \n",
        "One may view the mesh as two-dimensional in the $(x,t)$ plane, consisting of points $(x_i, t_n)$, with $ i=0,\\ldots,N_x $ and $n=0,\\ldots,N_t $.\n"
      ]
    },
    {
      "cell_type": "markdown",
      "metadata": {
        "id": "8mGrP-_gX0Dl"
      },
      "source": [
        "__Uniform meshes__\n",
        "\n",
        "For uniformly distributed mesh points we can introduce the constant mesh spacings $\\Delta t $ and $\\Delta x $. We have that \n",
        "\\begin{equation}\n",
        "\\begin{aligned}\n",
        "x_i &= i\\Delta x,\\ i=0,\\cdots,N_x,\\\\\n",
        "t_n &= n\\Delta t,\\ n=0,\\cdots,N_t \n",
        "\\end{aligned} \\tag{9}\n",
        "\\end{equation} \n",
        "\n",
        "We also have that $\\Delta x = x_i-x_{i-1} $, $ i=1,\\cdots,N_x $, and $ \\Delta t = t_n - t_{n-1},  n=1,\\cdots,N_t$. The Figure below displays a mesh in the \\( x,t \\) plane with $N_t=5$, $ N_x=5$, and constant mesh spacings."
      ]
    },
    {
      "cell_type": "code",
      "metadata": {
        "id": "T4QtGWZFX0Dl",
        "outputId": "712abf13-7ec8-4399-ba12-f5845103b9dc"
      },
      "source": [
        "fig, ax = plt.subplots(figsize=(6, 6))\n",
        "ax.grid()\n",
        "ax.plot(2, 2, 'ko', lw=3)\n",
        "ax.plot(2, 3, 'ko', lw=3)\n",
        "ax.plot(1, 2, 'ko', lw=3)\n",
        "ax.plot(3, 2, 'ko', lw=3)\n",
        "ax.plot(2, 1, 'ko', lw=3)\n",
        "ax.set_xlim([0, 5])\n",
        "ax.set_ylim([0, 5])\n",
        "\n",
        "ax.set_xlabel('$index\\; i$', fontsize=18)\n",
        "ax.set_ylabel('$index\\; n$', fontsize=18)"
      ],
      "execution_count": null,
      "outputs": [
        {
          "output_type": "execute_result",
          "data": {
            "text/plain": [
              "Text(0, 0.5, '$index\\\\; n$')"
            ]
          },
          "metadata": {
            "tags": []
          },
          "execution_count": 7
        },
        {
          "output_type": "display_data",
          "data": {
            "image/png": "[encoded data removed]",
            "text/plain": [
              "<Figure size 432x432 with 1 Axes>"
            ]
          },
          "metadata": {
            "tags": [],
            "needs_background": "light"
          }
        }
      ]
    },
    {
      "cell_type": "markdown",
      "metadata": {
        "id": "g32L466VX0Dm"
      },
      "source": [
        "__The discrete solution__\n",
        "\n",
        "The solution $u(x,t)$ is sought at the mesh points. We introduce the mesh function $u_i^n $, which approximates the exact solution at the mesh point $(x_i,t_n)$ for $ i=0,\\ldots,N_x $ and $n=0,\\ldots,N_t$. Using the finite difference method, we shall develop algebraic equations for computing the mesh function.\n",
        "\n",
        "__Fulfilling the equation at the mesh points__\n",
        "\n",
        "In the finite difference method, we relax the condition that (1) holds at all points in the space-time domain $(0,L)\\times (0,T]$ to the requirement that the PDE is fulfilled at the interior mesh points only: \n",
        "\n",
        "\\begin{equation} \n",
        "u_{tt}(x_i, t_n) = c^2u_{xx}(x_i, t_n), \\tag{10} \n",
        "\\end{equation}\n",
        "for $i=1,\\ldots,N_x-1$ and $n=1,\\ldots,N_t$. For $ n=0$ we have the initial conditions $u=I(x)$ and $u_t=0$, and at the boundaries $i=0,N_x$ we have the boundary condition $u=0$."
      ]
    },
    {
      "cell_type": "markdown",
      "metadata": {
        "id": "A9-29rHVX0Dm"
      },
      "source": [
        "__Replacing derivatives by finite differences__\n",
        "\n",
        "The second-order derivatives can be replaced by central differences. The most widely used difference approximation of the second-order derivative is \n",
        "$$ u_{tt}(x_i,t_n)\\approx \\frac{u_i^{n+1} - 2u_i^n + u^{n-1}_i}{\\Delta t^2}.$$\n",
        "It is convenient to introduce the finite difference operator notation $$ [D_tD_t u]^n_i = \\frac{u_i^{n+1} - 2u_i^n + u^{n-1}_i}{\\Delta t^2}.$$ \n",
        "\n",
        "A similar approximation of the second-order derivative in the $x$ direction reads \n",
        "$$ u_{xx}(x_i,t_n)\\approx \\frac{u_{i+1}^{n} - 2u_i^n + u^{n}_{i-1}}{\\Delta x^2} = [D_xD_x u]^n_i.$$"
      ]
    },
    {
      "cell_type": "markdown",
      "metadata": {
        "id": "Kp27E8SxX0Dm"
      },
      "source": [
        "__Algebraic version of the PDE__\n",
        "\n",
        "We can now replace the derivatives in (10) and get\n",
        "\\begin{equation} \n",
        "\\frac{u_i^{n+1} - 2u_i^n + u^{n-1}_i}{\\Delta t^2} = c^2\\frac{u_{i+1}^{n} - 2u_i^n + u^{n}_{i-1}}{\\Delta x^2}, \\tag{11}\n",
        "\\end{equation}\n",
        "\n",
        "or written more compactly using the operator notation: $$ \\begin{equation} [D_tD_t u = c^2 D_xD_x]^{n}_i  \\tag{12} \\end{equation} $$\n",
        "\n",
        "__Interpretation of the equation as a stencil__\n",
        "\n",
        "A typical feature of (11) is that it involves $ u $ values from neighboring points only: $ u_i^{n+1} $, $ u^n_{i\\pm 1}$, $ u^n_i $, and $ u^{n-1}_i $. The circles in the Figure illustrate such neighboring mesh points that contributes to an algebraic equation. In this particular case, we have sampled the PDE at the point $(2,2)$ and constructed (11), which then involves a coupling of $ u_2^1 $, $ u_1^2 $, $ u_2^2$, $u_3^2$, and $u_2^3 $. The term stencil is often used about the algebraic equation at a mesh point, and the geometry of a typical stencil is illustrated in Figure above. One also often refers to the algebraic equations as discrete equations, (finite) difference equations or a finite difference scheme."
      ]
    },
    {
      "cell_type": "markdown",
      "metadata": {
        "id": "AD6Tnd22X0Dm"
      },
      "source": [
        "__Algebraic version of the initial conditions__\n",
        "\n",
        "We also need to replace the derivative in the initial condition (3) by a finite difference approximation. A centered difference of the type \n",
        "$$u_{tt}(x_i,t_n)\\approx \\frac{u^1_i - u^{-1}_i}{2\\Delta t} = [D_{2t} u]^0_i, $$ \n",
        "seems appropriate. In operator notation the initial condition is written as \n",
        "$$ [D_{2t} u]^n_i = 0,\\quad n=0. $$ \n",
        "\n",
        "Writing out this equation and ordering the terms give \n",
        "\\begin{equation} \n",
        "u^{n-1}_i=u^{n+1}_i,\\quad i=0,\\ldots,N_x,\\ n=0.\\tag{13} \n",
        "\\end{equation}  \n",
        "The other initial condition can be computed by $$ u_i^0 = I(x_i),\\quad i=0,\\ldots,N_x$$"
      ]
    },
    {
      "cell_type": "markdown",
      "metadata": {
        "id": "vUrtZC6UX0Dn"
      },
      "source": [
        "\n",
        "__Formulating a recursive algorithm__\n",
        "\n",
        "We assume that $ u^n_i $ and $u^{n-1}_i$ are already computed for $i=0,\\ldots,N_x$. The only unknown quantity in (11) is therefore $u^{n+1}_i$, which we can solve for: \n",
        "\\begin{equation} \n",
        "u^{n+1}_i = -u^{n-1}_i + 2u^n_i + C^2 \\left(u^{n}_{i+1}-2u^{n}_{i} + u^{n}_{i-1}\\right), \\tag{14} \n",
        "\\end{equation}  where we have introduced the parameter\n",
        "\\begin{equation} \n",
        "C = c\\frac{\\Delta t}{\\Delta x}, \\tag{15}\n",
        "\\end{equation} known as the __Courant number__."
      ]
    },
    {
      "cell_type": "markdown",
      "metadata": {
        "id": "nP6SJAd3X0Dn"
      },
      "source": [
        "$C$ is the key parameter in the discrete wave equation. We see that the discrete version of the PDE features only one parameter, $ C $, which is therefore the key parameter that governs the quality of the numerical solution. Both the primary physical parameter $c$ and the numerical parameters $\\Delta x $ and $\\Delta t $ are lumped together in $C$. Note that $C$ is a dimensionless parameter.\n",
        "\n",
        "Given that $u^{n-1}_i$ and $u^n_i$ are computed for $ i=0,\\ldots,N_x$, we find new values at the next time level by applying the formula (14) for $ i=1,\\ldots,N_x-1 $. The above Figure illustrates the points that are used to compute $u^3_2$. For the boundary points, $i=0$ and $i=N_x$, we apply the boundary conditions $u_i^{n+1}=0$.\n",
        "\n",
        "A problem with (14) arises when $n=0 $since the formula for $u^1_i$ involves $u^{-1}_i$, which is an undefined quantity outside the time mesh (and the time domain). However, we can use the initial condition (13) in combination with (14) when $ n=0$ to eliminate $u^{-1}_i$ and arrive at a special formula for $u_i^1$: \n",
        "\\begin{equation} \n",
        "u_i^1 = u^0_i - \\frac{1}{2} C^2\\left(u^{0}_{i+1}-2u^{0}_{i} + u^{0}_{i-1}\\right).  \\tag{16} \n",
        "\\end{equation} The Figure bellow illustrates how (16) connects four instead of five points: $ u^1_2 $, $u_1^0$, $u_2^0$, and $u_3^0$."
      ]
    },
    {
      "cell_type": "code",
      "metadata": {
        "id": "BPXFDoMPX0Dn",
        "outputId": "1c44b428-27af-423e-b6cc-590c3e617324"
      },
      "source": [
        "fig, ax = plt.subplots(figsize=(6, 6))\n",
        "ax.grid()\n",
        "ax.plot(2, 0, 'ko', lw=3)\n",
        "ax.plot(1, 0, 'ko', lw=3)\n",
        "ax.plot(2, 1, 'ko', lw=3)\n",
        "ax.plot(3, 0, 'ko', lw=3)\n",
        "\n",
        "ax.set_xlim([0, 5])\n",
        "ax.set_ylim([-0.1, 5])\n",
        "\n",
        "ax.set_xlabel('$index\\; i$', fontsize=18)\n",
        "ax.set_ylabel('$index\\; n$', fontsize=18)"
      ],
      "execution_count": null,
      "outputs": [
        {
          "output_type": "execute_result",
          "data": {
            "text/plain": [
              "Text(0, 0.5, '$index\\\\; n$')"
            ]
          },
          "metadata": {
            "tags": []
          },
          "execution_count": 8
        },
        {
          "output_type": "display_data",
          "data": {
            "image/png": "[encoded data removed]",
            "text/plain": [
              "<Figure size 432x432 with 1 Axes>"
            ]
          },
          "metadata": {
            "tags": [],
            "needs_background": "light"
          }
        }
      ]
    },
    {
      "cell_type": "markdown",
      "metadata": {
        "id": "N5uoTBAdX0Dn"
      },
      "source": [
        "We can now summarize the computational algorithm:\n",
        "<ol>\n",
        "    <li> Compute $u^0_i=I(x_i)$ for $i=0,\\ldots,N_x$</li>\n",
        "    <li>Compute $u^1_i$ by (16) and set $u_i^1=0$ for the boundary points $i=0$ and $i=N_x$, for $ n=1,2,\\ldots,N-1 $,</li>\n",
        "    <li>For each time level $ n=1,2,\\ldots,N_t-1 $\n",
        "    <ol>\n",
        "        <li>apply (14) to find \\( u^{n+1}_i \\) for \\( i=1,\\ldots,N_x-1 \\)</li>\n",
        "        <li>set \\( u^{n+1}_i=0 \\) for the boundary points \\( i=0 \\), \\( i=N_x \\).</li>\n",
        "        </ol>\n",
        "    </li>\n",
        "</ol>\n",
        "The algorithm essentially consists of moving a finite difference stencil through all the mesh points, which can be seen as an animation in a web page or a movie file.\n"
      ]
    },
    {
      "cell_type": "code",
      "metadata": {
        "id": "wlxDw-O6X0Dn"
      },
      "source": [
        "import numpy as np\n",
        "\n",
        "def solver(I,c, L, dt, C, T):\n",
        "    \"\"\"Solve u_tt=c^2*u_xx  on (0,L)x(0,T].\"\"\"\n",
        "    Nt = int(round(T/dt))\n",
        "    t = np.linspace(0, Nt*dt, Nt+1)   # Mesh points in time\n",
        "    dx = dt*c/float(C)\n",
        "    Nx = int(round(L/dx))\n",
        "    x = np.linspace(0, L, Nx+1)       # Mesh points in space\n",
        "    C2 = C**2                      # Help variable in the scheme\n",
        "    \n",
        "    u   = np.zeros(Nx+1)   # Solution array at new time level\n",
        "    u_1 = np.zeros(Nx+1)   # Solution at 1 time level back\n",
        "    u_2 = np.zeros(Nx+1)   # Solution at 2 time levels back\n",
        "    U = np.zeros((Nx+1,Nt))\n",
        "   \n",
        "\n",
        "    # Load initial condition into u_1\n",
        "    for i in range(0,Nx+1):\n",
        "        u_1[i] = I(x[i])\n",
        "    U[:,0]=u_1\n",
        "\n",
        "    # Special formula for first time step\n",
        "    n = 0\n",
        "    for i in range(1, Nx):\n",
        "        u[i] = u_1[i]  + 0.5*C2*(u_1[i-1] - 2*u_1[i] + u_1[i+1])\n",
        "               \n",
        "    u[0] = 0;  u[Nx] = 0 # Boundary Conditions\n",
        "\n",
        "    U[:,1] = u\n",
        "    # Switch variables before next step\n",
        "    u_2[:] = u_1;  \n",
        "    u_1[:] = u\n",
        "    \n",
        "    for n in range(2, Nt):\n",
        "        # Update all inner points at time t[n+1]\n",
        "        for i in range(1, Nx):\n",
        "            u[i] = - u_2[i] + 2*u_1[i] + C2*(u_1[i-1] - 2*u_1[i] + u_1[i+1]) \n",
        "           \n",
        "        # Insert boundary conditions\n",
        "        u[0] = 0;  u[Nx] = 0\n",
        "        # Switch variables before next step\n",
        "        u_2[:] = u_1;  u_1[:] = u\n",
        "        U[:,n] = u\n",
        "    return x, t, U"
      ],
      "execution_count": null,
      "outputs": []
    },
    {
      "cell_type": "markdown",
      "metadata": {
        "id": "6_plguzSX0Do"
      },
      "source": [
        "Many wave problems feature sinusoidal oscillations in time and space. For example, the original PDE problem (1)-(5) allows an exact solution $$ \\begin{equation} u_{ex}(x,t)) = A\\sin\\left(\\frac{\\pi}{L}x\\right) \\cos\\left(\\frac{\\pi}{L}ct\\right) \\end{equation} $$ \n",
        "This $u_{ex} $ fulfills the PDE with, boundary conditions $u_{ex}(0,t)=u_{ex}(L,0)=0 $, as well as initial conditions $ I(x)=A\\sin\\left(\\frac{\\pi}{L}x\\right)$ "
      ]
    },
    {
      "cell_type": "code",
      "metadata": {
        "id": "Hdk5ZqjiX0Do"
      },
      "source": [
        "def U_ex(A,c,L,x,t):\n",
        "    return A*np.sin((np.pi/L)*x)*np.cos((np.pi/L)*c*t)\n"
      ],
      "execution_count": null,
      "outputs": []
    },
    {
      "cell_type": "code",
      "metadata": {
        "id": "o_cXaJNHX0Do",
        "outputId": "c19cd076-b0af-469d-b38c-e580037edb5a"
      },
      "source": [
        "Nt = len(t)\n",
        "Nx = len(x)\n",
        "u_ex = np.zeros((Nx,Nt))\n",
        "for i in range(Nt):\n",
        "    u_ex[:,i] = U_ex(A,c,L,x,t[i])\n",
        "    "
      ],
      "execution_count": null,
      "outputs": [
        {
          "output_type": "error",
          "ename": "NameError",
          "evalue": "name 't' is not defined",
          "traceback": [
            "\u001b[0;31m---------------------------------------------------------------------------\u001b[0m",
            "\u001b[0;31mNameError\u001b[0m                                 Traceback (most recent call last)",
            "\u001b[0;32m<ipython-input-4-843c24ef3ce6>\u001b[0m in \u001b[0;36m<module>\u001b[0;34m\u001b[0m\n\u001b[0;32m----> 1\u001b[0;31m \u001b[0mNt\u001b[0m \u001b[0;34m=\u001b[0m \u001b[0mlen\u001b[0m\u001b[0;34m(\u001b[0m\u001b[0mt\u001b[0m\u001b[0;34m)\u001b[0m\u001b[0;34m\u001b[0m\u001b[0;34m\u001b[0m\u001b[0m\n\u001b[0m\u001b[1;32m      2\u001b[0m \u001b[0mNx\u001b[0m \u001b[0;34m=\u001b[0m \u001b[0mlen\u001b[0m\u001b[0;34m(\u001b[0m\u001b[0mx\u001b[0m\u001b[0;34m)\u001b[0m\u001b[0;34m\u001b[0m\u001b[0;34m\u001b[0m\u001b[0m\n\u001b[1;32m      3\u001b[0m \u001b[0mu_ex\u001b[0m \u001b[0;34m=\u001b[0m \u001b[0mnp\u001b[0m\u001b[0;34m.\u001b[0m\u001b[0mzeros\u001b[0m\u001b[0;34m(\u001b[0m\u001b[0;34m(\u001b[0m\u001b[0mNx\u001b[0m\u001b[0;34m,\u001b[0m\u001b[0mNt\u001b[0m\u001b[0;34m)\u001b[0m\u001b[0;34m)\u001b[0m\u001b[0;34m\u001b[0m\u001b[0;34m\u001b[0m\u001b[0m\n\u001b[1;32m      4\u001b[0m \u001b[0;32mfor\u001b[0m \u001b[0mi\u001b[0m \u001b[0;32min\u001b[0m \u001b[0mrange\u001b[0m\u001b[0;34m(\u001b[0m\u001b[0mNt\u001b[0m\u001b[0;34m)\u001b[0m\u001b[0;34m:\u001b[0m\u001b[0;34m\u001b[0m\u001b[0;34m\u001b[0m\u001b[0m\n\u001b[1;32m      5\u001b[0m     \u001b[0mu_ex\u001b[0m\u001b[0;34m[\u001b[0m\u001b[0;34m:\u001b[0m\u001b[0;34m,\u001b[0m\u001b[0mi\u001b[0m\u001b[0;34m]\u001b[0m \u001b[0;34m=\u001b[0m \u001b[0mU_ex\u001b[0m\u001b[0;34m(\u001b[0m\u001b[0mA\u001b[0m\u001b[0;34m,\u001b[0m\u001b[0mc\u001b[0m\u001b[0;34m,\u001b[0m\u001b[0mL\u001b[0m\u001b[0;34m,\u001b[0m\u001b[0mx\u001b[0m\u001b[0;34m,\u001b[0m\u001b[0mt\u001b[0m\u001b[0;34m[\u001b[0m\u001b[0mi\u001b[0m\u001b[0;34m]\u001b[0m\u001b[0;34m)\u001b[0m\u001b[0;34m\u001b[0m\u001b[0;34m\u001b[0m\u001b[0m\n",
            "\u001b[0;31mNameError\u001b[0m: name 't' is not defined"
          ]
        }
      ]
    },
    {
      "cell_type": "code",
      "metadata": {
        "id": "vp-lcH3pX0Do",
        "outputId": "bafa805b-6d7d-4dfe-8405-71b49c654fdb"
      },
      "source": [
        "%matplotlib inline\n",
        "T = 5\n",
        "dt =0.001\n",
        "L=1\n",
        "c=1\n",
        "C=0.5\n",
        "A = 1\n",
        "I = lambda x: A*np.sin((np.pi/L)*x)\n",
        "x,t,u_app = solver(I,c, L, dt, C, T)\n",
        "plt.plot(x,u_app[:,2])    \n",
        "plt.plot(x,u_ex[:,2],'--r')    \n",
        "plt.show()"
      ],
      "execution_count": null,
      "outputs": [
        {
          "output_type": "error",
          "ename": "NameError",
          "evalue": "name 'u_ex' is not defined",
          "traceback": [
            "\u001b[0;31m---------------------------------------------------------------------------\u001b[0m",
            "\u001b[0;31mNameError\u001b[0m                                 Traceback (most recent call last)",
            "\u001b[0;32m<ipython-input-5-af3e6de95e17>\u001b[0m in \u001b[0;36m<module>\u001b[0;34m\u001b[0m\n\u001b[1;32m      9\u001b[0m \u001b[0mx\u001b[0m\u001b[0;34m,\u001b[0m\u001b[0mt\u001b[0m\u001b[0;34m,\u001b[0m\u001b[0mu_app\u001b[0m \u001b[0;34m=\u001b[0m \u001b[0msolver\u001b[0m\u001b[0;34m(\u001b[0m\u001b[0mI\u001b[0m\u001b[0;34m,\u001b[0m\u001b[0mc\u001b[0m\u001b[0;34m,\u001b[0m \u001b[0mL\u001b[0m\u001b[0;34m,\u001b[0m \u001b[0mdt\u001b[0m\u001b[0;34m,\u001b[0m \u001b[0mC\u001b[0m\u001b[0;34m,\u001b[0m \u001b[0mT\u001b[0m\u001b[0;34m)\u001b[0m\u001b[0;34m\u001b[0m\u001b[0;34m\u001b[0m\u001b[0m\n\u001b[1;32m     10\u001b[0m \u001b[0mplt\u001b[0m\u001b[0;34m.\u001b[0m\u001b[0mplot\u001b[0m\u001b[0;34m(\u001b[0m\u001b[0mx\u001b[0m\u001b[0;34m,\u001b[0m\u001b[0mu_app\u001b[0m\u001b[0;34m[\u001b[0m\u001b[0;34m:\u001b[0m\u001b[0;34m,\u001b[0m\u001b[0;36m2\u001b[0m\u001b[0;34m]\u001b[0m\u001b[0;34m)\u001b[0m\u001b[0;34m\u001b[0m\u001b[0;34m\u001b[0m\u001b[0m\n\u001b[0;32m---> 11\u001b[0;31m \u001b[0mplt\u001b[0m\u001b[0;34m.\u001b[0m\u001b[0mplot\u001b[0m\u001b[0;34m(\u001b[0m\u001b[0mx\u001b[0m\u001b[0;34m,\u001b[0m\u001b[0mu_ex\u001b[0m\u001b[0;34m[\u001b[0m\u001b[0;34m:\u001b[0m\u001b[0;34m,\u001b[0m\u001b[0;36m2\u001b[0m\u001b[0;34m]\u001b[0m\u001b[0;34m,\u001b[0m\u001b[0;34m'--r'\u001b[0m\u001b[0;34m)\u001b[0m\u001b[0;34m\u001b[0m\u001b[0;34m\u001b[0m\u001b[0m\n\u001b[0m\u001b[1;32m     12\u001b[0m \u001b[0mplt\u001b[0m\u001b[0;34m.\u001b[0m\u001b[0mshow\u001b[0m\u001b[0;34m(\u001b[0m\u001b[0;34m)\u001b[0m\u001b[0;34m\u001b[0m\u001b[0;34m\u001b[0m\u001b[0m\n",
            "\u001b[0;31mNameError\u001b[0m: name 'u_ex' is not defined"
          ]
        },
        {
          "output_type": "display_data",
          "data": {
            "image/png": "[encoded data removed]",
            "text/plain": [
              "<Figure size 432x288 with 1 Axes>"
            ]
          },
          "metadata": {
            "tags": [],
            "needs_background": "light"
          }
        }
      ]
    },
    {
      "cell_type": "code",
      "metadata": {
        "id": "rh3Y42Y2X0Do",
        "outputId": "99905995-2e5f-4c7d-9fd5-a2bf1d8f170f"
      },
      "source": [
        "from matplotlib import animation, rc\n",
        "from IPython.display import HTML\n",
        "\n",
        "\n",
        "fig = plt.figure()\n",
        "ax = plt.axes(xlim=(0, 1), ylim=(-1, 1))\n",
        "line, = ax.plot([], [], lw=2)\n",
        "\n",
        "def init():\n",
        "    line.set_data([], [])\n",
        "    return line,\n",
        "# animation function.  This is called sequentially\n",
        "\n",
        "def animate(i):\n",
        "    x1 = x\n",
        "    y = u_app[:,i]\n",
        "    line.set_data(x1, y)\n",
        "    return line,\n",
        "# call the animator.  blit=True means only re-draw the parts that have changed.\n",
        "anim = animation.FuncAnimation(fig, animate, init_func=init,\n",
        "                               frames=len(u_app[0,:]), interval=20, blit=True)\n",
        "\n",
        "\n",
        "anim.save('basic_animation.mp4', fps=30, extra_args=['-vcodec', 'libx264'])\n",
        "\n",
        "HTML(anim.to_html5_video())"
      ],
      "execution_count": null,
      "outputs": [
        {
          "output_type": "error",
          "ename": "CalledProcessError",
          "evalue": "Command '['ffmpeg', '-f', 'rawvideo', '-vcodec', 'rawvideo', '-s', '432x288', '-pix_fmt', 'rgba', '-r', '50.0', '-loglevel', 'error', '-i', 'pipe:', '-vcodec', 'h264', '-pix_fmt', 'yuv420p', '-y', '/tmp/tmp6fnv_xr2/temp.m4v']' returned non-zero exit status 255.",
          "traceback": [
            "\u001b[0;31m---------------------------------------------------------------------------\u001b[0m",
            "\u001b[0;31mKeyboardInterrupt\u001b[0m                         Traceback (most recent call last)",
            "\u001b[0;32m/usr/lib/python3/dist-packages/matplotlib/animation.py\u001b[0m in \u001b[0;36msaving\u001b[0;34m(self, fig, outfile, dpi, *args, **kwargs)\u001b[0m\n\u001b[1;32m    229\u001b[0m         \u001b[0;32mtry\u001b[0m\u001b[0;34m:\u001b[0m\u001b[0;34m\u001b[0m\u001b[0;34m\u001b[0m\u001b[0m\n\u001b[0;32m--> 230\u001b[0;31m             \u001b[0;32myield\u001b[0m \u001b[0mself\u001b[0m\u001b[0;34m\u001b[0m\u001b[0;34m\u001b[0m\u001b[0m\n\u001b[0m\u001b[1;32m    231\u001b[0m         \u001b[0;32mfinally\u001b[0m\u001b[0;34m:\u001b[0m\u001b[0;34m\u001b[0m\u001b[0;34m\u001b[0m\u001b[0m\n",
            "\u001b[0;32m/usr/lib/python3/dist-packages/matplotlib/animation.py\u001b[0m in \u001b[0;36msave\u001b[0;34m(self, filename, writer, fps, dpi, codec, bitrate, extra_args, metadata, extra_anim, savefig_kwargs, progress_callback)\u001b[0m\n\u001b[1;32m   1151\u001b[0m                         \u001b[0;31m# TODO: See if turning off blit is really necessary\u001b[0m\u001b[0;34m\u001b[0m\u001b[0;34m\u001b[0m\u001b[0;34m\u001b[0m\u001b[0m\n\u001b[0;32m-> 1152\u001b[0;31m                         \u001b[0manim\u001b[0m\u001b[0;34m.\u001b[0m\u001b[0m_draw_next_frame\u001b[0m\u001b[0;34m(\u001b[0m\u001b[0md\u001b[0m\u001b[0;34m,\u001b[0m \u001b[0mblit\u001b[0m\u001b[0;34m=\u001b[0m\u001b[0;32mFalse\u001b[0m\u001b[0;34m)\u001b[0m\u001b[0;34m\u001b[0m\u001b[0;34m\u001b[0m\u001b[0m\n\u001b[0m\u001b[1;32m   1153\u001b[0m                         \u001b[0;32mif\u001b[0m \u001b[0mprogress_callback\u001b[0m \u001b[0;32mis\u001b[0m \u001b[0;32mnot\u001b[0m \u001b[0;32mNone\u001b[0m\u001b[0;34m:\u001b[0m\u001b[0;34m\u001b[0m\u001b[0;34m\u001b[0m\u001b[0m\n",
            "\u001b[0;32m/usr/lib/python3/dist-packages/matplotlib/animation.py\u001b[0m in \u001b[0;36m_draw_next_frame\u001b[0;34m(self, framedata, blit)\u001b[0m\n\u001b[1;32m   1192\u001b[0m         \u001b[0mself\u001b[0m\u001b[0;34m.\u001b[0m\u001b[0m_draw_frame\u001b[0m\u001b[0;34m(\u001b[0m\u001b[0mframedata\u001b[0m\u001b[0;34m)\u001b[0m\u001b[0;34m\u001b[0m\u001b[0;34m\u001b[0m\u001b[0m\n\u001b[0;32m-> 1193\u001b[0;31m         \u001b[0mself\u001b[0m\u001b[0;34m.\u001b[0m\u001b[0m_post_draw\u001b[0m\u001b[0;34m(\u001b[0m\u001b[0mframedata\u001b[0m\u001b[0;34m,\u001b[0m \u001b[0mblit\u001b[0m\u001b[0;34m)\u001b[0m\u001b[0;34m\u001b[0m\u001b[0;34m\u001b[0m\u001b[0m\n\u001b[0m\u001b[1;32m   1194\u001b[0m \u001b[0;34m\u001b[0m\u001b[0m\n",
            "\u001b[0;32m/usr/lib/python3/dist-packages/matplotlib/animation.py\u001b[0m in \u001b[0;36m_post_draw\u001b[0;34m(self, framedata, blit)\u001b[0m\n\u001b[1;32m   1217\u001b[0m         \u001b[0;32melse\u001b[0m\u001b[0;34m:\u001b[0m\u001b[0;34m\u001b[0m\u001b[0;34m\u001b[0m\u001b[0m\n\u001b[0;32m-> 1218\u001b[0;31m             \u001b[0mself\u001b[0m\u001b[0;34m.\u001b[0m\u001b[0m_fig\u001b[0m\u001b[0;34m.\u001b[0m\u001b[0mcanvas\u001b[0m\u001b[0;34m.\u001b[0m\u001b[0mdraw_idle\u001b[0m\u001b[0;34m(\u001b[0m\u001b[0;34m)\u001b[0m\u001b[0;34m\u001b[0m\u001b[0;34m\u001b[0m\u001b[0m\n\u001b[0m\u001b[1;32m   1219\u001b[0m \u001b[0;34m\u001b[0m\u001b[0m\n",
            "\u001b[0;32m/usr/lib/python3/dist-packages/matplotlib/backend_bases.py\u001b[0m in \u001b[0;36mdraw_idle\u001b[0;34m(self, *args, **kwargs)\u001b[0m\n\u001b[1;32m   1913\u001b[0m             \u001b[0;32mwith\u001b[0m \u001b[0mself\u001b[0m\u001b[0;34m.\u001b[0m\u001b[0m_idle_draw_cntx\u001b[0m\u001b[0;34m(\u001b[0m\u001b[0;34m)\u001b[0m\u001b[0;34m:\u001b[0m\u001b[0;34m\u001b[0m\u001b[0;34m\u001b[0m\u001b[0m\n\u001b[0;32m-> 1914\u001b[0;31m                 \u001b[0mself\u001b[0m\u001b[0;34m.\u001b[0m\u001b[0mdraw\u001b[0m\u001b[0;34m(\u001b[0m\u001b[0;34m*\u001b[0m\u001b[0margs\u001b[0m\u001b[0;34m,\u001b[0m \u001b[0;34m**\u001b[0m\u001b[0mkwargs\u001b[0m\u001b[0;34m)\u001b[0m\u001b[0;34m\u001b[0m\u001b[0;34m\u001b[0m\u001b[0m\n\u001b[0m\u001b[1;32m   1915\u001b[0m \u001b[0;34m\u001b[0m\u001b[0m\n",
            "\u001b[0;32m/usr/lib/python3/dist-packages/matplotlib/backends/backend_agg.py\u001b[0m in \u001b[0;36mdraw\u001b[0;34m(self)\u001b[0m\n\u001b[1;32m    387\u001b[0m         \u001b[0;32mwith\u001b[0m \u001b[0mRendererAgg\u001b[0m\u001b[0;34m.\u001b[0m\u001b[0mlock\u001b[0m\u001b[0;34m:\u001b[0m\u001b[0;34m\u001b[0m\u001b[0;34m\u001b[0m\u001b[0m\n\u001b[0;32m--> 388\u001b[0;31m             \u001b[0mself\u001b[0m\u001b[0;34m.\u001b[0m\u001b[0mfigure\u001b[0m\u001b[0;34m.\u001b[0m\u001b[0mdraw\u001b[0m\u001b[0;34m(\u001b[0m\u001b[0mself\u001b[0m\u001b[0;34m.\u001b[0m\u001b[0mrenderer\u001b[0m\u001b[0;34m)\u001b[0m\u001b[0;34m\u001b[0m\u001b[0;34m\u001b[0m\u001b[0m\n\u001b[0m\u001b[1;32m    389\u001b[0m             \u001b[0;31m# A GUI class may be need to update a window using this draw, so\u001b[0m\u001b[0;34m\u001b[0m\u001b[0;34m\u001b[0m\u001b[0;34m\u001b[0m\u001b[0m\n",
            "\u001b[0;32m/usr/lib/python3/dist-packages/matplotlib/artist.py\u001b[0m in \u001b[0;36mdraw_wrapper\u001b[0;34m(artist, renderer, *args, **kwargs)\u001b[0m\n\u001b[1;32m     37\u001b[0m \u001b[0;34m\u001b[0m\u001b[0m\n\u001b[0;32m---> 38\u001b[0;31m             \u001b[0;32mreturn\u001b[0m \u001b[0mdraw\u001b[0m\u001b[0;34m(\u001b[0m\u001b[0martist\u001b[0m\u001b[0;34m,\u001b[0m \u001b[0mrenderer\u001b[0m\u001b[0;34m,\u001b[0m \u001b[0;34m*\u001b[0m\u001b[0margs\u001b[0m\u001b[0;34m,\u001b[0m \u001b[0;34m**\u001b[0m\u001b[0mkwargs\u001b[0m\u001b[0;34m)\u001b[0m\u001b[0;34m\u001b[0m\u001b[0;34m\u001b[0m\u001b[0m\n\u001b[0m\u001b[1;32m     39\u001b[0m         \u001b[0;32mfinally\u001b[0m\u001b[0;34m:\u001b[0m\u001b[0;34m\u001b[0m\u001b[0;34m\u001b[0m\u001b[0m\n",
            "\u001b[0;32m/usr/lib/python3/dist-packages/matplotlib/figure.py\u001b[0m in \u001b[0;36mdraw\u001b[0;34m(self, renderer)\u001b[0m\n\u001b[1;32m   1707\u001b[0m             \u001b[0mself\u001b[0m\u001b[0;34m.\u001b[0m\u001b[0mpatch\u001b[0m\u001b[0;34m.\u001b[0m\u001b[0mdraw\u001b[0m\u001b[0;34m(\u001b[0m\u001b[0mrenderer\u001b[0m\u001b[0;34m)\u001b[0m\u001b[0;34m\u001b[0m\u001b[0;34m\u001b[0m\u001b[0m\n\u001b[0;32m-> 1708\u001b[0;31m             mimage._draw_list_compositing_images(\n\u001b[0m\u001b[1;32m   1709\u001b[0m                 renderer, self, artists, self.suppressComposite)\n",
            "\u001b[0;32m/usr/lib/python3/dist-packages/matplotlib/image.py\u001b[0m in \u001b[0;36m_draw_list_compositing_images\u001b[0;34m(renderer, parent, artists, suppress_composite)\u001b[0m\n\u001b[1;32m    134\u001b[0m         \u001b[0;32mfor\u001b[0m \u001b[0ma\u001b[0m \u001b[0;32min\u001b[0m \u001b[0martists\u001b[0m\u001b[0;34m:\u001b[0m\u001b[0;34m\u001b[0m\u001b[0;34m\u001b[0m\u001b[0m\n\u001b[0;32m--> 135\u001b[0;31m             \u001b[0ma\u001b[0m\u001b[0;34m.\u001b[0m\u001b[0mdraw\u001b[0m\u001b[0;34m(\u001b[0m\u001b[0mrenderer\u001b[0m\u001b[0;34m)\u001b[0m\u001b[0;34m\u001b[0m\u001b[0;34m\u001b[0m\u001b[0m\n\u001b[0m\u001b[1;32m    136\u001b[0m     \u001b[0;32melse\u001b[0m\u001b[0;34m:\u001b[0m\u001b[0;34m\u001b[0m\u001b[0;34m\u001b[0m\u001b[0m\n",
            "\u001b[0;32m/usr/lib/python3/dist-packages/matplotlib/artist.py\u001b[0m in \u001b[0;36mdraw_wrapper\u001b[0;34m(artist, renderer, *args, **kwargs)\u001b[0m\n\u001b[1;32m     37\u001b[0m \u001b[0;34m\u001b[0m\u001b[0m\n\u001b[0;32m---> 38\u001b[0;31m             \u001b[0;32mreturn\u001b[0m \u001b[0mdraw\u001b[0m\u001b[0;34m(\u001b[0m\u001b[0martist\u001b[0m\u001b[0;34m,\u001b[0m \u001b[0mrenderer\u001b[0m\u001b[0;34m,\u001b[0m \u001b[0;34m*\u001b[0m\u001b[0margs\u001b[0m\u001b[0;34m,\u001b[0m \u001b[0;34m**\u001b[0m\u001b[0mkwargs\u001b[0m\u001b[0;34m)\u001b[0m\u001b[0;34m\u001b[0m\u001b[0;34m\u001b[0m\u001b[0m\n\u001b[0m\u001b[1;32m     39\u001b[0m         \u001b[0;32mfinally\u001b[0m\u001b[0;34m:\u001b[0m\u001b[0;34m\u001b[0m\u001b[0;34m\u001b[0m\u001b[0m\n",
            "\u001b[0;32m/usr/lib/python3/dist-packages/matplotlib/axes/_base.py\u001b[0m in \u001b[0;36mdraw\u001b[0;34m(self, renderer, inframe)\u001b[0m\n\u001b[1;32m   2646\u001b[0m \u001b[0;34m\u001b[0m\u001b[0m\n\u001b[0;32m-> 2647\u001b[0;31m         \u001b[0mmimage\u001b[0m\u001b[0;34m.\u001b[0m\u001b[0m_draw_list_compositing_images\u001b[0m\u001b[0;34m(\u001b[0m\u001b[0mrenderer\u001b[0m\u001b[0;34m,\u001b[0m \u001b[0mself\u001b[0m\u001b[0;34m,\u001b[0m \u001b[0martists\u001b[0m\u001b[0;34m)\u001b[0m\u001b[0;34m\u001b[0m\u001b[0;34m\u001b[0m\u001b[0m\n\u001b[0m\u001b[1;32m   2648\u001b[0m \u001b[0;34m\u001b[0m\u001b[0m\n",
            "\u001b[0;32m/usr/lib/python3/dist-packages/matplotlib/image.py\u001b[0m in \u001b[0;36m_draw_list_compositing_images\u001b[0;34m(renderer, parent, artists, suppress_composite)\u001b[0m\n\u001b[1;32m    134\u001b[0m         \u001b[0;32mfor\u001b[0m \u001b[0ma\u001b[0m \u001b[0;32min\u001b[0m \u001b[0martists\u001b[0m\u001b[0;34m:\u001b[0m\u001b[0;34m\u001b[0m\u001b[0;34m\u001b[0m\u001b[0m\n\u001b[0;32m--> 135\u001b[0;31m             \u001b[0ma\u001b[0m\u001b[0;34m.\u001b[0m\u001b[0mdraw\u001b[0m\u001b[0;34m(\u001b[0m\u001b[0mrenderer\u001b[0m\u001b[0;34m)\u001b[0m\u001b[0;34m\u001b[0m\u001b[0;34m\u001b[0m\u001b[0m\n\u001b[0m\u001b[1;32m    136\u001b[0m     \u001b[0;32melse\u001b[0m\u001b[0;34m:\u001b[0m\u001b[0;34m\u001b[0m\u001b[0;34m\u001b[0m\u001b[0m\n",
            "\u001b[0;32m/usr/lib/python3/dist-packages/matplotlib/artist.py\u001b[0m in \u001b[0;36mdraw_wrapper\u001b[0;34m(artist, renderer, *args, **kwargs)\u001b[0m\n\u001b[1;32m     37\u001b[0m \u001b[0;34m\u001b[0m\u001b[0m\n\u001b[0;32m---> 38\u001b[0;31m             \u001b[0;32mreturn\u001b[0m \u001b[0mdraw\u001b[0m\u001b[0;34m(\u001b[0m\u001b[0martist\u001b[0m\u001b[0;34m,\u001b[0m \u001b[0mrenderer\u001b[0m\u001b[0;34m,\u001b[0m \u001b[0;34m*\u001b[0m\u001b[0margs\u001b[0m\u001b[0;34m,\u001b[0m \u001b[0;34m**\u001b[0m\u001b[0mkwargs\u001b[0m\u001b[0;34m)\u001b[0m\u001b[0;34m\u001b[0m\u001b[0;34m\u001b[0m\u001b[0m\n\u001b[0m\u001b[1;32m     39\u001b[0m         \u001b[0;32mfinally\u001b[0m\u001b[0;34m:\u001b[0m\u001b[0;34m\u001b[0m\u001b[0;34m\u001b[0m\u001b[0m\n",
            "\u001b[0;32m/usr/lib/python3/dist-packages/matplotlib/axis.py\u001b[0m in \u001b[0;36mdraw\u001b[0;34m(self, renderer, *args, **kwargs)\u001b[0m\n\u001b[1;32m   1202\u001b[0m \u001b[0;34m\u001b[0m\u001b[0m\n\u001b[0;32m-> 1203\u001b[0;31m         \u001b[0mticks_to_draw\u001b[0m \u001b[0;34m=\u001b[0m \u001b[0mself\u001b[0m\u001b[0;34m.\u001b[0m\u001b[0m_update_ticks\u001b[0m\u001b[0;34m(\u001b[0m\u001b[0;34m)\u001b[0m\u001b[0;34m\u001b[0m\u001b[0;34m\u001b[0m\u001b[0m\n\u001b[0m\u001b[1;32m   1204\u001b[0m         ticklabelBoxes, ticklabelBoxes2 = self._get_tick_bboxes(ticks_to_draw,\n",
            "\u001b[0;32m/usr/lib/python3/dist-packages/matplotlib/axis.py\u001b[0m in \u001b[0;36m_update_ticks\u001b[0;34m(self)\u001b[0m\n\u001b[1;32m   1083\u001b[0m         \u001b[0;32mfor\u001b[0m \u001b[0mtick\u001b[0m\u001b[0;34m,\u001b[0m \u001b[0mloc\u001b[0m\u001b[0;34m,\u001b[0m \u001b[0mlabel\u001b[0m \u001b[0;32min\u001b[0m \u001b[0mzip\u001b[0m\u001b[0;34m(\u001b[0m\u001b[0mmajor_ticks\u001b[0m\u001b[0;34m,\u001b[0m \u001b[0mmajor_locs\u001b[0m\u001b[0;34m,\u001b[0m \u001b[0mmajor_labels\u001b[0m\u001b[0;34m)\u001b[0m\u001b[0;34m:\u001b[0m\u001b[0;34m\u001b[0m\u001b[0;34m\u001b[0m\u001b[0m\n\u001b[0;32m-> 1084\u001b[0;31m             \u001b[0mtick\u001b[0m\u001b[0;34m.\u001b[0m\u001b[0mupdate_position\u001b[0m\u001b[0;34m(\u001b[0m\u001b[0mloc\u001b[0m\u001b[0;34m)\u001b[0m\u001b[0;34m\u001b[0m\u001b[0;34m\u001b[0m\u001b[0m\n\u001b[0m\u001b[1;32m   1085\u001b[0m             \u001b[0mtick\u001b[0m\u001b[0;34m.\u001b[0m\u001b[0mset_label1\u001b[0m\u001b[0;34m(\u001b[0m\u001b[0mlabel\u001b[0m\u001b[0;34m)\u001b[0m\u001b[0;34m\u001b[0m\u001b[0;34m\u001b[0m\u001b[0m\n",
            "\u001b[0;32m/usr/lib/python3/dist-packages/matplotlib/axis.py\u001b[0m in \u001b[0;36mupdate_position\u001b[0;34m(self, loc)\u001b[0m\n\u001b[1;32m    503\u001b[0m         \u001b[0mself\u001b[0m\u001b[0;34m.\u001b[0m\u001b[0mtick2line\u001b[0m\u001b[0;34m.\u001b[0m\u001b[0mset_xdata\u001b[0m\u001b[0;34m(\u001b[0m\u001b[0;34m(\u001b[0m\u001b[0mloc\u001b[0m\u001b[0;34m,\u001b[0m\u001b[0;34m)\u001b[0m\u001b[0;34m)\u001b[0m\u001b[0;34m\u001b[0m\u001b[0;34m\u001b[0m\u001b[0m\n\u001b[0;32m--> 504\u001b[0;31m         \u001b[0mself\u001b[0m\u001b[0;34m.\u001b[0m\u001b[0mgridline\u001b[0m\u001b[0;34m.\u001b[0m\u001b[0mset_xdata\u001b[0m\u001b[0;34m(\u001b[0m\u001b[0;34m(\u001b[0m\u001b[0mloc\u001b[0m\u001b[0;34m,\u001b[0m\u001b[0;34m)\u001b[0m\u001b[0;34m)\u001b[0m\u001b[0;34m\u001b[0m\u001b[0;34m\u001b[0m\u001b[0m\n\u001b[0m\u001b[1;32m    505\u001b[0m         \u001b[0mself\u001b[0m\u001b[0;34m.\u001b[0m\u001b[0mlabel1\u001b[0m\u001b[0;34m.\u001b[0m\u001b[0mset_x\u001b[0m\u001b[0;34m(\u001b[0m\u001b[0mloc\u001b[0m\u001b[0;34m)\u001b[0m\u001b[0;34m\u001b[0m\u001b[0;34m\u001b[0m\u001b[0m\n",
            "\u001b[0;32m/usr/lib/python3/dist-packages/matplotlib/lines.py\u001b[0m in \u001b[0;36mset_xdata\u001b[0;34m(self, x)\u001b[0m\n\u001b[1;32m   1292\u001b[0m         \"\"\"\n\u001b[0;32m-> 1293\u001b[0;31m         \u001b[0mself\u001b[0m\u001b[0;34m.\u001b[0m\u001b[0m_xorig\u001b[0m \u001b[0;34m=\u001b[0m \u001b[0mx\u001b[0m\u001b[0;34m\u001b[0m\u001b[0;34m\u001b[0m\u001b[0m\n\u001b[0m\u001b[1;32m   1294\u001b[0m         \u001b[0mself\u001b[0m\u001b[0;34m.\u001b[0m\u001b[0m_invalidx\u001b[0m \u001b[0;34m=\u001b[0m \u001b[0;32mTrue\u001b[0m\u001b[0;34m\u001b[0m\u001b[0;34m\u001b[0m\u001b[0m\n",
            "\u001b[0;31mKeyboardInterrupt\u001b[0m: ",
            "\nDuring handling of the above exception, another exception occurred:\n",
            "\u001b[0;31mCalledProcessError\u001b[0m                        Traceback (most recent call last)",
            "\u001b[0;32m<ipython-input-6-54b61f2f2f97>\u001b[0m in \u001b[0;36m<module>\u001b[0;34m\u001b[0m\n\u001b[1;32m     24\u001b[0m \u001b[0manim\u001b[0m\u001b[0;34m.\u001b[0m\u001b[0msave\u001b[0m\u001b[0;34m(\u001b[0m\u001b[0;34m'basic_animation.mp4'\u001b[0m\u001b[0;34m,\u001b[0m \u001b[0mfps\u001b[0m\u001b[0;34m=\u001b[0m\u001b[0;36m30\u001b[0m\u001b[0;34m,\u001b[0m \u001b[0mextra_args\u001b[0m\u001b[0;34m=\u001b[0m\u001b[0;34m[\u001b[0m\u001b[0;34m'-vcodec'\u001b[0m\u001b[0;34m,\u001b[0m \u001b[0;34m'libx264'\u001b[0m\u001b[0;34m]\u001b[0m\u001b[0;34m)\u001b[0m\u001b[0;34m\u001b[0m\u001b[0;34m\u001b[0m\u001b[0m\n\u001b[1;32m     25\u001b[0m \u001b[0;34m\u001b[0m\u001b[0m\n\u001b[0;32m---> 26\u001b[0;31m \u001b[0mHTML\u001b[0m\u001b[0;34m(\u001b[0m\u001b[0manim\u001b[0m\u001b[0;34m.\u001b[0m\u001b[0mto_html5_video\u001b[0m\u001b[0;34m(\u001b[0m\u001b[0;34m)\u001b[0m\u001b[0;34m)\u001b[0m\u001b[0;34m\u001b[0m\u001b[0;34m\u001b[0m\u001b[0m\n\u001b[0m",
            "\u001b[0;32m/usr/lib/python3/dist-packages/matplotlib/animation.py\u001b[0m in \u001b[0;36mto_html5_video\u001b[0;34m(self, embed_limit)\u001b[0m\n\u001b[1;32m   1328\u001b[0m                                 \u001b[0mbitrate\u001b[0m\u001b[0;34m=\u001b[0m\u001b[0mrcParams\u001b[0m\u001b[0;34m[\u001b[0m\u001b[0;34m'animation.bitrate'\u001b[0m\u001b[0;34m]\u001b[0m\u001b[0;34m,\u001b[0m\u001b[0;34m\u001b[0m\u001b[0;34m\u001b[0m\u001b[0m\n\u001b[1;32m   1329\u001b[0m                                 fps=1000. / self._interval)\n\u001b[0;32m-> 1330\u001b[0;31m                 \u001b[0mself\u001b[0m\u001b[0;34m.\u001b[0m\u001b[0msave\u001b[0m\u001b[0;34m(\u001b[0m\u001b[0mstr\u001b[0m\u001b[0;34m(\u001b[0m\u001b[0mpath\u001b[0m\u001b[0;34m)\u001b[0m\u001b[0;34m,\u001b[0m \u001b[0mwriter\u001b[0m\u001b[0;34m=\u001b[0m\u001b[0mwriter\u001b[0m\u001b[0;34m)\u001b[0m\u001b[0;34m\u001b[0m\u001b[0;34m\u001b[0m\u001b[0m\n\u001b[0m\u001b[1;32m   1331\u001b[0m                 \u001b[0;31m# Now open and base64 encode.\u001b[0m\u001b[0;34m\u001b[0m\u001b[0;34m\u001b[0m\u001b[0;34m\u001b[0m\u001b[0m\n\u001b[1;32m   1332\u001b[0m                 \u001b[0mvid64\u001b[0m \u001b[0;34m=\u001b[0m \u001b[0mbase64\u001b[0m\u001b[0;34m.\u001b[0m\u001b[0mencodebytes\u001b[0m\u001b[0;34m(\u001b[0m\u001b[0mpath\u001b[0m\u001b[0;34m.\u001b[0m\u001b[0mread_bytes\u001b[0m\u001b[0;34m(\u001b[0m\u001b[0;34m)\u001b[0m\u001b[0;34m)\u001b[0m\u001b[0;34m\u001b[0m\u001b[0;34m\u001b[0m\u001b[0m\n",
            "\u001b[0;32m/usr/lib/python3/dist-packages/matplotlib/animation.py\u001b[0m in \u001b[0;36msave\u001b[0;34m(self, filename, writer, fps, dpi, codec, bitrate, extra_args, metadata, extra_anim, savefig_kwargs, progress_callback)\u001b[0m\n\u001b[1;32m   1154\u001b[0m                             \u001b[0mprogress_callback\u001b[0m\u001b[0;34m(\u001b[0m\u001b[0mframe_number\u001b[0m\u001b[0;34m,\u001b[0m \u001b[0mtotal_frames\u001b[0m\u001b[0;34m)\u001b[0m\u001b[0;34m\u001b[0m\u001b[0;34m\u001b[0m\u001b[0m\n\u001b[1;32m   1155\u001b[0m                             \u001b[0mframe_number\u001b[0m \u001b[0;34m+=\u001b[0m \u001b[0;36m1\u001b[0m\u001b[0;34m\u001b[0m\u001b[0;34m\u001b[0m\u001b[0m\n\u001b[0;32m-> 1156\u001b[0;31m                     \u001b[0mwriter\u001b[0m\u001b[0;34m.\u001b[0m\u001b[0mgrab_frame\u001b[0m\u001b[0;34m(\u001b[0m\u001b[0;34m**\u001b[0m\u001b[0msavefig_kwargs\u001b[0m\u001b[0;34m)\u001b[0m\u001b[0;34m\u001b[0m\u001b[0;34m\u001b[0m\u001b[0m\n\u001b[0m\u001b[1;32m   1157\u001b[0m \u001b[0;34m\u001b[0m\u001b[0m\n\u001b[1;32m   1158\u001b[0m         \u001b[0;31m# Reconnect signal for first draw if necessary\u001b[0m\u001b[0;34m\u001b[0m\u001b[0;34m\u001b[0m\u001b[0;34m\u001b[0m\u001b[0m\n",
            "\u001b[0;32m/usr/lib/python3.8/contextlib.py\u001b[0m in \u001b[0;36m__exit__\u001b[0;34m(self, type, value, traceback)\u001b[0m\n\u001b[1;32m    129\u001b[0m                 \u001b[0mvalue\u001b[0m \u001b[0;34m=\u001b[0m \u001b[0mtype\u001b[0m\u001b[0;34m(\u001b[0m\u001b[0;34m)\u001b[0m\u001b[0;34m\u001b[0m\u001b[0;34m\u001b[0m\u001b[0m\n\u001b[1;32m    130\u001b[0m             \u001b[0;32mtry\u001b[0m\u001b[0;34m:\u001b[0m\u001b[0;34m\u001b[0m\u001b[0;34m\u001b[0m\u001b[0m\n\u001b[0;32m--> 131\u001b[0;31m                 \u001b[0mself\u001b[0m\u001b[0;34m.\u001b[0m\u001b[0mgen\u001b[0m\u001b[0;34m.\u001b[0m\u001b[0mthrow\u001b[0m\u001b[0;34m(\u001b[0m\u001b[0mtype\u001b[0m\u001b[0;34m,\u001b[0m \u001b[0mvalue\u001b[0m\u001b[0;34m,\u001b[0m \u001b[0mtraceback\u001b[0m\u001b[0;34m)\u001b[0m\u001b[0;34m\u001b[0m\u001b[0;34m\u001b[0m\u001b[0m\n\u001b[0m\u001b[1;32m    132\u001b[0m             \u001b[0;32mexcept\u001b[0m \u001b[0mStopIteration\u001b[0m \u001b[0;32mas\u001b[0m \u001b[0mexc\u001b[0m\u001b[0;34m:\u001b[0m\u001b[0;34m\u001b[0m\u001b[0;34m\u001b[0m\u001b[0m\n\u001b[1;32m    133\u001b[0m                 \u001b[0;31m# Suppress StopIteration *unless* it's the same exception that\u001b[0m\u001b[0;34m\u001b[0m\u001b[0;34m\u001b[0m\u001b[0;34m\u001b[0m\u001b[0m\n",
            "\u001b[0;32m/usr/lib/python3/dist-packages/matplotlib/animation.py\u001b[0m in \u001b[0;36msaving\u001b[0;34m(self, fig, outfile, dpi, *args, **kwargs)\u001b[0m\n\u001b[1;32m    230\u001b[0m             \u001b[0;32myield\u001b[0m \u001b[0mself\u001b[0m\u001b[0;34m\u001b[0m\u001b[0;34m\u001b[0m\u001b[0m\n\u001b[1;32m    231\u001b[0m         \u001b[0;32mfinally\u001b[0m\u001b[0;34m:\u001b[0m\u001b[0;34m\u001b[0m\u001b[0;34m\u001b[0m\u001b[0m\n\u001b[0;32m--> 232\u001b[0;31m             \u001b[0mself\u001b[0m\u001b[0;34m.\u001b[0m\u001b[0mfinish\u001b[0m\u001b[0;34m(\u001b[0m\u001b[0;34m)\u001b[0m\u001b[0;34m\u001b[0m\u001b[0;34m\u001b[0m\u001b[0m\n\u001b[0m\u001b[1;32m    233\u001b[0m \u001b[0;34m\u001b[0m\u001b[0m\n\u001b[1;32m    234\u001b[0m \u001b[0;34m\u001b[0m\u001b[0m\n",
            "\u001b[0;32m/usr/lib/python3/dist-packages/matplotlib/animation.py\u001b[0m in \u001b[0;36mfinish\u001b[0;34m(self)\u001b[0m\n\u001b[1;32m    365\u001b[0m     \u001b[0;32mdef\u001b[0m \u001b[0mfinish\u001b[0m\u001b[0;34m(\u001b[0m\u001b[0mself\u001b[0m\u001b[0;34m)\u001b[0m\u001b[0;34m:\u001b[0m\u001b[0;34m\u001b[0m\u001b[0;34m\u001b[0m\u001b[0m\n\u001b[1;32m    366\u001b[0m         \u001b[0;34m'''Finish any processing for writing the movie.'''\u001b[0m\u001b[0;34m\u001b[0m\u001b[0;34m\u001b[0m\u001b[0m\n\u001b[0;32m--> 367\u001b[0;31m         \u001b[0mself\u001b[0m\u001b[0;34m.\u001b[0m\u001b[0mcleanup\u001b[0m\u001b[0;34m(\u001b[0m\u001b[0;34m)\u001b[0m\u001b[0;34m\u001b[0m\u001b[0;34m\u001b[0m\u001b[0m\n\u001b[0m\u001b[1;32m    368\u001b[0m \u001b[0;34m\u001b[0m\u001b[0m\n\u001b[1;32m    369\u001b[0m     \u001b[0;32mdef\u001b[0m \u001b[0mgrab_frame\u001b[0m\u001b[0;34m(\u001b[0m\u001b[0mself\u001b[0m\u001b[0;34m,\u001b[0m \u001b[0;34m**\u001b[0m\u001b[0msavefig_kwargs\u001b[0m\u001b[0;34m)\u001b[0m\u001b[0;34m:\u001b[0m\u001b[0;34m\u001b[0m\u001b[0;34m\u001b[0m\u001b[0m\n",
            "\u001b[0;32m/usr/lib/python3/dist-packages/matplotlib/animation.py\u001b[0m in \u001b[0;36mcleanup\u001b[0;34m(self)\u001b[0m\n\u001b[1;32m    408\u001b[0m                 \"MovieWriter stderr:\\n%s\", err)\n\u001b[1;32m    409\u001b[0m         \u001b[0;32mif\u001b[0m \u001b[0mself\u001b[0m\u001b[0;34m.\u001b[0m\u001b[0m_proc\u001b[0m\u001b[0;34m.\u001b[0m\u001b[0mreturncode\u001b[0m\u001b[0;34m:\u001b[0m\u001b[0;34m\u001b[0m\u001b[0;34m\u001b[0m\u001b[0m\n\u001b[0;32m--> 410\u001b[0;31m             raise subprocess.CalledProcessError(\n\u001b[0m\u001b[1;32m    411\u001b[0m                 self._proc.returncode, self._proc.args, out, err)\n\u001b[1;32m    412\u001b[0m \u001b[0;34m\u001b[0m\u001b[0m\n",
            "\u001b[0;31mCalledProcessError\u001b[0m: Command '['ffmpeg', '-f', 'rawvideo', '-vcodec', 'rawvideo', '-s', '432x288', '-pix_fmt', 'rgba', '-r', '50.0', '-loglevel', 'error', '-i', 'pipe:', '-vcodec', 'h264', '-pix_fmt', 'yuv420p', '-y', '/tmp/tmp6fnv_xr2/temp.m4v']' returned non-zero exit status 255."
          ]
        },
        {
          "output_type": "display_data",
          "data": {
            "image/png": "[encoded data removed]",
            "text/plain": [
              "<Figure size 432x288 with 1 Axes>"
            ]
          },
          "metadata": {
            "tags": [],
            "needs_background": "light"
          }
        }
      ]
    },
    {
      "cell_type": "code",
      "metadata": {
        "id": "bDbSh0jHX0Dp",
        "outputId": "5dfdad49-a77c-4fd4-8d8e-219d5cc443a1"
      },
      "source": [
        "import numpy as np\n",
        "from scipy import sparse\n",
        "import matplotlib.pyplot as plt\n",
        "\n",
        "\n",
        "J = 10\n",
        "dx = 1.0/J\n",
        "x = np.linspace(0, 1, J+1).transpose()\n",
        "\n",
        "b = np.zeros((J+1, 1)).ravel()\n",
        "b[1:J] = 12*dx**2*(x[1:J]**2)\n",
        "\n",
        "main_diag = -2*np.ones((J+1, 1)).ravel()\n",
        "off_diag = 1*np.ones((J, 1)).ravel()\n",
        "\n",
        "a = main_diag.shape[0]\n",
        "\n",
        "diagonals = [main_diag, off_diag, off_diag]\n",
        "\n",
        "A = sparse.diags(diagonals, [0,-1,1], shape=(a,a)).toarray()\n",
        "A[0, 0] = 1\n",
        "A[0, 1] = 0\n",
        "A[J, J] = 1\n",
        "A[J, J-1] = 0\n",
        "\n",
        "y = np.linalg.solve(A,b)\n",
        "\n",
        "xf = np.linspace(0,1,1001)\n",
        "yexact = xf**4 - xf\n",
        "\n",
        "plt.plot(x, y, 'o')\n",
        "plt.plot(xf, yexact)\n",
        "plt.legend(['Finite difference', 'Exact solution'])\n",
        "plt.tight_layout()\n",
        "plt.show()"
      ],
      "execution_count": null,
      "outputs": [
        {
          "output_type": "display_data",
          "data": {
            "image/png": "[encoded data removed]",
            "text/plain": [
              "<Figure size 432x288 with 1 Axes>"
            ]
          },
          "metadata": {
            "tags": [],
            "needs_background": "light"
          }
        }
      ]
    },
    {
      "cell_type": "code",
      "metadata": {
        "id": "nwPvt58_X0Dp",
        "outputId": "c3c07eaf-7325-4ab4-b232-19e834c6d202"
      },
      "source": [
        ""
      ],
      "execution_count": null,
      "outputs": [
        {
          "output_type": "display_data",
          "data": {
            "image/png": "[encoded data removed]",
            "text/plain": [
              "<Figure size 432x288 with 1 Axes>"
            ]
          },
          "metadata": {
            "tags": [],
            "needs_background": "light"
          }
        },
        {
          "output_type": "display_data",
          "data": {
            "image/png": "[encoded data removed]",
            "text/plain": [
              "<Figure size 432x288 with 1 Axes>"
            ]
          },
          "metadata": {
            "tags": [],
            "needs_background": "light"
          }
        }
      ]
    },
    {
      "cell_type": "code",
      "metadata": {
        "id": "NeKDvkd1X0Dp"
      },
      "source": [
        ""
      ],
      "execution_count": null,
      "outputs": []
    }
  ]
}