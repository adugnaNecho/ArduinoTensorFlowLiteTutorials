{
  "nbformat": 4,
  "nbformat_minor": 0,
  "metadata": {
    "kernelspec": {
      "display_name": "Python 3",
      "language": "python",
      "name": "python3"
    },
    "language_info": {
      "codemirror_mode": {
        "name": "ipython",
        "version": 3
      },
      "file_extension": ".py",
      "mimetype": "text/x-python",
      "name": "python",
      "nbconvert_exporter": "python",
      "pygments_lexer": "ipython3",
      "version": "3.8.5"
    },
    "colab": {
      "name": "FMG.ipynb",
      "provenance": [],
      "include_colab_link": true
    }
  },
  "cells": [
    {
      "cell_type": "markdown",
      "metadata": {
        "id": "view-in-github",
        "colab_type": "text"
      },
      "source": [
        "<a href=\"https://colab.research.google.com/github/adugnaNecho/ArduinoTensorFlowLiteTutorials/blob/master/FMG.ipynb\" target=\"_parent\"><img src=\"https://colab.research.google.com/assets/colab-badge.svg\" alt=\"Open In Colab\"/></a>"
      ]
    },
    {
      "cell_type": "markdown",
      "metadata": {
        "id": "QJrm8ia6alIx"
      },
      "source": [
        "* The object of the project is to predict the direction (up or down) of movement of a stock index (S&P500) over a single trading day period, given returns from the previous 10 year period.\n",
        "* Data is provided in a csv file and partially pre-processed. It is for a period of about 10 years, 2005-20015, but \n",
        "the dates are not given.\n",
        "* The stocks and indices are in the form of daily log_returns. The three currencies are in the form \n",
        "of daily changes.\n",
        "* Find out what the ticker symbols represent.\n",
        "* The data are from successive trading days starting from the earliest date.\n",
        "* You should use both ANNs and SVMs and compare.\n",
        "* DO NOT EXPECT GOOD OR EVEN REASONABLY GOOD RESULTS - this is a very difficult problem to do well.\n",
        "* Evaluate the success rates using whatever metrics you can and comment on them.\n",
        "* Use numpy and pandas for the data. (pd.read_csv). You might find the numpy method 'np.where(condition,-1,1)' useful.\n",
        "* The data file has been uploaded to the website (SPPrediction_Project.csv)."
      ]
    },
    {
      "cell_type": "code",
      "metadata": {
        "id": "RlxxPGF-alIz"
      },
      "source": [
        "import warnings\n",
        "warnings.filterwarnings('ignore')\n",
        "\n",
        "import numpy as np\n",
        "from pandas import DataFrame, read_csv "
      ],
      "execution_count": null,
      "outputs": []
    },
    {
      "cell_type": "markdown",
      "metadata": {
        "id": "voE6W9pRalIz"
      },
      "source": [
        "  "
      ]
    },
    {
      "cell_type": "markdown",
      "metadata": {
        "id": "ewBry-DpalI0"
      },
      "source": [
        "## Importing data (SPPrediction_Project.csv)"
      ]
    },
    {
      "cell_type": "code",
      "metadata": {
        "id": "dxWYx-kIalI0",
        "outputId": "3d4ff93f-430d-41fd-e8c4-46303a8679b1"
      },
      "source": [
        "d = read_csv('SPPrediction_Project.csv', index_col=0)    #Assigning the csv file\n",
        "d.head()"
      ],
      "execution_count": null,
      "outputs": [
        {
          "output_type": "execute_result",
          "data": {
            "text/html": [
              "<div>\n",
              "<style scoped>\n",
              "    .dataframe tbody tr th:only-of-type {\n",
              "        vertical-align: middle;\n",
              "    }\n",
              "\n",
              "    .dataframe tbody tr th {\n",
              "        vertical-align: top;\n",
              "    }\n",
              "\n",
              "    .dataframe thead th {\n",
              "        text-align: right;\n",
              "    }\n",
              "</style>\n",
              "<table border=\"1\" class=\"dataframe\">\n",
              "  <thead>\n",
              "    <tr style=\"text-align: right;\">\n",
              "      <th></th>\n",
              "      <th>GSPC</th>\n",
              "      <th>XOM</th>\n",
              "      <th>GE</th>\n",
              "      <th>MSFT</th>\n",
              "      <th>PG</th>\n",
              "      <th>JNJ</th>\n",
              "      <th>DJI</th>\n",
              "      <th>IXIC</th>\n",
              "      <th>HIS</th>\n",
              "      <th>FCHI</th>\n",
              "      <th>FTSE</th>\n",
              "      <th>GDAXI</th>\n",
              "      <th>JPY</th>\n",
              "      <th>GBP</th>\n",
              "      <th>CAD</th>\n",
              "    </tr>\n",
              "  </thead>\n",
              "  <tbody>\n",
              "    <tr>\n",
              "      <th>1</th>\n",
              "      <td>0.013491</td>\n",
              "      <td>-0.008643</td>\n",
              "      <td>0.020911</td>\n",
              "      <td>0.038266</td>\n",
              "      <td>0.017212</td>\n",
              "      <td>0.003772</td>\n",
              "      <td>0.013725</td>\n",
              "      <td>0.019385</td>\n",
              "      <td>0.000000</td>\n",
              "      <td>0.012764</td>\n",
              "      <td>0.013314</td>\n",
              "      <td>0.000295</td>\n",
              "      <td>-0.87</td>\n",
              "      <td>0.000474</td>\n",
              "      <td>-0.0120</td>\n",
              "    </tr>\n",
              "    <tr>\n",
              "      <th>2</th>\n",
              "      <td>0.021899</td>\n",
              "      <td>0.039154</td>\n",
              "      <td>0.019289</td>\n",
              "      <td>0.031909</td>\n",
              "      <td>0.011537</td>\n",
              "      <td>0.011976</td>\n",
              "      <td>0.024797</td>\n",
              "      <td>0.030443</td>\n",
              "      <td>0.011656</td>\n",
              "      <td>0.022139</td>\n",
              "      <td>0.031488</td>\n",
              "      <td>0.035472</td>\n",
              "      <td>1.84</td>\n",
              "      <td>0.000110</td>\n",
              "      <td>-0.0044</td>\n",
              "    </tr>\n",
              "    <tr>\n",
              "      <th>3</th>\n",
              "      <td>-0.002053</td>\n",
              "      <td>-0.001671</td>\n",
              "      <td>-0.016858</td>\n",
              "      <td>-0.004971</td>\n",
              "      <td>-0.019074</td>\n",
              "      <td>-0.009720</td>\n",
              "      <td>-0.000756</td>\n",
              "      <td>0.002251</td>\n",
              "      <td>0.037655</td>\n",
              "      <td>-0.015049</td>\n",
              "      <td>-0.007771</td>\n",
              "      <td>-0.022368</td>\n",
              "      <td>-2.07</td>\n",
              "      <td>0.001392</td>\n",
              "      <td>0.0023</td>\n",
              "    </tr>\n",
              "    <tr>\n",
              "      <th>4</th>\n",
              "      <td>0.004212</td>\n",
              "      <td>-0.005870</td>\n",
              "      <td>-0.005479</td>\n",
              "      <td>-0.004161</td>\n",
              "      <td>-0.018744</td>\n",
              "      <td>0.000751</td>\n",
              "      <td>0.011007</td>\n",
              "      <td>0.007845</td>\n",
              "      <td>0.036390</td>\n",
              "      <td>0.003480</td>\n",
              "      <td>0.007511</td>\n",
              "      <td>0.012996</td>\n",
              "      <td>-0.05</td>\n",
              "      <td>0.002247</td>\n",
              "      <td>-0.0003</td>\n",
              "    </tr>\n",
              "    <tr>\n",
              "      <th>5</th>\n",
              "      <td>-0.008830</td>\n",
              "      <td>-0.042084</td>\n",
              "      <td>-0.026602</td>\n",
              "      <td>-0.015973</td>\n",
              "      <td>-0.021963</td>\n",
              "      <td>-0.037480</td>\n",
              "      <td>-0.002433</td>\n",
              "      <td>0.016994</td>\n",
              "      <td>-0.010717</td>\n",
              "      <td>-0.010304</td>\n",
              "      <td>-0.010170</td>\n",
              "      <td>-0.022928</td>\n",
              "      <td>-2.28</td>\n",
              "      <td>0.005447</td>\n",
              "      <td>-0.0065</td>\n",
              "    </tr>\n",
              "  </tbody>\n",
              "</table>\n",
              "</div>"
            ],
            "text/plain": [
              "       GSPC       XOM        GE      MSFT        PG       JNJ       DJI  \\\n",
              "1  0.013491 -0.008643  0.020911  0.038266  0.017212  0.003772  0.013725   \n",
              "2  0.021899  0.039154  0.019289  0.031909  0.011537  0.011976  0.024797   \n",
              "3 -0.002053 -0.001671 -0.016858 -0.004971 -0.019074 -0.009720 -0.000756   \n",
              "4  0.004212 -0.005870 -0.005479 -0.004161 -0.018744  0.000751  0.011007   \n",
              "5 -0.008830 -0.042084 -0.026602 -0.015973 -0.021963 -0.037480 -0.002433   \n",
              "\n",
              "       IXIC       HIS      FCHI      FTSE     GDAXI   JPY       GBP     CAD  \n",
              "1  0.019385  0.000000  0.012764  0.013314  0.000295 -0.87  0.000474 -0.0120  \n",
              "2  0.030443  0.011656  0.022139  0.031488  0.035472  1.84  0.000110 -0.0044  \n",
              "3  0.002251  0.037655 -0.015049 -0.007771 -0.022368 -2.07  0.001392  0.0023  \n",
              "4  0.007845  0.036390  0.003480  0.007511  0.012996 -0.05  0.002247 -0.0003  \n",
              "5  0.016994 -0.010717 -0.010304 -0.010170 -0.022928 -2.28  0.005447 -0.0065  "
            ]
          },
          "metadata": {
            "tags": []
          },
          "execution_count": 12
        }
      ]
    },
    {
      "cell_type": "markdown",
      "metadata": {
        "id": "gq5uNkglalI1"
      },
      "source": [
        "## Replacing missing data with their respective means"
      ]
    },
    {
      "cell_type": "code",
      "metadata": {
        "id": "bU--lgGRalI1",
        "outputId": "029d9d77-063d-477b-a4b3-b0649fba8cd8"
      },
      "source": [
        "#a for loop to replace the missing data\n",
        "for i in d.ix[:]:      \n",
        "    g = np.where(d == 0, np.mean(d.ix[:]), d)    \n",
        "    q = [r for r in range(1,(len(d)+1))]\n",
        "    \n",
        "\n",
        "#displaying the new dataset\n",
        "mdata = DataFrame(g,q,columns= ['GSPC', 'XOM', 'GE', 'MSFT', 'PG', 'JNJ', 'DJI', 'IXIC', 'HIS', 'FCHI', 'FTSE', 'GDAXI', ' JPY', 'GBP', 'CAD'])\n",
        "mdata.tail()"
      ],
      "execution_count": null,
      "outputs": [
        {
          "output_type": "execute_result",
          "data": {
            "text/html": [
              "<div>\n",
              "<style scoped>\n",
              "    .dataframe tbody tr th:only-of-type {\n",
              "        vertical-align: middle;\n",
              "    }\n",
              "\n",
              "    .dataframe tbody tr th {\n",
              "        vertical-align: top;\n",
              "    }\n",
              "\n",
              "    .dataframe thead th {\n",
              "        text-align: right;\n",
              "    }\n",
              "</style>\n",
              "<table border=\"1\" class=\"dataframe\">\n",
              "  <thead>\n",
              "    <tr style=\"text-align: right;\">\n",
              "      <th></th>\n",
              "      <th>GSPC</th>\n",
              "      <th>XOM</th>\n",
              "      <th>GE</th>\n",
              "      <th>MSFT</th>\n",
              "      <th>PG</th>\n",
              "      <th>JNJ</th>\n",
              "      <th>DJI</th>\n",
              "      <th>IXIC</th>\n",
              "      <th>HIS</th>\n",
              "      <th>FCHI</th>\n",
              "      <th>FTSE</th>\n",
              "      <th>GDAXI</th>\n",
              "      <th>JPY</th>\n",
              "      <th>GBP</th>\n",
              "      <th>CAD</th>\n",
              "    </tr>\n",
              "  </thead>\n",
              "  <tbody>\n",
              "    <tr>\n",
              "      <th>2341</th>\n",
              "      <td>-0.002819</td>\n",
              "      <td>-0.008934</td>\n",
              "      <td>0.006910</td>\n",
              "      <td>-0.008618</td>\n",
              "      <td>-0.001113</td>\n",
              "      <td>0.006666</td>\n",
              "      <td>-0.002954</td>\n",
              "      <td>-0.007345</td>\n",
              "      <td>-0.000644</td>\n",
              "      <td>-0.008372</td>\n",
              "      <td>-0.005751</td>\n",
              "      <td>-0.008137</td>\n",
              "      <td>0.06</td>\n",
              "      <td>-0.001137</td>\n",
              "      <td>-0.0021</td>\n",
              "    </tr>\n",
              "    <tr>\n",
              "      <th>2342</th>\n",
              "      <td>0.005826</td>\n",
              "      <td>0.007793</td>\n",
              "      <td>0.014394</td>\n",
              "      <td>0.022112</td>\n",
              "      <td>0.009972</td>\n",
              "      <td>0.008615</td>\n",
              "      <td>0.000373</td>\n",
              "      <td>0.013830</td>\n",
              "      <td>-0.011952</td>\n",
              "      <td>0.013880</td>\n",
              "      <td>0.005557</td>\n",
              "      <td>0.012434</td>\n",
              "      <td>0.07</td>\n",
              "      <td>-0.000021</td>\n",
              "      <td>-0.0031</td>\n",
              "    </tr>\n",
              "    <tr>\n",
              "      <th>2343</th>\n",
              "      <td>-0.029805</td>\n",
              "      <td>-0.013678</td>\n",
              "      <td>-0.053571</td>\n",
              "      <td>-0.021391</td>\n",
              "      <td>-0.019724</td>\n",
              "      <td>-0.015748</td>\n",
              "      <td>-0.030813</td>\n",
              "      <td>-0.033836</td>\n",
              "      <td>-0.000644</td>\n",
              "      <td>-0.024570</td>\n",
              "      <td>-0.026449</td>\n",
              "      <td>-0.024202</td>\n",
              "      <td>-1.17</td>\n",
              "      <td>-0.004548</td>\n",
              "      <td>0.0027</td>\n",
              "    </tr>\n",
              "    <tr>\n",
              "      <th>2344</th>\n",
              "      <td>-0.003724</td>\n",
              "      <td>0.001619</td>\n",
              "      <td>-0.010229</td>\n",
              "      <td>-0.004334</td>\n",
              "      <td>-0.028680</td>\n",
              "      <td>-0.010796</td>\n",
              "      <td>-0.009378</td>\n",
              "      <td>-0.002476</td>\n",
              "      <td>-0.000644</td>\n",
              "      <td>-0.006544</td>\n",
              "      <td>0.002136</td>\n",
              "      <td>-0.005852</td>\n",
              "      <td>-0.51</td>\n",
              "      <td>-0.001364</td>\n",
              "      <td>-0.0018</td>\n",
              "    </tr>\n",
              "    <tr>\n",
              "      <th>2345</th>\n",
              "      <td>0.001266</td>\n",
              "      <td>0.018091</td>\n",
              "      <td>0.016242</td>\n",
              "      <td>-0.004353</td>\n",
              "      <td>0.005276</td>\n",
              "      <td>0.012040</td>\n",
              "      <td>0.000308</td>\n",
              "      <td>-0.009829</td>\n",
              "      <td>-0.000644</td>\n",
              "      <td>0.008499</td>\n",
              "      <td>0.017193</td>\n",
              "      <td>-0.000559</td>\n",
              "      <td>-0.18</td>\n",
              "      <td>-0.000021</td>\n",
              "      <td>0.0073</td>\n",
              "    </tr>\n",
              "  </tbody>\n",
              "</table>\n",
              "</div>"
            ],
            "text/plain": [
              "          GSPC       XOM        GE      MSFT        PG       JNJ       DJI  \\\n",
              "2341 -0.002819 -0.008934  0.006910 -0.008618 -0.001113  0.006666 -0.002954   \n",
              "2342  0.005826  0.007793  0.014394  0.022112  0.009972  0.008615  0.000373   \n",
              "2343 -0.029805 -0.013678 -0.053571 -0.021391 -0.019724 -0.015748 -0.030813   \n",
              "2344 -0.003724  0.001619 -0.010229 -0.004334 -0.028680 -0.010796 -0.009378   \n",
              "2345  0.001266  0.018091  0.016242 -0.004353  0.005276  0.012040  0.000308   \n",
              "\n",
              "          IXIC       HIS      FCHI      FTSE     GDAXI   JPY       GBP     CAD  \n",
              "2341 -0.007345 -0.000644 -0.008372 -0.005751 -0.008137  0.06 -0.001137 -0.0021  \n",
              "2342  0.013830 -0.011952  0.013880  0.005557  0.012434  0.07 -0.000021 -0.0031  \n",
              "2343 -0.033836 -0.000644 -0.024570 -0.026449 -0.024202 -1.17 -0.004548  0.0027  \n",
              "2344 -0.002476 -0.000644 -0.006544  0.002136 -0.005852 -0.51 -0.001364 -0.0018  \n",
              "2345 -0.009829 -0.000644  0.008499  0.017193 -0.000559 -0.18 -0.000021  0.0073  "
            ]
          },
          "metadata": {
            "tags": []
          },
          "execution_count": 13
        }
      ]
    },
    {
      "cell_type": "markdown",
      "metadata": {
        "id": "zeqry-XNalI1"
      },
      "source": [
        "## Ticker Symbols Representation"
      ]
    },
    {
      "cell_type": "code",
      "metadata": {
        "id": "G0tJVQi5alI2",
        "outputId": "e73b2cb6-957c-4bd0-8da7-11e38dda9423"
      },
      "source": [
        "L = ['GSPC', 'XOM', 'GE', 'MSFT', 'PG', 'JNJ', 'DJI', 'IXIC', 'HIS', 'FCHI', 'FTSE', 'GDAXI', ' JPY', 'GBP', 'CAD']\n",
        "M = ['Glasgow Solicitors & Property Centre', 'Exxon Mobil Corperation', 'General Electric Company', 'Microsoft Corperation',\n",
        "     'Procter of Gamble','Johnson & Johnson', 'Dow Jones Industrial', ' NASDAQ Composite','H.I.S. Company Ltd', \n",
        "     'First Choice Home Inspections','Financial Times Stock Exchange', 'German Deutscher Aktienindex', 'Japanese Yen', \n",
        "     'Great British Pounds', 'Canadian Dollar']\n",
        "h = [b for b in zip(L,M)]\n",
        "j = [r for r in range(1,16)]\n",
        "frame = DataFrame(h, j, columns=['Ticker symbols', 'Ticker symbols meaning'])\n",
        "frame"
      ],
      "execution_count": null,
      "outputs": [
        {
          "output_type": "execute_result",
          "data": {
            "text/html": [
              "<div>\n",
              "<style scoped>\n",
              "    .dataframe tbody tr th:only-of-type {\n",
              "        vertical-align: middle;\n",
              "    }\n",
              "\n",
              "    .dataframe tbody tr th {\n",
              "        vertical-align: top;\n",
              "    }\n",
              "\n",
              "    .dataframe thead th {\n",
              "        text-align: right;\n",
              "    }\n",
              "</style>\n",
              "<table border=\"1\" class=\"dataframe\">\n",
              "  <thead>\n",
              "    <tr style=\"text-align: right;\">\n",
              "      <th></th>\n",
              "      <th>Ticker symbols</th>\n",
              "      <th>Ticker symbols meaning</th>\n",
              "    </tr>\n",
              "  </thead>\n",
              "  <tbody>\n",
              "    <tr>\n",
              "      <th>1</th>\n",
              "      <td>GSPC</td>\n",
              "      <td>Glasgow Solicitors &amp; Property Centre</td>\n",
              "    </tr>\n",
              "    <tr>\n",
              "      <th>2</th>\n",
              "      <td>XOM</td>\n",
              "      <td>Exxon Mobil Corperation</td>\n",
              "    </tr>\n",
              "    <tr>\n",
              "      <th>3</th>\n",
              "      <td>GE</td>\n",
              "      <td>General Electric Company</td>\n",
              "    </tr>\n",
              "    <tr>\n",
              "      <th>4</th>\n",
              "      <td>MSFT</td>\n",
              "      <td>Microsoft Corperation</td>\n",
              "    </tr>\n",
              "    <tr>\n",
              "      <th>5</th>\n",
              "      <td>PG</td>\n",
              "      <td>Procter of Gamble</td>\n",
              "    </tr>\n",
              "    <tr>\n",
              "      <th>6</th>\n",
              "      <td>JNJ</td>\n",
              "      <td>Johnson &amp; Johnson</td>\n",
              "    </tr>\n",
              "    <tr>\n",
              "      <th>7</th>\n",
              "      <td>DJI</td>\n",
              "      <td>Dow Jones Industrial</td>\n",
              "    </tr>\n",
              "    <tr>\n",
              "      <th>8</th>\n",
              "      <td>IXIC</td>\n",
              "      <td>NASDAQ Composite</td>\n",
              "    </tr>\n",
              "    <tr>\n",
              "      <th>9</th>\n",
              "      <td>HIS</td>\n",
              "      <td>H.I.S. Company Ltd</td>\n",
              "    </tr>\n",
              "    <tr>\n",
              "      <th>10</th>\n",
              "      <td>FCHI</td>\n",
              "      <td>First Choice Home Inspections</td>\n",
              "    </tr>\n",
              "    <tr>\n",
              "      <th>11</th>\n",
              "      <td>FTSE</td>\n",
              "      <td>Financial Times Stock Exchange</td>\n",
              "    </tr>\n",
              "    <tr>\n",
              "      <th>12</th>\n",
              "      <td>GDAXI</td>\n",
              "      <td>German Deutscher Aktienindex</td>\n",
              "    </tr>\n",
              "    <tr>\n",
              "      <th>13</th>\n",
              "      <td>JPY</td>\n",
              "      <td>Japanese Yen</td>\n",
              "    </tr>\n",
              "    <tr>\n",
              "      <th>14</th>\n",
              "      <td>GBP</td>\n",
              "      <td>Great British Pounds</td>\n",
              "    </tr>\n",
              "    <tr>\n",
              "      <th>15</th>\n",
              "      <td>CAD</td>\n",
              "      <td>Canadian Dollar</td>\n",
              "    </tr>\n",
              "  </tbody>\n",
              "</table>\n",
              "</div>"
            ],
            "text/plain": [
              "   Ticker symbols                Ticker symbols meaning\n",
              "1            GSPC  Glasgow Solicitors & Property Centre\n",
              "2             XOM               Exxon Mobil Corperation\n",
              "3              GE              General Electric Company\n",
              "4            MSFT                 Microsoft Corperation\n",
              "5              PG                     Procter of Gamble\n",
              "6             JNJ                     Johnson & Johnson\n",
              "7             DJI                  Dow Jones Industrial\n",
              "8            IXIC                      NASDAQ Composite\n",
              "9             HIS                    H.I.S. Company Ltd\n",
              "10           FCHI         First Choice Home Inspections\n",
              "11           FTSE        Financial Times Stock Exchange\n",
              "12          GDAXI          German Deutscher Aktienindex\n",
              "13            JPY                          Japanese Yen\n",
              "14            GBP                  Great British Pounds\n",
              "15            CAD                       Canadian Dollar"
            ]
          },
          "metadata": {
            "tags": []
          },
          "execution_count": 14
        }
      ]
    },
    {
      "cell_type": "markdown",
      "metadata": {
        "id": "ZUhVz6-jalI2"
      },
      "source": [
        " "
      ]
    },
    {
      "cell_type": "markdown",
      "metadata": {
        "id": "wpB3UdlBalI2"
      },
      "source": [
        " "
      ]
    },
    {
      "cell_type": "markdown",
      "metadata": {
        "id": "QLayvV-kalI2"
      },
      "source": [
        "# Machine learning for the stocks and indices"
      ]
    },
    {
      "cell_type": "markdown",
      "metadata": {
        "id": "REe23PKBalI3"
      },
      "source": [
        "## Assigning Training datasets and Target datasets"
      ]
    },
    {
      "cell_type": "code",
      "metadata": {
        "id": "CjaN9bFjalI3"
      },
      "source": [
        "#assigning X to be training data\n",
        "X=mdata.ix[:,['XOM', 'GE', 'MSFT', 'PG', 'JNJ', 'DJI', 'IXIC', 'HIS', 'FCHI', 'FTSE', 'GDAXI']].values\n",
        "\n",
        "#assigning y to be target data\n",
        "y=mdata.ix[:,'GSPC'].values\n",
        "\n",
        "X[1:,:]=X[1:,:]-X[0:-1,:]        #difference of todays stock returns and yesterdays (training variables)\n",
        "X[0,:]=0.000001                  # replacing first row with 0\n",
        "y[1:]=y[1:]-y[0:-1]              # difference between todays stock return and yesterdays (target variable)\n",
        "\n",
        "y[0]=.000001                     # replacing first row with 0\n",
        "y = np.where(y >= 0.0, 1, -1)    #replacing negative values with -1 and positive values with 1\n",
        "\n",
        "X_del_1=X[0:-1,:]                #excludes the last row\n",
        "y_del_1=y[1:]                    #excludes the first row"
      ],
      "execution_count": null,
      "outputs": []
    },
    {
      "cell_type": "code",
      "metadata": {
        "id": "sl4Oaan1alI3"
      },
      "source": [
        "#Coverting X, y into a list\n",
        "X=np.ndarray.tolist(X)\n",
        "y=np.ndarray.tolist(y)\n",
        "\n",
        "X_del_1=np.ndarray.tolist(X_del_1)\n",
        "y_del_1=np.ndarray.tolist(y_del_1)"
      ],
      "execution_count": null,
      "outputs": []
    },
    {
      "cell_type": "markdown",
      "metadata": {
        "id": "ySb3hmk5alI3"
      },
      "source": [
        " "
      ]
    },
    {
      "cell_type": "markdown",
      "metadata": {
        "id": "CtCMvLPQalI3"
      },
      "source": [
        "## Artificial Neural Network"
      ]
    },
    {
      "cell_type": "code",
      "metadata": {
        "id": "BGywE8Z3alI4"
      },
      "source": [
        "#allocating data set to training and testing\n",
        "from sklearn.model_selection import train_test_split\n",
        "\n",
        "\n",
        "#splitting dataset; 70% for training and 30% for testing\n",
        "X_train, X_test, y_train, y_test = train_test_split(\n",
        "         X, y, test_size=0.3, random_state=0)\n",
        "X_train_del_1, X_test_del_1, y_train_del_1, y_test_del_1 = train_test_split(\n",
        "         X_del_1, y_del_1, test_size=0.3, random_state=0)"
      ],
      "execution_count": null,
      "outputs": []
    },
    {
      "cell_type": "code",
      "metadata": {
        "id": "1jQc_nLLalI4"
      },
      "source": [
        "#Standardising the dataset\n",
        "from sklearn.preprocessing import StandardScaler\n",
        "\n",
        "sc = StandardScaler()\n",
        "sc.fit(X_train_del_1)\n",
        "\n",
        "sc.fit(X_train)\n",
        "X_train_std = sc.transform(X_train)\n",
        "X_test_std = sc.transform(X_test)\n",
        "\n",
        "X_train_std_del_1 = sc.transform(X_train_del_1)\n",
        "X_test_std_del_1 = sc.transform(X_test_del_1)"
      ],
      "execution_count": null,
      "outputs": []
    },
    {
      "cell_type": "markdown",
      "metadata": {
        "id": "N76PqcZ1alI4"
      },
      "source": [
        "### Classifier"
      ]
    },
    {
      "cell_type": "code",
      "metadata": {
        "id": "br-I_KnfalI4",
        "outputId": "d9e47379-947d-4721-fe50-441dd37fcc82"
      },
      "source": [
        "###----MLPClassifier----###\n",
        "from sklearn.neural_network import MLPClassifier\n",
        "\n",
        "#setting values for hidden layers, learning rates and maximum iteration\n",
        "mlp = MLPClassifier(hidden_layer_sizes=(1000,1000,100,), max_iter=10, alpha=1e-5,\n",
        "                    solver='sgd', verbose=10, tol=1e-6, random_state=14,\n",
        "                    learning_rate_init=.1)\n",
        "\n",
        "mlp.fit(X_train_std, y_train)                                       #fitting the dataset\n",
        "y_pred=mlp.predict(X_test)                                          #predicting the training dataset\n",
        "print('Accuracy: %.2f' % accuracy_score(y_test, y_pred))            #displaying the accuracy score\n",
        "print(\"Training set score: %f\" % mlp.score(X_train_std, y_train))   #displaying the training score\n",
        "print(\"Test set score: %f\" % mlp.score(X_test_std, y_test))         #displaying the testing score\n",
        "mlp.predict(X_test)[1:100]                                          #predicting training dataset"
      ],
      "execution_count": null,
      "outputs": [
        {
          "output_type": "stream",
          "text": [
            "Iteration 1, loss = 0.50929235\n",
            "Iteration 2, loss = 0.18583861\n",
            "Iteration 3, loss = 0.12826544\n",
            "Iteration 4, loss = 0.11054124\n",
            "Iteration 5, loss = 0.11923427\n",
            "Iteration 6, loss = 0.09476021\n",
            "Iteration 7, loss = 0.09028181\n",
            "Iteration 8, loss = 0.08512183\n",
            "Iteration 9, loss = 0.08040144\n",
            "Iteration 10, loss = 0.08040714\n"
          ],
          "name": "stdout"
        },
        {
          "output_type": "error",
          "ename": "NameError",
          "evalue": "name 'accuracy_score' is not defined",
          "traceback": [
            "\u001b[0;31m---------------------------------------------------------------------------\u001b[0m",
            "\u001b[0;31mNameError\u001b[0m                                 Traceback (most recent call last)",
            "\u001b[0;32m<ipython-input-9-8d46d794c9be>\u001b[0m in \u001b[0;36m<module>\u001b[0;34m\u001b[0m\n\u001b[1;32m      9\u001b[0m \u001b[0mmlp\u001b[0m\u001b[0;34m.\u001b[0m\u001b[0mfit\u001b[0m\u001b[0;34m(\u001b[0m\u001b[0mX_train_std\u001b[0m\u001b[0;34m,\u001b[0m \u001b[0my_train\u001b[0m\u001b[0;34m)\u001b[0m                                       \u001b[0;31m#fitting the dataset\u001b[0m\u001b[0;34m\u001b[0m\u001b[0;34m\u001b[0m\u001b[0m\n\u001b[1;32m     10\u001b[0m \u001b[0my_pred\u001b[0m\u001b[0;34m=\u001b[0m\u001b[0mmlp\u001b[0m\u001b[0;34m.\u001b[0m\u001b[0mpredict\u001b[0m\u001b[0;34m(\u001b[0m\u001b[0mX_test\u001b[0m\u001b[0;34m)\u001b[0m                                          \u001b[0;31m#predicting the training dataset\u001b[0m\u001b[0;34m\u001b[0m\u001b[0;34m\u001b[0m\u001b[0m\n\u001b[0;32m---> 11\u001b[0;31m \u001b[0mprint\u001b[0m\u001b[0;34m(\u001b[0m\u001b[0;34m'Accuracy: %.2f'\u001b[0m \u001b[0;34m%\u001b[0m \u001b[0maccuracy_score\u001b[0m\u001b[0;34m(\u001b[0m\u001b[0my_test\u001b[0m\u001b[0;34m,\u001b[0m \u001b[0my_pred\u001b[0m\u001b[0;34m)\u001b[0m\u001b[0;34m)\u001b[0m            \u001b[0;31m#displaying the accuracy score\u001b[0m\u001b[0;34m\u001b[0m\u001b[0;34m\u001b[0m\u001b[0m\n\u001b[0m\u001b[1;32m     12\u001b[0m \u001b[0mprint\u001b[0m\u001b[0;34m(\u001b[0m\u001b[0;34m\"Training set score: %f\"\u001b[0m \u001b[0;34m%\u001b[0m \u001b[0mmlp\u001b[0m\u001b[0;34m.\u001b[0m\u001b[0mscore\u001b[0m\u001b[0;34m(\u001b[0m\u001b[0mX_train_std\u001b[0m\u001b[0;34m,\u001b[0m \u001b[0my_train\u001b[0m\u001b[0;34m)\u001b[0m\u001b[0;34m)\u001b[0m   \u001b[0;31m#displaying the training score\u001b[0m\u001b[0;34m\u001b[0m\u001b[0;34m\u001b[0m\u001b[0m\n\u001b[1;32m     13\u001b[0m \u001b[0mprint\u001b[0m\u001b[0;34m(\u001b[0m\u001b[0;34m\"Test set score: %f\"\u001b[0m \u001b[0;34m%\u001b[0m \u001b[0mmlp\u001b[0m\u001b[0;34m.\u001b[0m\u001b[0mscore\u001b[0m\u001b[0;34m(\u001b[0m\u001b[0mX_test_std\u001b[0m\u001b[0;34m,\u001b[0m \u001b[0my_test\u001b[0m\u001b[0;34m)\u001b[0m\u001b[0;34m)\u001b[0m         \u001b[0;31m#displaying the testing score\u001b[0m\u001b[0;34m\u001b[0m\u001b[0;34m\u001b[0m\u001b[0m\n",
            "\u001b[0;31mNameError\u001b[0m: name 'accuracy_score' is not defined"
          ]
        }
      ]
    },
    {
      "cell_type": "code",
      "metadata": {
        "id": "ZtFZrqtQalI5"
      },
      "source": [
        "#assigning the prediction of the standardised training dataset\n",
        "y_pred_mlp = mlp.predict(X_test_std)"
      ],
      "execution_count": null,
      "outputs": []
    },
    {
      "cell_type": "code",
      "metadata": {
        "id": "mr6AR28GalI5"
      },
      "source": [
        "#checking for the accuracy of the classifier\n",
        "from sklearn.metrics import accuracy_score,confusion_matrix,classification_report\n",
        "\n",
        "print('Misclassified samples: %d' % (y_test != y_pred_mlp).sum())  #displaying the sum of misclassified samples\n",
        "print('Accuracy: %.2f' % accuracy_score(y_test, y_pred_mlp))       #displaying the accuracy score\n",
        "print(confusion_matrix(y_test,y_pred_mlp))                         #displaying the confusion matrix\n",
        "print(classification_report(y_test,y_pred_mlp))                    #displaying the classification report"
      ],
      "execution_count": null,
      "outputs": []
    },
    {
      "cell_type": "markdown",
      "metadata": {
        "id": "qV3WUnEmalI5"
      },
      "source": [
        "## Support Vector Machine"
      ]
    },
    {
      "cell_type": "code",
      "metadata": {
        "id": "jm4lhiPQalI5"
      },
      "source": [
        "###----SVM----###\n",
        "from sklearn.svm import SVC                               #importing Support Vector Machine\n",
        "clf = SVC(kernel='linear', C=1.0, random_state=0)   \n",
        "clf.fit(X_train, y_train)                                 #fitting the training dataset \n",
        "y_pred_SVM=clf.predict(X_test)                            #predicting for the Support Vector Machine\n",
        "\n",
        "\n",
        "from sklearn.metrics import accuracy_score,confusion_matrix,classification_report\n",
        "\n",
        "print('Misclassified samples: %d' % (y_test != y_pred_SVM).sum())  #displaying the sum of misclassified samples\n",
        "print('Accuracy: %.2f' % accuracy_score(y_test, y_pred_SVM))       #displaying the accuracy score\n",
        "print(confusion_matrix(y_test,y_pred_SVM))                         #displaying the confusion matrix\n",
        "print(classification_report(y_test,y_pred_SVM))                    #displaying the classification report"
      ],
      "execution_count": null,
      "outputs": []
    },
    {
      "cell_type": "markdown",
      "metadata": {
        "id": "O7HX58PRalI6"
      },
      "source": [
        "From the analysis of the Stock price using ANN and SVM;\n",
        "* The accuracy of ANN is 94% and SVM is 91%\n",
        "\n",
        "Precision = $\\displaystyle{\\frac{t_{p}}{t_{p}+f_{p}}}$\n",
        "\n",
        "\n",
        "Recall = $\\displaystyle{\\frac{t_{p}}{t_{p}+f_{n}}}$\n",
        "\n",
        "Where $t_{p}$ is the true positive, $f_{p}$ is the false positive and $f_{n}$ is the false negative.\n",
        "\n",
        "$ \\\\ $\n",
        "\n",
        "$\\displaystyle{\\text{f1-score} = 2 \\cdot \\frac{\\text{Precision} \\cdot \\text{Recall}}{\\text{Precision} + \\text{Recall}}}$\n",
        "\n",
        "$ \\\\ $\n",
        "\n",
        "$\\textbf{Interpretation of metrics for ANN:}$\n",
        "\n",
        "Precision is defined as the probability that a (randomly selected) retrieved document is relevant. Therefore, the precision for determining the upward movement of stock price is 0.93 and for downward movement of price is 0.95.\n",
        "\n",
        "Recall is define as the probability that a (randomly selected) relevant document is retrieved in a search. The recall for upward movement of stock price is 0.95 and downward movement is 0.94.\n",
        "\n",
        "\n",
        "$\\textbf{Interpretation of metrics for SVM:}$\n",
        "\n",
        "Precision is defined as the probability that a (randomly selected) retrieved document is relevant. Therefore, the precision for determining the upward movement of stock price is 0.94 and for downward movement of price is 0.89.\n",
        "\n",
        "Recall is define as the probability that a (randomly selected) relevant document is retrieved in a search. The recall for upward movement of stock price is 0.87 and downward movement is 0.95."
      ]
    },
    {
      "cell_type": "markdown",
      "metadata": {
        "id": "0qbVD54DalI6"
      },
      "source": [
        "# Machine learning for Currencies (JPY, GBP, CAD)"
      ]
    },
    {
      "cell_type": "markdown",
      "metadata": {
        "id": "MftKqeYsalI6"
      },
      "source": [
        "## Assigning Training datasets and Target datasets"
      ]
    },
    {
      "cell_type": "code",
      "metadata": {
        "id": "FuAuR06malI6"
      },
      "source": [
        "#assigning X to be training data\n",
        "M=mdata.ix[:,[' JPY', 'CAD']].values\n",
        "\n",
        "#assigning y to be target data\n",
        "n=mdata.ix[:,'GBP'].values\n",
        "\n",
        "M[1:,:]=M[1:,:]-M[0:-1,:]       #difference of todays stock returns and yesterdays (training variables)\n",
        "M[0,:]=0.000001                 # replacing first row with 0\n",
        "n[1:]=n[1:]-n[0:-1]             # difference between todays stock return and yesterdays (target variable)\n",
        "\n",
        "n[0]=.000001                    # replacing first row with 0\n",
        "n = np.where(n >= 0.0, 1, -1)   #replacing negative values with -1 and positive values with 1\n",
        "\n",
        "M_del_1=M[0:-1,:]               #excludes the last row\n",
        "n_del_1=n[1:]                   #excludes the first row"
      ],
      "execution_count": null,
      "outputs": []
    },
    {
      "cell_type": "code",
      "metadata": {
        "id": "zlFbQqpcalI6"
      },
      "source": [
        "#Coverting X, y into a list\n",
        "M=np.ndarray.tolist(M)\n",
        "n=np.ndarray.tolist(n)\n",
        "\n",
        "M_del_1=np.ndarray.tolist(M_del_1)\n",
        "n_del_1=np.ndarray.tolist(n_del_1)"
      ],
      "execution_count": null,
      "outputs": []
    },
    {
      "cell_type": "markdown",
      "metadata": {
        "id": "2F0eOhNxalI6"
      },
      "source": [
        "## Artificial Neural Network"
      ]
    },
    {
      "cell_type": "code",
      "metadata": {
        "id": "q2bqFHaDalI7"
      },
      "source": [
        "#allocating data set to training and testing\n",
        "from sklearn.model_selection import train_test_split\n",
        "\n",
        "\n",
        "#splitting dataset; 70% for training and 30% for testing\n",
        "M_train, M_test, n_train, n_test = train_test_split(\n",
        "         M, n, test_size=0.3, random_state=0)\n",
        "M_train_del_1, M_test_del_1, n_train_del_1, n_test_del_1 = train_test_split(\n",
        "         M_del_1, n_del_1, test_size=0.3, random_state=0)"
      ],
      "execution_count": null,
      "outputs": []
    },
    {
      "cell_type": "code",
      "metadata": {
        "id": "MSwmx2vvalI7",
        "outputId": "3cee167f-802f-413c-8fc4-dc190b6449ff"
      },
      "source": [
        "#Standardising the dataset\n",
        "from sklearn.preprocessing import StandardScaler\n",
        "\n",
        "sc = StandardScaler()\n",
        "sc.fit(M_train_del_1)\n",
        "\n",
        "sc.fit(M_train)\n",
        "M_train_std = sc.transform(M_train)\n",
        "M_test_std = sc.transform(M_test)\n",
        "\n",
        "M_train_std_del_1 = sc.transform(M_train_del_1)\n",
        "M_test_std_del_1 = sc.transform(M_test_del_1)"
      ],
      "execution_count": null,
      "outputs": [
        {
          "output_type": "error",
          "ename": "NameError",
          "evalue": "name 'M_train_del_1' is not defined",
          "traceback": [
            "\u001b[0;31m---------------------------------------------------------------------------\u001b[0m",
            "\u001b[0;31mNameError\u001b[0m                                 Traceback (most recent call last)",
            "\u001b[0;32m<ipython-input-10-91a923067f8d>\u001b[0m in \u001b[0;36m<module>\u001b[0;34m\u001b[0m\n\u001b[1;32m      3\u001b[0m \u001b[0;34m\u001b[0m\u001b[0m\n\u001b[1;32m      4\u001b[0m \u001b[0msc\u001b[0m \u001b[0;34m=\u001b[0m \u001b[0mStandardScaler\u001b[0m\u001b[0;34m(\u001b[0m\u001b[0;34m)\u001b[0m\u001b[0;34m\u001b[0m\u001b[0;34m\u001b[0m\u001b[0m\n\u001b[0;32m----> 5\u001b[0;31m \u001b[0msc\u001b[0m\u001b[0;34m.\u001b[0m\u001b[0mfit\u001b[0m\u001b[0;34m(\u001b[0m\u001b[0mM_train_del_1\u001b[0m\u001b[0;34m)\u001b[0m\u001b[0;34m\u001b[0m\u001b[0;34m\u001b[0m\u001b[0m\n\u001b[0m\u001b[1;32m      6\u001b[0m \u001b[0;34m\u001b[0m\u001b[0m\n\u001b[1;32m      7\u001b[0m \u001b[0msc\u001b[0m\u001b[0;34m.\u001b[0m\u001b[0mfit\u001b[0m\u001b[0;34m(\u001b[0m\u001b[0mM_train\u001b[0m\u001b[0;34m)\u001b[0m\u001b[0;34m\u001b[0m\u001b[0;34m\u001b[0m\u001b[0m\n",
            "\u001b[0;31mNameError\u001b[0m: name 'M_train_del_1' is not defined"
          ]
        }
      ]
    },
    {
      "cell_type": "markdown",
      "metadata": {
        "id": "99UjLm1xalI7"
      },
      "source": [
        "### Classifier"
      ]
    },
    {
      "cell_type": "code",
      "metadata": {
        "id": "KJyj0y0yalI7",
        "outputId": "e0da93ce-b1c9-4efd-f168-f0feffd803c6"
      },
      "source": [
        "###----MLPClassifier----###\n",
        "from sklearn.neural_network import MLPClassifier\n",
        "mlp = MLPClassifier(hidden_layer_sizes=(1000,1000,100,), max_iter=10, alpha=1e-5,\n",
        "                    solver='sgd', verbose=10, tol=1e-6, random_state=14,\n",
        "                    learning_rate_init=.1)\n",
        "\n",
        "mlp.fit(M_train_std, n_train)\n",
        "n_pred=mlp.predict(M_test)\n",
        "print('Accuracy: %.2f' % accuracy_score(n_test, n_pred))\n",
        "print(\"Training set score: %f\" % mlp.score(M_train_std, n_train))\n",
        "print(\"Test set score: %f\" % mlp.score(M_test_std, n_test))\n",
        "mlp.predict(M_test)[1:100]"
      ],
      "execution_count": null,
      "outputs": [
        {
          "output_type": "stream",
          "text": [
            "Iteration 1, loss = 0.67885779\n",
            "Iteration 2, loss = 0.64865639\n",
            "Iteration 3, loss = 0.64898208\n",
            "Iteration 4, loss = 0.64771497\n",
            "Iteration 5, loss = 0.64638967\n",
            "Iteration 6, loss = 0.64407697\n",
            "Iteration 7, loss = 0.64316757\n",
            "Iteration 8, loss = 0.64283732\n",
            "Iteration 9, loss = 0.64292349\n",
            "Iteration 10, loss = 0.64117459\n",
            "Accuracy: 0.63\n",
            "Training set score: 0.630104\n",
            "Test set score: 0.636364\n"
          ],
          "name": "stdout"
        },
        {
          "output_type": "execute_result",
          "data": {
            "text/plain": [
              "array([-1, -1,  1, -1, -1,  1, -1, -1, -1,  1,  1, -1, -1,  1,  1,  1, -1,\n",
              "       -1, -1, -1, -1,  1,  1, -1,  1,  1,  1,  1, -1,  1, -1,  1, -1,  1,\n",
              "        1,  1, -1,  1,  1, -1, -1, -1, -1,  1,  1, -1,  1, -1,  1,  1, -1,\n",
              "       -1, -1, -1, -1,  1, -1, -1, -1, -1, -1, -1, -1,  1,  1,  1, -1,  1,\n",
              "        1,  1, -1, -1,  1,  1, -1, -1,  1, -1,  1, -1,  1, -1,  1, -1, -1,\n",
              "       -1, -1,  1, -1,  1, -1, -1, -1, -1, -1, -1, -1, -1,  1])"
            ]
          },
          "metadata": {
            "tags": []
          },
          "execution_count": 29
        }
      ]
    },
    {
      "cell_type": "code",
      "metadata": {
        "id": "s5JiTqx1alI7"
      },
      "source": [
        "n_pred_mlp = mlp.predict(M_test_std)"
      ],
      "execution_count": null,
      "outputs": []
    },
    {
      "cell_type": "code",
      "metadata": {
        "id": "Zxx8hwj3alI8",
        "outputId": "4a1025c1-43aa-4ee4-e9dd-880ece40b5f0"
      },
      "source": [
        "from sklearn.metrics import accuracy_score,confusion_matrix,classification_report\n",
        "\n",
        "print('Misclassified samples: %d' % (n_test != n_pred_mlp).sum())\n",
        "print('Accuracy: %.2f' % accuracy_score(n_test, n_pred_mlp))\n",
        "print(confusion_matrix(n_test,n_pred_mlp))\n",
        "print(classification_report(n_test,n_pred_mlp))"
      ],
      "execution_count": null,
      "outputs": [
        {
          "output_type": "stream",
          "text": [
            "Misclassified samples: 256\n",
            "Accuracy: 0.64\n",
            "[[235 143]\n",
            " [113 213]]\n",
            "              precision    recall  f1-score   support\n",
            "\n",
            "          -1       0.68      0.62      0.65       378\n",
            "           1       0.60      0.65      0.62       326\n",
            "\n",
            "    accuracy                           0.64       704\n",
            "   macro avg       0.64      0.64      0.64       704\n",
            "weighted avg       0.64      0.64      0.64       704\n",
            "\n"
          ],
          "name": "stdout"
        }
      ]
    },
    {
      "cell_type": "markdown",
      "metadata": {
        "id": "X_VZUUM6alI8"
      },
      "source": [
        "# Support Vector Machine"
      ]
    },
    {
      "cell_type": "code",
      "metadata": {
        "id": "WUv4KroQalI8",
        "outputId": "5fb8567f-1ed3-41da-8851-702874f2a9f3"
      },
      "source": [
        "###----SVM----###\n",
        "from sklearn.svm import SVC                               #importing Support Vector Machine\n",
        "clf = SVC(kernel='linear', C=1.0, random_state=0)\n",
        "clf.fit(M_train, n_train)                                 #fitting the training dataset \n",
        "n_pred_SVM=clf.predict(M_test)                            #predicting for the Support Vector Machine\n",
        "\n",
        "from sklearn.metrics import accuracy_score,confusion_matrix,classification_report\n",
        "\n",
        "print('Misclassified samples: %d' % (n_test != n_pred_SVM).sum())   #displaying the sum of misclassified samples\n",
        "print('Accuracy: %.2f' % accuracy_score(n_test, n_pred_SVM))        #displaying the accuracy score\n",
        "print(confusion_matrix(n_test,n_pred_SVM))                          #displaying the confusion matrix\n",
        "print(classification_report(n_test,n_pred_SVM))                     #displaying the classification report"
      ],
      "execution_count": null,
      "outputs": [
        {
          "output_type": "stream",
          "text": [
            "Misclassified samples: 259\n",
            "Accuracy: 0.63\n",
            "[[227 151]\n",
            " [108 218]]\n",
            "              precision    recall  f1-score   support\n",
            "\n",
            "          -1       0.68      0.60      0.64       378\n",
            "           1       0.59      0.67      0.63       326\n",
            "\n",
            "    accuracy                           0.63       704\n",
            "   macro avg       0.63      0.63      0.63       704\n",
            "weighted avg       0.64      0.63      0.63       704\n",
            "\n"
          ],
          "name": "stdout"
        }
      ]
    },
    {
      "cell_type": "markdown",
      "metadata": {
        "id": "Csfq5y8PalI8"
      },
      "source": [
        "From the analysis of the Stock price using ANN and SVM;\n",
        "* The accuracy of ANN is 62% and SVM is 63%\n",
        "\n",
        "$\\textbf{Interpretation of metrics for ANN:}$\n",
        "\n",
        "Precision is defined as the probability that a (randomly selected) retrieved document is relevant. Therefore, the precision for determining the upward movement of stock price is 0.58 and for downward movement of price is 0.65.\n",
        "\n",
        "Recall is define as the probability that a (randomly selected) relevant document is retrieved in a search. The recall for both upward movement and downward movement of stock price is 0.62.\n",
        "\n",
        "\n",
        "$\\textbf{Interpretation of metrics for SVM:}$\n",
        "\n",
        "Precision is defined as the probability that a (randomly selected) retrieved document is relevant. Therefore, the precision for determining the upward movement of stock price is 0.59 and for downward movement of price is 0.67.\n",
        "\n",
        "Recall is define as the probability that a (randomly selected) relevant document is retrieved in a search. The recall for upward movement of stock price is 0.67 and downward movement is 0.60."
      ]
    }
  ]
}