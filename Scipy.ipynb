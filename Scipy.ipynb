{
  "nbformat": 4,
  "nbformat_minor": 0,
  "metadata": {
    "kernelspec": {
      "display_name": "Python 3",
      "language": "python",
      "name": "python3"
    },
    "language_info": {
      "codemirror_mode": {
        "name": "ipython",
        "version": 3
      },
      "file_extension": ".py",
      "mimetype": "text/x-python",
      "name": "python",
      "nbconvert_exporter": "python",
      "pygments_lexer": "ipython3",
      "version": "3.7.3"
    },
    "toc": {
      "base_numbering": 1,
      "nav_menu": {},
      "number_sections": true,
      "sideBar": true,
      "skip_h1_title": false,
      "title_cell": "Table of Contents",
      "title_sidebar": "Contents",
      "toc_cell": false,
      "toc_position": {},
      "toc_section_display": true,
      "toc_window_display": false
    },
    "colab": {
      "name": "Scipy.ipynb",
      "provenance": [],
      "include_colab_link": true
    }
  },
  "cells": [
    {
      "cell_type": "markdown",
      "metadata": {
        "id": "view-in-github",
        "colab_type": "text"
      },
      "source": [
        "<a href=\"https://colab.research.google.com/github/adugnaNecho/ArduinoTensorFlowLiteTutorials/blob/master/Scipy.ipynb\" target=\"_parent\"><img src=\"https://colab.research.google.com/assets/colab-badge.svg\" alt=\"Open In Colab\"/></a>"
      ]
    },
    {
      "cell_type": "markdown",
      "metadata": {
        "id": "ogIgutu5X7io"
      },
      "source": [
        "<center>\n",
        "<img src=\"images/logo.png\" alt=\"logo\" style=\"width: 200px;\"/>\n",
        "<br>\n",
        "\n",
        "<center> <font size=6 style='bold font-family: var(--Abel);'>Bahir Dar University </font> </center>\n",
        "<br>\n",
        "<center> <font size=6 style='bold font-family:--Abel;'>Bahir Dar Institute of Technology</font> </center>\n",
        "<br>\n",
        "<br>\n",
        "<br>\n",
        "\n",
        "<center> <font size=6 style='bold' color='blue'>Scientific Computing with Python</font> </center>\n",
        "\n",
        "<br>\n",
        "\n",
        "<center> <font size=6 style='bold font-family:Abel'>Eyaya B. and Dr. Mekuanint A.</font> </center>\n",
        "<br>\n",
        "\n",
        "\n",
        "<center> <font size=6 style='bold font-family:Abel'>Aug 09-13, 2021 </font> </center>\n",
        "<br>\n",
        "<br>\n",
        "<center> <font size=6 style='bold font-family:Abel'>Organized By:<font size=6 style='bold font-family:var(--Abel)' color='blue'> UiL-CS</font> </font> </center>\n",
        "</center>"
      ]
    },
    {
      "cell_type": "markdown",
      "metadata": {
        "id": "Rh1qyxDZX7ip"
      },
      "source": [
        "# SciPy - Library of scientific algorithms for Python\n",
        "\n",
        "The SciPy framework builds on top of the low-level NumPy framework for multidimensional arrays, and\n",
        "provides a large number of higher-level scientific algorithms. Some of the topics that SciPy covers are:\n",
        "\n",
        "<ul>\n",
        "    <li> Special functions (<font color=\"blue\"> scipy.special</font>)</li>\n",
        "    <li> Integration (<font color=\"blue\">scipy.integrate</font>)</li>\n",
        "    <li> Optimization (<font color=\"blue\">scipy.optimize</font>)</li>\n",
        "    <li> Interpolation (<font color=\"blue\">scipy.interpolate</font>)</li>\n",
        "    <li> Fourier Transforms (<font color=\"blue\">scipy.fftpack</font>)</li>\n",
        "    <li> Signal Processing (<font color=\"blue\">scipy.signal</font>)</li>\n",
        "    <li> Linear Algebra (<font color=\"blue\">scipy.linalg</font>)</li>\n",
        "    <li> Sparse Eigenvalue Problems (<font color=\"blue\">scipy.sparse</font>)</li>\n",
        "    <li> Statistics (<font color=\"blue\">scipy.stats</font>)</li>\n",
        "    <li> Multi-dimensional image processing (<font color=\"blue\">scipy.ndimage</font>)</li>\n",
        "    <li> File IO (<font color=\"blue\">scipy.io</font>)</li>\n",
        "</ul>\n",
        "\n",
        "Each of these submodules provides a number of functions and classes that can be used to solve problems in their respective topics.\n",
        "\n",
        "To access the SciPy package in a Python program, we start by importing the scipy\n",
        "module as follows and use the dot followed by the package we want to use."
      ]
    },
    {
      "cell_type": "code",
      "metadata": {
        "id": "5mnLX3pBX7iq"
      },
      "source": [
        "import scipy as sp"
      ],
      "execution_count": 16,
      "outputs": []
    },
    {
      "cell_type": "markdown",
      "metadata": {
        "id": "Vb9RmNmBX7iq"
      },
      "source": [
        "We can import a specific package using aliasing to make things organized, for example we can impor the linear algebra package as follows"
      ]
    },
    {
      "cell_type": "code",
      "metadata": {
        "id": "HJa3xOVuX7iq"
      },
      "source": [
        "import scipy.linalg as la"
      ],
      "execution_count": null,
      "outputs": []
    },
    {
      "cell_type": "code",
      "metadata": {
        "id": "bXzg_4fGX7ir"
      },
      "source": [
        "la."
      ],
      "execution_count": null,
      "outputs": []
    },
    {
      "cell_type": "markdown",
      "metadata": {
        "id": "hRf2UplwX7ir"
      },
      "source": [
        "## Linear Algebra"
      ]
    },
    {
      "cell_type": "code",
      "metadata": {
        "id": "0r6MNp3jX7ir"
      },
      "source": [
        "import sympy as spy\n",
        "spy.init_printing()\n",
        "import numpy as np\n",
        "import matplotlib.pyplot as plt"
      ],
      "execution_count": null,
      "outputs": []
    },
    {
      "cell_type": "markdown",
      "metadata": {
        "id": "F6V7kdC2X7is"
      },
      "source": [
        "The __rank__, __condition number__ and __norm__ of a symbolic matrix can be computed in SymPy using the Matrix methods _rank_, _condition_number_, and _norm_, and for numerical problems, we can use the NumPy functions __np.linalg.matrix_rank__, __np.linalg.cond__, and __np.linalg.norm__. For example, consider the following system of two linear equations:\n",
        "\\begin{equation}\n",
        "\\begin{aligned}\n",
        "2 x_1 + 3 x_2 &= 4 \\\\\n",
        "5 x_1 + 4 x_2 &= 3 \\\\\n",
        "\\end{aligned}\n",
        "\\end{equation}"
      ]
    },
    {
      "cell_type": "markdown",
      "metadata": {
        "id": "Gj7dDpM2X7is"
      },
      "source": [
        "These two equations correspond to lines in the $(x_1 ,x_2)$ plane, and their intersection is \n",
        "the solution to the equation system. As can be seen in Figure bellow, which graphs the lines\n",
        "corresponding to the two equations, the lines intersect at $(-1, 2)$."
      ]
    },
    {
      "cell_type": "code",
      "metadata": {
        "id": "GR7uuKcVX7is",
        "outputId": "8228f6cd-79b0-4394-dcbd-8bd822626cc2"
      },
      "source": [
        "fig, ax = plt.subplots(figsize=(8, 4))\n",
        "\n",
        "x1 = np.linspace(-4, 2, 100)\n",
        "\n",
        "x2_1 = (4 - 2 * x1)/3\n",
        "x2_2 = (3 - 5 * x1)/4\n",
        "\n",
        "ax.plot(x1, x2_1, 'r', lw=2, label=r\"$2x_1+3x_2-4=0$\")\n",
        "ax.plot(x1, x2_2, 'b', lw=2, label=r\"$5x_1+4x_2-3=0$\")\n",
        "\n",
        "A = np.array([[2, 3], [5, 4]])\n",
        "b = np.array([4, 3])\n",
        "x = la.solve(A, b)\n",
        "\n",
        "ax.plot(x[0], x[1], 'ko', lw=2)\n",
        "ax.annotate(\"The intersection point of\\nthe two lines is the solution\\nto the equation system\",\n",
        "            xy=(x[0], x[1]), xycoords='data',\n",
        "            xytext=(-120, -75), textcoords='offset points', \n",
        "            arrowprops=dict(arrowstyle=\"->\", connectionstyle=\"arc3, rad=-.3\"))\n",
        "\n",
        "ax.set_xlabel(r\"$x_1$\", fontsize=18)\n",
        "ax.set_ylabel(r\"$x_2$\", fontsize=18)\n",
        "ax.legend();\n",
        "\n",
        "fig.tight_layout()\n",
        "fig.savefig('ls1.png')"
      ],
      "execution_count": null,
      "outputs": [
        {
          "output_type": "display_data",
          "data": {
            "image/png": "[encoded data removed]",
            "text/plain": [
              "<Figure size 576x288 with 1 Axes>"
            ]
          },
          "metadata": {
            "tags": [],
            "needs_background": "light"
          }
        }
      ]
    },
    {
      "cell_type": "code",
      "metadata": {
        "id": "TTBHd77sX7it"
      },
      "source": [
        "A = spy.Matrix([[2, 3], [5, 4]])\n",
        "b = spy.Matrix([4, 3])"
      ],
      "execution_count": null,
      "outputs": []
    },
    {
      "cell_type": "code",
      "metadata": {
        "id": "v5tb-yqtX7it",
        "outputId": "60edc018-4ae2-4143-8aba-b0f64af6b1cc"
      },
      "source": [
        "A"
      ],
      "execution_count": null,
      "outputs": [
        {
          "output_type": "execute_result",
          "data": {
            "image/png": "[encoded data removed]",
            "text/latex": "$\\displaystyle \\left[\\begin{matrix}2 & 3\\\\5 & 4\\end{matrix}\\right]$",
            "text/plain": [
              "⎡2  3⎤\n",
              "⎢    ⎥\n",
              "⎣5  4⎦"
            ]
          },
          "metadata": {
            "tags": []
          },
          "execution_count": 23
        }
      ]
    },
    {
      "cell_type": "code",
      "metadata": {
        "id": "9ijEj-fgX7it",
        "outputId": "374ff1fd-bed6-4668-f8ca-dae1edf16f8e"
      },
      "source": [
        "b"
      ],
      "execution_count": null,
      "outputs": [
        {
          "output_type": "execute_result",
          "data": {
            "image/png": "[encoded data removed]",
            "text/latex": "$\\displaystyle \\left[\\begin{matrix}4\\\\3\\end{matrix}\\right]$",
            "text/plain": [
              "⎡4⎤\n",
              "⎢ ⎥\n",
              "⎣3⎦"
            ]
          },
          "metadata": {
            "tags": []
          },
          "execution_count": 24
        }
      ]
    },
    {
      "cell_type": "code",
      "metadata": {
        "id": "EsfZMM0mX7iu",
        "outputId": "b1c9c509-4bdb-40f8-c993-6f02f3f498f4"
      },
      "source": [
        "A.rank()"
      ],
      "execution_count": null,
      "outputs": [
        {
          "output_type": "execute_result",
          "data": {
            "image/png": "[encoded data removed]",
            "text/latex": "$\\displaystyle 2$",
            "text/plain": [
              "2"
            ]
          },
          "metadata": {
            "tags": []
          },
          "execution_count": 25
        }
      ]
    },
    {
      "cell_type": "code",
      "metadata": {
        "id": "HhjdOBDeX7iu",
        "outputId": "aac60af5-0e08-4a23-d41f-800487f1a708"
      },
      "source": [
        "A.condition_number()"
      ],
      "execution_count": null,
      "outputs": [
        {
          "output_type": "execute_result",
          "data": {
            "image/png": "[encoded data removed]",
            "text/latex": "$\\displaystyle \\frac{\\sqrt{2 \\sqrt{170} + 27}}{\\sqrt{27 - 2 \\sqrt{170}}}$",
            "text/plain": [
              "  _____________\n",
              "╲╱ 2⋅√170 + 27 \n",
              "───────────────\n",
              "  _____________\n",
              "╲╱ 27 - 2⋅√170 "
            ]
          },
          "metadata": {
            "tags": []
          },
          "execution_count": 26
        }
      ]
    },
    {
      "cell_type": "code",
      "metadata": {
        "id": "80Az3T4ZX7iu",
        "outputId": "e073a425-b6e4-4f24-f4c9-8f28f92cde65"
      },
      "source": [
        "spy.N(_)"
      ],
      "execution_count": null,
      "outputs": [
        {
          "output_type": "execute_result",
          "data": {
            "image/png": "[encoded data removed]",
            "text/latex": "$\\displaystyle 7.58240137440151$",
            "text/plain": [
              "7.58240137440151"
            ]
          },
          "metadata": {
            "tags": []
          },
          "execution_count": 27
        }
      ]
    },
    {
      "cell_type": "code",
      "metadata": {
        "id": "3nglor3MX7iv",
        "outputId": "a2d224f5-bee0-491c-bc0e-d4070e63bb2f"
      },
      "source": [
        "A.norm()"
      ],
      "execution_count": null,
      "outputs": [
        {
          "output_type": "execute_result",
          "data": {
            "image/png": "[encoded data removed]",
            "text/latex": "$\\displaystyle 3 \\sqrt{6}$",
            "text/plain": [
              "3⋅√6"
            ]
          },
          "metadata": {
            "tags": []
          },
          "execution_count": 28
        }
      ]
    },
    {
      "cell_type": "code",
      "metadata": {
        "id": "3TBLQ8olX7iv",
        "outputId": "8bc49156-be3a-4301-8c70-0cb4b90c6d2a"
      },
      "source": [
        "A = np.array([[2, 3], [5, 4]])\n",
        "b = np.array([4, 3])\n",
        "np.linalg.matrix_rank(A)"
      ],
      "execution_count": null,
      "outputs": [
        {
          "output_type": "execute_result",
          "data": {
            "text/plain": [
              "2"
            ]
          },
          "metadata": {
            "tags": []
          },
          "execution_count": 29
        }
      ]
    },
    {
      "cell_type": "code",
      "metadata": {
        "id": "_DyzvTkxX7iv",
        "outputId": "dfe1e1d7-18ad-479d-aaf4-9ee238343568"
      },
      "source": [
        "np.linalg.cond(A)"
      ],
      "execution_count": null,
      "outputs": [
        {
          "output_type": "execute_result",
          "data": {
            "image/png": "[encoded data removed]",
            "text/latex": "$\\displaystyle 7.582401374401516$",
            "text/plain": [
              "7.582401374401516"
            ]
          },
          "metadata": {
            "tags": []
          },
          "execution_count": 30
        }
      ]
    },
    {
      "cell_type": "code",
      "metadata": {
        "id": "XjzPsyJ-X7iw",
        "outputId": "53f41533-ab47-46a7-c14a-68272491090c"
      },
      "source": [
        "np.linalg.norm(A)"
      ],
      "execution_count": null,
      "outputs": [
        {
          "output_type": "execute_result",
          "data": {
            "image/png": "[encoded data removed]",
            "text/latex": "$\\displaystyle 7.3484692283495345$",
            "text/plain": [
              "7.3484692283495345"
            ]
          },
          "metadata": {
            "tags": []
          },
          "execution_count": 31
        }
      ]
    },
    {
      "cell_type": "markdown",
      "metadata": {
        "id": "QE0-rXfJX7iw"
      },
      "source": [
        "### Solving Systems of Linear Equation Using: __sympy__"
      ]
    },
    {
      "cell_type": "code",
      "metadata": {
        "id": "3olWif35X7iw"
      },
      "source": [
        "A = spy.Matrix([[2, 3], [5, 4]])\n",
        "b = spy.Matrix([4, 3])"
      ],
      "execution_count": null,
      "outputs": []
    },
    {
      "cell_type": "code",
      "metadata": {
        "id": "HOWBlTx_X7iw"
      },
      "source": [
        "L, U, _= A.LUdecomposition()"
      ],
      "execution_count": null,
      "outputs": []
    },
    {
      "cell_type": "code",
      "metadata": {
        "id": "uUwo_veLX7iw",
        "outputId": "b6d3c0a4-03aa-477e-ecbb-d3b5e9d03ef1"
      },
      "source": [
        "L"
      ],
      "execution_count": null,
      "outputs": [
        {
          "output_type": "execute_result",
          "data": {
            "image/png": "[encoded data removed]",
            "text/latex": "$\\displaystyle \\left[\\begin{matrix}1 & 0\\\\\\frac{5}{2} & 1\\end{matrix}\\right]$",
            "text/plain": [
              "⎡ 1   0⎤\n",
              "⎢      ⎥\n",
              "⎣5/2  1⎦"
            ]
          },
          "metadata": {
            "tags": []
          },
          "execution_count": 35
        }
      ]
    },
    {
      "cell_type": "code",
      "metadata": {
        "id": "2JxwubeAX7ix",
        "outputId": "3641c231-339a-4615-8413-6068bbe33ac4"
      },
      "source": [
        "U"
      ],
      "execution_count": null,
      "outputs": [
        {
          "output_type": "execute_result",
          "data": {
            "image/png": "[encoded data removed]",
            "text/latex": "$\\displaystyle \\left[\\begin{matrix}2 & 3\\\\0 & - \\frac{7}{2}\\end{matrix}\\right]$",
            "text/plain": [
              "⎡2   3  ⎤\n",
              "⎢       ⎥\n",
              "⎣0  -7/2⎦"
            ]
          },
          "metadata": {
            "tags": []
          },
          "execution_count": 36
        }
      ]
    },
    {
      "cell_type": "code",
      "metadata": {
        "id": "ZzsXcBetX7ix",
        "outputId": "2c429781-1719-4723-8fc5-b47b842e6f5a"
      },
      "source": [
        "L*U"
      ],
      "execution_count": null,
      "outputs": [
        {
          "output_type": "execute_result",
          "data": {
            "image/png": "[encoded data removed]",
            "text/latex": "$\\displaystyle \\left[\\begin{matrix}2 & 3\\\\5 & 4\\end{matrix}\\right]$",
            "text/plain": [
              "⎡2  3⎤\n",
              "⎢    ⎥\n",
              "⎣5  4⎦"
            ]
          },
          "metadata": {
            "tags": []
          },
          "execution_count": 37
        }
      ]
    },
    {
      "cell_type": "code",
      "metadata": {
        "id": "T3h4XHLNX7ix",
        "outputId": "3e7f49f5-9ff6-48bf-e67e-06268b6155cc"
      },
      "source": [
        "x = A.solve(b); x  # equivalent to A.LUsolve(b)"
      ],
      "execution_count": null,
      "outputs": [
        {
          "output_type": "execute_result",
          "data": {
            "image/png": "[encoded data removed]",
            "text/latex": "$\\displaystyle \\left[\\begin{matrix}-1\\\\2\\end{matrix}\\right]$",
            "text/plain": [
              "⎡-1⎤\n",
              "⎢  ⎥\n",
              "⎣2 ⎦"
            ]
          },
          "metadata": {
            "tags": []
          },
          "execution_count": 38
        }
      ]
    },
    {
      "cell_type": "markdown",
      "metadata": {
        "id": "2wTgTf68X7ix"
      },
      "source": [
        "### Solving Systems of Linear Equation Using: __scipy__"
      ]
    },
    {
      "cell_type": "code",
      "metadata": {
        "id": "e0vLMqVgX7iy"
      },
      "source": [
        "A = np.array([[2, 3], [5, 4]])\n",
        "b = np.array([4, 3])\n",
        "P, L, U = la.lu(A)"
      ],
      "execution_count": null,
      "outputs": []
    },
    {
      "cell_type": "code",
      "metadata": {
        "id": "OuZ8NF03X7iy",
        "outputId": "fb824061-6ec3-438d-fba7-3b4caaba0bb4"
      },
      "source": [
        "P"
      ],
      "execution_count": null,
      "outputs": [
        {
          "output_type": "execute_result",
          "data": {
            "text/plain": [
              "array([[0., 1.],\n",
              "       [1., 0.]])"
            ]
          },
          "metadata": {
            "tags": []
          },
          "execution_count": 40
        }
      ]
    },
    {
      "cell_type": "code",
      "metadata": {
        "id": "uuKvMYj9X7iy",
        "outputId": "8894d95f-c3d4-49af-8516-60751b47da38"
      },
      "source": [
        "L"
      ],
      "execution_count": null,
      "outputs": [
        {
          "output_type": "execute_result",
          "data": {
            "text/plain": [
              "array([[1. , 0. ],\n",
              "       [0.4, 1. ]])"
            ]
          },
          "metadata": {
            "tags": []
          },
          "execution_count": 41
        }
      ]
    },
    {
      "cell_type": "code",
      "metadata": {
        "scrolled": true,
        "id": "r-mYUiSWX7iy",
        "outputId": "79b37d3a-e0df-4798-a467-8fdec9a05a22"
      },
      "source": [
        "U"
      ],
      "execution_count": null,
      "outputs": [
        {
          "output_type": "execute_result",
          "data": {
            "text/plain": [
              "array([[5. , 4. ],\n",
              "       [0. , 1.4]])"
            ]
          },
          "metadata": {
            "tags": []
          },
          "execution_count": 42
        }
      ]
    },
    {
      "cell_type": "code",
      "metadata": {
        "id": "p3UkTuzuX7iz",
        "outputId": "19f86c24-9fa6-4e85-da3f-576ad564daf6"
      },
      "source": [
        "P.dot(L.dot(U))"
      ],
      "execution_count": null,
      "outputs": [
        {
          "output_type": "execute_result",
          "data": {
            "text/plain": [
              "array([[2., 3.],\n",
              "       [5., 4.]])"
            ]
          },
          "metadata": {
            "tags": []
          },
          "execution_count": 43
        }
      ]
    },
    {
      "cell_type": "code",
      "metadata": {
        "id": "nFC6wQZpX7iz",
        "outputId": "f9403612-97ab-4314-a9ce-e1a7e6776246"
      },
      "source": [
        "la.solve(A, b)"
      ],
      "execution_count": null,
      "outputs": [
        {
          "output_type": "execute_result",
          "data": {
            "text/plain": [
              "array([-1.,  2.])"
            ]
          },
          "metadata": {
            "tags": []
          },
          "execution_count": 44
        }
      ]
    },
    {
      "cell_type": "markdown",
      "metadata": {
        "id": "RTtg4W9gX7iz"
      },
      "source": [
        "### Eigenvalues and eigenvectors"
      ]
    },
    {
      "cell_type": "code",
      "metadata": {
        "id": "YUiLi4h6X7iz"
      },
      "source": [
        "evals, evecs = la.eig(A)"
      ],
      "execution_count": null,
      "outputs": []
    },
    {
      "cell_type": "code",
      "metadata": {
        "id": "w_2h9fudX7i0",
        "outputId": "9a07783d-5673-4f58-8619-e7e65e5ce21b"
      },
      "source": [
        "evals"
      ],
      "execution_count": null,
      "outputs": [
        {
          "output_type": "execute_result",
          "data": {
            "text/plain": [
              "array([-1.+0.j,  7.+0.j])"
            ]
          },
          "metadata": {
            "tags": []
          },
          "execution_count": 46
        }
      ]
    },
    {
      "cell_type": "code",
      "metadata": {
        "id": "hkCpfWXjX7i0",
        "outputId": "33022a92-7956-4c48-c690-8bd168175761"
      },
      "source": [
        "evecs"
      ],
      "execution_count": null,
      "outputs": [
        {
          "output_type": "execute_result",
          "data": {
            "text/plain": [
              "array([[-0.70710678, -0.51449576],\n",
              "       [ 0.70710678, -0.85749293]])"
            ]
          },
          "metadata": {
            "tags": []
          },
          "execution_count": 47
        }
      ]
    },
    {
      "cell_type": "markdown",
      "metadata": {
        "id": "cOjfxbCVX7i0"
      },
      "source": [
        "### Matrix Operations"
      ]
    },
    {
      "cell_type": "code",
      "metadata": {
        "id": "E8xElxI-X7i0",
        "outputId": "c2d04757-6abe-4f55-d549-a13f172149f4"
      },
      "source": [
        "# the matrix inverse\n",
        "la.inv(A)"
      ],
      "execution_count": null,
      "outputs": [
        {
          "output_type": "execute_result",
          "data": {
            "text/plain": [
              "array([[-0.57142857,  0.42857143],\n",
              "       [ 0.71428571, -0.28571429]])"
            ]
          },
          "metadata": {
            "tags": []
          },
          "execution_count": 48
        }
      ]
    },
    {
      "cell_type": "code",
      "metadata": {
        "id": "MvIP1lZGX7i0",
        "outputId": "0808890b-4bb8-49c0-dd82-4128436c35da"
      },
      "source": [
        "# Determinant\n",
        "la.det(A)"
      ],
      "execution_count": null,
      "outputs": [
        {
          "output_type": "execute_result",
          "data": {
            "image/png": "[encoded data removed]",
            "text/latex": "$\\displaystyle -7.0$",
            "text/plain": [
              "-7.0"
            ]
          },
          "metadata": {
            "tags": []
          },
          "execution_count": 49
        }
      ]
    },
    {
      "cell_type": "code",
      "metadata": {
        "id": "vs8SVxReX7i1",
        "outputId": "15c4c41c-7c04-4575-ca51-3d655c964467"
      },
      "source": [
        "# Norm\n",
        "la.norm(A)"
      ],
      "execution_count": null,
      "outputs": [
        {
          "output_type": "execute_result",
          "data": {
            "image/png": "[encoded data removed]",
            "text/latex": "$\\displaystyle 7.3484692283495345$",
            "text/plain": [
              "7.3484692283495345"
            ]
          },
          "metadata": {
            "tags": []
          },
          "execution_count": 50
        }
      ]
    },
    {
      "cell_type": "markdown",
      "metadata": {
        "id": "p2_sZ8Q5X7i1"
      },
      "source": [
        "### Sparse matrices\n",
        "\n",
        "Sparse matrices are often useful in numerical simulations dealing with large systems, if the problem can be\n",
        "described in matrix form where the matrices or vectors mostly contains zeros. Scipy has a good support for\n",
        "sparse matrices, with basic linear algebra operations (such as equation solving, eigenvalue calculations, etc).\n",
        "\n",
        "There are many possible strategies for storing sparse matrices in an efficient way. Some of the most \n",
        "common are the so-called __coordinate form (COO)__, __list of list (LIL)__ form, and __compressed-sparse column CSC (and row, CSR__). Each format has some advantanges and disadvantages. Most computational algorithms\n",
        "(equation solving, matrix-matrix multiplication, etc) can be efficiently implemented using __CSR__ or __CSC__\n",
        "formats, but they are not so intuitive and not so easy to initialize. So often a sparse matrix is initially\n",
        "created in __COO__ or __LIL__ format (where we can efficiently add elements to the sparse matrix data), and then converted to __CSC__ or __CSR__ before used in real calcalations."
      ]
    },
    {
      "cell_type": "code",
      "metadata": {
        "id": "zTo_Dbm-X7i1"
      },
      "source": [
        "import scipy.sparse as sp"
      ],
      "execution_count": null,
      "outputs": []
    },
    {
      "cell_type": "code",
      "metadata": {
        "id": "5wfO1wEbX7i1",
        "outputId": "99aa4d05-aad2-420d-b27d-4142b7f6b259"
      },
      "source": [
        "# dense matrix\n",
        "M = np.array([[1,0,0,0], [0,3,0,0], [0,1,1,0], [1,0,0,1]])\n",
        "M"
      ],
      "execution_count": null,
      "outputs": [
        {
          "output_type": "execute_result",
          "data": {
            "text/plain": [
              "array([[1, 0, 0, 0],\n",
              "       [0, 3, 0, 0],\n",
              "       [0, 1, 1, 0],\n",
              "       [1, 0, 0, 1]])"
            ]
          },
          "metadata": {
            "tags": []
          },
          "execution_count": 52
        }
      ]
    },
    {
      "cell_type": "code",
      "metadata": {
        "id": "Ch7sc0ZaX7i2",
        "outputId": "797f97be-3e6d-43be-cf64-83fd76ba411f"
      },
      "source": [
        "# convert from dense to sparse\n",
        "A = sp.csr_matrix(M);\n",
        "A"
      ],
      "execution_count": null,
      "outputs": [
        {
          "output_type": "execute_result",
          "data": {
            "text/plain": [
              "<4x4 sparse matrix of type '<class 'numpy.int64'>'\n",
              "\twith 6 stored elements in Compressed Sparse Row format>"
            ]
          },
          "metadata": {
            "tags": []
          },
          "execution_count": 53
        }
      ]
    },
    {
      "cell_type": "code",
      "metadata": {
        "id": "eNIAgQpqX7i2",
        "outputId": "fcb41b3c-680e-4667-8c18-aede840e0d91"
      },
      "source": [
        "# convert from sparse to dense\n",
        "A.todense()"
      ],
      "execution_count": null,
      "outputs": [
        {
          "output_type": "execute_result",
          "data": {
            "text/plain": [
              "matrix([[1, 0, 0, 0],\n",
              "        [0, 3, 0, 0],\n",
              "        [0, 1, 1, 0],\n",
              "        [1, 0, 0, 1]], dtype=int64)"
            ]
          },
          "metadata": {
            "tags": []
          },
          "execution_count": 54
        }
      ]
    },
    {
      "cell_type": "markdown",
      "metadata": {
        "id": "IPw9GQoQX7i2"
      },
      "source": [
        "More efficient way to create sparse matrices: create an empty matrix and populate with using matrix\n",
        "indexing (avoids creating a potentially large dense matrix)"
      ]
    },
    {
      "cell_type": "code",
      "metadata": {
        "id": "AaT_kt5DX7i2",
        "outputId": "44163963-4e84-4ac4-ffda-506e9a09a332"
      },
      "source": [
        "A = sp.lil_matrix((4,4)) # empty 4x4 sparse matrix\n",
        "A"
      ],
      "execution_count": null,
      "outputs": [
        {
          "output_type": "execute_result",
          "data": {
            "text/plain": [
              "<4x4 sparse matrix of type '<class 'numpy.float64'>'\n",
              "\twith 0 stored elements in LInked List format>"
            ]
          },
          "metadata": {
            "tags": []
          },
          "execution_count": 55
        }
      ]
    },
    {
      "cell_type": "markdown",
      "metadata": {
        "id": "kZGc-cY1X7i3"
      },
      "source": [
        "<span style=\"background:red\">#TODO</span> "
      ]
    },
    {
      "cell_type": "code",
      "metadata": {
        "id": "UgMHksXLX7i3"
      },
      "source": [
        "# Let's store the elements of the matrix using there index\n",
        "\n",
        "A[0,0]=1\n",
        "A[1,1]=3\n",
        "A[2,1] = 1\n",
        "A[2,2] =1\n",
        "A[3,0]=1\n",
        "A[3,3] = 1\n"
      ],
      "execution_count": null,
      "outputs": []
    },
    {
      "cell_type": "markdown",
      "metadata": {
        "id": "T7UTVmZ6X7i3"
      },
      "source": [
        "Converting between different sparse matrix formats:"
      ]
    },
    {
      "cell_type": "code",
      "metadata": {
        "id": "gPmTfCioX7i3",
        "outputId": "3cb88bd4-7d87-4e81-e732-5c1f90b70dfb"
      },
      "source": [
        "A"
      ],
      "execution_count": null,
      "outputs": [
        {
          "output_type": "execute_result",
          "data": {
            "text/plain": [
              "<4x4 sparse matrix of type '<class 'numpy.float64'>'\n",
              "\twith 6 stored elements in LInked List format>"
            ]
          },
          "metadata": {
            "tags": []
          },
          "execution_count": 57
        }
      ]
    },
    {
      "cell_type": "code",
      "metadata": {
        "id": "RwZJm6lmX7i4",
        "outputId": "daf6e128-8bdf-44ab-b688-89e0b79ab5f2"
      },
      "source": [
        "A = sp.csr_matrix(A)\n",
        "A"
      ],
      "execution_count": null,
      "outputs": [
        {
          "output_type": "execute_result",
          "data": {
            "text/plain": [
              "<4x4 sparse matrix of type '<class 'numpy.float64'>'\n",
              "\twith 6 stored elements in Compressed Sparse Row format>"
            ]
          },
          "metadata": {
            "tags": []
          },
          "execution_count": 58
        }
      ]
    },
    {
      "cell_type": "code",
      "metadata": {
        "id": "YWRT3m9CX7i4",
        "outputId": "aef7778a-30b2-44a3-981e-607c488f2a60"
      },
      "source": [
        "A = sp.csc_matrix(A)\n",
        "A"
      ],
      "execution_count": null,
      "outputs": [
        {
          "output_type": "execute_result",
          "data": {
            "text/plain": [
              "<4x4 sparse matrix of type '<class 'numpy.float64'>'\n",
              "\twith 6 stored elements in Compressed Sparse Column format>"
            ]
          },
          "metadata": {
            "tags": []
          },
          "execution_count": 59
        }
      ]
    },
    {
      "cell_type": "markdown",
      "metadata": {
        "id": "7U10cLBjX7i4"
      },
      "source": [
        "We can compute with sparse matrices like with dense matrices:"
      ]
    },
    {
      "cell_type": "code",
      "metadata": {
        "id": "CHaWV6ILX7i4",
        "outputId": "53882684-5def-4b86-f01d-baf8163b5db0"
      },
      "source": [
        "A.todense()"
      ],
      "execution_count": null,
      "outputs": [
        {
          "output_type": "execute_result",
          "data": {
            "text/plain": [
              "matrix([[1., 0., 0., 0.],\n",
              "        [0., 3., 0., 0.],\n",
              "        [0., 1., 1., 0.],\n",
              "        [1., 0., 0., 1.]])"
            ]
          },
          "metadata": {
            "tags": []
          },
          "execution_count": 60
        }
      ]
    },
    {
      "cell_type": "code",
      "metadata": {
        "id": "8qYO9edWX7i4",
        "outputId": "96b8b77d-0727-47c2-de09-28f541438b3b"
      },
      "source": [
        "A"
      ],
      "execution_count": null,
      "outputs": [
        {
          "output_type": "execute_result",
          "data": {
            "text/plain": [
              "<4x4 sparse matrix of type '<class 'numpy.float64'>'\n",
              "\twith 6 stored elements in Compressed Sparse Column format>"
            ]
          },
          "metadata": {
            "tags": []
          },
          "execution_count": 61
        }
      ]
    },
    {
      "cell_type": "code",
      "metadata": {
        "id": "JxHFVIoIX7i5",
        "outputId": "1e444209-d5d5-4fcc-bf4f-347a134b7ef7"
      },
      "source": [
        "(A * A).todense()"
      ],
      "execution_count": null,
      "outputs": [
        {
          "output_type": "execute_result",
          "data": {
            "text/plain": [
              "matrix([[1., 0., 0., 0.],\n",
              "        [0., 9., 0., 0.],\n",
              "        [0., 4., 1., 0.],\n",
              "        [2., 0., 0., 1.]])"
            ]
          },
          "metadata": {
            "tags": []
          },
          "execution_count": 62
        }
      ]
    },
    {
      "cell_type": "code",
      "metadata": {
        "id": "tbnWcll2X7i5",
        "outputId": "ff537de1-004b-4048-f802-caa4990228df"
      },
      "source": [
        "A.todense()"
      ],
      "execution_count": null,
      "outputs": [
        {
          "output_type": "execute_result",
          "data": {
            "text/plain": [
              "matrix([[1., 0., 0., 0.],\n",
              "        [0., 3., 0., 0.],\n",
              "        [0., 1., 1., 0.],\n",
              "        [1., 0., 0., 1.]])"
            ]
          },
          "metadata": {
            "tags": []
          },
          "execution_count": 63
        }
      ]
    },
    {
      "cell_type": "code",
      "metadata": {
        "id": "Od8eUG0yX7i5",
        "outputId": "9df6b85b-c3aa-4600-8a05-4d91759b0a07"
      },
      "source": [
        "A.dot(A).todense()"
      ],
      "execution_count": null,
      "outputs": [
        {
          "output_type": "execute_result",
          "data": {
            "text/plain": [
              "matrix([[1., 0., 0., 0.],\n",
              "        [0., 9., 0., 0.],\n",
              "        [0., 4., 1., 0.],\n",
              "        [2., 0., 0., 1.]])"
            ]
          },
          "metadata": {
            "tags": []
          },
          "execution_count": 64
        }
      ]
    },
    {
      "cell_type": "code",
      "metadata": {
        "id": "jPH0aOAKX7i5",
        "outputId": "e02203b2-bc32-4b6c-b302-56c80f256fff"
      },
      "source": [
        "v = np.array([1,2,3,4])[:,np.newaxis]\n",
        "v"
      ],
      "execution_count": null,
      "outputs": [
        {
          "output_type": "execute_result",
          "data": {
            "text/plain": [
              "array([[1],\n",
              "       [2],\n",
              "       [3],\n",
              "       [4]])"
            ]
          },
          "metadata": {
            "tags": []
          },
          "execution_count": 65
        }
      ]
    },
    {
      "cell_type": "code",
      "metadata": {
        "id": "GtDFTqqUX7i6",
        "outputId": "dca17a88-3fa9-48d0-9cb8-a0cf69a6bfcb"
      },
      "source": [
        "# sparse matrix - dense vector multiplication\n",
        "A*v"
      ],
      "execution_count": null,
      "outputs": [
        {
          "output_type": "execute_result",
          "data": {
            "text/plain": [
              "array([[1.],\n",
              "       [6.],\n",
              "       [5.],\n",
              "       [5.]])"
            ]
          },
          "metadata": {
            "tags": []
          },
          "execution_count": 66
        }
      ]
    },
    {
      "cell_type": "code",
      "metadata": {
        "id": "VQSXfnojX7i6",
        "outputId": "be1bc6db-b251-46c5-d534-4ff0568cf1cb"
      },
      "source": [
        "# same result with dense matrix - dense vector multiplcation\n",
        "A.todense()*v"
      ],
      "execution_count": null,
      "outputs": [
        {
          "output_type": "execute_result",
          "data": {
            "text/plain": [
              "matrix([[1.],\n",
              "        [6.],\n",
              "        [5.],\n",
              "        [5.]])"
            ]
          },
          "metadata": {
            "tags": []
          },
          "execution_count": 67
        }
      ]
    },
    {
      "cell_type": "markdown",
      "metadata": {
        "id": "Et1EAgJqX7i6"
      },
      "source": [
        "## Interpolation"
      ]
    },
    {
      "cell_type": "markdown",
      "metadata": {
        "id": "Sn2OMmI2X7i6"
      },
      "source": [
        "Interpolation is a mathematical method for constructing a function from a discrete set of data points. The interpolation function, or __interpolant__, should __exactly coincide__ with the given data points, and it can also be evaluated for other intermediate input values within the sampled range."
      ]
    },
    {
      "cell_type": "markdown",
      "metadata": {
        "id": "AGVr5-oEX7i6"
      },
      "source": [
        "### 1-D Interpolation\n",
        "\n",
        "Let us create some data and see how this interpolation can be done using the scipy.interpolate package."
      ]
    },
    {
      "cell_type": "code",
      "metadata": {
        "id": "SOFBYE9XX7i7"
      },
      "source": [
        "import numpy as np\n",
        "from scipy import interpolate as Interp\n",
        "import matplotlib.pyplot as plt\n",
        "x = np.linspace(0, 4, 12)\n",
        "y = np.cos(x**2/3+4)"
      ],
      "execution_count": null,
      "outputs": []
    },
    {
      "cell_type": "markdown",
      "metadata": {
        "id": "IfRvUe79X7i7"
      },
      "source": [
        "Now, we have two arrays. Assuming those two arrays as the two dimensions of the points in space, let us plot using the following program and see how they look like."
      ]
    },
    {
      "cell_type": "code",
      "metadata": {
        "id": "eYRV4OYxX7i7",
        "outputId": "5670c3ba-7389-417b-80b9-7e115fe73402"
      },
      "source": [
        "plt.plot(x, y,'o')\n",
        "plt.show()"
      ],
      "execution_count": null,
      "outputs": [
        {
          "output_type": "display_data",
          "data": {
            "image/png": "[encoded data removed]",
            "text/plain": [
              "<Figure size 432x288 with 1 Axes>"
            ]
          },
          "metadata": {
            "tags": [],
            "needs_background": "light"
          }
        }
      ]
    },
    {
      "cell_type": "markdown",
      "metadata": {
        "id": "bcstK48EX7i7"
      },
      "source": [
        "The __interp1d__ class in the __scipy.interpolate__ is a convenient method to create a function based on fixed data points, which can be evaluated anywhere within the domain defined by the given data using linear interpolation.\n",
        "\n",
        "By using the above data, let us create a interpolate function and draw a new interpolated graph."
      ]
    },
    {
      "cell_type": "code",
      "metadata": {
        "id": "Ozr0UE4SX7i8"
      },
      "source": [
        "f1 = Interp.interp1d(x, y,kind = 'linear')"
      ],
      "execution_count": null,
      "outputs": []
    },
    {
      "cell_type": "code",
      "metadata": {
        "id": "0ICG7o9HX7i8"
      },
      "source": [
        "f2 = Interp.interp1d(x, y, kind = 'cubic')"
      ],
      "execution_count": null,
      "outputs": []
    },
    {
      "cell_type": "markdown",
      "metadata": {
        "id": "MwMP1InWX7i8"
      },
      "source": [
        "Using the __interp1d__ function, we created two functions __f1__ and __f2__. These functions, for a given input $x$ returns $y$. The third variable kind represents the type of the interpolation technique. __'Linear'__, __'Nearest'__, __'Zero'__, __'Slinear'__, __'Quadratic'__, __'Cubic'__ are a few techniques of interpolation.\n",
        "\n",
        "Now, let us create a new input of more length to see the clear difference of interpolation. We will use the same function of the old data on the new data."
      ]
    },
    {
      "cell_type": "code",
      "metadata": {
        "id": "EiqMe-oYX7i8"
      },
      "source": [
        "%matplotlib qt\n",
        "xnew = np.linspace(0, 4,30)\n",
        "\n",
        "plt.plot(x, y, 'o',  xnew, f2(xnew), '--')\n",
        "\n",
        "plt.legend(['data', 'linear', 'cubic'], loc = 'best')\n",
        "\n",
        "plt.show()"
      ],
      "execution_count": null,
      "outputs": []
    },
    {
      "cell_type": "markdown",
      "metadata": {
        "id": "C1HEq_YpX7i8"
      },
      "source": [
        "### Polynomials"
      ]
    },
    {
      "cell_type": "code",
      "metadata": {
        "id": "pUi37WRfX7i9"
      },
      "source": [
        "from numpy import polynomial as P"
      ],
      "execution_count": null,
      "outputs": []
    },
    {
      "cell_type": "code",
      "metadata": {
        "id": "Yr9av_W7X7i9"
      },
      "source": [
        "p1 = P.Polynomial([1,2,3])"
      ],
      "execution_count": null,
      "outputs": []
    },
    {
      "cell_type": "code",
      "metadata": {
        "id": "Q5rJfZt0X7i9",
        "outputId": "4caabf1d-edba-45cd-a1e3-3a1f5fe0136a"
      },
      "source": [
        "p1"
      ],
      "execution_count": null,
      "outputs": [
        {
          "output_type": "execute_result",
          "data": {
            "text/latex": "$x \\mapsto \\text{1.0} + \\text{2.0}\\,x + \\text{3.0}\\,x^{2}$",
            "text/plain": [
              "Polynomial([1., 2., 3.], domain=[-1,  1], window=[-1,  1])"
            ]
          },
          "metadata": {
            "tags": []
          },
          "execution_count": 75
        }
      ]
    },
    {
      "cell_type": "code",
      "metadata": {
        "id": "_sTowfm3X7i9",
        "outputId": "d055dcf1-6977-4a28-9e71-fb6a61c4d480"
      },
      "source": [
        "p2 = P.Polynomial.fromroots([-1, 1])\n",
        "p2"
      ],
      "execution_count": null,
      "outputs": [
        {
          "output_type": "execute_result",
          "data": {
            "text/latex": "$x \\mapsto \\text{-1.0}\\color{LightGray}{ + \\text{0.0}\\,x} + \\text{1.0}\\,x^{2}$",
            "text/plain": [
              "Polynomial([-1.,  0.,  1.], domain=[-1.,  1.], window=[-1.,  1.])"
            ]
          },
          "metadata": {
            "tags": []
          },
          "execution_count": 76
        }
      ]
    },
    {
      "cell_type": "markdown",
      "metadata": {
        "id": "ewHckLPYX7i9"
      },
      "source": [
        "The polynomial with roots at $x = -1$ and $x = 1$, for example, can be created using:"
      ]
    },
    {
      "cell_type": "code",
      "metadata": {
        "id": "P91i7Q7kX7i-",
        "outputId": "cbc6ec0c-e9ed-4c3a-d3f4-c83fec5b50e5"
      },
      "source": [
        "p2.roots()"
      ],
      "execution_count": null,
      "outputs": [
        {
          "output_type": "execute_result",
          "data": {
            "text/plain": [
              "array([-1.,  1.])"
            ]
          },
          "metadata": {
            "tags": []
          },
          "execution_count": 77
        }
      ]
    },
    {
      "cell_type": "markdown",
      "metadata": {
        "id": "AZ3tdC8fX7i-"
      },
      "source": [
        "The properties of a Polynomial instance can be directly accessed using the __coeff__, __domain__, and __window__ attributes. For example, for the p1 polynomial defined in the preceding example, we have"
      ]
    },
    {
      "cell_type": "code",
      "metadata": {
        "id": "f8cTD1uNX7i-",
        "outputId": "77086bcd-6507-452c-bf7a-93a9922f69b1"
      },
      "source": [
        "p1.coef"
      ],
      "execution_count": null,
      "outputs": [
        {
          "output_type": "execute_result",
          "data": {
            "text/plain": [
              "array([1., 2., 3.])"
            ]
          },
          "metadata": {
            "tags": []
          },
          "execution_count": 78
        }
      ]
    },
    {
      "cell_type": "code",
      "metadata": {
        "id": "xBeOXqX0X7i-",
        "outputId": "2bd553b2-b6e7-4034-c380-61c057d44084"
      },
      "source": [
        "p1.domain"
      ],
      "execution_count": null,
      "outputs": [
        {
          "output_type": "execute_result",
          "data": {
            "text/plain": [
              "array([-1,  1])"
            ]
          },
          "metadata": {
            "tags": []
          },
          "execution_count": 79
        }
      ]
    },
    {
      "cell_type": "code",
      "metadata": {
        "id": "VVSy4SgYX7i-",
        "outputId": "c231e41d-f3ab-4bd4-f1d5-fddd9d4ba188"
      },
      "source": [
        "p1.window"
      ],
      "execution_count": null,
      "outputs": [
        {
          "output_type": "execute_result",
          "data": {
            "text/plain": [
              "array([-1,  1])"
            ]
          },
          "metadata": {
            "tags": []
          },
          "execution_count": 80
        }
      ]
    },
    {
      "cell_type": "markdown",
      "metadata": {
        "id": "7Pyn2xauX7i_"
      },
      "source": [
        "Evaluating polynomial at arbitrary values"
      ]
    },
    {
      "cell_type": "code",
      "metadata": {
        "id": "yHJV9m1bX7i_",
        "outputId": "c1431859-f79f-470c-d2c3-37e2dffdd824"
      },
      "source": [
        "p1(np.array([1.5, 2.5, 3.5]))"
      ],
      "execution_count": null,
      "outputs": [
        {
          "output_type": "execute_result",
          "data": {
            "text/plain": [
              "array([10.75, 24.75, 44.75])"
            ]
          },
          "metadata": {
            "tags": []
          },
          "execution_count": 81
        }
      ]
    },
    {
      "cell_type": "markdown",
      "metadata": {
        "id": "3gd6Qv0fX7i_"
      },
      "source": [
        "In addition to the Polynomial class for polynomials in the standard power basis, the polynomial module also has classes for representing polynomials in __Chebyshev__, __Legendre__, __Laguerre__, and __Hermite__ bases. \n",
        "\n",
        "For example, the Chebyshev polynomial with coefficient list $[1, 2, 3]$, that is, the polynomial $1T_0(x)+2T_1(x)+3T_2(x)$, where $T_i(x)$ is the Chebyshev polynomial of order $i$, can be created\n",
        "using:"
      ]
    },
    {
      "cell_type": "code",
      "metadata": {
        "id": "gcjTee0wX7i_",
        "outputId": "1bbdb158-0f77-4c55-fa05-7e8a23a26e8d"
      },
      "source": [
        "c1 = P.Chebyshev([1, 2, 3])\n",
        "c1"
      ],
      "execution_count": null,
      "outputs": [
        {
          "output_type": "execute_result",
          "data": {
            "text/latex": "$x \\mapsto \\text{1.0}\\,{T}_{0}(x) + \\text{2.0}\\,{T}_{1}(x) + \\text{3.0}\\,{T}_{2}(x)$",
            "text/plain": [
              "Chebyshev([1., 2., 3.], domain=[-1,  1], window=[-1,  1])"
            ]
          },
          "metadata": {
            "tags": []
          },
          "execution_count": 82
        }
      ]
    },
    {
      "cell_type": "code",
      "metadata": {
        "id": "jmqXdXfjX7i_"
      },
      "source": [
        "c1 = P.Chebyshev.fromroots([-1, 1])"
      ],
      "execution_count": null,
      "outputs": []
    },
    {
      "cell_type": "code",
      "metadata": {
        "id": "oYRZk_7sX7jA",
        "outputId": "2afa6791-b7f9-4191-f634-dc7449355126"
      },
      "source": [
        "c1"
      ],
      "execution_count": null,
      "outputs": [
        {
          "output_type": "execute_result",
          "data": {
            "text/latex": "$x \\mapsto \\text{-0.5}\\,{T}_{0}(x)\\color{LightGray}{ + \\text{0.0}\\,{T}_{1}(x)} + \\text{0.5}\\,{T}_{2}(x)$",
            "text/plain": [
              "Chebyshev([-0.5,  0. ,  0.5], domain=[-1.,  1.], window=[-1.,  1.])"
            ]
          },
          "metadata": {
            "tags": []
          },
          "execution_count": 84
        }
      ]
    },
    {
      "cell_type": "code",
      "metadata": {
        "id": "wFy03gk_X7jA"
      },
      "source": [
        "l1 = P.Legendre.fromroots([-1, 1])"
      ],
      "execution_count": null,
      "outputs": []
    },
    {
      "cell_type": "code",
      "metadata": {
        "id": "ClB9XHW4X7jA",
        "outputId": "49b972e4-c174-45a2-8e69-46bab6134eea"
      },
      "source": [
        "l1"
      ],
      "execution_count": null,
      "outputs": [
        {
          "output_type": "execute_result",
          "data": {
            "text/latex": "$x \\mapsto \\text{-0.6666666666666667}\\,{P}_{0}(x)\\color{LightGray}{ + \\text{0.0}\\,{P}_{1}(x)} + \\text{0.6666666666666666}\\,{P}_{2}(x)$",
            "text/plain": [
              "Legendre([-0.66666667,  0.        ,  0.66666667], domain=[-1.,  1.], window=[-1.,  1.])"
            ]
          },
          "metadata": {
            "tags": []
          },
          "execution_count": 86
        }
      ]
    },
    {
      "cell_type": "markdown",
      "metadata": {
        "id": "pYk0ofn7X7jA"
      },
      "source": [
        "### Polynomial Interpolation\n",
        "Consider the data points $(1, 1), (2, 3), (3, 5)$, and $(4, 4)$. We begin with creating NumPy array for the\n",
        "$x$ and $y$ coordinates for the data points."
      ]
    },
    {
      "cell_type": "code",
      "metadata": {
        "id": "5vZI4wDFX7jA"
      },
      "source": [
        "x = np.array([1, 2, 3, 4])\n",
        "y = np.array([1, 3, 5, 4])"
      ],
      "execution_count": null,
      "outputs": []
    },
    {
      "cell_type": "markdown",
      "metadata": {
        "id": "wm3h7jjoX7jB"
      },
      "source": [
        "To interpolate a polynomial through these points, we need to use a polynomial of third degree (number of data points minus one). For interpolation in the power basis, we seek the coefficient $c_i$ such that $f(x) = \\sum_{i=1}^{4} c_i x^{i-1}=c_1 x_0 + c_2 x^1 + c_3 x^2 + c_4 x^3$ , and to find this coefficient, we evaluate the __Vandermonde__ matrix and solve the interpolation equation system:"
      ]
    },
    {
      "cell_type": "code",
      "metadata": {
        "id": "SshR51qfX7jB"
      },
      "source": [
        "deg = len(x) - 1"
      ],
      "execution_count": null,
      "outputs": []
    },
    {
      "cell_type": "code",
      "metadata": {
        "id": "Ytzw1OMZX7jB"
      },
      "source": [
        "A = P.polynomial.polyvander(x, deg)"
      ],
      "execution_count": null,
      "outputs": []
    },
    {
      "cell_type": "code",
      "metadata": {
        "id": "ngRqmAjhX7jB"
      },
      "source": [
        "c = la.solve(A, y)"
      ],
      "execution_count": null,
      "outputs": []
    },
    {
      "cell_type": "code",
      "metadata": {
        "id": "k3XDTHKiX7jB"
      },
      "source": [
        "f1 = P.Polynomial(c)"
      ],
      "execution_count": null,
      "outputs": []
    },
    {
      "cell_type": "code",
      "metadata": {
        "id": "abWKd4roX7jB",
        "outputId": "84e0f60a-7e44-4ceb-d419-dc7b56c3ee85"
      },
      "source": [
        "f1"
      ],
      "execution_count": null,
      "outputs": [
        {
          "output_type": "execute_result",
          "data": {
            "text/latex": "$x \\mapsto \\text{2.0} - \\text{3.5}\\,x + \\text{3.0}\\,x^{2} - \\text{0.5}\\,x^{3}$",
            "text/plain": [
              "Polynomial([ 2. , -3.5,  3. , -0.5], domain=[-1,  1], window=[-1,  1])"
            ]
          },
          "metadata": {
            "tags": []
          },
          "execution_count": 93
        }
      ]
    },
    {
      "cell_type": "code",
      "metadata": {
        "id": "k9Ex6RlLX7jC"
      },
      "source": [
        "xnew = np.linspace(1,4,101)\n",
        "ynew = f1(xnew)"
      ],
      "execution_count": null,
      "outputs": []
    },
    {
      "cell_type": "code",
      "metadata": {
        "id": "Qh4jcB1mX7jC"
      },
      "source": [
        "plt.plot(x,y,'o')\n",
        "plt.plot(xnew,ynew,'r--')\n",
        "plt.show()"
      ],
      "execution_count": null,
      "outputs": []
    },
    {
      "cell_type": "markdown",
      "metadata": {
        "id": "3djUDC_hX7jC"
      },
      "source": [
        "To perform this polynomial interpolation in another polynomial basis, all that we need to change is the name of the function that was used to generate the Vandermonde matrix $A$ in the previous example. For example, to interpolate using the Chebyshev basis polynomials, we can do:"
      ]
    },
    {
      "cell_type": "code",
      "metadata": {
        "id": "CXubsnEbX7jC"
      },
      "source": [
        "A = P.chebyshev.chebvander(x, deg)"
      ],
      "execution_count": null,
      "outputs": []
    },
    {
      "cell_type": "code",
      "metadata": {
        "id": "cDjuWA27X7jC",
        "outputId": "9b355d2a-0195-4130-b0d1-aab92149f99f"
      },
      "source": [
        "c = la.solve(A, y)\n",
        "c"
      ],
      "execution_count": null,
      "outputs": [
        {
          "output_type": "execute_result",
          "data": {
            "text/plain": [
              "array([ 3.5  , -3.875,  1.5  , -0.125])"
            ]
          },
          "metadata": {
            "tags": []
          },
          "execution_count": 97
        }
      ]
    },
    {
      "cell_type": "markdown",
      "metadata": {
        "id": "g3zWiGLtX7jD"
      },
      "source": [
        "As expected, the coefficient array has different values in this basis, and the interpolation polynomial in the Chebyshev basis is $f(x) = 3.5T_0(x) - 3.875T_1(x)+1.5T_2(x) - 0.125T_3(x)$. However, regardless of the polynomial basis, the interpolation polynomial is unique, and evaluating the interpolant will always result in the same values:"
      ]
    },
    {
      "cell_type": "code",
      "metadata": {
        "id": "DhSK43VGX7jD"
      },
      "source": [
        "f2 = P.Chebyshev(c)"
      ],
      "execution_count": null,
      "outputs": []
    },
    {
      "cell_type": "code",
      "metadata": {
        "id": "5sH5hY1FX7jD"
      },
      "source": [
        "xnew = np.linspace(x.min(), x.max(), 100)\n",
        "\n",
        "fig, ax = plt.subplots(1, 1, figsize=(8, 4))\n",
        "\n",
        "ax.plot(xnew, f1(xnew), 'b', lw=2, label='Power basis interp.')\n",
        "ax.plot(xnew, f2(xnew), 'r--', lw=2, label='Chebyshev basis interp.')\n",
        "ax.scatter(x, y, label='data points')\n",
        "\n",
        "ax.legend(loc=4)\n",
        "ax.set_xticks(x)\n",
        "ax.set_ylabel(r\"$y$\", fontsize=18)\n",
        "ax.set_xlabel(r\"$x$\", fontsize=18)\n",
        "\n",
        "fig.tight_layout()"
      ],
      "execution_count": null,
      "outputs": []
    },
    {
      "cell_type": "markdown",
      "metadata": {
        "id": "gcEmD-8AX7jD"
      },
      "source": [
        "__Alternative Method:__    "
      ]
    },
    {
      "cell_type": "code",
      "metadata": {
        "id": "vR9OiAcCX7jD",
        "outputId": "917bb69a-3805-4f71-80ef-a7ae1b2413a3"
      },
      "source": [
        "f1b = P.Polynomial.fit(x, y, deg)\n",
        "f1b"
      ],
      "execution_count": null,
      "outputs": [
        {
          "output_type": "execute_result",
          "data": {
            "text/latex": "$x \\mapsto \\text{4.1875000000000036} + \\text{3.187499999999996}\\,\\left(\\text{-1.6666666666666667} + \\text{0.6666666666666666}x\\right) - \\text{1.687500000000004}\\,\\left(\\text{-1.6666666666666667} + \\text{0.6666666666666666}x\\right)^{2} - \\text{1.6874999999999973}\\,\\left(\\text{-1.6666666666666667} + \\text{0.6666666666666666}x\\right)^{3}$",
            "text/plain": [
              "Polynomial([ 4.1875,  3.1875, -1.6875, -1.6875], domain=[1., 4.], window=[-1.,  1.])"
            ]
          },
          "metadata": {
            "tags": []
          },
          "execution_count": 100
        }
      ]
    },
    {
      "cell_type": "markdown",
      "metadata": {
        "id": "8UgQKUAdX7jE"
      },
      "source": [
        "and by using the class method fit from the Chebyshev class instead, we obtain:"
      ]
    },
    {
      "cell_type": "code",
      "metadata": {
        "id": "zMNYd_v0X7jE"
      },
      "source": [
        "f2b = P.Chebyshev.fit(x, y, deg)"
      ],
      "execution_count": null,
      "outputs": []
    },
    {
      "cell_type": "code",
      "metadata": {
        "id": "PUYgX7ilX7jE",
        "outputId": "c4cf57e5-9379-45b9-854c-32b9cdb5df04"
      },
      "source": [
        "f2b"
      ],
      "execution_count": null,
      "outputs": [
        {
          "output_type": "execute_result",
          "data": {
            "text/latex": "$x \\mapsto \\text{3.3437500000000004}\\,{T}_{0}(\\text{-1.6666666666666667} + \\text{0.6666666666666666}x) + \\text{1.9218749999999991}\\,{T}_{1}(\\text{-1.6666666666666667} + \\text{0.6666666666666666}x) - \\text{0.8437500000000021}\\,{T}_{2}(\\text{-1.6666666666666667} + \\text{0.6666666666666666}x) - \\text{0.42187499999999944}\\,{T}_{3}(\\text{-1.6666666666666667} + \\text{0.6666666666666666}x)$",
            "text/plain": [
              "Chebyshev([ 3.34375 ,  1.921875, -0.84375 , -0.421875], domain=[1., 4.], window=[-1.,  1.])"
            ]
          },
          "metadata": {
            "tags": []
          },
          "execution_count": 102
        }
      ]
    },
    {
      "cell_type": "code",
      "metadata": {
        "id": "RxGc4cLKX7jE"
      },
      "source": [
        "f1 = P.Polynomial.fit(x, y, 1)\n",
        "f2 = P.Polynomial.fit(x, y, 2)\n",
        "f3 = P.Polynomial.fit(x, y, 3)"
      ],
      "execution_count": null,
      "outputs": []
    },
    {
      "cell_type": "code",
      "metadata": {
        "id": "9eA1QFMhX7jE"
      },
      "source": [
        "xx = np.linspace(x.min(), x.max(), 100)\n",
        "\n",
        "fig, ax = plt.subplots(1, 1, figsize=(8, 4))\n",
        "\n",
        "ax.plot(xx, f1(xx), 'r', lw=2, label='1st order')\n",
        "ax.plot(xx, f2(xx), 'g', lw=2, label='2nd order')\n",
        "ax.plot(xx, f3(xx), 'b', lw=2, label='3rd order')\n",
        "ax.scatter(x, y, label='data points')\n",
        "\n",
        "ax.legend(loc=4)\n",
        "ax.set_xticks(x)\n",
        "ax.set_ylabel(r\"$y$\", fontsize=18)\n",
        "ax.set_xlabel(r\"$x$\", fontsize=18);"
      ],
      "execution_count": null,
      "outputs": []
    },
    {
      "cell_type": "markdown",
      "metadata": {
        "id": "WSUo3bkkX7jE"
      },
      "source": [
        "Polynomial interpolation of a few data points is a powerful and useful mathematical tool, which is an important part of many mathematical methods. When the number of data points increases, we need to use increasingly high-order polynomials for exact interpolation, and this is problematic in several ways. \n",
        "\n",
        "__Runge's phenomenon__    is    aproblem  of  oscillation  at  the  edges  of  an interval  that  occurs  when  using  polynomial interpolation    with    polynomials    of    high degree over a set of equispaced interpolation points.\n",
        "\n",
        "Consider polynomial interpolation of __Runge's function__ $f(x) = 1/(1+25x^2 )$ using evenly spaced sample points\n",
        "in the interval $[-1, 1]$. The result is an interpolant that nearly diverges between the data points near the end of the interval. To illustrate this behavior, we create a Python function runge that implements Runge’s function, and a function __runge_interpolate__ that interpolates an nth order polynomial, in the power basis, to the Runge’s function at evenly spaced sample points:"
      ]
    },
    {
      "cell_type": "code",
      "metadata": {
        "id": "53ob7MzxX7jF"
      },
      "source": [
        "def runge(x):\n",
        "    y = 1/(1 + 25*x**2)\n",
        "    return(y)"
      ],
      "execution_count": null,
      "outputs": []
    },
    {
      "cell_type": "code",
      "metadata": {
        "id": "-g3JdI-BX7jF"
      },
      "source": [
        "def runge_interpolate(n):\n",
        "    x = np.linspace(-1, 1, n+1)\n",
        "    y = runge(x)\n",
        "    p = P.Polynomial.fit(x, y, deg=n)\n",
        "    return x, p"
      ],
      "execution_count": null,
      "outputs": []
    },
    {
      "cell_type": "code",
      "metadata": {
        "id": "ClCdoNj2X7jF"
      },
      "source": [
        "xx = np.linspace(-1, 1, 250)"
      ],
      "execution_count": null,
      "outputs": []
    },
    {
      "cell_type": "code",
      "metadata": {
        "id": "Fvxhya9-X7jF"
      },
      "source": [
        "fig, ax = plt.subplots(1, 1, figsize=(8, 4))\n",
        "\n",
        "ax.plot(xx, runge(xx), 'k', lw=2, label=\"Runge's function\")\n",
        "\n",
        "n = 13\n",
        "x, p = runge_interpolate(n)\n",
        "ax.plot(x, runge(x), 'ro')\n",
        "ax.plot(xx, p(xx), 'r', label='interp. order %d' % n)\n",
        "\n",
        "n = 14\n",
        "x, p = runge_interpolate(n)\n",
        "ax.plot(x, runge(x), 'go')\n",
        "ax.plot(xx, p(xx), 'g', label='interp. order %d' % n)\n",
        "\n",
        "n = 5\n",
        "x, p = runge_interpolate(n)\n",
        "ax.plot(x, runge(x), 'yo')\n",
        "ax.plot(xx, p(xx), 'y', label='interp. order %d' % n)\n",
        "\n",
        "\n",
        "ax.legend(loc=8)\n",
        "#ax.set_xlim(-1.1, 1.1)\n",
        "ax.set_ylim(-1, 2)\n",
        "ax.set_xticks([-1, -0.5, 0, 0.5, 1])\n",
        "ax.set_ylabel(r\"$y$\", fontsize=18)\n",
        "ax.set_xlabel(r\"$x$\", fontsize=18)\n",
        "\n",
        "fig.tight_layout()\n"
      ],
      "execution_count": null,
      "outputs": []
    },
    {
      "cell_type": "markdown",
      "metadata": {
        "id": "2AFPQKQLX7jG"
      },
      "source": [
        "## Optimization\n",
        "The SciPy Optimization Package Contains"
      ]
    },
    {
      "cell_type": "code",
      "metadata": {
        "id": "apkfhGQaX7jG"
      },
      "source": [
        "import scipy.optimize as opt\n",
        "import numpy as np\n",
        "import sympy as spy"
      ],
      "execution_count": 1,
      "outputs": []
    },
    {
      "cell_type": "markdown",
      "metadata": {
        "id": "Jj3l1KEpX7jG"
      },
      "source": [
        "### Univariate Optimization\n",
        "Minimize the area of a cylinder with unit volume\n",
        "\n",
        "__suitable variables are__: radius $r$ and height $h$ of the cylinder\n",
        "\n",
        "__Objective function__: $f(r,h) = 2\\pi r^2 + 2\\pi rh$\n",
        "\n",
        "__Constraint__: subject to the equality constraint $g(r, h) = \\pi r^2h - 1 = 0$\n",
        "\n",
        "is a two-dimensional optimization problem with an equality constraint. However, we can algebraically solve the constraint equation for one of the dependent variables, for example, $h = 1/\\pi r^2$ , and substitute this into the objective function to obtain an unconstrained one-dimensional optimization problem:\n",
        "$$ f(r) = 2\\pi r^2 + 2/r$$. \n",
        "\n",
        "To begin with, we can solve this problem symbolically using SymPy, using the method of equating the derivative of $f (r)$ to zero:"
      ]
    },
    {
      "cell_type": "code",
      "metadata": {
        "id": "JHJhC4yRX7jG"
      },
      "source": [
        "r, h = spy.symbols(\"r, h\")"
      ],
      "execution_count": 2,
      "outputs": []
    },
    {
      "cell_type": "code",
      "metadata": {
        "id": "Ml9jt5erX7jG"
      },
      "source": [
        "Area = 2*spy.pi*r**2 + 2*spy.pi*r*h"
      ],
      "execution_count": 3,
      "outputs": []
    },
    {
      "cell_type": "code",
      "metadata": {
        "id": "A0lUrBp9X7jH"
      },
      "source": [
        "Volume = spy.pi*r**2*h"
      ],
      "execution_count": 4,
      "outputs": []
    },
    {
      "cell_type": "code",
      "metadata": {
        "id": "6q9CcQ8VX7jH"
      },
      "source": [
        "h_r = spy.solve(Volume - 1)[0]"
      ],
      "execution_count": 5,
      "outputs": []
    },
    {
      "cell_type": "code",
      "metadata": {
        "id": "_WhVgRKNX7jH"
      },
      "source": [
        "Area_r = Area.subs(h_r)"
      ],
      "execution_count": 6,
      "outputs": []
    },
    {
      "cell_type": "code",
      "metadata": {
        "id": "C5udZsfzX7jH"
      },
      "source": [
        "rsol = spy.solve(Area_r.diff(r))[0]"
      ],
      "execution_count": 7,
      "outputs": []
    },
    {
      "cell_type": "code",
      "metadata": {
        "colab": {
          "base_uri": "https://localhost:8080/",
          "height": 60
        },
        "id": "bblLN7zVX7jH",
        "outputId": "ce03567c-2806-461c-d914-616c0c002d09"
      },
      "source": [
        "rsol"
      ],
      "execution_count": 8,
      "outputs": [
        {
          "output_type": "execute_result",
          "data": {
            "text/latex": "$\\displaystyle \\frac{2^{\\frac{2}{3}}}{2 \\sqrt[3]{\\pi}}$",
            "text/plain": [
              "2**(2/3)/(2*pi**(1/3))"
            ]
          },
          "metadata": {
            "tags": []
          },
          "execution_count": 8
        }
      ]
    },
    {
      "cell_type": "code",
      "metadata": {
        "colab": {
          "base_uri": "https://localhost:8080/",
          "height": 37
        },
        "id": "4pqmQYoZX7jH",
        "outputId": "b5374c1c-5aad-406a-d20d-72d1e41a3f80"
      },
      "source": [
        "_.evalf()"
      ],
      "execution_count": 9,
      "outputs": [
        {
          "output_type": "execute_result",
          "data": {
            "text/latex": "$\\displaystyle 0.541926070139289$",
            "text/plain": [
              "0.541926070139289"
            ]
          },
          "metadata": {
            "tags": []
          },
          "execution_count": 9
        }
      ]
    },
    {
      "cell_type": "markdown",
      "metadata": {
        "id": "Nlu_Q0PoX7jI"
      },
      "source": [
        "For simple problems this approach is often feasible, but for more realistic problems,we typically need to resort to numerical techniques. To solve this problem using SciPy’s numerical optimization functions, we first define a Python function $f$ that implements the objective function. To solve the optimization problem, we then pass this function to, for example, optimize.brent. Optionally we can use the brack keyword argument to specify a starting interval for the algorithm:"
      ]
    },
    {
      "cell_type": "code",
      "metadata": {
        "id": "cL1JFhG3X7jI"
      },
      "source": [
        "def f(r):\n",
        "    return 2 * np.pi * r**2 + 2 / r"
      ],
      "execution_count": 10,
      "outputs": []
    },
    {
      "cell_type": "code",
      "metadata": {
        "colab": {
          "base_uri": "https://localhost:8080/"
        },
        "id": "sS0KrvxOX7jI",
        "outputId": "1bdf32b2-ce54-47cb-d1db-f613d636922f"
      },
      "source": [
        "r_min = opt.brent(f, brack=(0.1, 4))\n",
        "r_min"
      ],
      "execution_count": 11,
      "outputs": [
        {
          "output_type": "execute_result",
          "data": {
            "text/plain": [
              "0.5419260772557135"
            ]
          },
          "metadata": {
            "tags": []
          },
          "execution_count": 11
        }
      ]
    },
    {
      "cell_type": "code",
      "metadata": {
        "colab": {
          "base_uri": "https://localhost:8080/"
        },
        "id": "pdNr0k9FX7jI",
        "outputId": "2a3a1293-250c-427c-b568-a9b88b74f716"
      },
      "source": [
        "f(r_min)"
      ],
      "execution_count": 12,
      "outputs": [
        {
          "output_type": "execute_result",
          "data": {
            "text/plain": [
              "5.535810445932086"
            ]
          },
          "metadata": {
            "tags": []
          },
          "execution_count": 12
        }
      ]
    },
    {
      "cell_type": "code",
      "metadata": {
        "colab": {
          "base_uri": "https://localhost:8080/"
        },
        "id": "OoChCW_8X7jJ",
        "outputId": "f92f0449-eb22-46c1-a1d6-b151346b26dd"
      },
      "source": [
        "opt.minimize_scalar(f, bracket=(0.1, 4))"
      ],
      "execution_count": 13,
      "outputs": [
        {
          "output_type": "execute_result",
          "data": {
            "text/plain": [
              "     fun: 5.535810445932086\n",
              "    nfev: 19\n",
              "     nit: 15\n",
              " success: True\n",
              "       x: 0.5419260772557135"
            ]
          },
          "metadata": {
            "tags": []
          },
          "execution_count": 13
        }
      ]
    },
    {
      "cell_type": "code",
      "metadata": {
        "id": "mm_Kb1qdX7jJ"
      },
      "source": [
        "r = np.linspace(0.1, 2, 100)"
      ],
      "execution_count": 14,
      "outputs": []
    },
    {
      "cell_type": "code",
      "metadata": {
        "colab": {
          "base_uri": "https://localhost:8080/",
          "height": 231
        },
        "id": "W1pcTAW0X7jJ",
        "outputId": "45b974d0-6f50-4ec0-ba84-5b8c5ea63297"
      },
      "source": [
        "fig, ax = plt.subplots(figsize=(8, 4))\n",
        "\n",
        "ax.plot(r, f(r), lw=2, color='b')\n",
        "ax.plot(r_min, f(r_min), 'ro', markersize=15)\n",
        "ax.set_title(r\"$f(r) = 2\\pi r^2+2/r$\", fontsize=18)\n",
        "ax.set_xlabel(r\"$r$\", fontsize=18)\n",
        "ax.set_xticks([0, 0.5, 1, 1.5, 2])\n",
        "ax.set_ylim(0, 30)\n",
        "\n",
        "fig.tight_layout()\n",
        "fig.savefig('univariate-optimization.pdf')"
      ],
      "execution_count": 15,
      "outputs": [
        {
          "output_type": "error",
          "ename": "NameError",
          "evalue": "ignored",
          "traceback": [
            "\u001b[0;31m---------------------------------------------------------------------------\u001b[0m",
            "\u001b[0;31mNameError\u001b[0m                                 Traceback (most recent call last)",
            "\u001b[0;32m<ipython-input-15-58adeb8059ad>\u001b[0m in \u001b[0;36m<module>\u001b[0;34m()\u001b[0m\n\u001b[0;32m----> 1\u001b[0;31m \u001b[0mfig\u001b[0m\u001b[0;34m,\u001b[0m \u001b[0max\u001b[0m \u001b[0;34m=\u001b[0m \u001b[0mplt\u001b[0m\u001b[0;34m.\u001b[0m\u001b[0msubplots\u001b[0m\u001b[0;34m(\u001b[0m\u001b[0mfigsize\u001b[0m\u001b[0;34m=\u001b[0m\u001b[0;34m(\u001b[0m\u001b[0;36m8\u001b[0m\u001b[0;34m,\u001b[0m \u001b[0;36m4\u001b[0m\u001b[0;34m)\u001b[0m\u001b[0;34m)\u001b[0m\u001b[0;34m\u001b[0m\u001b[0;34m\u001b[0m\u001b[0m\n\u001b[0m\u001b[1;32m      2\u001b[0m \u001b[0;34m\u001b[0m\u001b[0m\n\u001b[1;32m      3\u001b[0m \u001b[0max\u001b[0m\u001b[0;34m.\u001b[0m\u001b[0mplot\u001b[0m\u001b[0;34m(\u001b[0m\u001b[0mr\u001b[0m\u001b[0;34m,\u001b[0m \u001b[0mf\u001b[0m\u001b[0;34m(\u001b[0m\u001b[0mr\u001b[0m\u001b[0;34m)\u001b[0m\u001b[0;34m,\u001b[0m \u001b[0mlw\u001b[0m\u001b[0;34m=\u001b[0m\u001b[0;36m2\u001b[0m\u001b[0;34m,\u001b[0m \u001b[0mcolor\u001b[0m\u001b[0;34m=\u001b[0m\u001b[0;34m'b'\u001b[0m\u001b[0;34m)\u001b[0m\u001b[0;34m\u001b[0m\u001b[0;34m\u001b[0m\u001b[0m\n\u001b[1;32m      4\u001b[0m \u001b[0max\u001b[0m\u001b[0;34m.\u001b[0m\u001b[0mplot\u001b[0m\u001b[0;34m(\u001b[0m\u001b[0mr_min\u001b[0m\u001b[0;34m,\u001b[0m \u001b[0mf\u001b[0m\u001b[0;34m(\u001b[0m\u001b[0mr_min\u001b[0m\u001b[0;34m)\u001b[0m\u001b[0;34m,\u001b[0m \u001b[0;34m'ro'\u001b[0m\u001b[0;34m,\u001b[0m \u001b[0mmarkersize\u001b[0m\u001b[0;34m=\u001b[0m\u001b[0;36m15\u001b[0m\u001b[0;34m)\u001b[0m\u001b[0;34m\u001b[0m\u001b[0;34m\u001b[0m\u001b[0m\n\u001b[1;32m      5\u001b[0m \u001b[0max\u001b[0m\u001b[0;34m.\u001b[0m\u001b[0mset_title\u001b[0m\u001b[0;34m(\u001b[0m\u001b[0;34mr\"$f(r) = 2\\pi r^2+2/r$\"\u001b[0m\u001b[0;34m,\u001b[0m \u001b[0mfontsize\u001b[0m\u001b[0;34m=\u001b[0m\u001b[0;36m18\u001b[0m\u001b[0;34m)\u001b[0m\u001b[0;34m\u001b[0m\u001b[0;34m\u001b[0m\u001b[0m\n",
            "\u001b[0;31mNameError\u001b[0m: name 'plt' is not defined"
          ]
        }
      ]
    },
    {
      "cell_type": "markdown",
      "metadata": {
        "id": "rZL6GU1UX7jJ"
      },
      "source": [
        "### Constrained Optimization\n",
        "Find the maximum volume of rectangular box, where the surface area is less than 10.\n"
      ]
    },
    {
      "cell_type": "code",
      "metadata": {
        "id": "p8wYQcDFX7jJ"
      },
      "source": [
        "def Vol(x):\n",
        "    l = x[0]\n",
        "    w = x[1]\n",
        "    h = x[2]\n",
        "    v = l*w*h\n",
        "    return v"
      ],
      "execution_count": null,
      "outputs": []
    },
    {
      "cell_type": "code",
      "metadata": {
        "id": "GuXeZtZUX7jJ"
      },
      "source": [
        "def SA(x):\n",
        "    l = x[0]\n",
        "    w = x[1]\n",
        "    h = x[2]\n",
        "    sa = 2*l*w + 2*l*h + 2*h*w\n",
        "    return sa    "
      ],
      "execution_count": null,
      "outputs": []
    },
    {
      "cell_type": "code",
      "metadata": {
        "id": "0ZoMSNvEX7jK"
      },
      "source": [
        "def objective(x):\n",
        "    return -Vol(x)"
      ],
      "execution_count": null,
      "outputs": []
    },
    {
      "cell_type": "code",
      "metadata": {
        "id": "3iOovgPqX7jK"
      },
      "source": [
        "def constraint(x):\n",
        "    return 10-SA(x)"
      ],
      "execution_count": null,
      "outputs": []
    },
    {
      "cell_type": "code",
      "metadata": {
        "id": "vYUI-DiwX7jK"
      },
      "source": [
        "cons = {'type':'ineq','fun':constraint}"
      ],
      "execution_count": null,
      "outputs": []
    },
    {
      "cell_type": "code",
      "metadata": {
        "id": "kHJ1hNu1X7jK"
      },
      "source": [
        "# initial guess values for box dimenstions\n",
        "\n",
        "l = 1\n",
        "w = 1\n",
        "h = 1\n",
        "#load guess values into numpy array\n",
        "x0 = np.array([l,w,h])"
      ],
      "execution_count": null,
      "outputs": []
    },
    {
      "cell_type": "code",
      "metadata": {
        "id": "EIydyHyJX7jK"
      },
      "source": [
        "# call solver to minimize the objective functions given the constraints\n",
        "sol = opt.minimize(objective, x0, method=\"SLSQP\", constraints=cons, options={'disp':True})"
      ],
      "execution_count": null,
      "outputs": []
    },
    {
      "cell_type": "code",
      "metadata": {
        "id": "-ae2yVkHX7jL"
      },
      "source": [
        "#Obtaine optimize box size and volume\n",
        "xOpt = sol.x\n",
        "Vopt = -sol.fun\n",
        "print(xOpt)\n",
        "print(Vopt)"
      ],
      "execution_count": null,
      "outputs": []
    },
    {
      "cell_type": "code",
      "metadata": {
        "id": "s7mR-gRSX7jL"
      },
      "source": [
        "SA(xOpt)"
      ],
      "execution_count": null,
      "outputs": []
    },
    {
      "cell_type": "code",
      "metadata": {
        "id": "4aN4ZYcmX7jL"
      },
      "source": [
        "import numpy as np\n",
        "import scipy as sp\n",
        "import scipy.optimize as opt"
      ],
      "execution_count": null,
      "outputs": []
    },
    {
      "cell_type": "markdown",
      "metadata": {
        "id": "va1kesp7X7jL"
      },
      "source": [
        "## Nonlinear Least Squares \n",
        "In SciPy, the function optimize.leastsq provides a nonlinear least square solver that uses the Levenberg-Marquardt method. To illustrate how this function can be used, consider a nonlinear model on the form $f(x, \\beta) = \\beta_0 + \\beta_1 \\exp(−\\beta_2 x_2 )$ and a set of observations $(x_i , y_i)$. In the following example, we simulate the observations with random noise added to the true values, and we solve the minimization problem that gives the best least square estimates of the parameters $\\beta$. To begin with, we define a tuple with the true values of the parameter vector $\\beta$ and a Python function for the model function. This function, which should return the $y$ value corresponding to a given $x$ value, takes as first argument the variable $x$, and the following arguments are the unknown function parameters:"
      ]
    },
    {
      "cell_type": "code",
      "metadata": {
        "id": "oHkDTYniX7jL"
      },
      "source": [
        "β = (0.25, 0.75, 0.5)"
      ],
      "execution_count": null,
      "outputs": []
    },
    {
      "cell_type": "code",
      "metadata": {
        "id": "Hyg9pDm-X7jM"
      },
      "source": [
        "def f(x,β_0,β_1, β_2):\n",
        "    return β_0 + β_1*np.exp(-β_2*x**2)"
      ],
      "execution_count": null,
      "outputs": []
    },
    {
      "cell_type": "markdown",
      "metadata": {
        "id": "MuwCnzuEX7jM"
      },
      "source": [
        "Once the model function is defined, we generate randomized data points that simulate the observations."
      ]
    },
    {
      "cell_type": "code",
      "metadata": {
        "id": "NfyPddK8X7jM"
      },
      "source": [
        "xdata = np.linspace(-5, 5, 50)\n",
        "y = f(xdata, *β)"
      ],
      "execution_count": null,
      "outputs": []
    },
    {
      "cell_type": "code",
      "metadata": {
        "id": "L_lLku_wX7jM"
      },
      "source": [
        "ydata = y + 0.05 * np.random.randn(len(xdata))"
      ],
      "execution_count": null,
      "outputs": []
    },
    {
      "cell_type": "code",
      "metadata": {
        "id": "0hzzZXDlX7jM",
        "outputId": "64f4ef97-1779-4111-f7c9-c9c2d34f8813"
      },
      "source": [
        "plt.plot(xdata, ydata, 'ob')\n",
        "plt.show()"
      ],
      "execution_count": null,
      "outputs": [
        {
          "output_type": "display_data",
          "data": {
            "image/png": "[encoded data removed]",
            "text/plain": [
              "<Figure size 432x288 with 1 Axes>"
            ]
          },
          "metadata": {
            "tags": [],
            "needs_background": "light"
          }
        }
      ]
    },
    {
      "cell_type": "markdown",
      "metadata": {
        "id": "K_gGjWRuX7jM"
      },
      "source": [
        "With the model function and observation data prepared, we are ready to start solving the nonlinear least square problem. The first step is to define a function for the residuals given the data and the model function, which is specified in terms of the yet-to-be determined model parameters $β$."
      ]
    },
    {
      "cell_type": "code",
      "metadata": {
        "id": "TdyLGG97X7jN"
      },
      "source": [
        "def g(β):\n",
        "    return ydata - f(xdata, *β)"
      ],
      "execution_count": null,
      "outputs": []
    },
    {
      "cell_type": "markdown",
      "metadata": {
        "id": "Jux5NFTJX7jN"
      },
      "source": [
        "Next we define an initial guess for the parameter vector and let the optimize. leastsq function solve for the best least square fit for the parameter vector:"
      ]
    },
    {
      "cell_type": "code",
      "metadata": {
        "id": "SgfJ1pZoX7jN",
        "outputId": "f3358882-2c12-46a1-d585-615c42d0c487"
      },
      "source": [
        "β_start = (1, 1, 1)\n",
        "β_opt, β_cov = opt.leastsq(g, β_start)\n",
        "β_opt"
      ],
      "execution_count": null,
      "outputs": [
        {
          "output_type": "execute_result",
          "data": {
            "text/plain": [
              "array([0.24901391, 0.74655077, 0.46628197])"
            ]
          },
          "metadata": {
            "tags": []
          },
          "execution_count": 42
        }
      ]
    },
    {
      "cell_type": "code",
      "metadata": {
        "id": "3cyXoLC5X7jN",
        "outputId": "80392363-3332-4317-aa9f-aaa0dfe7c7d6"
      },
      "source": [
        "β_cov"
      ],
      "execution_count": null,
      "outputs": [
        {
          "output_type": "execute_result",
          "data": {
            "text/plain": [
              "1"
            ]
          },
          "metadata": {
            "tags": []
          },
          "execution_count": 43
        }
      ]
    },
    {
      "cell_type": "markdown",
      "metadata": {
        "id": "7z4pqETpX7jN"
      },
      "source": [
        "Here the best fit is quite close to the true parameter values (0.25, 0.75, 0.5), as defined earlier. By plotting the observation data and the model function for the true and fitted function parameters, we can visually confirm that the fitted model seems to describe the data well."
      ]
    },
    {
      "cell_type": "code",
      "metadata": {
        "id": "ADr6DWvUX7jO"
      },
      "source": [
        "import matplotlib.pyplot as plt"
      ],
      "execution_count": null,
      "outputs": []
    },
    {
      "cell_type": "code",
      "metadata": {
        "id": "l04BNLsoX7jO",
        "outputId": "068d4c96-3031-4694-85cd-cd7916dc94ef"
      },
      "source": [
        "fig, ax = plt.subplots()\n",
        "\n",
        "ax.scatter(xdata, ydata)\n",
        "ax.plot(xdata, y, 'r', lw=2)\n",
        "ax.plot(xdata, f(xdata, *β_opt), 'b', lw=2)\n",
        "ax.set_xlim(-5, 5)\n",
        "ax.set_xlabel(r\"$x$\", fontsize=18)\n",
        "ax.set_ylabel(r\"$f(x, \\beta)$\", fontsize=18)\n",
        "\n",
        "fig.tight_layout()\n",
        "fig.savefig('nonlinear-least-square.pdf')"
      ],
      "execution_count": null,
      "outputs": [
        {
          "output_type": "display_data",
          "data": {
            "image/png": "[encoded data removed]",
            "text/plain": [
              "<Figure size 432x288 with 1 Axes>"
            ]
          },
          "metadata": {
            "tags": [],
            "needs_background": "light"
          }
        }
      ]
    },
    {
      "cell_type": "code",
      "metadata": {
        "id": "EDLrsjnMX7jO",
        "outputId": "eb8c7fa1-6abb-44a0-fb5c-326962b3d2bb"
      },
      "source": [
        "x = np.linspace(0,1,11)\n",
        "x"
      ],
      "execution_count": null,
      "outputs": [
        {
          "output_type": "execute_result",
          "data": {
            "text/plain": [
              "array([0. , 0.1, 0.2, 0.3, 0.4, 0.5, 0.6, 0.7, 0.8, 0.9, 1. ])"
            ]
          },
          "metadata": {
            "tags": []
          },
          "execution_count": 23
        }
      ]
    },
    {
      "cell_type": "code",
      "metadata": {
        "id": "eCcd3dC4X7jO"
      },
      "source": [
        "y=np.array([0,0.25,0.75,1.5,2.5,4,5.75,7.75,10.25,13,16])"
      ],
      "execution_count": null,
      "outputs": []
    },
    {
      "cell_type": "code",
      "metadata": {
        "id": "DafzQUS5X7jO"
      },
      "source": [
        "def f(x, a,b):\n",
        "    z = a+b*x \n",
        "    return z"
      ],
      "execution_count": null,
      "outputs": []
    },
    {
      "cell_type": "code",
      "metadata": {
        "id": "XBo20ds7X7jP"
      },
      "source": [
        "def g(a):\n",
        "    return y-f(x,*a)"
      ],
      "execution_count": null,
      "outputs": []
    },
    {
      "cell_type": "code",
      "metadata": {
        "id": "iqQB5WG_X7jP",
        "outputId": "ad50c069-262c-497f-a006-f6b7ba769568"
      },
      "source": [
        "β_start = (1, 1)\n",
        "β_opt, β_cov = opt.leastsq(g, β_start)\n",
        "β_opt"
      ],
      "execution_count": null,
      "outputs": [
        {
          "output_type": "execute_result",
          "data": {
            "text/plain": [
              "array([-2.35227273, 15.93181819])"
            ]
          },
          "metadata": {
            "tags": []
          },
          "execution_count": 155
        }
      ]
    },
    {
      "cell_type": "code",
      "metadata": {
        "id": "5gDzjJ-5X7jP"
      },
      "source": [
        "x1 = np.linspace(0,1,101)\n",
        "y1 = f(x1,*β_opt)\n",
        "\n",
        "plt.plot(x,y,'bo')\n",
        "plt.plot(x1,y1,'r--')\n",
        "plt.show()"
      ],
      "execution_count": null,
      "outputs": []
    }
  ]
}